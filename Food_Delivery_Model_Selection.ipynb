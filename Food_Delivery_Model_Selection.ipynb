{
  "cells": [
    {
      "cell_type": "markdown",
      "metadata": {
        "id": "HWqt3W2bVbas"
      },
      "source": [
        "# Import Packages"
      ]
    },
    {
      "cell_type": "code",
      "execution_count": 4,
      "metadata": {
        "id": "Kje27pyKIlRO"
      },
      "outputs": [],
      "source": [
        "import numpy as np\n",
        "import pandas as pd\n",
        "import data_clean_utils\n",
        "from sklearn.pipeline import Pipeline\n",
        "from sklearn.compose import ColumnTransformer\n",
        "from sklearn.impute import SimpleImputer, KNNImputer, MissingIndicator\n",
        "from sklearn.preprocessing import OneHotEncoder, StandardScaler, LabelEncoder, MinMaxScaler, PowerTransformer, OrdinalEncoder\n",
        "from sklearn.model_selection import train_test_split"
      ]
    },
    {
      "cell_type": "code",
      "execution_count": 5,
      "metadata": {
        "colab": {
          "base_uri": "https://localhost:8080/"
        },
        "id": "l1BDtKmaX10z",
        "outputId": "cc7b19e1-c1d7-4f7a-d3be-f4a18a0a2650"
      },
      "outputs": [
        {
          "name": "stdout",
          "output_type": "stream",
          "text": [
            "Requirement already satisfied: mlflow in c:\\users\\shobh\\anaconda3\\lib\\site-packages (2.19.0)Note: you may need to restart the kernel to use updated packages.\n",
            "\n",
            "Requirement already satisfied: dagshub in c:\\users\\shobh\\anaconda3\\lib\\site-packages (0.5.1)\n",
            "Requirement already satisfied: mlflow-skinny==2.19.0 in c:\\users\\shobh\\anaconda3\\lib\\site-packages (from mlflow) (2.19.0)\n",
            "Requirement already satisfied: Flask<4 in c:\\users\\shobh\\anaconda3\\lib\\site-packages (from mlflow) (2.2.2)\n",
            "Requirement already satisfied: Jinja2<4,>=3.0 in c:\\users\\shobh\\anaconda3\\lib\\site-packages (from mlflow) (3.1.2)\n",
            "Requirement already satisfied: alembic!=1.10.0,<2 in c:\\users\\shobh\\anaconda3\\lib\\site-packages (from mlflow) (1.14.0)\n",
            "Requirement already satisfied: docker<8,>=4.0.0 in c:\\users\\shobh\\anaconda3\\lib\\site-packages (from mlflow) (7.1.0)\n",
            "Requirement already satisfied: graphene<4 in c:\\users\\shobh\\anaconda3\\lib\\site-packages (from mlflow) (3.4.3)\n",
            "Requirement already satisfied: markdown<4,>=3.3 in c:\\users\\shobh\\anaconda3\\lib\\site-packages (from mlflow) (3.4.1)\n",
            "Requirement already satisfied: matplotlib<4 in c:\\users\\shobh\\anaconda3\\lib\\site-packages (from mlflow) (3.7.2)\n",
            "Requirement already satisfied: numpy<3 in c:\\users\\shobh\\anaconda3\\lib\\site-packages (from mlflow) (1.24.3)\n",
            "Requirement already satisfied: pandas<3 in c:\\users\\shobh\\anaconda3\\lib\\site-packages (from mlflow) (2.0.3)\n",
            "Requirement already satisfied: pyarrow<19,>=4.0.0 in c:\\users\\shobh\\anaconda3\\lib\\site-packages (from mlflow) (11.0.0)\n",
            "Requirement already satisfied: scikit-learn<2 in c:\\users\\shobh\\anaconda3\\lib\\site-packages (from mlflow) (1.3.0)\n",
            "Requirement already satisfied: scipy<2 in c:\\users\\shobh\\anaconda3\\lib\\site-packages (from mlflow) (1.11.1)\n",
            "Requirement already satisfied: sqlalchemy<3,>=1.4.0 in c:\\users\\shobh\\anaconda3\\lib\\site-packages (from mlflow) (1.4.39)\n",
            "Requirement already satisfied: waitress<4 in c:\\users\\shobh\\anaconda3\\lib\\site-packages (from mlflow) (3.0.2)\n",
            "Requirement already satisfied: cachetools<6,>=5.0.0 in c:\\users\\shobh\\anaconda3\\lib\\site-packages (from mlflow-skinny==2.19.0->mlflow) (5.5.0)\n",
            "Requirement already satisfied: click<9,>=7.0 in c:\\users\\shobh\\anaconda3\\lib\\site-packages (from mlflow-skinny==2.19.0->mlflow) (8.0.4)\n",
            "Requirement already satisfied: cloudpickle<4 in c:\\users\\shobh\\anaconda3\\lib\\site-packages (from mlflow-skinny==2.19.0->mlflow) (2.2.1)\n",
            "Requirement already satisfied: databricks-sdk<1,>=0.20.0 in c:\\users\\shobh\\anaconda3\\lib\\site-packages (from mlflow-skinny==2.19.0->mlflow) (0.40.0)\n",
            "Requirement already satisfied: gitpython<4,>=3.1.9 in c:\\users\\shobh\\anaconda3\\lib\\site-packages (from mlflow-skinny==2.19.0->mlflow) (3.1.44)\n",
            "Requirement already satisfied: importlib_metadata!=4.7.0,<9,>=3.7.0 in c:\\users\\shobh\\anaconda3\\lib\\site-packages (from mlflow-skinny==2.19.0->mlflow) (6.0.0)\n",
            "Requirement already satisfied: opentelemetry-api<3,>=1.9.0 in c:\\users\\shobh\\anaconda3\\lib\\site-packages (from mlflow-skinny==2.19.0->mlflow) (1.29.0)\n",
            "Requirement already satisfied: opentelemetry-sdk<3,>=1.9.0 in c:\\users\\shobh\\anaconda3\\lib\\site-packages (from mlflow-skinny==2.19.0->mlflow) (1.29.0)\n",
            "Requirement already satisfied: packaging<25 in c:\\users\\shobh\\anaconda3\\lib\\site-packages (from mlflow-skinny==2.19.0->mlflow) (23.1)\n",
            "Requirement already satisfied: protobuf<6,>=3.12.0 in c:\\users\\shobh\\anaconda3\\lib\\site-packages (from mlflow-skinny==2.19.0->mlflow) (5.29.3)\n",
            "Requirement already satisfied: pyyaml<7,>=5.1 in c:\\users\\shobh\\anaconda3\\lib\\site-packages (from mlflow-skinny==2.19.0->mlflow) (6.0)\n",
            "Requirement already satisfied: requests<3,>=2.17.3 in c:\\users\\shobh\\anaconda3\\lib\\site-packages (from mlflow-skinny==2.19.0->mlflow) (2.31.0)\n",
            "Requirement already satisfied: sqlparse<1,>=0.4.0 in c:\\users\\shobh\\anaconda3\\lib\\site-packages (from mlflow-skinny==2.19.0->mlflow) (0.5.3)\n",
            "Requirement already satisfied: appdirs>=1.4.4 in c:\\users\\shobh\\anaconda3\\lib\\site-packages (from dagshub) (1.4.4)\n",
            "Requirement already satisfied: httpx>=0.23.0 in c:\\users\\shobh\\anaconda3\\lib\\site-packages (from dagshub) (0.28.1)\n",
            "Requirement already satisfied: rich>=13.1.0 in c:\\users\\shobh\\anaconda3\\lib\\site-packages (from dagshub) (13.9.4)\n",
            "Requirement already satisfied: dacite~=1.6.0 in c:\\users\\shobh\\anaconda3\\lib\\site-packages (from dagshub) (1.6.0)\n",
            "Requirement already satisfied: tenacity>=8.2.2 in c:\\users\\shobh\\anaconda3\\lib\\site-packages (from dagshub) (8.2.2)\n",
            "Requirement already satisfied: gql[requests] in c:\\users\\shobh\\anaconda3\\lib\\site-packages (from dagshub) (3.5.0)\n",
            "Requirement already satisfied: dataclasses-json in c:\\users\\shobh\\anaconda3\\lib\\site-packages (from dagshub) (0.6.7)\n",
            "Requirement already satisfied: treelib>=1.6.4 in c:\\users\\shobh\\anaconda3\\lib\\site-packages (from dagshub) (1.7.0)\n",
            "Requirement already satisfied: pathvalidate>=3.0.0 in c:\\users\\shobh\\anaconda3\\lib\\site-packages (from dagshub) (3.2.3)\n",
            "Requirement already satisfied: python-dateutil in c:\\users\\shobh\\anaconda3\\lib\\site-packages (from dagshub) (2.8.2)\n",
            "Requirement already satisfied: boto3 in c:\\users\\shobh\\anaconda3\\lib\\site-packages (from dagshub) (1.36.0)\n",
            "Requirement already satisfied: semver in c:\\users\\shobh\\anaconda3\\lib\\site-packages (from dagshub) (3.0.2)\n",
            "Requirement already satisfied: dagshub-annotation-converter>=0.1.3 in c:\\users\\shobh\\anaconda3\\lib\\site-packages (from dagshub) (0.1.3)\n",
            "Requirement already satisfied: Mako in c:\\users\\shobh\\anaconda3\\lib\\site-packages (from alembic!=1.10.0,<2->mlflow) (1.3.8)\n",
            "Requirement already satisfied: typing-extensions>=4 in c:\\users\\shobh\\anaconda3\\lib\\site-packages (from alembic!=1.10.0,<2->mlflow) (4.12.2)\n",
            "Requirement already satisfied: colorama in c:\\users\\shobh\\anaconda3\\lib\\site-packages (from click<9,>=7.0->mlflow-skinny==2.19.0->mlflow) (0.4.6)\n",
            "Requirement already satisfied: lxml in c:\\users\\shobh\\anaconda3\\lib\\site-packages (from dagshub-annotation-converter>=0.1.3->dagshub) (4.9.3)\n",
            "Requirement already satisfied: pillow in c:\\users\\shobh\\anaconda3\\lib\\site-packages (from dagshub-annotation-converter>=0.1.3->dagshub) (9.4.0)\n",
            "Requirement already satisfied: pydantic>=2.0.0 in c:\\users\\shobh\\anaconda3\\lib\\site-packages (from dagshub-annotation-converter>=0.1.3->dagshub) (2.10.5)\n",
            "Requirement already satisfied: pywin32>=304 in c:\\users\\shobh\\anaconda3\\lib\\site-packages (from docker<8,>=4.0.0->mlflow) (305.1)\n",
            "Requirement already satisfied: urllib3>=1.26.0 in c:\\users\\shobh\\anaconda3\\lib\\site-packages (from docker<8,>=4.0.0->mlflow) (1.26.16)\n",
            "Requirement already satisfied: Werkzeug>=2.2.2 in c:\\users\\shobh\\anaconda3\\lib\\site-packages (from Flask<4->mlflow) (2.2.3)\n",
            "Requirement already satisfied: itsdangerous>=2.0 in c:\\users\\shobh\\anaconda3\\lib\\site-packages (from Flask<4->mlflow) (2.0.1)\n",
            "Requirement already satisfied: gitdb<5,>=4.0.1 in c:\\users\\shobh\\anaconda3\\lib\\site-packages (from gitpython<4,>=3.1.9->mlflow-skinny==2.19.0->mlflow) (4.0.12)\n",
            "Requirement already satisfied: graphql-core<3.3,>=3.1 in c:\\users\\shobh\\anaconda3\\lib\\site-packages (from graphene<4->mlflow) (3.2.5)\n",
            "Requirement already satisfied: graphql-relay<3.3,>=3.1 in c:\\users\\shobh\\anaconda3\\lib\\site-packages (from graphene<4->mlflow) (3.2.0)\n",
            "Requirement already satisfied: anyio in c:\\users\\shobh\\anaconda3\\lib\\site-packages (from httpx>=0.23.0->dagshub) (3.5.0)\n",
            "Requirement already satisfied: certifi in c:\\users\\shobh\\anaconda3\\lib\\site-packages (from httpx>=0.23.0->dagshub) (2023.7.22)\n",
            "Requirement already satisfied: httpcore==1.* in c:\\users\\shobh\\anaconda3\\lib\\site-packages (from httpx>=0.23.0->dagshub) (1.0.7)\n",
            "Requirement already satisfied: idna in c:\\users\\shobh\\anaconda3\\lib\\site-packages (from httpx>=0.23.0->dagshub) (3.4)\n",
            "Requirement already satisfied: h11<0.15,>=0.13 in c:\\users\\shobh\\anaconda3\\lib\\site-packages (from httpcore==1.*->httpx>=0.23.0->dagshub) (0.14.0)\n",
            "Requirement already satisfied: MarkupSafe>=2.0 in c:\\users\\shobh\\anaconda3\\lib\\site-packages (from Jinja2<4,>=3.0->mlflow) (2.1.1)\n",
            "Requirement already satisfied: contourpy>=1.0.1 in c:\\users\\shobh\\anaconda3\\lib\\site-packages (from matplotlib<4->mlflow) (1.0.5)\n",
            "Requirement already satisfied: cycler>=0.10 in c:\\users\\shobh\\anaconda3\\lib\\site-packages (from matplotlib<4->mlflow) (0.11.0)\n",
            "Requirement already satisfied: fonttools>=4.22.0 in c:\\users\\shobh\\anaconda3\\lib\\site-packages (from matplotlib<4->mlflow) (4.25.0)\n",
            "Requirement already satisfied: kiwisolver>=1.0.1 in c:\\users\\shobh\\anaconda3\\lib\\site-packages (from matplotlib<4->mlflow) (1.4.4)\n",
            "Requirement already satisfied: pyparsing<3.1,>=2.3.1 in c:\\users\\shobh\\anaconda3\\lib\\site-packages (from matplotlib<4->mlflow) (3.0.9)\n",
            "Requirement already satisfied: pytz>=2020.1 in c:\\users\\shobh\\anaconda3\\lib\\site-packages (from pandas<3->mlflow) (2023.3.post1)\n",
            "Requirement already satisfied: tzdata>=2022.1 in c:\\users\\shobh\\anaconda3\\lib\\site-packages (from pandas<3->mlflow) (2023.3)\n",
            "Requirement already satisfied: six>=1.5 in c:\\users\\shobh\\anaconda3\\lib\\site-packages (from python-dateutil->dagshub) (1.16.0)\n",
            "Requirement already satisfied: markdown-it-py>=2.2.0 in c:\\users\\shobh\\anaconda3\\lib\\site-packages (from rich>=13.1.0->dagshub) (2.2.0)\n",
            "Requirement already satisfied: pygments<3.0.0,>=2.13.0 in c:\\users\\shobh\\anaconda3\\lib\\site-packages (from rich>=13.1.0->dagshub) (2.15.1)\n",
            "Requirement already satisfied: joblib>=1.1.1 in c:\\users\\shobh\\anaconda3\\lib\\site-packages (from scikit-learn<2->mlflow) (1.2.0)\n",
            "Requirement already satisfied: threadpoolctl>=2.0.0 in c:\\users\\shobh\\anaconda3\\lib\\site-packages (from scikit-learn<2->mlflow) (2.2.0)\n",
            "Requirement already satisfied: greenlet!=0.4.17 in c:\\users\\shobh\\anaconda3\\lib\\site-packages (from sqlalchemy<3,>=1.4.0->mlflow) (2.0.1)\n",
            "Requirement already satisfied: botocore<1.37.0,>=1.36.0 in c:\\users\\shobh\\anaconda3\\lib\\site-packages (from boto3->dagshub) (1.36.0)\n",
            "Requirement already satisfied: jmespath<2.0.0,>=0.7.1 in c:\\users\\shobh\\anaconda3\\lib\\site-packages (from boto3->dagshub) (0.10.0)\n",
            "Requirement already satisfied: s3transfer<0.12.0,>=0.11.0 in c:\\users\\shobh\\anaconda3\\lib\\site-packages (from boto3->dagshub) (0.11.0)\n",
            "Requirement already satisfied: marshmallow<4.0.0,>=3.18.0 in c:\\users\\shobh\\anaconda3\\lib\\site-packages (from dataclasses-json->dagshub) (3.25.1)\n",
            "Requirement already satisfied: typing-inspect<1,>=0.4.0 in c:\\users\\shobh\\anaconda3\\lib\\site-packages (from dataclasses-json->dagshub) (0.9.0)\n",
            "Requirement already satisfied: yarl<2.0,>=1.6 in c:\\users\\shobh\\anaconda3\\lib\\site-packages (from gql[requests]->dagshub) (1.8.1)\n",
            "Requirement already satisfied: backoff<3.0,>=1.11.1 in c:\\users\\shobh\\anaconda3\\lib\\site-packages (from gql[requests]->dagshub) (2.2.1)\n",
            "Requirement already satisfied: requests-toolbelt<2,>=1.0.0 in c:\\users\\shobh\\anaconda3\\lib\\site-packages (from gql[requests]->dagshub) (1.0.0)\n",
            "Requirement already satisfied: sniffio>=1.1 in c:\\users\\shobh\\anaconda3\\lib\\site-packages (from anyio->httpx>=0.23.0->dagshub) (1.2.0)\n",
            "Requirement already satisfied: google-auth~=2.0 in c:\\users\\shobh\\anaconda3\\lib\\site-packages (from databricks-sdk<1,>=0.20.0->mlflow-skinny==2.19.0->mlflow) (2.37.0)\n",
            "Requirement already satisfied: smmap<6,>=3.0.1 in c:\\users\\shobh\\anaconda3\\lib\\site-packages (from gitdb<5,>=4.0.1->gitpython<4,>=3.1.9->mlflow-skinny==2.19.0->mlflow) (5.0.2)\n",
            "Requirement already satisfied: zipp>=0.5 in c:\\users\\shobh\\anaconda3\\lib\\site-packages (from importlib_metadata!=4.7.0,<9,>=3.7.0->mlflow-skinny==2.19.0->mlflow) (3.11.0)\n",
            "Requirement already satisfied: mdurl~=0.1 in c:\\users\\shobh\\anaconda3\\lib\\site-packages (from markdown-it-py>=2.2.0->rich>=13.1.0->dagshub) (0.1.0)\n",
            "Requirement already satisfied: deprecated>=1.2.6 in c:\\users\\shobh\\anaconda3\\lib\\site-packages (from opentelemetry-api<3,>=1.9.0->mlflow-skinny==2.19.0->mlflow) (1.2.15)\n",
            "Requirement already satisfied: opentelemetry-semantic-conventions==0.50b0 in c:\\users\\shobh\\anaconda3\\lib\\site-packages (from opentelemetry-sdk<3,>=1.9.0->mlflow-skinny==2.19.0->mlflow) (0.50b0)\n",
            "Requirement already satisfied: annotated-types>=0.6.0 in c:\\users\\shobh\\anaconda3\\lib\\site-packages (from pydantic>=2.0.0->dagshub-annotation-converter>=0.1.3->dagshub) (0.7.0)\n",
            "Requirement already satisfied: pydantic-core==2.27.2 in c:\\users\\shobh\\anaconda3\\lib\\site-packages (from pydantic>=2.0.0->dagshub-annotation-converter>=0.1.3->dagshub) (2.27.2)\n",
            "Requirement already satisfied: charset-normalizer<4,>=2 in c:\\users\\shobh\\anaconda3\\lib\\site-packages (from requests<3,>=2.17.3->mlflow-skinny==2.19.0->mlflow) (2.0.4)\n",
            "Requirement already satisfied: mypy-extensions>=0.3.0 in c:\\users\\shobh\\anaconda3\\lib\\site-packages (from typing-inspect<1,>=0.4.0->dataclasses-json->dagshub) (1.0.0)\n",
            "Requirement already satisfied: multidict>=4.0 in c:\\users\\shobh\\anaconda3\\lib\\site-packages (from yarl<2.0,>=1.6->gql[requests]->dagshub) (6.0.2)\n",
            "Requirement already satisfied: wrapt<2,>=1.10 in c:\\users\\shobh\\anaconda3\\lib\\site-packages (from deprecated>=1.2.6->opentelemetry-api<3,>=1.9.0->mlflow-skinny==2.19.0->mlflow) (1.14.1)\n",
            "Requirement already satisfied: pyasn1-modules>=0.2.1 in c:\\users\\shobh\\anaconda3\\lib\\site-packages (from google-auth~=2.0->databricks-sdk<1,>=0.20.0->mlflow-skinny==2.19.0->mlflow) (0.2.8)\n",
            "Requirement already satisfied: rsa<5,>=3.1.4 in c:\\users\\shobh\\anaconda3\\lib\\site-packages (from google-auth~=2.0->databricks-sdk<1,>=0.20.0->mlflow-skinny==2.19.0->mlflow) (4.9)\n",
            "Requirement already satisfied: pyasn1<0.5.0,>=0.4.6 in c:\\users\\shobh\\anaconda3\\lib\\site-packages (from pyasn1-modules>=0.2.1->google-auth~=2.0->databricks-sdk<1,>=0.20.0->mlflow-skinny==2.19.0->mlflow) (0.4.8)\n"
          ]
        }
      ],
      "source": [
        "%pip install mlflow dagshub"
      ]
    },
    {
      "cell_type": "code",
      "execution_count": 6,
      "metadata": {
        "colab": {
          "base_uri": "https://localhost:8080/",
          "height": 51
        },
        "id": "rzbQ4vlqX2Wi",
        "outputId": "bec51704-6686-40f9-c0b9-7618d62ccb06"
      },
      "outputs": [
        {
          "data": {
            "text/html": [
              "<pre style=\"white-space:pre;overflow-x:auto;line-height:normal;font-family:Menlo,'DejaVu Sans Mono',consolas,'Courier New',monospace\">Accessing as ShobhanaVerma07\n",
              "</pre>\n"
            ],
            "text/plain": [
              "Accessing as ShobhanaVerma07\n"
            ]
          },
          "metadata": {},
          "output_type": "display_data"
        },
        {
          "data": {
            "text/html": [
              "<pre style=\"white-space:pre;overflow-x:auto;line-height:normal;font-family:Menlo,'DejaVu Sans Mono',consolas,'Courier New',monospace\">Initialized MLflow to track repo <span style=\"color: #008000; text-decoration-color: #008000\">\"ShobhanaVerma07/Food_Delivery_Time_Prediction\"</span>\n",
              "</pre>\n"
            ],
            "text/plain": [
              "Initialized MLflow to track repo \u001b[32m\"ShobhanaVerma07/Food_Delivery_Time_Prediction\"\u001b[0m\n"
            ]
          },
          "metadata": {},
          "output_type": "display_data"
        },
        {
          "data": {
            "text/html": [
              "<pre style=\"white-space:pre;overflow-x:auto;line-height:normal;font-family:Menlo,'DejaVu Sans Mono',consolas,'Courier New',monospace\">Repository ShobhanaVerma07/Food_Delivery_Time_Prediction initialized!\n",
              "</pre>\n"
            ],
            "text/plain": [
              "Repository ShobhanaVerma07/Food_Delivery_Time_Prediction initialized!\n"
            ]
          },
          "metadata": {},
          "output_type": "display_data"
        }
      ],
      "source": [
        "import dagshub\n",
        "dagshub.init(repo_owner='ShobhanaVerma07', repo_name='Food_Delivery_Time_Prediction', mlflow=True)"
      ]
    },
    {
      "cell_type": "code",
      "execution_count": 7,
      "metadata": {
        "id": "-b9c26rHX8eJ"
      },
      "outputs": [],
      "source": [
        "import mlflow"
      ]
    },
    {
      "cell_type": "code",
      "execution_count": 8,
      "metadata": {
        "id": "on4HXpL1X84_"
      },
      "outputs": [],
      "source": [
        "# set the tracking server\n",
        "\n",
        "mlflow.set_tracking_uri(\"https://dagshub.com/ShobhanaVerma07/Food_Delivery_Time_Prediction.mlflow\")"
      ]
    },
    {
      "cell_type": "code",
      "execution_count": 9,
      "metadata": {
        "colab": {
          "base_uri": "https://localhost:8080/"
        },
        "id": "_MfNt_r6X_T7",
        "outputId": "2b6d7428-3640-4530-c7e4-09dab753d7da"
      },
      "outputs": [
        {
          "data": {
            "text/plain": [
              "<Experiment: artifact_location='mlflow-artifacts:/4af3532948f4491c866d568d8a255bc3', creation_time=1737368888151, experiment_id='3', last_update_time=1737368888151, lifecycle_stage='active', name='Exp 2 - Model Selection', tags={}>"
            ]
          },
          "execution_count": 9,
          "metadata": {},
          "output_type": "execute_result"
        }
      ],
      "source": [
        "# mlflow experiment\n",
        "\n",
        "mlflow.set_experiment(\"Exp 2 - Model Selection\")"
      ]
    },
    {
      "cell_type": "code",
      "execution_count": 10,
      "metadata": {
        "id": "r7eob7mfjxgl"
      },
      "outputs": [],
      "source": [
        "from sklearn import set_config\n",
        "\n",
        "set_config(transform_output=\"pandas\")"
      ]
    },
    {
      "cell_type": "markdown",
      "metadata": {
        "id": "1vFGURsDVtnH"
      },
      "source": [
        "# Load the Data"
      ]
    },
    {
      "cell_type": "code",
      "execution_count": 11,
      "metadata": {
        "colab": {
          "base_uri": "https://localhost:8080/",
          "height": 461
        },
        "id": "BVMYEJ2OYjRW",
        "outputId": "ad7a826d-d12a-4e4a-ccf5-a61bc5a65512"
      },
      "outputs": [
        {
          "data": {
            "text/html": [
              "<div>\n",
              "<style scoped>\n",
              "    .dataframe tbody tr th:only-of-type {\n",
              "        vertical-align: middle;\n",
              "    }\n",
              "\n",
              "    .dataframe tbody tr th {\n",
              "        vertical-align: top;\n",
              "    }\n",
              "\n",
              "    .dataframe thead th {\n",
              "        text-align: right;\n",
              "    }\n",
              "</style>\n",
              "<table border=\"1\" class=\"dataframe\">\n",
              "  <thead>\n",
              "    <tr style=\"text-align: right;\">\n",
              "      <th></th>\n",
              "      <th>ID</th>\n",
              "      <th>Delivery_person_ID</th>\n",
              "      <th>Delivery_person_Age</th>\n",
              "      <th>Delivery_person_Ratings</th>\n",
              "      <th>Restaurant_latitude</th>\n",
              "      <th>Restaurant_longitude</th>\n",
              "      <th>Delivery_location_latitude</th>\n",
              "      <th>Delivery_location_longitude</th>\n",
              "      <th>Order_Date</th>\n",
              "      <th>Time_Orderd</th>\n",
              "      <th>Time_Order_picked</th>\n",
              "      <th>Weatherconditions</th>\n",
              "      <th>Road_traffic_density</th>\n",
              "      <th>Vehicle_condition</th>\n",
              "      <th>Type_of_order</th>\n",
              "      <th>Type_of_vehicle</th>\n",
              "      <th>multiple_deliveries</th>\n",
              "      <th>Festival</th>\n",
              "      <th>City</th>\n",
              "      <th>Time_taken(min)</th>\n",
              "    </tr>\n",
              "  </thead>\n",
              "  <tbody>\n",
              "    <tr>\n",
              "      <th>0</th>\n",
              "      <td>0x4607</td>\n",
              "      <td>INDORES13DEL02</td>\n",
              "      <td>37</td>\n",
              "      <td>4.9</td>\n",
              "      <td>22.745049</td>\n",
              "      <td>75.892471</td>\n",
              "      <td>22.765049</td>\n",
              "      <td>75.912471</td>\n",
              "      <td>19-03-2022</td>\n",
              "      <td>11:30:00</td>\n",
              "      <td>11:45:00</td>\n",
              "      <td>conditions Sunny</td>\n",
              "      <td>High</td>\n",
              "      <td>2</td>\n",
              "      <td>Snack</td>\n",
              "      <td>motorcycle</td>\n",
              "      <td>0</td>\n",
              "      <td>No</td>\n",
              "      <td>Urban</td>\n",
              "      <td>(min) 24</td>\n",
              "    </tr>\n",
              "    <tr>\n",
              "      <th>1</th>\n",
              "      <td>0xb379</td>\n",
              "      <td>BANGRES18DEL02</td>\n",
              "      <td>34</td>\n",
              "      <td>4.5</td>\n",
              "      <td>12.913041</td>\n",
              "      <td>77.683237</td>\n",
              "      <td>13.043041</td>\n",
              "      <td>77.813237</td>\n",
              "      <td>25-03-2022</td>\n",
              "      <td>19:45:00</td>\n",
              "      <td>19:50:00</td>\n",
              "      <td>conditions Stormy</td>\n",
              "      <td>Jam</td>\n",
              "      <td>2</td>\n",
              "      <td>Snack</td>\n",
              "      <td>scooter</td>\n",
              "      <td>1</td>\n",
              "      <td>No</td>\n",
              "      <td>Metropolitian</td>\n",
              "      <td>(min) 33</td>\n",
              "    </tr>\n",
              "    <tr>\n",
              "      <th>2</th>\n",
              "      <td>0x5d6d</td>\n",
              "      <td>BANGRES19DEL01</td>\n",
              "      <td>23</td>\n",
              "      <td>4.4</td>\n",
              "      <td>12.914264</td>\n",
              "      <td>77.678400</td>\n",
              "      <td>12.924264</td>\n",
              "      <td>77.688400</td>\n",
              "      <td>19-03-2022</td>\n",
              "      <td>08:30:00</td>\n",
              "      <td>08:45:00</td>\n",
              "      <td>conditions Sandstorms</td>\n",
              "      <td>Low</td>\n",
              "      <td>0</td>\n",
              "      <td>Drinks</td>\n",
              "      <td>motorcycle</td>\n",
              "      <td>1</td>\n",
              "      <td>No</td>\n",
              "      <td>Urban</td>\n",
              "      <td>(min) 26</td>\n",
              "    </tr>\n",
              "    <tr>\n",
              "      <th>3</th>\n",
              "      <td>0x7a6a</td>\n",
              "      <td>COIMBRES13DEL02</td>\n",
              "      <td>38</td>\n",
              "      <td>4.7</td>\n",
              "      <td>11.003669</td>\n",
              "      <td>76.976494</td>\n",
              "      <td>11.053669</td>\n",
              "      <td>77.026494</td>\n",
              "      <td>05-04-2022</td>\n",
              "      <td>18:00:00</td>\n",
              "      <td>18:10:00</td>\n",
              "      <td>conditions Sunny</td>\n",
              "      <td>Medium</td>\n",
              "      <td>0</td>\n",
              "      <td>Buffet</td>\n",
              "      <td>motorcycle</td>\n",
              "      <td>1</td>\n",
              "      <td>No</td>\n",
              "      <td>Metropolitian</td>\n",
              "      <td>(min) 21</td>\n",
              "    </tr>\n",
              "    <tr>\n",
              "      <th>4</th>\n",
              "      <td>0x70a2</td>\n",
              "      <td>CHENRES12DEL01</td>\n",
              "      <td>32</td>\n",
              "      <td>4.6</td>\n",
              "      <td>12.972793</td>\n",
              "      <td>80.249982</td>\n",
              "      <td>13.012793</td>\n",
              "      <td>80.289982</td>\n",
              "      <td>26-03-2022</td>\n",
              "      <td>13:30:00</td>\n",
              "      <td>13:45:00</td>\n",
              "      <td>conditions Cloudy</td>\n",
              "      <td>High</td>\n",
              "      <td>1</td>\n",
              "      <td>Snack</td>\n",
              "      <td>scooter</td>\n",
              "      <td>1</td>\n",
              "      <td>No</td>\n",
              "      <td>Metropolitian</td>\n",
              "      <td>(min) 30</td>\n",
              "    </tr>\n",
              "    <tr>\n",
              "      <th>...</th>\n",
              "      <td>...</td>\n",
              "      <td>...</td>\n",
              "      <td>...</td>\n",
              "      <td>...</td>\n",
              "      <td>...</td>\n",
              "      <td>...</td>\n",
              "      <td>...</td>\n",
              "      <td>...</td>\n",
              "      <td>...</td>\n",
              "      <td>...</td>\n",
              "      <td>...</td>\n",
              "      <td>...</td>\n",
              "      <td>...</td>\n",
              "      <td>...</td>\n",
              "      <td>...</td>\n",
              "      <td>...</td>\n",
              "      <td>...</td>\n",
              "      <td>...</td>\n",
              "      <td>...</td>\n",
              "      <td>...</td>\n",
              "    </tr>\n",
              "    <tr>\n",
              "      <th>45588</th>\n",
              "      <td>0x7c09</td>\n",
              "      <td>JAPRES04DEL01</td>\n",
              "      <td>30</td>\n",
              "      <td>4.8</td>\n",
              "      <td>26.902328</td>\n",
              "      <td>75.794257</td>\n",
              "      <td>26.912328</td>\n",
              "      <td>75.804257</td>\n",
              "      <td>24-03-2022</td>\n",
              "      <td>11:35:00</td>\n",
              "      <td>11:45:00</td>\n",
              "      <td>conditions Windy</td>\n",
              "      <td>High</td>\n",
              "      <td>1</td>\n",
              "      <td>Meal</td>\n",
              "      <td>motorcycle</td>\n",
              "      <td>0</td>\n",
              "      <td>No</td>\n",
              "      <td>Metropolitian</td>\n",
              "      <td>(min) 32</td>\n",
              "    </tr>\n",
              "    <tr>\n",
              "      <th>45589</th>\n",
              "      <td>0xd641</td>\n",
              "      <td>AGRRES16DEL01</td>\n",
              "      <td>21</td>\n",
              "      <td>4.6</td>\n",
              "      <td>0.000000</td>\n",
              "      <td>0.000000</td>\n",
              "      <td>0.070000</td>\n",
              "      <td>0.070000</td>\n",
              "      <td>16-02-2022</td>\n",
              "      <td>19:55:00</td>\n",
              "      <td>20:10:00</td>\n",
              "      <td>conditions Windy</td>\n",
              "      <td>Jam</td>\n",
              "      <td>0</td>\n",
              "      <td>Buffet</td>\n",
              "      <td>motorcycle</td>\n",
              "      <td>1</td>\n",
              "      <td>No</td>\n",
              "      <td>Metropolitian</td>\n",
              "      <td>(min) 36</td>\n",
              "    </tr>\n",
              "    <tr>\n",
              "      <th>45590</th>\n",
              "      <td>0x4f8d</td>\n",
              "      <td>CHENRES08DEL03</td>\n",
              "      <td>30</td>\n",
              "      <td>4.9</td>\n",
              "      <td>13.022394</td>\n",
              "      <td>80.242439</td>\n",
              "      <td>13.052394</td>\n",
              "      <td>80.272439</td>\n",
              "      <td>11-03-2022</td>\n",
              "      <td>23:50:00</td>\n",
              "      <td>00:05:00</td>\n",
              "      <td>conditions Cloudy</td>\n",
              "      <td>Low</td>\n",
              "      <td>1</td>\n",
              "      <td>Drinks</td>\n",
              "      <td>scooter</td>\n",
              "      <td>0</td>\n",
              "      <td>No</td>\n",
              "      <td>Metropolitian</td>\n",
              "      <td>(min) 16</td>\n",
              "    </tr>\n",
              "    <tr>\n",
              "      <th>45591</th>\n",
              "      <td>0x5eee</td>\n",
              "      <td>COIMBRES11DEL01</td>\n",
              "      <td>20</td>\n",
              "      <td>4.7</td>\n",
              "      <td>11.001753</td>\n",
              "      <td>76.986241</td>\n",
              "      <td>11.041753</td>\n",
              "      <td>77.026241</td>\n",
              "      <td>07-03-2022</td>\n",
              "      <td>13:35:00</td>\n",
              "      <td>13:40:00</td>\n",
              "      <td>conditions Cloudy</td>\n",
              "      <td>High</td>\n",
              "      <td>0</td>\n",
              "      <td>Snack</td>\n",
              "      <td>motorcycle</td>\n",
              "      <td>1</td>\n",
              "      <td>No</td>\n",
              "      <td>Metropolitian</td>\n",
              "      <td>(min) 26</td>\n",
              "    </tr>\n",
              "    <tr>\n",
              "      <th>45592</th>\n",
              "      <td>0x5fb2</td>\n",
              "      <td>RANCHIRES09DEL02</td>\n",
              "      <td>23</td>\n",
              "      <td>4.9</td>\n",
              "      <td>23.351058</td>\n",
              "      <td>85.325731</td>\n",
              "      <td>23.431058</td>\n",
              "      <td>85.405731</td>\n",
              "      <td>02-03-2022</td>\n",
              "      <td>17:10:00</td>\n",
              "      <td>17:15:00</td>\n",
              "      <td>conditions Fog</td>\n",
              "      <td>Medium</td>\n",
              "      <td>2</td>\n",
              "      <td>Snack</td>\n",
              "      <td>scooter</td>\n",
              "      <td>1</td>\n",
              "      <td>No</td>\n",
              "      <td>Metropolitian</td>\n",
              "      <td>(min) 36</td>\n",
              "    </tr>\n",
              "  </tbody>\n",
              "</table>\n",
              "<p>45593 rows × 20 columns</p>\n",
              "</div>"
            ],
            "text/plain": [
              "            ID Delivery_person_ID Delivery_person_Age Delivery_person_Ratings  \\\n",
              "0      0x4607     INDORES13DEL02                   37                     4.9   \n",
              "1      0xb379     BANGRES18DEL02                   34                     4.5   \n",
              "2      0x5d6d     BANGRES19DEL01                   23                     4.4   \n",
              "3      0x7a6a    COIMBRES13DEL02                   38                     4.7   \n",
              "4      0x70a2     CHENRES12DEL01                   32                     4.6   \n",
              "...        ...                ...                 ...                     ...   \n",
              "45588  0x7c09      JAPRES04DEL01                   30                     4.8   \n",
              "45589  0xd641      AGRRES16DEL01                   21                     4.6   \n",
              "45590  0x4f8d     CHENRES08DEL03                   30                     4.9   \n",
              "45591  0x5eee    COIMBRES11DEL01                   20                     4.7   \n",
              "45592  0x5fb2   RANCHIRES09DEL02                   23                     4.9   \n",
              "\n",
              "       Restaurant_latitude  Restaurant_longitude  Delivery_location_latitude  \\\n",
              "0                22.745049             75.892471                   22.765049   \n",
              "1                12.913041             77.683237                   13.043041   \n",
              "2                12.914264             77.678400                   12.924264   \n",
              "3                11.003669             76.976494                   11.053669   \n",
              "4                12.972793             80.249982                   13.012793   \n",
              "...                    ...                   ...                         ...   \n",
              "45588            26.902328             75.794257                   26.912328   \n",
              "45589             0.000000              0.000000                    0.070000   \n",
              "45590            13.022394             80.242439                   13.052394   \n",
              "45591            11.001753             76.986241                   11.041753   \n",
              "45592            23.351058             85.325731                   23.431058   \n",
              "\n",
              "       Delivery_location_longitude  Order_Date Time_Orderd Time_Order_picked  \\\n",
              "0                        75.912471  19-03-2022    11:30:00          11:45:00   \n",
              "1                        77.813237  25-03-2022    19:45:00          19:50:00   \n",
              "2                        77.688400  19-03-2022    08:30:00          08:45:00   \n",
              "3                        77.026494  05-04-2022    18:00:00          18:10:00   \n",
              "4                        80.289982  26-03-2022    13:30:00          13:45:00   \n",
              "...                            ...         ...         ...               ...   \n",
              "45588                    75.804257  24-03-2022    11:35:00          11:45:00   \n",
              "45589                     0.070000  16-02-2022    19:55:00          20:10:00   \n",
              "45590                    80.272439  11-03-2022    23:50:00          00:05:00   \n",
              "45591                    77.026241  07-03-2022    13:35:00          13:40:00   \n",
              "45592                    85.405731  02-03-2022    17:10:00          17:15:00   \n",
              "\n",
              "           Weatherconditions Road_traffic_density  Vehicle_condition  \\\n",
              "0           conditions Sunny                High                   2   \n",
              "1          conditions Stormy                 Jam                   2   \n",
              "2      conditions Sandstorms                 Low                   0   \n",
              "3           conditions Sunny              Medium                   0   \n",
              "4          conditions Cloudy                High                   1   \n",
              "...                      ...                  ...                ...   \n",
              "45588       conditions Windy                High                   1   \n",
              "45589       conditions Windy                 Jam                   0   \n",
              "45590      conditions Cloudy                 Low                   1   \n",
              "45591      conditions Cloudy                High                   0   \n",
              "45592         conditions Fog              Medium                   2   \n",
              "\n",
              "      Type_of_order Type_of_vehicle multiple_deliveries Festival  \\\n",
              "0            Snack      motorcycle                    0      No    \n",
              "1            Snack         scooter                    1      No    \n",
              "2           Drinks      motorcycle                    1      No    \n",
              "3           Buffet      motorcycle                    1      No    \n",
              "4            Snack         scooter                    1      No    \n",
              "...             ...             ...                 ...      ...   \n",
              "45588         Meal      motorcycle                    0      No    \n",
              "45589       Buffet      motorcycle                    1      No    \n",
              "45590       Drinks         scooter                    0      No    \n",
              "45591        Snack      motorcycle                    1      No    \n",
              "45592        Snack         scooter                    1      No    \n",
              "\n",
              "                 City Time_taken(min)  \n",
              "0              Urban         (min) 24  \n",
              "1      Metropolitian         (min) 33  \n",
              "2              Urban         (min) 26  \n",
              "3      Metropolitian         (min) 21  \n",
              "4      Metropolitian         (min) 30  \n",
              "...               ...             ...  \n",
              "45588  Metropolitian         (min) 32  \n",
              "45589  Metropolitian         (min) 36  \n",
              "45590  Metropolitian         (min) 16  \n",
              "45591  Metropolitian         (min) 26  \n",
              "45592  Metropolitian         (min) 36  \n",
              "\n",
              "[45593 rows x 20 columns]"
            ]
          },
          "execution_count": 11,
          "metadata": {},
          "output_type": "execute_result"
        }
      ],
      "source": [
        "# load the data\n",
        "\n",
        "df = pd.read_csv('swiggy.csv')\n",
        "\n",
        "df"
      ]
    },
    {
      "cell_type": "markdown",
      "metadata": {
        "id": "OQoORRdSYoWU"
      },
      "source": [
        "# Clean Data"
      ]
    },
    {
      "cell_type": "code",
      "execution_count": 12,
      "metadata": {
        "id": "YpqxpFOJYqgs"
      },
      "outputs": [],
      "source": [
        "data_clean_utils.perform_data_cleaning(df)"
      ]
    },
    {
      "cell_type": "code",
      "execution_count": 13,
      "metadata": {
        "colab": {
          "base_uri": "https://localhost:8080/",
          "height": 444
        },
        "id": "I0fKq6d3Y2W2",
        "outputId": "8fad16b7-f65e-428a-f296-aa7afad32a4e"
      },
      "outputs": [
        {
          "data": {
            "text/html": [
              "<div>\n",
              "<style scoped>\n",
              "    .dataframe tbody tr th:only-of-type {\n",
              "        vertical-align: middle;\n",
              "    }\n",
              "\n",
              "    .dataframe tbody tr th {\n",
              "        vertical-align: top;\n",
              "    }\n",
              "\n",
              "    .dataframe thead th {\n",
              "        text-align: right;\n",
              "    }\n",
              "</style>\n",
              "<table border=\"1\" class=\"dataframe\">\n",
              "  <thead>\n",
              "    <tr style=\"text-align: right;\">\n",
              "      <th></th>\n",
              "      <th>rider_id</th>\n",
              "      <th>age</th>\n",
              "      <th>ratings</th>\n",
              "      <th>restaurant_latitude</th>\n",
              "      <th>restaurant_longitude</th>\n",
              "      <th>delivery_latitude</th>\n",
              "      <th>delivery_longitude</th>\n",
              "      <th>order_date</th>\n",
              "      <th>weather</th>\n",
              "      <th>traffic</th>\n",
              "      <th>...</th>\n",
              "      <th>city_name</th>\n",
              "      <th>order_day</th>\n",
              "      <th>order_month</th>\n",
              "      <th>order_day_of_week</th>\n",
              "      <th>is_weekend</th>\n",
              "      <th>pickup_time_minutes</th>\n",
              "      <th>order_time_hour</th>\n",
              "      <th>order_time_of_day</th>\n",
              "      <th>distance</th>\n",
              "      <th>distance_type</th>\n",
              "    </tr>\n",
              "  </thead>\n",
              "  <tbody>\n",
              "    <tr>\n",
              "      <th>0</th>\n",
              "      <td>INDORES13DEL02</td>\n",
              "      <td>37.0</td>\n",
              "      <td>4.9</td>\n",
              "      <td>22.745049</td>\n",
              "      <td>75.892471</td>\n",
              "      <td>22.765049</td>\n",
              "      <td>75.912471</td>\n",
              "      <td>2022-03-19</td>\n",
              "      <td>sunny</td>\n",
              "      <td>high</td>\n",
              "      <td>...</td>\n",
              "      <td>INDO</td>\n",
              "      <td>19</td>\n",
              "      <td>3</td>\n",
              "      <td>saturday</td>\n",
              "      <td>1</td>\n",
              "      <td>15.0</td>\n",
              "      <td>11.0</td>\n",
              "      <td>morning</td>\n",
              "      <td>3.025149</td>\n",
              "      <td>short</td>\n",
              "    </tr>\n",
              "    <tr>\n",
              "      <th>1</th>\n",
              "      <td>BANGRES18DEL02</td>\n",
              "      <td>34.0</td>\n",
              "      <td>4.5</td>\n",
              "      <td>12.913041</td>\n",
              "      <td>77.683237</td>\n",
              "      <td>13.043041</td>\n",
              "      <td>77.813237</td>\n",
              "      <td>2022-03-25</td>\n",
              "      <td>stormy</td>\n",
              "      <td>jam</td>\n",
              "      <td>...</td>\n",
              "      <td>BANG</td>\n",
              "      <td>25</td>\n",
              "      <td>3</td>\n",
              "      <td>friday</td>\n",
              "      <td>0</td>\n",
              "      <td>5.0</td>\n",
              "      <td>19.0</td>\n",
              "      <td>evening</td>\n",
              "      <td>20.183530</td>\n",
              "      <td>very_long</td>\n",
              "    </tr>\n",
              "    <tr>\n",
              "      <th>2</th>\n",
              "      <td>BANGRES19DEL01</td>\n",
              "      <td>23.0</td>\n",
              "      <td>4.4</td>\n",
              "      <td>12.914264</td>\n",
              "      <td>77.678400</td>\n",
              "      <td>12.924264</td>\n",
              "      <td>77.688400</td>\n",
              "      <td>2022-03-19</td>\n",
              "      <td>sandstorms</td>\n",
              "      <td>low</td>\n",
              "      <td>...</td>\n",
              "      <td>BANG</td>\n",
              "      <td>19</td>\n",
              "      <td>3</td>\n",
              "      <td>saturday</td>\n",
              "      <td>1</td>\n",
              "      <td>15.0</td>\n",
              "      <td>8.0</td>\n",
              "      <td>morning</td>\n",
              "      <td>1.552758</td>\n",
              "      <td>short</td>\n",
              "    </tr>\n",
              "    <tr>\n",
              "      <th>3</th>\n",
              "      <td>COIMBRES13DEL02</td>\n",
              "      <td>38.0</td>\n",
              "      <td>4.7</td>\n",
              "      <td>11.003669</td>\n",
              "      <td>76.976494</td>\n",
              "      <td>11.053669</td>\n",
              "      <td>77.026494</td>\n",
              "      <td>2022-04-05</td>\n",
              "      <td>sunny</td>\n",
              "      <td>medium</td>\n",
              "      <td>...</td>\n",
              "      <td>COIMB</td>\n",
              "      <td>5</td>\n",
              "      <td>4</td>\n",
              "      <td>tuesday</td>\n",
              "      <td>0</td>\n",
              "      <td>10.0</td>\n",
              "      <td>18.0</td>\n",
              "      <td>evening</td>\n",
              "      <td>7.790401</td>\n",
              "      <td>medium</td>\n",
              "    </tr>\n",
              "    <tr>\n",
              "      <th>4</th>\n",
              "      <td>CHENRES12DEL01</td>\n",
              "      <td>32.0</td>\n",
              "      <td>4.6</td>\n",
              "      <td>12.972793</td>\n",
              "      <td>80.249982</td>\n",
              "      <td>13.012793</td>\n",
              "      <td>80.289982</td>\n",
              "      <td>2022-03-26</td>\n",
              "      <td>cloudy</td>\n",
              "      <td>high</td>\n",
              "      <td>...</td>\n",
              "      <td>CHEN</td>\n",
              "      <td>26</td>\n",
              "      <td>3</td>\n",
              "      <td>saturday</td>\n",
              "      <td>1</td>\n",
              "      <td>15.0</td>\n",
              "      <td>13.0</td>\n",
              "      <td>afternoon</td>\n",
              "      <td>6.210138</td>\n",
              "      <td>medium</td>\n",
              "    </tr>\n",
              "    <tr>\n",
              "      <th>...</th>\n",
              "      <td>...</td>\n",
              "      <td>...</td>\n",
              "      <td>...</td>\n",
              "      <td>...</td>\n",
              "      <td>...</td>\n",
              "      <td>...</td>\n",
              "      <td>...</td>\n",
              "      <td>...</td>\n",
              "      <td>...</td>\n",
              "      <td>...</td>\n",
              "      <td>...</td>\n",
              "      <td>...</td>\n",
              "      <td>...</td>\n",
              "      <td>...</td>\n",
              "      <td>...</td>\n",
              "      <td>...</td>\n",
              "      <td>...</td>\n",
              "      <td>...</td>\n",
              "      <td>...</td>\n",
              "      <td>...</td>\n",
              "      <td>...</td>\n",
              "    </tr>\n",
              "    <tr>\n",
              "      <th>45497</th>\n",
              "      <td>JAPRES04DEL01</td>\n",
              "      <td>30.0</td>\n",
              "      <td>4.8</td>\n",
              "      <td>26.902328</td>\n",
              "      <td>75.794257</td>\n",
              "      <td>26.912328</td>\n",
              "      <td>75.804257</td>\n",
              "      <td>2022-03-24</td>\n",
              "      <td>windy</td>\n",
              "      <td>high</td>\n",
              "      <td>...</td>\n",
              "      <td>JAP</td>\n",
              "      <td>24</td>\n",
              "      <td>3</td>\n",
              "      <td>thursday</td>\n",
              "      <td>0</td>\n",
              "      <td>10.0</td>\n",
              "      <td>11.0</td>\n",
              "      <td>morning</td>\n",
              "      <td>1.489846</td>\n",
              "      <td>short</td>\n",
              "    </tr>\n",
              "    <tr>\n",
              "      <th>45498</th>\n",
              "      <td>AGRRES16DEL01</td>\n",
              "      <td>21.0</td>\n",
              "      <td>4.6</td>\n",
              "      <td>NaN</td>\n",
              "      <td>NaN</td>\n",
              "      <td>NaN</td>\n",
              "      <td>NaN</td>\n",
              "      <td>2022-02-16</td>\n",
              "      <td>windy</td>\n",
              "      <td>jam</td>\n",
              "      <td>...</td>\n",
              "      <td>AGR</td>\n",
              "      <td>16</td>\n",
              "      <td>2</td>\n",
              "      <td>wednesday</td>\n",
              "      <td>0</td>\n",
              "      <td>15.0</td>\n",
              "      <td>19.0</td>\n",
              "      <td>evening</td>\n",
              "      <td>NaN</td>\n",
              "      <td>NaN</td>\n",
              "    </tr>\n",
              "    <tr>\n",
              "      <th>45499</th>\n",
              "      <td>CHENRES08DEL03</td>\n",
              "      <td>30.0</td>\n",
              "      <td>4.9</td>\n",
              "      <td>13.022394</td>\n",
              "      <td>80.242439</td>\n",
              "      <td>13.052394</td>\n",
              "      <td>80.272439</td>\n",
              "      <td>2022-03-11</td>\n",
              "      <td>cloudy</td>\n",
              "      <td>low</td>\n",
              "      <td>...</td>\n",
              "      <td>CHEN</td>\n",
              "      <td>11</td>\n",
              "      <td>3</td>\n",
              "      <td>friday</td>\n",
              "      <td>0</td>\n",
              "      <td>15.0</td>\n",
              "      <td>23.0</td>\n",
              "      <td>night</td>\n",
              "      <td>4.657195</td>\n",
              "      <td>short</td>\n",
              "    </tr>\n",
              "    <tr>\n",
              "      <th>45500</th>\n",
              "      <td>COIMBRES11DEL01</td>\n",
              "      <td>20.0</td>\n",
              "      <td>4.7</td>\n",
              "      <td>11.001753</td>\n",
              "      <td>76.986241</td>\n",
              "      <td>11.041753</td>\n",
              "      <td>77.026241</td>\n",
              "      <td>2022-03-07</td>\n",
              "      <td>cloudy</td>\n",
              "      <td>high</td>\n",
              "      <td>...</td>\n",
              "      <td>COIMB</td>\n",
              "      <td>7</td>\n",
              "      <td>3</td>\n",
              "      <td>monday</td>\n",
              "      <td>0</td>\n",
              "      <td>5.0</td>\n",
              "      <td>13.0</td>\n",
              "      <td>afternoon</td>\n",
              "      <td>6.232393</td>\n",
              "      <td>medium</td>\n",
              "    </tr>\n",
              "    <tr>\n",
              "      <th>45501</th>\n",
              "      <td>RANCHIRES09DEL02</td>\n",
              "      <td>23.0</td>\n",
              "      <td>4.9</td>\n",
              "      <td>23.351058</td>\n",
              "      <td>85.325731</td>\n",
              "      <td>23.431058</td>\n",
              "      <td>85.405731</td>\n",
              "      <td>2022-03-02</td>\n",
              "      <td>fog</td>\n",
              "      <td>medium</td>\n",
              "      <td>...</td>\n",
              "      <td>RANCHI</td>\n",
              "      <td>2</td>\n",
              "      <td>3</td>\n",
              "      <td>wednesday</td>\n",
              "      <td>0</td>\n",
              "      <td>5.0</td>\n",
              "      <td>17.0</td>\n",
              "      <td>afternoon</td>\n",
              "      <td>12.074396</td>\n",
              "      <td>long</td>\n",
              "    </tr>\n",
              "  </tbody>\n",
              "</table>\n",
              "<p>45502 rows × 27 columns</p>\n",
              "</div>"
            ],
            "text/plain": [
              "                rider_id   age  ratings  restaurant_latitude  \\\n",
              "0        INDORES13DEL02   37.0      4.9            22.745049   \n",
              "1        BANGRES18DEL02   34.0      4.5            12.913041   \n",
              "2        BANGRES19DEL01   23.0      4.4            12.914264   \n",
              "3       COIMBRES13DEL02   38.0      4.7            11.003669   \n",
              "4        CHENRES12DEL01   32.0      4.6            12.972793   \n",
              "...                  ...   ...      ...                  ...   \n",
              "45497     JAPRES04DEL01   30.0      4.8            26.902328   \n",
              "45498     AGRRES16DEL01   21.0      4.6                  NaN   \n",
              "45499    CHENRES08DEL03   30.0      4.9            13.022394   \n",
              "45500   COIMBRES11DEL01   20.0      4.7            11.001753   \n",
              "45501  RANCHIRES09DEL02   23.0      4.9            23.351058   \n",
              "\n",
              "       restaurant_longitude  delivery_latitude  delivery_longitude  \\\n",
              "0                 75.892471          22.765049           75.912471   \n",
              "1                 77.683237          13.043041           77.813237   \n",
              "2                 77.678400          12.924264           77.688400   \n",
              "3                 76.976494          11.053669           77.026494   \n",
              "4                 80.249982          13.012793           80.289982   \n",
              "...                     ...                ...                 ...   \n",
              "45497             75.794257          26.912328           75.804257   \n",
              "45498                   NaN                NaN                 NaN   \n",
              "45499             80.242439          13.052394           80.272439   \n",
              "45500             76.986241          11.041753           77.026241   \n",
              "45501             85.325731          23.431058           85.405731   \n",
              "\n",
              "       order_date     weather traffic  ...  city_name order_day order_month  \\\n",
              "0      2022-03-19       sunny    high  ...       INDO        19           3   \n",
              "1      2022-03-25      stormy     jam  ...       BANG        25           3   \n",
              "2      2022-03-19  sandstorms     low  ...       BANG        19           3   \n",
              "3      2022-04-05       sunny  medium  ...      COIMB         5           4   \n",
              "4      2022-03-26      cloudy    high  ...       CHEN        26           3   \n",
              "...           ...         ...     ...  ...        ...       ...         ...   \n",
              "45497  2022-03-24       windy    high  ...        JAP        24           3   \n",
              "45498  2022-02-16       windy     jam  ...        AGR        16           2   \n",
              "45499  2022-03-11      cloudy     low  ...       CHEN        11           3   \n",
              "45500  2022-03-07      cloudy    high  ...      COIMB         7           3   \n",
              "45501  2022-03-02         fog  medium  ...     RANCHI         2           3   \n",
              "\n",
              "       order_day_of_week is_weekend pickup_time_minutes  order_time_hour  \\\n",
              "0               saturday          1                15.0             11.0   \n",
              "1                 friday          0                 5.0             19.0   \n",
              "2               saturday          1                15.0              8.0   \n",
              "3                tuesday          0                10.0             18.0   \n",
              "4               saturday          1                15.0             13.0   \n",
              "...                  ...        ...                 ...              ...   \n",
              "45497           thursday          0                10.0             11.0   \n",
              "45498          wednesday          0                15.0             19.0   \n",
              "45499             friday          0                15.0             23.0   \n",
              "45500             monday          0                 5.0             13.0   \n",
              "45501          wednesday          0                 5.0             17.0   \n",
              "\n",
              "      order_time_of_day   distance  distance_type  \n",
              "0               morning   3.025149          short  \n",
              "1               evening  20.183530      very_long  \n",
              "2               morning   1.552758          short  \n",
              "3               evening   7.790401         medium  \n",
              "4             afternoon   6.210138         medium  \n",
              "...                 ...        ...            ...  \n",
              "45497           morning   1.489846          short  \n",
              "45498           evening        NaN            NaN  \n",
              "45499             night   4.657195          short  \n",
              "45500         afternoon   6.232393         medium  \n",
              "45501         afternoon  12.074396           long  \n",
              "\n",
              "[45502 rows x 27 columns]"
            ]
          },
          "execution_count": 13,
          "metadata": {},
          "output_type": "execute_result"
        }
      ],
      "source": [
        "# load the cleaned data\n",
        "\n",
        "df = pd.read_csv('swiggy_cleaned.csv')\n",
        "\n",
        "df"
      ]
    },
    {
      "cell_type": "code",
      "execution_count": 14,
      "metadata": {
        "colab": {
          "base_uri": "https://localhost:8080/"
        },
        "id": "06VhmH7Lb4xz",
        "outputId": "af060c2b-9af8-43a3-d610-4af74ae57c1c"
      },
      "outputs": [
        {
          "data": {
            "text/plain": [
              "Index(['rider_id', 'age', 'ratings', 'restaurant_latitude',\n",
              "       'restaurant_longitude', 'delivery_latitude', 'delivery_longitude',\n",
              "       'order_date', 'weather', 'traffic', 'vehicle_condition',\n",
              "       'type_of_order', 'type_of_vehicle', 'multiple_deliveries', 'festival',\n",
              "       'city_type', 'time_taken', 'city_name', 'order_day', 'order_month',\n",
              "       'order_day_of_week', 'is_weekend', 'pickup_time_minutes',\n",
              "       'order_time_hour', 'order_time_of_day', 'distance', 'distance_type'],\n",
              "      dtype='object')"
            ]
          },
          "execution_count": 14,
          "metadata": {},
          "output_type": "execute_result"
        }
      ],
      "source": [
        "df.columns"
      ]
    },
    {
      "cell_type": "code",
      "execution_count": 15,
      "metadata": {
        "colab": {
          "base_uri": "https://localhost:8080/",
          "height": 444
        },
        "id": "R-UYeFPobyeh",
        "outputId": "f9692213-ed3e-4c45-9b8f-9efb969c3b0b"
      },
      "outputs": [
        {
          "data": {
            "text/html": [
              "<div>\n",
              "<style scoped>\n",
              "    .dataframe tbody tr th:only-of-type {\n",
              "        vertical-align: middle;\n",
              "    }\n",
              "\n",
              "    .dataframe tbody tr th {\n",
              "        vertical-align: top;\n",
              "    }\n",
              "\n",
              "    .dataframe thead th {\n",
              "        text-align: right;\n",
              "    }\n",
              "</style>\n",
              "<table border=\"1\" class=\"dataframe\">\n",
              "  <thead>\n",
              "    <tr style=\"text-align: right;\">\n",
              "      <th></th>\n",
              "      <th>age</th>\n",
              "      <th>ratings</th>\n",
              "      <th>weather</th>\n",
              "      <th>traffic</th>\n",
              "      <th>vehicle_condition</th>\n",
              "      <th>type_of_order</th>\n",
              "      <th>type_of_vehicle</th>\n",
              "      <th>multiple_deliveries</th>\n",
              "      <th>festival</th>\n",
              "      <th>city_type</th>\n",
              "      <th>time_taken</th>\n",
              "      <th>is_weekend</th>\n",
              "      <th>pickup_time_minutes</th>\n",
              "      <th>order_time_of_day</th>\n",
              "      <th>distance</th>\n",
              "      <th>distance_type</th>\n",
              "    </tr>\n",
              "  </thead>\n",
              "  <tbody>\n",
              "    <tr>\n",
              "      <th>0</th>\n",
              "      <td>37.0</td>\n",
              "      <td>4.9</td>\n",
              "      <td>sunny</td>\n",
              "      <td>high</td>\n",
              "      <td>2</td>\n",
              "      <td>snack</td>\n",
              "      <td>motorcycle</td>\n",
              "      <td>0.0</td>\n",
              "      <td>no</td>\n",
              "      <td>urban</td>\n",
              "      <td>24</td>\n",
              "      <td>1</td>\n",
              "      <td>15.0</td>\n",
              "      <td>morning</td>\n",
              "      <td>3.025149</td>\n",
              "      <td>short</td>\n",
              "    </tr>\n",
              "    <tr>\n",
              "      <th>1</th>\n",
              "      <td>34.0</td>\n",
              "      <td>4.5</td>\n",
              "      <td>stormy</td>\n",
              "      <td>jam</td>\n",
              "      <td>2</td>\n",
              "      <td>snack</td>\n",
              "      <td>scooter</td>\n",
              "      <td>1.0</td>\n",
              "      <td>no</td>\n",
              "      <td>metropolitian</td>\n",
              "      <td>33</td>\n",
              "      <td>0</td>\n",
              "      <td>5.0</td>\n",
              "      <td>evening</td>\n",
              "      <td>20.183530</td>\n",
              "      <td>very_long</td>\n",
              "    </tr>\n",
              "    <tr>\n",
              "      <th>2</th>\n",
              "      <td>23.0</td>\n",
              "      <td>4.4</td>\n",
              "      <td>sandstorms</td>\n",
              "      <td>low</td>\n",
              "      <td>0</td>\n",
              "      <td>drinks</td>\n",
              "      <td>motorcycle</td>\n",
              "      <td>1.0</td>\n",
              "      <td>no</td>\n",
              "      <td>urban</td>\n",
              "      <td>26</td>\n",
              "      <td>1</td>\n",
              "      <td>15.0</td>\n",
              "      <td>morning</td>\n",
              "      <td>1.552758</td>\n",
              "      <td>short</td>\n",
              "    </tr>\n",
              "    <tr>\n",
              "      <th>3</th>\n",
              "      <td>38.0</td>\n",
              "      <td>4.7</td>\n",
              "      <td>sunny</td>\n",
              "      <td>medium</td>\n",
              "      <td>0</td>\n",
              "      <td>buffet</td>\n",
              "      <td>motorcycle</td>\n",
              "      <td>1.0</td>\n",
              "      <td>no</td>\n",
              "      <td>metropolitian</td>\n",
              "      <td>21</td>\n",
              "      <td>0</td>\n",
              "      <td>10.0</td>\n",
              "      <td>evening</td>\n",
              "      <td>7.790401</td>\n",
              "      <td>medium</td>\n",
              "    </tr>\n",
              "    <tr>\n",
              "      <th>4</th>\n",
              "      <td>32.0</td>\n",
              "      <td>4.6</td>\n",
              "      <td>cloudy</td>\n",
              "      <td>high</td>\n",
              "      <td>1</td>\n",
              "      <td>snack</td>\n",
              "      <td>scooter</td>\n",
              "      <td>1.0</td>\n",
              "      <td>no</td>\n",
              "      <td>metropolitian</td>\n",
              "      <td>30</td>\n",
              "      <td>1</td>\n",
              "      <td>15.0</td>\n",
              "      <td>afternoon</td>\n",
              "      <td>6.210138</td>\n",
              "      <td>medium</td>\n",
              "    </tr>\n",
              "    <tr>\n",
              "      <th>...</th>\n",
              "      <td>...</td>\n",
              "      <td>...</td>\n",
              "      <td>...</td>\n",
              "      <td>...</td>\n",
              "      <td>...</td>\n",
              "      <td>...</td>\n",
              "      <td>...</td>\n",
              "      <td>...</td>\n",
              "      <td>...</td>\n",
              "      <td>...</td>\n",
              "      <td>...</td>\n",
              "      <td>...</td>\n",
              "      <td>...</td>\n",
              "      <td>...</td>\n",
              "      <td>...</td>\n",
              "      <td>...</td>\n",
              "    </tr>\n",
              "    <tr>\n",
              "      <th>45497</th>\n",
              "      <td>30.0</td>\n",
              "      <td>4.8</td>\n",
              "      <td>windy</td>\n",
              "      <td>high</td>\n",
              "      <td>1</td>\n",
              "      <td>meal</td>\n",
              "      <td>motorcycle</td>\n",
              "      <td>0.0</td>\n",
              "      <td>no</td>\n",
              "      <td>metropolitian</td>\n",
              "      <td>32</td>\n",
              "      <td>0</td>\n",
              "      <td>10.0</td>\n",
              "      <td>morning</td>\n",
              "      <td>1.489846</td>\n",
              "      <td>short</td>\n",
              "    </tr>\n",
              "    <tr>\n",
              "      <th>45498</th>\n",
              "      <td>21.0</td>\n",
              "      <td>4.6</td>\n",
              "      <td>windy</td>\n",
              "      <td>jam</td>\n",
              "      <td>0</td>\n",
              "      <td>buffet</td>\n",
              "      <td>motorcycle</td>\n",
              "      <td>1.0</td>\n",
              "      <td>no</td>\n",
              "      <td>metropolitian</td>\n",
              "      <td>36</td>\n",
              "      <td>0</td>\n",
              "      <td>15.0</td>\n",
              "      <td>evening</td>\n",
              "      <td>NaN</td>\n",
              "      <td>NaN</td>\n",
              "    </tr>\n",
              "    <tr>\n",
              "      <th>45499</th>\n",
              "      <td>30.0</td>\n",
              "      <td>4.9</td>\n",
              "      <td>cloudy</td>\n",
              "      <td>low</td>\n",
              "      <td>1</td>\n",
              "      <td>drinks</td>\n",
              "      <td>scooter</td>\n",
              "      <td>0.0</td>\n",
              "      <td>no</td>\n",
              "      <td>metropolitian</td>\n",
              "      <td>16</td>\n",
              "      <td>0</td>\n",
              "      <td>15.0</td>\n",
              "      <td>night</td>\n",
              "      <td>4.657195</td>\n",
              "      <td>short</td>\n",
              "    </tr>\n",
              "    <tr>\n",
              "      <th>45500</th>\n",
              "      <td>20.0</td>\n",
              "      <td>4.7</td>\n",
              "      <td>cloudy</td>\n",
              "      <td>high</td>\n",
              "      <td>0</td>\n",
              "      <td>snack</td>\n",
              "      <td>motorcycle</td>\n",
              "      <td>1.0</td>\n",
              "      <td>no</td>\n",
              "      <td>metropolitian</td>\n",
              "      <td>26</td>\n",
              "      <td>0</td>\n",
              "      <td>5.0</td>\n",
              "      <td>afternoon</td>\n",
              "      <td>6.232393</td>\n",
              "      <td>medium</td>\n",
              "    </tr>\n",
              "    <tr>\n",
              "      <th>45501</th>\n",
              "      <td>23.0</td>\n",
              "      <td>4.9</td>\n",
              "      <td>fog</td>\n",
              "      <td>medium</td>\n",
              "      <td>2</td>\n",
              "      <td>snack</td>\n",
              "      <td>scooter</td>\n",
              "      <td>1.0</td>\n",
              "      <td>no</td>\n",
              "      <td>metropolitian</td>\n",
              "      <td>36</td>\n",
              "      <td>0</td>\n",
              "      <td>5.0</td>\n",
              "      <td>afternoon</td>\n",
              "      <td>12.074396</td>\n",
              "      <td>long</td>\n",
              "    </tr>\n",
              "  </tbody>\n",
              "</table>\n",
              "<p>45502 rows × 16 columns</p>\n",
              "</div>"
            ],
            "text/plain": [
              "        age  ratings     weather traffic  vehicle_condition type_of_order  \\\n",
              "0      37.0      4.9       sunny    high                  2         snack   \n",
              "1      34.0      4.5      stormy     jam                  2         snack   \n",
              "2      23.0      4.4  sandstorms     low                  0        drinks   \n",
              "3      38.0      4.7       sunny  medium                  0        buffet   \n",
              "4      32.0      4.6      cloudy    high                  1         snack   \n",
              "...     ...      ...         ...     ...                ...           ...   \n",
              "45497  30.0      4.8       windy    high                  1          meal   \n",
              "45498  21.0      4.6       windy     jam                  0        buffet   \n",
              "45499  30.0      4.9      cloudy     low                  1        drinks   \n",
              "45500  20.0      4.7      cloudy    high                  0         snack   \n",
              "45501  23.0      4.9         fog  medium                  2         snack   \n",
              "\n",
              "      type_of_vehicle  multiple_deliveries festival      city_type  \\\n",
              "0          motorcycle                  0.0       no          urban   \n",
              "1             scooter                  1.0       no  metropolitian   \n",
              "2          motorcycle                  1.0       no          urban   \n",
              "3          motorcycle                  1.0       no  metropolitian   \n",
              "4             scooter                  1.0       no  metropolitian   \n",
              "...               ...                  ...      ...            ...   \n",
              "45497      motorcycle                  0.0       no  metropolitian   \n",
              "45498      motorcycle                  1.0       no  metropolitian   \n",
              "45499         scooter                  0.0       no  metropolitian   \n",
              "45500      motorcycle                  1.0       no  metropolitian   \n",
              "45501         scooter                  1.0       no  metropolitian   \n",
              "\n",
              "       time_taken  is_weekend  pickup_time_minutes order_time_of_day  \\\n",
              "0              24           1                 15.0           morning   \n",
              "1              33           0                  5.0           evening   \n",
              "2              26           1                 15.0           morning   \n",
              "3              21           0                 10.0           evening   \n",
              "4              30           1                 15.0         afternoon   \n",
              "...           ...         ...                  ...               ...   \n",
              "45497          32           0                 10.0           morning   \n",
              "45498          36           0                 15.0           evening   \n",
              "45499          16           0                 15.0             night   \n",
              "45500          26           0                  5.0         afternoon   \n",
              "45501          36           0                  5.0         afternoon   \n",
              "\n",
              "        distance distance_type  \n",
              "0       3.025149         short  \n",
              "1      20.183530     very_long  \n",
              "2       1.552758         short  \n",
              "3       7.790401        medium  \n",
              "4       6.210138        medium  \n",
              "...          ...           ...  \n",
              "45497   1.489846         short  \n",
              "45498        NaN           NaN  \n",
              "45499   4.657195         short  \n",
              "45500   6.232393        medium  \n",
              "45501  12.074396          long  \n",
              "\n",
              "[45502 rows x 16 columns]"
            ]
          },
          "execution_count": 15,
          "metadata": {},
          "output_type": "execute_result"
        }
      ],
      "source": [
        "# drop columns not required for model input\n",
        "\n",
        "columns_to_drop =  ['rider_id',\n",
        "                    'restaurant_latitude',\n",
        "                    'restaurant_longitude',\n",
        "                    'delivery_latitude',\n",
        "                    'delivery_longitude',\n",
        "                    'order_date',\n",
        "                    \"order_time_hour\",\n",
        "                    \"order_day\",\n",
        "                    \"city_name\",\n",
        "                    \"order_day_of_week\",\n",
        "                    \"order_month\"]\n",
        "\n",
        "df.drop(columns=columns_to_drop, inplace=True)\n",
        "\n",
        "df"
      ]
    },
    {
      "cell_type": "code",
      "execution_count": 16,
      "metadata": {
        "colab": {
          "base_uri": "https://localhost:8080/",
          "height": 586
        },
        "id": "IiOq4IO6cX4q",
        "outputId": "b4698040-762e-4d88-ebd9-393d74880308"
      },
      "outputs": [
        {
          "data": {
            "text/plain": [
              "age                    1854\n",
              "ratings                1908\n",
              "weather                 525\n",
              "traffic                 510\n",
              "vehicle_condition         0\n",
              "type_of_order             0\n",
              "type_of_vehicle           0\n",
              "multiple_deliveries     993\n",
              "festival                228\n",
              "city_type              1198\n",
              "time_taken                0\n",
              "is_weekend                0\n",
              "pickup_time_minutes    1640\n",
              "order_time_of_day      2070\n",
              "distance               3630\n",
              "distance_type          3630\n",
              "dtype: int64"
            ]
          },
          "execution_count": 16,
          "metadata": {},
          "output_type": "execute_result"
        }
      ],
      "source": [
        "# check for missing values\n",
        "\n",
        "df.isna().sum()"
      ]
    },
    {
      "cell_type": "code",
      "execution_count": 17,
      "metadata": {
        "colab": {
          "base_uri": "https://localhost:8080/"
        },
        "id": "iHMDE9Mdcxno",
        "outputId": "15cab23b-891a-4233-a8ca-ddcbb4b923aa"
      },
      "outputs": [
        {
          "data": {
            "text/plain": [
              "0"
            ]
          },
          "execution_count": 17,
          "metadata": {},
          "output_type": "execute_result"
        }
      ],
      "source": [
        "# check for duplicates\n",
        "\n",
        "df.duplicated().sum()"
      ]
    },
    {
      "cell_type": "code",
      "execution_count": 18,
      "metadata": {
        "colab": {
          "base_uri": "https://localhost:8080/",
          "height": 630
        },
        "id": "Q7bSLKIEc5-E",
        "outputId": "c763bdaa-a6ec-4b57-998c-79a7ef8afbee"
      },
      "outputs": [
        {
          "data": {
            "text/plain": [
              "<Axes: >"
            ]
          },
          "execution_count": 18,
          "metadata": {},
          "output_type": "execute_result"
        },
        {
          "data": {
            "image/png": "[encoded data removed]",
            "text/plain": [
              "<Figure size 2500x1000 with 2 Axes>"
            ]
          },
          "metadata": {},
          "output_type": "display_data"
        }
      ],
      "source": [
        "import missingno as msno\n",
        "\n",
        "msno.matrix(df)"
      ]
    },
    {
      "cell_type": "code",
      "execution_count": 19,
      "metadata": {
        "colab": {
          "base_uri": "https://localhost:8080/"
        },
        "id": "eAWElUOCi4Zk",
        "outputId": "63a8b91f-e733-4097-e7a1-e785163d372b"
      },
      "outputs": [
        {
          "data": {
            "text/plain": [
              "Index(['age', 'ratings', 'weather', 'traffic', 'multiple_deliveries',\n",
              "       'festival', 'city_type', 'pickup_time_minutes', 'order_time_of_day',\n",
              "       'distance', 'distance_type'],\n",
              "      dtype='object')"
            ]
          },
          "execution_count": 19,
          "metadata": {},
          "output_type": "execute_result"
        }
      ],
      "source": [
        "# columns that have missing values\n",
        "\n",
        "missing_cols = (\n",
        "                    df\n",
        "                    .isna()\n",
        "                    .any(axis=0)\n",
        "                    .loc[lambda x: x]\n",
        "                    .index\n",
        "                )\n",
        "\n",
        "missing_cols"
      ]
    },
    {
      "cell_type": "markdown",
      "metadata": {
        "id": "A5BZQeJgkJAz"
      },
      "source": [
        "# Drop Missing values"
      ]
    },
    {
      "cell_type": "code",
      "execution_count": 20,
      "metadata": {
        "id": "lo0g_AwrRelP"
      },
      "outputs": [],
      "source": [
        "temp_df = df.copy().dropna()"
      ]
    },
    {
      "cell_type": "code",
      "execution_count": 21,
      "metadata": {
        "colab": {
          "base_uri": "https://localhost:8080/",
          "height": 444
        },
        "id": "usqGURjWRelQ",
        "outputId": "ee2b41d2-5cbb-405b-b616-9a3caa0eddb9"
      },
      "outputs": [
        {
          "data": {
            "text/html": [
              "<div>\n",
              "<style scoped>\n",
              "    .dataframe tbody tr th:only-of-type {\n",
              "        vertical-align: middle;\n",
              "    }\n",
              "\n",
              "    .dataframe tbody tr th {\n",
              "        vertical-align: top;\n",
              "    }\n",
              "\n",
              "    .dataframe thead th {\n",
              "        text-align: right;\n",
              "    }\n",
              "</style>\n",
              "<table border=\"1\" class=\"dataframe\">\n",
              "  <thead>\n",
              "    <tr style=\"text-align: right;\">\n",
              "      <th></th>\n",
              "      <th>age</th>\n",
              "      <th>ratings</th>\n",
              "      <th>weather</th>\n",
              "      <th>traffic</th>\n",
              "      <th>vehicle_condition</th>\n",
              "      <th>type_of_order</th>\n",
              "      <th>type_of_vehicle</th>\n",
              "      <th>multiple_deliveries</th>\n",
              "      <th>festival</th>\n",
              "      <th>city_type</th>\n",
              "      <th>is_weekend</th>\n",
              "      <th>pickup_time_minutes</th>\n",
              "      <th>order_time_of_day</th>\n",
              "      <th>distance</th>\n",
              "      <th>distance_type</th>\n",
              "    </tr>\n",
              "  </thead>\n",
              "  <tbody>\n",
              "    <tr>\n",
              "      <th>0</th>\n",
              "      <td>37.0</td>\n",
              "      <td>4.9</td>\n",
              "      <td>sunny</td>\n",
              "      <td>high</td>\n",
              "      <td>2</td>\n",
              "      <td>snack</td>\n",
              "      <td>motorcycle</td>\n",
              "      <td>0.0</td>\n",
              "      <td>no</td>\n",
              "      <td>urban</td>\n",
              "      <td>1</td>\n",
              "      <td>15.0</td>\n",
              "      <td>morning</td>\n",
              "      <td>3.025149</td>\n",
              "      <td>short</td>\n",
              "    </tr>\n",
              "    <tr>\n",
              "      <th>1</th>\n",
              "      <td>34.0</td>\n",
              "      <td>4.5</td>\n",
              "      <td>stormy</td>\n",
              "      <td>jam</td>\n",
              "      <td>2</td>\n",
              "      <td>snack</td>\n",
              "      <td>scooter</td>\n",
              "      <td>1.0</td>\n",
              "      <td>no</td>\n",
              "      <td>metropolitian</td>\n",
              "      <td>0</td>\n",
              "      <td>5.0</td>\n",
              "      <td>evening</td>\n",
              "      <td>20.183530</td>\n",
              "      <td>very_long</td>\n",
              "    </tr>\n",
              "    <tr>\n",
              "      <th>2</th>\n",
              "      <td>23.0</td>\n",
              "      <td>4.4</td>\n",
              "      <td>sandstorms</td>\n",
              "      <td>low</td>\n",
              "      <td>0</td>\n",
              "      <td>drinks</td>\n",
              "      <td>motorcycle</td>\n",
              "      <td>1.0</td>\n",
              "      <td>no</td>\n",
              "      <td>urban</td>\n",
              "      <td>1</td>\n",
              "      <td>15.0</td>\n",
              "      <td>morning</td>\n",
              "      <td>1.552758</td>\n",
              "      <td>short</td>\n",
              "    </tr>\n",
              "    <tr>\n",
              "      <th>3</th>\n",
              "      <td>38.0</td>\n",
              "      <td>4.7</td>\n",
              "      <td>sunny</td>\n",
              "      <td>medium</td>\n",
              "      <td>0</td>\n",
              "      <td>buffet</td>\n",
              "      <td>motorcycle</td>\n",
              "      <td>1.0</td>\n",
              "      <td>no</td>\n",
              "      <td>metropolitian</td>\n",
              "      <td>0</td>\n",
              "      <td>10.0</td>\n",
              "      <td>evening</td>\n",
              "      <td>7.790401</td>\n",
              "      <td>medium</td>\n",
              "    </tr>\n",
              "    <tr>\n",
              "      <th>4</th>\n",
              "      <td>32.0</td>\n",
              "      <td>4.6</td>\n",
              "      <td>cloudy</td>\n",
              "      <td>high</td>\n",
              "      <td>1</td>\n",
              "      <td>snack</td>\n",
              "      <td>scooter</td>\n",
              "      <td>1.0</td>\n",
              "      <td>no</td>\n",
              "      <td>metropolitian</td>\n",
              "      <td>1</td>\n",
              "      <td>15.0</td>\n",
              "      <td>afternoon</td>\n",
              "      <td>6.210138</td>\n",
              "      <td>medium</td>\n",
              "    </tr>\n",
              "    <tr>\n",
              "      <th>...</th>\n",
              "      <td>...</td>\n",
              "      <td>...</td>\n",
              "      <td>...</td>\n",
              "      <td>...</td>\n",
              "      <td>...</td>\n",
              "      <td>...</td>\n",
              "      <td>...</td>\n",
              "      <td>...</td>\n",
              "      <td>...</td>\n",
              "      <td>...</td>\n",
              "      <td>...</td>\n",
              "      <td>...</td>\n",
              "      <td>...</td>\n",
              "      <td>...</td>\n",
              "      <td>...</td>\n",
              "    </tr>\n",
              "    <tr>\n",
              "      <th>45496</th>\n",
              "      <td>35.0</td>\n",
              "      <td>4.2</td>\n",
              "      <td>windy</td>\n",
              "      <td>jam</td>\n",
              "      <td>2</td>\n",
              "      <td>drinks</td>\n",
              "      <td>motorcycle</td>\n",
              "      <td>1.0</td>\n",
              "      <td>no</td>\n",
              "      <td>metropolitian</td>\n",
              "      <td>0</td>\n",
              "      <td>10.0</td>\n",
              "      <td>night</td>\n",
              "      <td>16.600272</td>\n",
              "      <td>very_long</td>\n",
              "    </tr>\n",
              "    <tr>\n",
              "      <th>45497</th>\n",
              "      <td>30.0</td>\n",
              "      <td>4.8</td>\n",
              "      <td>windy</td>\n",
              "      <td>high</td>\n",
              "      <td>1</td>\n",
              "      <td>meal</td>\n",
              "      <td>motorcycle</td>\n",
              "      <td>0.0</td>\n",
              "      <td>no</td>\n",
              "      <td>metropolitian</td>\n",
              "      <td>0</td>\n",
              "      <td>10.0</td>\n",
              "      <td>morning</td>\n",
              "      <td>1.489846</td>\n",
              "      <td>short</td>\n",
              "    </tr>\n",
              "    <tr>\n",
              "      <th>45499</th>\n",
              "      <td>30.0</td>\n",
              "      <td>4.9</td>\n",
              "      <td>cloudy</td>\n",
              "      <td>low</td>\n",
              "      <td>1</td>\n",
              "      <td>drinks</td>\n",
              "      <td>scooter</td>\n",
              "      <td>0.0</td>\n",
              "      <td>no</td>\n",
              "      <td>metropolitian</td>\n",
              "      <td>0</td>\n",
              "      <td>15.0</td>\n",
              "      <td>night</td>\n",
              "      <td>4.657195</td>\n",
              "      <td>short</td>\n",
              "    </tr>\n",
              "    <tr>\n",
              "      <th>45500</th>\n",
              "      <td>20.0</td>\n",
              "      <td>4.7</td>\n",
              "      <td>cloudy</td>\n",
              "      <td>high</td>\n",
              "      <td>0</td>\n",
              "      <td>snack</td>\n",
              "      <td>motorcycle</td>\n",
              "      <td>1.0</td>\n",
              "      <td>no</td>\n",
              "      <td>metropolitian</td>\n",
              "      <td>0</td>\n",
              "      <td>5.0</td>\n",
              "      <td>afternoon</td>\n",
              "      <td>6.232393</td>\n",
              "      <td>medium</td>\n",
              "    </tr>\n",
              "    <tr>\n",
              "      <th>45501</th>\n",
              "      <td>23.0</td>\n",
              "      <td>4.9</td>\n",
              "      <td>fog</td>\n",
              "      <td>medium</td>\n",
              "      <td>2</td>\n",
              "      <td>snack</td>\n",
              "      <td>scooter</td>\n",
              "      <td>1.0</td>\n",
              "      <td>no</td>\n",
              "      <td>metropolitian</td>\n",
              "      <td>0</td>\n",
              "      <td>5.0</td>\n",
              "      <td>afternoon</td>\n",
              "      <td>12.074396</td>\n",
              "      <td>long</td>\n",
              "    </tr>\n",
              "  </tbody>\n",
              "</table>\n",
              "<p>37695 rows × 15 columns</p>\n",
              "</div>"
            ],
            "text/plain": [
              "        age  ratings     weather traffic  vehicle_condition type_of_order  \\\n",
              "0      37.0      4.9       sunny    high                  2         snack   \n",
              "1      34.0      4.5      stormy     jam                  2         snack   \n",
              "2      23.0      4.4  sandstorms     low                  0        drinks   \n",
              "3      38.0      4.7       sunny  medium                  0        buffet   \n",
              "4      32.0      4.6      cloudy    high                  1         snack   \n",
              "...     ...      ...         ...     ...                ...           ...   \n",
              "45496  35.0      4.2       windy     jam                  2        drinks   \n",
              "45497  30.0      4.8       windy    high                  1          meal   \n",
              "45499  30.0      4.9      cloudy     low                  1        drinks   \n",
              "45500  20.0      4.7      cloudy    high                  0         snack   \n",
              "45501  23.0      4.9         fog  medium                  2         snack   \n",
              "\n",
              "      type_of_vehicle  multiple_deliveries festival      city_type  \\\n",
              "0          motorcycle                  0.0       no          urban   \n",
              "1             scooter                  1.0       no  metropolitian   \n",
              "2          motorcycle                  1.0       no          urban   \n",
              "3          motorcycle                  1.0       no  metropolitian   \n",
              "4             scooter                  1.0       no  metropolitian   \n",
              "...               ...                  ...      ...            ...   \n",
              "45496      motorcycle                  1.0       no  metropolitian   \n",
              "45497      motorcycle                  0.0       no  metropolitian   \n",
              "45499         scooter                  0.0       no  metropolitian   \n",
              "45500      motorcycle                  1.0       no  metropolitian   \n",
              "45501         scooter                  1.0       no  metropolitian   \n",
              "\n",
              "       is_weekend  pickup_time_minutes order_time_of_day   distance  \\\n",
              "0               1                 15.0           morning   3.025149   \n",
              "1               0                  5.0           evening  20.183530   \n",
              "2               1                 15.0           morning   1.552758   \n",
              "3               0                 10.0           evening   7.790401   \n",
              "4               1                 15.0         afternoon   6.210138   \n",
              "...           ...                  ...               ...        ...   \n",
              "45496           0                 10.0             night  16.600272   \n",
              "45497           0                 10.0           morning   1.489846   \n",
              "45499           0                 15.0             night   4.657195   \n",
              "45500           0                  5.0         afternoon   6.232393   \n",
              "45501           0                  5.0         afternoon  12.074396   \n",
              "\n",
              "      distance_type  \n",
              "0             short  \n",
              "1         very_long  \n",
              "2             short  \n",
              "3            medium  \n",
              "4            medium  \n",
              "...             ...  \n",
              "45496     very_long  \n",
              "45497         short  \n",
              "45499         short  \n",
              "45500        medium  \n",
              "45501          long  \n",
              "\n",
              "[37695 rows x 15 columns]"
            ]
          },
          "execution_count": 21,
          "metadata": {},
          "output_type": "execute_result"
        }
      ],
      "source": [
        "# split into X and y\n",
        "\n",
        "X = temp_df.drop(columns='time_taken')\n",
        "y = temp_df['time_taken']\n",
        "\n",
        "X"
      ]
    },
    {
      "cell_type": "code",
      "execution_count": 22,
      "metadata": {
        "id": "UcJAkX63RelS"
      },
      "outputs": [],
      "source": [
        "# train test split\n",
        "\n",
        "X_train, X_test, y_train, y_test = train_test_split(X,y,test_size=0.2,random_state=42)"
      ]
    },
    {
      "cell_type": "code",
      "execution_count": 23,
      "metadata": {
        "colab": {
          "base_uri": "https://localhost:8080/"
        },
        "id": "uL9NQizbRelT",
        "outputId": "c702e073-abdd-40e6-9efe-a8b27bcf8576"
      },
      "outputs": [
        {
          "name": "stdout",
          "output_type": "stream",
          "text": [
            "The size of train data is (30156, 15)\n",
            "The shape of test data is (7539, 15)\n"
          ]
        }
      ],
      "source": [
        "print(\"The size of train data is\",X_train.shape)\n",
        "print(\"The shape of test data is\",X_test.shape)"
      ]
    },
    {
      "cell_type": "code",
      "execution_count": 24,
      "metadata": {
        "colab": {
          "base_uri": "https://localhost:8080/",
          "height": 554
        },
        "id": "DJzsaTRmR7XJ",
        "outputId": "fe8d8efc-17fe-4fc4-94c9-f7e3a5f37385"
      },
      "outputs": [
        {
          "data": {
            "text/plain": [
              "age                    0\n",
              "ratings                0\n",
              "weather                0\n",
              "traffic                0\n",
              "vehicle_condition      0\n",
              "type_of_order          0\n",
              "type_of_vehicle        0\n",
              "multiple_deliveries    0\n",
              "festival               0\n",
              "city_type              0\n",
              "is_weekend             0\n",
              "pickup_time_minutes    0\n",
              "order_time_of_day      0\n",
              "distance               0\n",
              "distance_type          0\n",
              "dtype: int64"
            ]
          },
          "execution_count": 24,
          "metadata": {},
          "output_type": "execute_result"
        }
      ],
      "source": [
        "# missing values in train data\n",
        "\n",
        "X_train.isna().sum()"
      ]
    },
    {
      "cell_type": "code",
      "execution_count": 25,
      "metadata": {
        "id": "6FSRQQo_RelT"
      },
      "outputs": [],
      "source": [
        "# transform target column\n",
        "\n",
        "pt = PowerTransformer()\n",
        "\n",
        "y_train_pt = pt.fit_transform(y_train.values.reshape(-1,1))\n",
        "y_test_pt = pt.transform(y_test.values.reshape(-1,1))"
      ]
    },
    {
      "cell_type": "code",
      "execution_count": 26,
      "metadata": {
        "colab": {
          "base_uri": "https://localhost:8080/"
        },
        "id": "TWPzIQCUj_74",
        "outputId": "0746142a-dbbc-43e7-d330-9e52d6e4f62a"
      },
      "outputs": [
        {
          "data": {
            "text/plain": [
              "Index(['age', 'ratings', 'weather', 'traffic', 'multiple_deliveries',\n",
              "       'festival', 'city_type', 'pickup_time_minutes', 'order_time_of_day',\n",
              "       'distance', 'distance_type'],\n",
              "      dtype='object')"
            ]
          },
          "execution_count": 26,
          "metadata": {},
          "output_type": "execute_result"
        }
      ],
      "source": [
        "missing_cols"
      ]
    },
    {
      "cell_type": "code",
      "execution_count": 27,
      "metadata": {
        "colab": {
          "base_uri": "https://localhost:8080/"
        },
        "id": "SaXhVBXJu6mO",
        "outputId": "380eb4a1-e421-4df8-8a84-e70a0bc46048"
      },
      "outputs": [
        {
          "data": {
            "text/plain": [
              "0.0"
            ]
          },
          "execution_count": 27,
          "metadata": {},
          "output_type": "execute_result"
        }
      ],
      "source": [
        "# percentage of rows in data having missing values\n",
        "\n",
        "(\n",
        "    X_train\n",
        "    .isna()\n",
        "    .any(axis=1)\n",
        "    .mean()\n",
        "    .round(2) * 100\n",
        ")\n"
      ]
    },
    {
      "cell_type": "markdown",
      "metadata": {
        "id": "QgGmD3bUeZNu"
      },
      "source": [
        "# Pre Processing Pipeline"
      ]
    },
    {
      "cell_type": "code",
      "execution_count": 28,
      "metadata": {
        "id": "84BqkPZdMlq8"
      },
      "outputs": [],
      "source": [
        "num_cols = [\"age\",\"ratings\",\"pickup_time_minutes\",\"distance\"]\n",
        "\n",
        "nominal_cat_cols = ['weather',\n",
        "                    'type_of_order',\n",
        "                    'type_of_vehicle',\n",
        "                    \"festival\",\n",
        "                    \"city_type\",\n",
        "                    \"is_weekend\",\n",
        "                    \"order_time_of_day\"]\n",
        "\n",
        "ordinal_cat_cols = [\"traffic\",\"distance_type\"]"
      ]
    },
    {
      "cell_type": "code",
      "execution_count": 29,
      "metadata": {
        "colab": {
          "base_uri": "https://localhost:8080/"
        },
        "id": "fPXnF6NUlGRB",
        "outputId": "0167852c-20c4-4ecd-dde1-737796c60942"
      },
      "outputs": [
        {
          "data": {
            "text/plain": [
              "['weather',\n",
              " 'type_of_order',\n",
              " 'type_of_vehicle',\n",
              " 'festival',\n",
              " 'city_type',\n",
              " 'is_weekend',\n",
              " 'order_time_of_day']"
            ]
          },
          "execution_count": 29,
          "metadata": {},
          "output_type": "execute_result"
        }
      ],
      "source": [
        "nominal_cat_cols"
      ]
    },
    {
      "cell_type": "code",
      "execution_count": 30,
      "metadata": {
        "colab": {
          "base_uri": "https://localhost:8080/",
          "height": 554
        },
        "id": "oUYxye7koxEk",
        "outputId": "af70a8e8-9f73-4349-b433-875c7873ed81"
      },
      "outputs": [
        {
          "data": {
            "text/plain": [
              "age                    0\n",
              "ratings                0\n",
              "weather                0\n",
              "traffic                0\n",
              "vehicle_condition      0\n",
              "type_of_order          0\n",
              "type_of_vehicle        0\n",
              "multiple_deliveries    0\n",
              "festival               0\n",
              "city_type              0\n",
              "is_weekend             0\n",
              "pickup_time_minutes    0\n",
              "order_time_of_day      0\n",
              "distance               0\n",
              "distance_type          0\n",
              "dtype: int64"
            ]
          },
          "execution_count": 30,
          "metadata": {},
          "output_type": "execute_result"
        }
      ],
      "source": [
        "X_train.isna().sum()"
      ]
    },
    {
      "cell_type": "code",
      "execution_count": 31,
      "metadata": {
        "id": "CxotCZQykGzV"
      },
      "outputs": [],
      "source": [
        "# do basic preprocessing\n",
        "\n",
        "num_cols = [\"age\",\"ratings\",\"pickup_time_minutes\",\"distance\"]\n",
        "\n",
        "nominal_cat_cols = ['weather','type_of_order',\n",
        "                    'type_of_vehicle',\"festival\",\n",
        "                    \"city_type\",\n",
        "                    \"is_weekend\",\n",
        "                    \"order_time_of_day\"]\n",
        "\n",
        "ordinal_cat_cols = [\"traffic\",\"distance_type\"]"
      ]
    },
    {
      "cell_type": "code",
      "execution_count": 32,
      "metadata": {
        "id": "1vXEw79MkGzW"
      },
      "outputs": [],
      "source": [
        "# generate order for ordinal encoding\n",
        "\n",
        "traffic_order = [\"low\",\"medium\",\"high\",\"jam\"]\n",
        "\n",
        "distance_type_order = [\"short\",\"medium\",\"long\",\"very_long\"]"
      ]
    },
    {
      "cell_type": "code",
      "execution_count": 33,
      "metadata": {
        "colab": {
          "base_uri": "https://localhost:8080/"
        },
        "id": "Zdqxf1Kinfde",
        "outputId": "c866c15a-3055-4bc9-a9e3-ccc985b38746"
      },
      "outputs": [
        {
          "name": "stdout",
          "output_type": "stream",
          "text": [
            "traffic ['jam' 'medium' 'high' 'low']\n",
            "distance_type ['medium' 'short' 'long' 'very_long']\n"
          ]
        }
      ],
      "source": [
        "# unique categories the ordinal columns\n",
        "\n",
        "for col in ordinal_cat_cols:\n",
        "    print(col,X_train[col].unique())"
      ]
    },
    {
      "cell_type": "code",
      "execution_count": 34,
      "metadata": {
        "colab": {
          "base_uri": "https://localhost:8080/",
          "height": 136
        },
        "id": "IkSOLqvBkGzW",
        "outputId": "98c18e0d-c4e1-4f55-d9ff-88d49fca0ea9"
      },
      "outputs": [
        {
          "data": {
            "text/html": [
              "<style>#sk-container-id-1 {color: black;}#sk-container-id-1 pre{padding: 0;}#sk-container-id-1 div.sk-toggleable {background-color: white;}#sk-container-id-1 label.sk-toggleable__label {cursor: pointer;display: block;width: 100%;margin-bottom: 0;padding: 0.3em;box-sizing: border-box;text-align: center;}#sk-container-id-1 label.sk-toggleable__label-arrow:before {content: \"▸\";float: left;margin-right: 0.25em;color: #696969;}#sk-container-id-1 label.sk-toggleable__label-arrow:hover:before {color: black;}#sk-container-id-1 div.sk-estimator:hover label.sk-toggleable__label-arrow:before {color: black;}#sk-container-id-1 div.sk-toggleable__content {max-height: 0;max-width: 0;overflow: hidden;text-align: left;background-color: #f0f8ff;}#sk-container-id-1 div.sk-toggleable__content pre {margin: 0.2em;color: black;border-radius: 0.25em;background-color: #f0f8ff;}#sk-container-id-1 input.sk-toggleable__control:checked~div.sk-toggleable__content {max-height: 200px;max-width: 100%;overflow: auto;}#sk-container-id-1 input.sk-toggleable__control:checked~label.sk-toggleable__label-arrow:before {content: \"▾\";}#sk-container-id-1 div.sk-estimator input.sk-toggleable__control:checked~label.sk-toggleable__label {background-color: #d4ebff;}#sk-container-id-1 div.sk-label input.sk-toggleable__control:checked~label.sk-toggleable__label {background-color: #d4ebff;}#sk-container-id-1 input.sk-hidden--visually {border: 0;clip: rect(1px 1px 1px 1px);clip: rect(1px, 1px, 1px, 1px);height: 1px;margin: -1px;overflow: hidden;padding: 0;position: absolute;width: 1px;}#sk-container-id-1 div.sk-estimator {font-family: monospace;background-color: #f0f8ff;border: 1px dotted black;border-radius: 0.25em;box-sizing: border-box;margin-bottom: 0.5em;}#sk-container-id-1 div.sk-estimator:hover {background-color: #d4ebff;}#sk-container-id-1 div.sk-parallel-item::after {content: \"\";width: 100%;border-bottom: 1px solid gray;flex-grow: 1;}#sk-container-id-1 div.sk-label:hover label.sk-toggleable__label {background-color: #d4ebff;}#sk-container-id-1 div.sk-serial::before {content: \"\";position: absolute;border-left: 1px solid gray;box-sizing: border-box;top: 0;bottom: 0;left: 50%;z-index: 0;}#sk-container-id-1 div.sk-serial {display: flex;flex-direction: column;align-items: center;background-color: white;padding-right: 0.2em;padding-left: 0.2em;position: relative;}#sk-container-id-1 div.sk-item {position: relative;z-index: 1;}#sk-container-id-1 div.sk-parallel {display: flex;align-items: stretch;justify-content: center;background-color: white;position: relative;}#sk-container-id-1 div.sk-item::before, #sk-container-id-1 div.sk-parallel-item::before {content: \"\";position: absolute;border-left: 1px solid gray;box-sizing: border-box;top: 0;bottom: 0;left: 50%;z-index: -1;}#sk-container-id-1 div.sk-parallel-item {display: flex;flex-direction: column;z-index: 1;position: relative;background-color: white;}#sk-container-id-1 div.sk-parallel-item:first-child::after {align-self: flex-end;width: 50%;}#sk-container-id-1 div.sk-parallel-item:last-child::after {align-self: flex-start;width: 50%;}#sk-container-id-1 div.sk-parallel-item:only-child::after {width: 0;}#sk-container-id-1 div.sk-dashed-wrapped {border: 1px dashed gray;margin: 0 0.4em 0.5em 0.4em;box-sizing: border-box;padding-bottom: 0.4em;background-color: white;}#sk-container-id-1 div.sk-label label {font-family: monospace;font-weight: bold;display: inline-block;line-height: 1.2em;}#sk-container-id-1 div.sk-label-container {text-align: center;}#sk-container-id-1 div.sk-container {/* jupyter's `normalize.less` sets `[hidden] { display: none; }` but bootstrap.min.css set `[hidden] { display: none !important; }` so we also need the `!important` here to be able to override the default hidden behavior on the sphinx rendered scikit-learn.org. See: https://github.com/scikit-learn/scikit-learn/issues/21755 */display: inline-block !important;position: relative;}#sk-container-id-1 div.sk-text-repr-fallback {display: none;}</style><div id=\"sk-container-id-1\" class=\"sk-top-container\"><div class=\"sk-text-repr-fallback\"><pre>ColumnTransformer(n_jobs=-1, remainder=&#x27;passthrough&#x27;,\n",
              "                  transformers=[(&#x27;scale&#x27;, MinMaxScaler(),\n",
              "                                 [&#x27;age&#x27;, &#x27;ratings&#x27;, &#x27;pickup_time_minutes&#x27;,\n",
              "                                  &#x27;distance&#x27;]),\n",
              "                                (&#x27;nominal_encode&#x27;,\n",
              "                                 OneHotEncoder(drop=&#x27;first&#x27;,\n",
              "                                               handle_unknown=&#x27;ignore&#x27;,\n",
              "                                               sparse_output=False),\n",
              "                                 [&#x27;weather&#x27;, &#x27;type_of_order&#x27;, &#x27;type_of_vehicle&#x27;,\n",
              "                                  &#x27;festival&#x27;, &#x27;city_type&#x27;, &#x27;is_weekend&#x27;,\n",
              "                                  &#x27;order_time_of_day&#x27;]),\n",
              "                                (&#x27;ordinal_encode&#x27;,\n",
              "                                 OrdinalEncoder(categories=[[&#x27;low&#x27;, &#x27;medium&#x27;,\n",
              "                                                             &#x27;high&#x27;, &#x27;jam&#x27;],\n",
              "                                                            [&#x27;short&#x27;, &#x27;medium&#x27;,\n",
              "                                                             &#x27;long&#x27;,\n",
              "                                                             &#x27;very_long&#x27;]],\n",
              "                                                handle_unknown=&#x27;use_encoded_value&#x27;,\n",
              "                                                unknown_value=-1),\n",
              "                                 [&#x27;traffic&#x27;, &#x27;distance_type&#x27;])],\n",
              "                  verbose_feature_names_out=False)</pre><b>In a Jupyter environment, please rerun this cell to show the HTML representation or trust the notebook. <br />On GitHub, the HTML representation is unable to render, please try loading this page with nbviewer.org.</b></div><div class=\"sk-container\" hidden><div class=\"sk-item sk-dashed-wrapped\"><div class=\"sk-label-container\"><div class=\"sk-label sk-toggleable\"><input class=\"sk-toggleable__control sk-hidden--visually\" id=\"sk-estimator-id-1\" type=\"checkbox\" ><label for=\"sk-estimator-id-1\" class=\"sk-toggleable__label sk-toggleable__label-arrow\">ColumnTransformer</label><div class=\"sk-toggleable__content\"><pre>ColumnTransformer(n_jobs=-1, remainder=&#x27;passthrough&#x27;,\n",
              "                  transformers=[(&#x27;scale&#x27;, MinMaxScaler(),\n",
              "                                 [&#x27;age&#x27;, &#x27;ratings&#x27;, &#x27;pickup_time_minutes&#x27;,\n",
              "                                  &#x27;distance&#x27;]),\n",
              "                                (&#x27;nominal_encode&#x27;,\n",
              "                                 OneHotEncoder(drop=&#x27;first&#x27;,\n",
              "                                               handle_unknown=&#x27;ignore&#x27;,\n",
              "                                               sparse_output=False),\n",
              "                                 [&#x27;weather&#x27;, &#x27;type_of_order&#x27;, &#x27;type_of_vehicle&#x27;,\n",
              "                                  &#x27;festival&#x27;, &#x27;city_type&#x27;, &#x27;is_weekend&#x27;,\n",
              "                                  &#x27;order_time_of_day&#x27;]),\n",
              "                                (&#x27;ordinal_encode&#x27;,\n",
              "                                 OrdinalEncoder(categories=[[&#x27;low&#x27;, &#x27;medium&#x27;,\n",
              "                                                             &#x27;high&#x27;, &#x27;jam&#x27;],\n",
              "                                                            [&#x27;short&#x27;, &#x27;medium&#x27;,\n",
              "                                                             &#x27;long&#x27;,\n",
              "                                                             &#x27;very_long&#x27;]],\n",
              "                                                handle_unknown=&#x27;use_encoded_value&#x27;,\n",
              "                                                unknown_value=-1),\n",
              "                                 [&#x27;traffic&#x27;, &#x27;distance_type&#x27;])],\n",
              "                  verbose_feature_names_out=False)</pre></div></div></div><div class=\"sk-parallel\"><div class=\"sk-parallel-item\"><div class=\"sk-item\"><div class=\"sk-label-container\"><div class=\"sk-label sk-toggleable\"><input class=\"sk-toggleable__control sk-hidden--visually\" id=\"sk-estimator-id-2\" type=\"checkbox\" ><label for=\"sk-estimator-id-2\" class=\"sk-toggleable__label sk-toggleable__label-arrow\">scale</label><div class=\"sk-toggleable__content\"><pre>[&#x27;age&#x27;, &#x27;ratings&#x27;, &#x27;pickup_time_minutes&#x27;, &#x27;distance&#x27;]</pre></div></div></div><div class=\"sk-serial\"><div class=\"sk-item\"><div class=\"sk-estimator sk-toggleable\"><input class=\"sk-toggleable__control sk-hidden--visually\" id=\"sk-estimator-id-3\" type=\"checkbox\" ><label for=\"sk-estimator-id-3\" class=\"sk-toggleable__label sk-toggleable__label-arrow\">MinMaxScaler</label><div class=\"sk-toggleable__content\"><pre>MinMaxScaler()</pre></div></div></div></div></div></div><div class=\"sk-parallel-item\"><div class=\"sk-item\"><div class=\"sk-label-container\"><div class=\"sk-label sk-toggleable\"><input class=\"sk-toggleable__control sk-hidden--visually\" id=\"sk-estimator-id-4\" type=\"checkbox\" ><label for=\"sk-estimator-id-4\" class=\"sk-toggleable__label sk-toggleable__label-arrow\">nominal_encode</label><div class=\"sk-toggleable__content\"><pre>[&#x27;weather&#x27;, &#x27;type_of_order&#x27;, &#x27;type_of_vehicle&#x27;, &#x27;festival&#x27;, &#x27;city_type&#x27;, &#x27;is_weekend&#x27;, &#x27;order_time_of_day&#x27;]</pre></div></div></div><div class=\"sk-serial\"><div class=\"sk-item\"><div class=\"sk-estimator sk-toggleable\"><input class=\"sk-toggleable__control sk-hidden--visually\" id=\"sk-estimator-id-5\" type=\"checkbox\" ><label for=\"sk-estimator-id-5\" class=\"sk-toggleable__label sk-toggleable__label-arrow\">OneHotEncoder</label><div class=\"sk-toggleable__content\"><pre>OneHotEncoder(drop=&#x27;first&#x27;, handle_unknown=&#x27;ignore&#x27;, sparse_output=False)</pre></div></div></div></div></div></div><div class=\"sk-parallel-item\"><div class=\"sk-item\"><div class=\"sk-label-container\"><div class=\"sk-label sk-toggleable\"><input class=\"sk-toggleable__control sk-hidden--visually\" id=\"sk-estimator-id-6\" type=\"checkbox\" ><label for=\"sk-estimator-id-6\" class=\"sk-toggleable__label sk-toggleable__label-arrow\">ordinal_encode</label><div class=\"sk-toggleable__content\"><pre>[&#x27;traffic&#x27;, &#x27;distance_type&#x27;]</pre></div></div></div><div class=\"sk-serial\"><div class=\"sk-item\"><div class=\"sk-estimator sk-toggleable\"><input class=\"sk-toggleable__control sk-hidden--visually\" id=\"sk-estimator-id-7\" type=\"checkbox\" ><label for=\"sk-estimator-id-7\" class=\"sk-toggleable__label sk-toggleable__label-arrow\">OrdinalEncoder</label><div class=\"sk-toggleable__content\"><pre>OrdinalEncoder(categories=[[&#x27;low&#x27;, &#x27;medium&#x27;, &#x27;high&#x27;, &#x27;jam&#x27;],\n",
              "                           [&#x27;short&#x27;, &#x27;medium&#x27;, &#x27;long&#x27;, &#x27;very_long&#x27;]],\n",
              "               handle_unknown=&#x27;use_encoded_value&#x27;, unknown_value=-1)</pre></div></div></div></div></div></div><div class=\"sk-parallel-item\"><div class=\"sk-item\"><div class=\"sk-label-container\"><div class=\"sk-label sk-toggleable\"><input class=\"sk-toggleable__control sk-hidden--visually\" id=\"sk-estimator-id-8\" type=\"checkbox\" ><label for=\"sk-estimator-id-8\" class=\"sk-toggleable__label sk-toggleable__label-arrow\">remainder</label><div class=\"sk-toggleable__content\"><pre></pre></div></div></div><div class=\"sk-serial\"><div class=\"sk-item\"><div class=\"sk-estimator sk-toggleable\"><input class=\"sk-toggleable__control sk-hidden--visually\" id=\"sk-estimator-id-9\" type=\"checkbox\" ><label for=\"sk-estimator-id-9\" class=\"sk-toggleable__label sk-toggleable__label-arrow\">passthrough</label><div class=\"sk-toggleable__content\"><pre>passthrough</pre></div></div></div></div></div></div></div></div></div></div>"
            ],
            "text/plain": [
              "ColumnTransformer(n_jobs=-1, remainder='passthrough',\n",
              "                  transformers=[('scale', MinMaxScaler(),\n",
              "                                 ['age', 'ratings', 'pickup_time_minutes',\n",
              "                                  'distance']),\n",
              "                                ('nominal_encode',\n",
              "                                 OneHotEncoder(drop='first',\n",
              "                                               handle_unknown='ignore',\n",
              "                                               sparse_output=False),\n",
              "                                 ['weather', 'type_of_order', 'type_of_vehicle',\n",
              "                                  'festival', 'city_type', 'is_weekend',\n",
              "                                  'order_time_of_day']),\n",
              "                                ('ordinal_encode',\n",
              "                                 OrdinalEncoder(categories=[['low', 'medium',\n",
              "                                                             'high', 'jam'],\n",
              "                                                            ['short', 'medium',\n",
              "                                                             'long',\n",
              "                                                             'very_long']],\n",
              "                                                handle_unknown='use_encoded_value',\n",
              "                                                unknown_value=-1),\n",
              "                                 ['traffic', 'distance_type'])],\n",
              "                  verbose_feature_names_out=False)"
            ]
          },
          "execution_count": 34,
          "metadata": {},
          "output_type": "execute_result"
        }
      ],
      "source": [
        "# Define the preprocessor\n",
        "preprocessor = ColumnTransformer(\n",
        "    transformers=[\n",
        "        (\"scale\", MinMaxScaler(), num_cols),  # Scaling numerical columns\n",
        "        (\"nominal_encode\", OneHotEncoder(drop=\"first\", handle_unknown=\"ignore\", sparse_output=False), nominal_cat_cols),  # One-hot encoding for nominal categorical columns\n",
        "        (\"ordinal_encode\", OrdinalEncoder(categories=[traffic_order, distance_type_order], \n",
        "                                          handle_unknown=\"use_encoded_value\", \n",
        "                                          unknown_value=-1), ordinal_cat_cols)  # Ordinal encoding for ordinal categorical columns\n",
        "    ],\n",
        "    remainder=\"passthrough\",  # Pass through columns not specified in transformers\n",
        "    n_jobs=-1,  # Use all processors for parallel computation\n",
        "    verbose_feature_names_out=False  # Use concise feature names\n",
        ")\n",
        "\n",
        "# Display the preprocessor object\n",
        "preprocessor"
      ]
    },
    {
      "cell_type": "code",
      "execution_count": 35,
      "metadata": {
        "colab": {
          "base_uri": "https://localhost:8080/",
          "height": 181
        },
        "id": "n7uZVB6seYc_",
        "outputId": "b5809c9d-94fb-46ca-97ca-9d025072b044"
      },
      "outputs": [
        {
          "data": {
            "text/html": [
              "<style>#sk-container-id-2 {color: black;}#sk-container-id-2 pre{padding: 0;}#sk-container-id-2 div.sk-toggleable {background-color: white;}#sk-container-id-2 label.sk-toggleable__label {cursor: pointer;display: block;width: 100%;margin-bottom: 0;padding: 0.3em;box-sizing: border-box;text-align: center;}#sk-container-id-2 label.sk-toggleable__label-arrow:before {content: \"▸\";float: left;margin-right: 0.25em;color: #696969;}#sk-container-id-2 label.sk-toggleable__label-arrow:hover:before {color: black;}#sk-container-id-2 div.sk-estimator:hover label.sk-toggleable__label-arrow:before {color: black;}#sk-container-id-2 div.sk-toggleable__content {max-height: 0;max-width: 0;overflow: hidden;text-align: left;background-color: #f0f8ff;}#sk-container-id-2 div.sk-toggleable__content pre {margin: 0.2em;color: black;border-radius: 0.25em;background-color: #f0f8ff;}#sk-container-id-2 input.sk-toggleable__control:checked~div.sk-toggleable__content {max-height: 200px;max-width: 100%;overflow: auto;}#sk-container-id-2 input.sk-toggleable__control:checked~label.sk-toggleable__label-arrow:before {content: \"▾\";}#sk-container-id-2 div.sk-estimator input.sk-toggleable__control:checked~label.sk-toggleable__label {background-color: #d4ebff;}#sk-container-id-2 div.sk-label input.sk-toggleable__control:checked~label.sk-toggleable__label {background-color: #d4ebff;}#sk-container-id-2 input.sk-hidden--visually {border: 0;clip: rect(1px 1px 1px 1px);clip: rect(1px, 1px, 1px, 1px);height: 1px;margin: -1px;overflow: hidden;padding: 0;position: absolute;width: 1px;}#sk-container-id-2 div.sk-estimator {font-family: monospace;background-color: #f0f8ff;border: 1px dotted black;border-radius: 0.25em;box-sizing: border-box;margin-bottom: 0.5em;}#sk-container-id-2 div.sk-estimator:hover {background-color: #d4ebff;}#sk-container-id-2 div.sk-parallel-item::after {content: \"\";width: 100%;border-bottom: 1px solid gray;flex-grow: 1;}#sk-container-id-2 div.sk-label:hover label.sk-toggleable__label {background-color: #d4ebff;}#sk-container-id-2 div.sk-serial::before {content: \"\";position: absolute;border-left: 1px solid gray;box-sizing: border-box;top: 0;bottom: 0;left: 50%;z-index: 0;}#sk-container-id-2 div.sk-serial {display: flex;flex-direction: column;align-items: center;background-color: white;padding-right: 0.2em;padding-left: 0.2em;position: relative;}#sk-container-id-2 div.sk-item {position: relative;z-index: 1;}#sk-container-id-2 div.sk-parallel {display: flex;align-items: stretch;justify-content: center;background-color: white;position: relative;}#sk-container-id-2 div.sk-item::before, #sk-container-id-2 div.sk-parallel-item::before {content: \"\";position: absolute;border-left: 1px solid gray;box-sizing: border-box;top: 0;bottom: 0;left: 50%;z-index: -1;}#sk-container-id-2 div.sk-parallel-item {display: flex;flex-direction: column;z-index: 1;position: relative;background-color: white;}#sk-container-id-2 div.sk-parallel-item:first-child::after {align-self: flex-end;width: 50%;}#sk-container-id-2 div.sk-parallel-item:last-child::after {align-self: flex-start;width: 50%;}#sk-container-id-2 div.sk-parallel-item:only-child::after {width: 0;}#sk-container-id-2 div.sk-dashed-wrapped {border: 1px dashed gray;margin: 0 0.4em 0.5em 0.4em;box-sizing: border-box;padding-bottom: 0.4em;background-color: white;}#sk-container-id-2 div.sk-label label {font-family: monospace;font-weight: bold;display: inline-block;line-height: 1.2em;}#sk-container-id-2 div.sk-label-container {text-align: center;}#sk-container-id-2 div.sk-container {/* jupyter's `normalize.less` sets `[hidden] { display: none; }` but bootstrap.min.css set `[hidden] { display: none !important; }` so we also need the `!important` here to be able to override the default hidden behavior on the sphinx rendered scikit-learn.org. See: https://github.com/scikit-learn/scikit-learn/issues/21755 */display: inline-block !important;position: relative;}#sk-container-id-2 div.sk-text-repr-fallback {display: none;}</style><div id=\"sk-container-id-2\" class=\"sk-top-container\"><div class=\"sk-text-repr-fallback\"><pre>Pipeline(steps=[(&#x27;preprocess&#x27;,\n",
              "                 ColumnTransformer(n_jobs=-1, remainder=&#x27;passthrough&#x27;,\n",
              "                                   transformers=[(&#x27;scale&#x27;, MinMaxScaler(),\n",
              "                                                  [&#x27;age&#x27;, &#x27;ratings&#x27;,\n",
              "                                                   &#x27;pickup_time_minutes&#x27;,\n",
              "                                                   &#x27;distance&#x27;]),\n",
              "                                                 (&#x27;nominal_encode&#x27;,\n",
              "                                                  OneHotEncoder(drop=&#x27;first&#x27;,\n",
              "                                                                handle_unknown=&#x27;ignore&#x27;,\n",
              "                                                                sparse_output=False),\n",
              "                                                  [&#x27;weather&#x27;, &#x27;type_of_order&#x27;,\n",
              "                                                   &#x27;type_of_vehicle&#x27;,\n",
              "                                                   &#x27;festival&#x27;, &#x27;city_type&#x27;,\n",
              "                                                   &#x27;is_weekend&#x27;,\n",
              "                                                   &#x27;order_time_of_day&#x27;]),\n",
              "                                                 (&#x27;ordinal_encode&#x27;,\n",
              "                                                  OrdinalEncoder(categories=[[&#x27;low&#x27;,\n",
              "                                                                              &#x27;medium&#x27;,\n",
              "                                                                              &#x27;high&#x27;,\n",
              "                                                                              &#x27;jam&#x27;],\n",
              "                                                                             [&#x27;short&#x27;,\n",
              "                                                                              &#x27;medium&#x27;,\n",
              "                                                                              &#x27;long&#x27;,\n",
              "                                                                              &#x27;very_long&#x27;]],\n",
              "                                                                 handle_unknown=&#x27;use_encoded_value&#x27;,\n",
              "                                                                 unknown_value=-1),\n",
              "                                                  [&#x27;traffic&#x27;,\n",
              "                                                   &#x27;distance_type&#x27;])],\n",
              "                                   verbose_feature_names_out=False))])</pre><b>In a Jupyter environment, please rerun this cell to show the HTML representation or trust the notebook. <br />On GitHub, the HTML representation is unable to render, please try loading this page with nbviewer.org.</b></div><div class=\"sk-container\" hidden><div class=\"sk-item sk-dashed-wrapped\"><div class=\"sk-label-container\"><div class=\"sk-label sk-toggleable\"><input class=\"sk-toggleable__control sk-hidden--visually\" id=\"sk-estimator-id-10\" type=\"checkbox\" ><label for=\"sk-estimator-id-10\" class=\"sk-toggleable__label sk-toggleable__label-arrow\">Pipeline</label><div class=\"sk-toggleable__content\"><pre>Pipeline(steps=[(&#x27;preprocess&#x27;,\n",
              "                 ColumnTransformer(n_jobs=-1, remainder=&#x27;passthrough&#x27;,\n",
              "                                   transformers=[(&#x27;scale&#x27;, MinMaxScaler(),\n",
              "                                                  [&#x27;age&#x27;, &#x27;ratings&#x27;,\n",
              "                                                   &#x27;pickup_time_minutes&#x27;,\n",
              "                                                   &#x27;distance&#x27;]),\n",
              "                                                 (&#x27;nominal_encode&#x27;,\n",
              "                                                  OneHotEncoder(drop=&#x27;first&#x27;,\n",
              "                                                                handle_unknown=&#x27;ignore&#x27;,\n",
              "                                                                sparse_output=False),\n",
              "                                                  [&#x27;weather&#x27;, &#x27;type_of_order&#x27;,\n",
              "                                                   &#x27;type_of_vehicle&#x27;,\n",
              "                                                   &#x27;festival&#x27;, &#x27;city_type&#x27;,\n",
              "                                                   &#x27;is_weekend&#x27;,\n",
              "                                                   &#x27;order_time_of_day&#x27;]),\n",
              "                                                 (&#x27;ordinal_encode&#x27;,\n",
              "                                                  OrdinalEncoder(categories=[[&#x27;low&#x27;,\n",
              "                                                                              &#x27;medium&#x27;,\n",
              "                                                                              &#x27;high&#x27;,\n",
              "                                                                              &#x27;jam&#x27;],\n",
              "                                                                             [&#x27;short&#x27;,\n",
              "                                                                              &#x27;medium&#x27;,\n",
              "                                                                              &#x27;long&#x27;,\n",
              "                                                                              &#x27;very_long&#x27;]],\n",
              "                                                                 handle_unknown=&#x27;use_encoded_value&#x27;,\n",
              "                                                                 unknown_value=-1),\n",
              "                                                  [&#x27;traffic&#x27;,\n",
              "                                                   &#x27;distance_type&#x27;])],\n",
              "                                   verbose_feature_names_out=False))])</pre></div></div></div><div class=\"sk-serial\"><div class=\"sk-item sk-dashed-wrapped\"><div class=\"sk-label-container\"><div class=\"sk-label sk-toggleable\"><input class=\"sk-toggleable__control sk-hidden--visually\" id=\"sk-estimator-id-11\" type=\"checkbox\" ><label for=\"sk-estimator-id-11\" class=\"sk-toggleable__label sk-toggleable__label-arrow\">preprocess: ColumnTransformer</label><div class=\"sk-toggleable__content\"><pre>ColumnTransformer(n_jobs=-1, remainder=&#x27;passthrough&#x27;,\n",
              "                  transformers=[(&#x27;scale&#x27;, MinMaxScaler(),\n",
              "                                 [&#x27;age&#x27;, &#x27;ratings&#x27;, &#x27;pickup_time_minutes&#x27;,\n",
              "                                  &#x27;distance&#x27;]),\n",
              "                                (&#x27;nominal_encode&#x27;,\n",
              "                                 OneHotEncoder(drop=&#x27;first&#x27;,\n",
              "                                               handle_unknown=&#x27;ignore&#x27;,\n",
              "                                               sparse_output=False),\n",
              "                                 [&#x27;weather&#x27;, &#x27;type_of_order&#x27;, &#x27;type_of_vehicle&#x27;,\n",
              "                                  &#x27;festival&#x27;, &#x27;city_type&#x27;, &#x27;is_weekend&#x27;,\n",
              "                                  &#x27;order_time_of_day&#x27;]),\n",
              "                                (&#x27;ordinal_encode&#x27;,\n",
              "                                 OrdinalEncoder(categories=[[&#x27;low&#x27;, &#x27;medium&#x27;,\n",
              "                                                             &#x27;high&#x27;, &#x27;jam&#x27;],\n",
              "                                                            [&#x27;short&#x27;, &#x27;medium&#x27;,\n",
              "                                                             &#x27;long&#x27;,\n",
              "                                                             &#x27;very_long&#x27;]],\n",
              "                                                handle_unknown=&#x27;use_encoded_value&#x27;,\n",
              "                                                unknown_value=-1),\n",
              "                                 [&#x27;traffic&#x27;, &#x27;distance_type&#x27;])],\n",
              "                  verbose_feature_names_out=False)</pre></div></div></div><div class=\"sk-parallel\"><div class=\"sk-parallel-item\"><div class=\"sk-item\"><div class=\"sk-label-container\"><div class=\"sk-label sk-toggleable\"><input class=\"sk-toggleable__control sk-hidden--visually\" id=\"sk-estimator-id-12\" type=\"checkbox\" ><label for=\"sk-estimator-id-12\" class=\"sk-toggleable__label sk-toggleable__label-arrow\">scale</label><div class=\"sk-toggleable__content\"><pre>[&#x27;age&#x27;, &#x27;ratings&#x27;, &#x27;pickup_time_minutes&#x27;, &#x27;distance&#x27;]</pre></div></div></div><div class=\"sk-serial\"><div class=\"sk-item\"><div class=\"sk-estimator sk-toggleable\"><input class=\"sk-toggleable__control sk-hidden--visually\" id=\"sk-estimator-id-13\" type=\"checkbox\" ><label for=\"sk-estimator-id-13\" class=\"sk-toggleable__label sk-toggleable__label-arrow\">MinMaxScaler</label><div class=\"sk-toggleable__content\"><pre>MinMaxScaler()</pre></div></div></div></div></div></div><div class=\"sk-parallel-item\"><div class=\"sk-item\"><div class=\"sk-label-container\"><div class=\"sk-label sk-toggleable\"><input class=\"sk-toggleable__control sk-hidden--visually\" id=\"sk-estimator-id-14\" type=\"checkbox\" ><label for=\"sk-estimator-id-14\" class=\"sk-toggleable__label sk-toggleable__label-arrow\">nominal_encode</label><div class=\"sk-toggleable__content\"><pre>[&#x27;weather&#x27;, &#x27;type_of_order&#x27;, &#x27;type_of_vehicle&#x27;, &#x27;festival&#x27;, &#x27;city_type&#x27;, &#x27;is_weekend&#x27;, &#x27;order_time_of_day&#x27;]</pre></div></div></div><div class=\"sk-serial\"><div class=\"sk-item\"><div class=\"sk-estimator sk-toggleable\"><input class=\"sk-toggleable__control sk-hidden--visually\" id=\"sk-estimator-id-15\" type=\"checkbox\" ><label for=\"sk-estimator-id-15\" class=\"sk-toggleable__label sk-toggleable__label-arrow\">OneHotEncoder</label><div class=\"sk-toggleable__content\"><pre>OneHotEncoder(drop=&#x27;first&#x27;, handle_unknown=&#x27;ignore&#x27;, sparse_output=False)</pre></div></div></div></div></div></div><div class=\"sk-parallel-item\"><div class=\"sk-item\"><div class=\"sk-label-container\"><div class=\"sk-label sk-toggleable\"><input class=\"sk-toggleable__control sk-hidden--visually\" id=\"sk-estimator-id-16\" type=\"checkbox\" ><label for=\"sk-estimator-id-16\" class=\"sk-toggleable__label sk-toggleable__label-arrow\">ordinal_encode</label><div class=\"sk-toggleable__content\"><pre>[&#x27;traffic&#x27;, &#x27;distance_type&#x27;]</pre></div></div></div><div class=\"sk-serial\"><div class=\"sk-item\"><div class=\"sk-estimator sk-toggleable\"><input class=\"sk-toggleable__control sk-hidden--visually\" id=\"sk-estimator-id-17\" type=\"checkbox\" ><label for=\"sk-estimator-id-17\" class=\"sk-toggleable__label sk-toggleable__label-arrow\">OrdinalEncoder</label><div class=\"sk-toggleable__content\"><pre>OrdinalEncoder(categories=[[&#x27;low&#x27;, &#x27;medium&#x27;, &#x27;high&#x27;, &#x27;jam&#x27;],\n",
              "                           [&#x27;short&#x27;, &#x27;medium&#x27;, &#x27;long&#x27;, &#x27;very_long&#x27;]],\n",
              "               handle_unknown=&#x27;use_encoded_value&#x27;, unknown_value=-1)</pre></div></div></div></div></div></div><div class=\"sk-parallel-item\"><div class=\"sk-item\"><div class=\"sk-label-container\"><div class=\"sk-label sk-toggleable\"><input class=\"sk-toggleable__control sk-hidden--visually\" id=\"sk-estimator-id-18\" type=\"checkbox\" ><label for=\"sk-estimator-id-18\" class=\"sk-toggleable__label sk-toggleable__label-arrow\">remainder</label><div class=\"sk-toggleable__content\"><pre></pre></div></div></div><div class=\"sk-serial\"><div class=\"sk-item\"><div class=\"sk-estimator sk-toggleable\"><input class=\"sk-toggleable__control sk-hidden--visually\" id=\"sk-estimator-id-19\" type=\"checkbox\" ><label for=\"sk-estimator-id-19\" class=\"sk-toggleable__label sk-toggleable__label-arrow\">passthrough</label><div class=\"sk-toggleable__content\"><pre>passthrough</pre></div></div></div></div></div></div></div></div></div></div></div></div>"
            ],
            "text/plain": [
              "Pipeline(steps=[('preprocess',\n",
              "                 ColumnTransformer(n_jobs=-1, remainder='passthrough',\n",
              "                                   transformers=[('scale', MinMaxScaler(),\n",
              "                                                  ['age', 'ratings',\n",
              "                                                   'pickup_time_minutes',\n",
              "                                                   'distance']),\n",
              "                                                 ('nominal_encode',\n",
              "                                                  OneHotEncoder(drop='first',\n",
              "                                                                handle_unknown='ignore',\n",
              "                                                                sparse_output=False),\n",
              "                                                  ['weather', 'type_of_order',\n",
              "                                                   'type_of_vehicle',\n",
              "                                                   'festival', 'city_type',\n",
              "                                                   'is_weekend',\n",
              "                                                   'order_time_of_day']),\n",
              "                                                 ('ordinal_encode',\n",
              "                                                  OrdinalEncoder(categories=[['low',\n",
              "                                                                              'medium',\n",
              "                                                                              'high',\n",
              "                                                                              'jam'],\n",
              "                                                                             ['short',\n",
              "                                                                              'medium',\n",
              "                                                                              'long',\n",
              "                                                                              'very_long']],\n",
              "                                                                 handle_unknown='use_encoded_value',\n",
              "                                                                 unknown_value=-1),\n",
              "                                                  ['traffic',\n",
              "                                                   'distance_type'])],\n",
              "                                   verbose_feature_names_out=False))])"
            ]
          },
          "execution_count": 35,
          "metadata": {},
          "output_type": "execute_result"
        }
      ],
      "source": [
        "# build the pipeline\n",
        "\n",
        "processing_pipeline = Pipeline(steps=[\n",
        "                                # (\"simple_imputer\",simple_imputer),\n",
        "                                (\"preprocess\",preprocessor)\n",
        "                                # (\"knn_imputer\",knn_imputer)\n",
        "                            ])\n",
        "\n",
        "processing_pipeline"
      ]
    },
    {
      "cell_type": "code",
      "execution_count": 36,
      "metadata": {
        "id": "tVRPCAe3NXfL"
      },
      "outputs": [],
      "source": [
        "# do data preprocessing\n",
        "\n",
        "X_train_trans = processing_pipeline.fit_transform(X_train)\n",
        "\n",
        "X_test_trans = processing_pipeline.transform(X_test)"
      ]
    },
    {
      "cell_type": "code",
      "execution_count": 37,
      "metadata": {
        "colab": {
          "base_uri": "https://localhost:8080/",
          "height": 461
        },
        "id": "l2-_1Nsa6aVO",
        "outputId": "74c536a8-4686-4d2d-c48e-62bfb217295d"
      },
      "outputs": [
        {
          "data": {
            "text/html": [
              "<div>\n",
              "<style scoped>\n",
              "    .dataframe tbody tr th:only-of-type {\n",
              "        vertical-align: middle;\n",
              "    }\n",
              "\n",
              "    .dataframe tbody tr th {\n",
              "        vertical-align: top;\n",
              "    }\n",
              "\n",
              "    .dataframe thead th {\n",
              "        text-align: right;\n",
              "    }\n",
              "</style>\n",
              "<table border=\"1\" class=\"dataframe\">\n",
              "  <thead>\n",
              "    <tr style=\"text-align: right;\">\n",
              "      <th></th>\n",
              "      <th>age</th>\n",
              "      <th>ratings</th>\n",
              "      <th>pickup_time_minutes</th>\n",
              "      <th>distance</th>\n",
              "      <th>weather_fog</th>\n",
              "      <th>weather_sandstorms</th>\n",
              "      <th>weather_stormy</th>\n",
              "      <th>weather_sunny</th>\n",
              "      <th>weather_windy</th>\n",
              "      <th>type_of_order_drinks</th>\n",
              "      <th>...</th>\n",
              "      <th>city_type_semi-urban</th>\n",
              "      <th>city_type_urban</th>\n",
              "      <th>is_weekend_1</th>\n",
              "      <th>order_time_of_day_evening</th>\n",
              "      <th>order_time_of_day_morning</th>\n",
              "      <th>order_time_of_day_night</th>\n",
              "      <th>traffic</th>\n",
              "      <th>distance_type</th>\n",
              "      <th>vehicle_condition</th>\n",
              "      <th>multiple_deliveries</th>\n",
              "    </tr>\n",
              "  </thead>\n",
              "  <tbody>\n",
              "    <tr>\n",
              "      <th>8708</th>\n",
              "      <td>0.473684</td>\n",
              "      <td>0.56</td>\n",
              "      <td>1.0</td>\n",
              "      <td>0.404165</td>\n",
              "      <td>0.0</td>\n",
              "      <td>0.0</td>\n",
              "      <td>0.0</td>\n",
              "      <td>1.0</td>\n",
              "      <td>0.0</td>\n",
              "      <td>1.0</td>\n",
              "      <td>...</td>\n",
              "      <td>1.0</td>\n",
              "      <td>0.0</td>\n",
              "      <td>0.0</td>\n",
              "      <td>0.0</td>\n",
              "      <td>0.0</td>\n",
              "      <td>1.0</td>\n",
              "      <td>3.0</td>\n",
              "      <td>1.0</td>\n",
              "      <td>0</td>\n",
              "      <td>2.0</td>\n",
              "    </tr>\n",
              "    <tr>\n",
              "      <th>25198</th>\n",
              "      <td>1.000000</td>\n",
              "      <td>0.76</td>\n",
              "      <td>0.0</td>\n",
              "      <td>0.154044</td>\n",
              "      <td>0.0</td>\n",
              "      <td>1.0</td>\n",
              "      <td>0.0</td>\n",
              "      <td>0.0</td>\n",
              "      <td>0.0</td>\n",
              "      <td>0.0</td>\n",
              "      <td>...</td>\n",
              "      <td>0.0</td>\n",
              "      <td>0.0</td>\n",
              "      <td>1.0</td>\n",
              "      <td>0.0</td>\n",
              "      <td>0.0</td>\n",
              "      <td>0.0</td>\n",
              "      <td>1.0</td>\n",
              "      <td>0.0</td>\n",
              "      <td>0</td>\n",
              "      <td>1.0</td>\n",
              "    </tr>\n",
              "    <tr>\n",
              "      <th>34049</th>\n",
              "      <td>0.473684</td>\n",
              "      <td>0.80</td>\n",
              "      <td>0.5</td>\n",
              "      <td>0.002461</td>\n",
              "      <td>0.0</td>\n",
              "      <td>0.0</td>\n",
              "      <td>0.0</td>\n",
              "      <td>1.0</td>\n",
              "      <td>0.0</td>\n",
              "      <td>0.0</td>\n",
              "      <td>...</td>\n",
              "      <td>0.0</td>\n",
              "      <td>1.0</td>\n",
              "      <td>0.0</td>\n",
              "      <td>0.0</td>\n",
              "      <td>1.0</td>\n",
              "      <td>0.0</td>\n",
              "      <td>2.0</td>\n",
              "      <td>0.0</td>\n",
              "      <td>1</td>\n",
              "      <td>0.0</td>\n",
              "    </tr>\n",
              "    <tr>\n",
              "      <th>25987</th>\n",
              "      <td>1.000000</td>\n",
              "      <td>0.92</td>\n",
              "      <td>1.0</td>\n",
              "      <td>0.460411</td>\n",
              "      <td>0.0</td>\n",
              "      <td>1.0</td>\n",
              "      <td>0.0</td>\n",
              "      <td>0.0</td>\n",
              "      <td>0.0</td>\n",
              "      <td>0.0</td>\n",
              "      <td>...</td>\n",
              "      <td>0.0</td>\n",
              "      <td>0.0</td>\n",
              "      <td>1.0</td>\n",
              "      <td>0.0</td>\n",
              "      <td>0.0</td>\n",
              "      <td>1.0</td>\n",
              "      <td>0.0</td>\n",
              "      <td>2.0</td>\n",
              "      <td>0</td>\n",
              "      <td>1.0</td>\n",
              "    </tr>\n",
              "    <tr>\n",
              "      <th>37121</th>\n",
              "      <td>0.526316</td>\n",
              "      <td>0.76</td>\n",
              "      <td>0.5</td>\n",
              "      <td>0.243676</td>\n",
              "      <td>0.0</td>\n",
              "      <td>0.0</td>\n",
              "      <td>0.0</td>\n",
              "      <td>0.0</td>\n",
              "      <td>1.0</td>\n",
              "      <td>0.0</td>\n",
              "      <td>...</td>\n",
              "      <td>0.0</td>\n",
              "      <td>0.0</td>\n",
              "      <td>1.0</td>\n",
              "      <td>0.0</td>\n",
              "      <td>0.0</td>\n",
              "      <td>0.0</td>\n",
              "      <td>1.0</td>\n",
              "      <td>1.0</td>\n",
              "      <td>1</td>\n",
              "      <td>1.0</td>\n",
              "    </tr>\n",
              "    <tr>\n",
              "      <th>...</th>\n",
              "      <td>...</td>\n",
              "      <td>...</td>\n",
              "      <td>...</td>\n",
              "      <td>...</td>\n",
              "      <td>...</td>\n",
              "      <td>...</td>\n",
              "      <td>...</td>\n",
              "      <td>...</td>\n",
              "      <td>...</td>\n",
              "      <td>...</td>\n",
              "      <td>...</td>\n",
              "      <td>...</td>\n",
              "      <td>...</td>\n",
              "      <td>...</td>\n",
              "      <td>...</td>\n",
              "      <td>...</td>\n",
              "      <td>...</td>\n",
              "      <td>...</td>\n",
              "      <td>...</td>\n",
              "      <td>...</td>\n",
              "      <td>...</td>\n",
              "    </tr>\n",
              "    <tr>\n",
              "      <th>20239</th>\n",
              "      <td>0.578947</td>\n",
              "      <td>0.92</td>\n",
              "      <td>0.5</td>\n",
              "      <td>0.451895</td>\n",
              "      <td>0.0</td>\n",
              "      <td>0.0</td>\n",
              "      <td>0.0</td>\n",
              "      <td>1.0</td>\n",
              "      <td>0.0</td>\n",
              "      <td>0.0</td>\n",
              "      <td>...</td>\n",
              "      <td>0.0</td>\n",
              "      <td>0.0</td>\n",
              "      <td>1.0</td>\n",
              "      <td>1.0</td>\n",
              "      <td>0.0</td>\n",
              "      <td>0.0</td>\n",
              "      <td>3.0</td>\n",
              "      <td>2.0</td>\n",
              "      <td>0</td>\n",
              "      <td>0.0</td>\n",
              "    </tr>\n",
              "    <tr>\n",
              "      <th>7590</th>\n",
              "      <td>0.052632</td>\n",
              "      <td>1.00</td>\n",
              "      <td>1.0</td>\n",
              "      <td>0.612270</td>\n",
              "      <td>0.0</td>\n",
              "      <td>1.0</td>\n",
              "      <td>0.0</td>\n",
              "      <td>0.0</td>\n",
              "      <td>0.0</td>\n",
              "      <td>0.0</td>\n",
              "      <td>...</td>\n",
              "      <td>0.0</td>\n",
              "      <td>0.0</td>\n",
              "      <td>1.0</td>\n",
              "      <td>1.0</td>\n",
              "      <td>0.0</td>\n",
              "      <td>0.0</td>\n",
              "      <td>1.0</td>\n",
              "      <td>2.0</td>\n",
              "      <td>1</td>\n",
              "      <td>1.0</td>\n",
              "    </tr>\n",
              "    <tr>\n",
              "      <th>13610</th>\n",
              "      <td>0.526316</td>\n",
              "      <td>0.92</td>\n",
              "      <td>0.0</td>\n",
              "      <td>0.322877</td>\n",
              "      <td>0.0</td>\n",
              "      <td>0.0</td>\n",
              "      <td>0.0</td>\n",
              "      <td>0.0</td>\n",
              "      <td>0.0</td>\n",
              "      <td>0.0</td>\n",
              "      <td>...</td>\n",
              "      <td>0.0</td>\n",
              "      <td>0.0</td>\n",
              "      <td>1.0</td>\n",
              "      <td>0.0</td>\n",
              "      <td>0.0</td>\n",
              "      <td>0.0</td>\n",
              "      <td>1.0</td>\n",
              "      <td>1.0</td>\n",
              "      <td>1</td>\n",
              "      <td>0.0</td>\n",
              "    </tr>\n",
              "    <tr>\n",
              "      <th>1045</th>\n",
              "      <td>0.947368</td>\n",
              "      <td>0.96</td>\n",
              "      <td>0.5</td>\n",
              "      <td>0.004486</td>\n",
              "      <td>0.0</td>\n",
              "      <td>0.0</td>\n",
              "      <td>0.0</td>\n",
              "      <td>1.0</td>\n",
              "      <td>0.0</td>\n",
              "      <td>0.0</td>\n",
              "      <td>...</td>\n",
              "      <td>0.0</td>\n",
              "      <td>1.0</td>\n",
              "      <td>1.0</td>\n",
              "      <td>0.0</td>\n",
              "      <td>1.0</td>\n",
              "      <td>0.0</td>\n",
              "      <td>0.0</td>\n",
              "      <td>0.0</td>\n",
              "      <td>0</td>\n",
              "      <td>1.0</td>\n",
              "    </tr>\n",
              "    <tr>\n",
              "      <th>18968</th>\n",
              "      <td>0.684211</td>\n",
              "      <td>0.96</td>\n",
              "      <td>0.0</td>\n",
              "      <td>0.481978</td>\n",
              "      <td>0.0</td>\n",
              "      <td>0.0</td>\n",
              "      <td>0.0</td>\n",
              "      <td>0.0</td>\n",
              "      <td>1.0</td>\n",
              "      <td>0.0</td>\n",
              "      <td>...</td>\n",
              "      <td>0.0</td>\n",
              "      <td>1.0</td>\n",
              "      <td>0.0</td>\n",
              "      <td>0.0</td>\n",
              "      <td>0.0</td>\n",
              "      <td>1.0</td>\n",
              "      <td>0.0</td>\n",
              "      <td>2.0</td>\n",
              "      <td>2</td>\n",
              "      <td>1.0</td>\n",
              "    </tr>\n",
              "  </tbody>\n",
              "</table>\n",
              "<p>30156 rows × 25 columns</p>\n",
              "</div>"
            ],
            "text/plain": [
              "            age  ratings  pickup_time_minutes  distance  weather_fog  \\\n",
              "8708   0.473684     0.56                  1.0  0.404165          0.0   \n",
              "25198  1.000000     0.76                  0.0  0.154044          0.0   \n",
              "34049  0.473684     0.80                  0.5  0.002461          0.0   \n",
              "25987  1.000000     0.92                  1.0  0.460411          0.0   \n",
              "37121  0.526316     0.76                  0.5  0.243676          0.0   \n",
              "...         ...      ...                  ...       ...          ...   \n",
              "20239  0.578947     0.92                  0.5  0.451895          0.0   \n",
              "7590   0.052632     1.00                  1.0  0.612270          0.0   \n",
              "13610  0.526316     0.92                  0.0  0.322877          0.0   \n",
              "1045   0.947368     0.96                  0.5  0.004486          0.0   \n",
              "18968  0.684211     0.96                  0.0  0.481978          0.0   \n",
              "\n",
              "       weather_sandstorms  weather_stormy  weather_sunny  weather_windy  \\\n",
              "8708                  0.0             0.0            1.0            0.0   \n",
              "25198                 1.0             0.0            0.0            0.0   \n",
              "34049                 0.0             0.0            1.0            0.0   \n",
              "25987                 1.0             0.0            0.0            0.0   \n",
              "37121                 0.0             0.0            0.0            1.0   \n",
              "...                   ...             ...            ...            ...   \n",
              "20239                 0.0             0.0            1.0            0.0   \n",
              "7590                  1.0             0.0            0.0            0.0   \n",
              "13610                 0.0             0.0            0.0            0.0   \n",
              "1045                  0.0             0.0            1.0            0.0   \n",
              "18968                 0.0             0.0            0.0            1.0   \n",
              "\n",
              "       type_of_order_drinks  ...  city_type_semi-urban  city_type_urban  \\\n",
              "8708                    1.0  ...                   1.0              0.0   \n",
              "25198                   0.0  ...                   0.0              0.0   \n",
              "34049                   0.0  ...                   0.0              1.0   \n",
              "25987                   0.0  ...                   0.0              0.0   \n",
              "37121                   0.0  ...                   0.0              0.0   \n",
              "...                     ...  ...                   ...              ...   \n",
              "20239                   0.0  ...                   0.0              0.0   \n",
              "7590                    0.0  ...                   0.0              0.0   \n",
              "13610                   0.0  ...                   0.0              0.0   \n",
              "1045                    0.0  ...                   0.0              1.0   \n",
              "18968                   0.0  ...                   0.0              1.0   \n",
              "\n",
              "       is_weekend_1  order_time_of_day_evening  order_time_of_day_morning  \\\n",
              "8708            0.0                        0.0                        0.0   \n",
              "25198           1.0                        0.0                        0.0   \n",
              "34049           0.0                        0.0                        1.0   \n",
              "25987           1.0                        0.0                        0.0   \n",
              "37121           1.0                        0.0                        0.0   \n",
              "...             ...                        ...                        ...   \n",
              "20239           1.0                        1.0                        0.0   \n",
              "7590            1.0                        1.0                        0.0   \n",
              "13610           1.0                        0.0                        0.0   \n",
              "1045            1.0                        0.0                        1.0   \n",
              "18968           0.0                        0.0                        0.0   \n",
              "\n",
              "       order_time_of_day_night  traffic  distance_type  vehicle_condition  \\\n",
              "8708                       1.0      3.0            1.0                  0   \n",
              "25198                      0.0      1.0            0.0                  0   \n",
              "34049                      0.0      2.0            0.0                  1   \n",
              "25987                      1.0      0.0            2.0                  0   \n",
              "37121                      0.0      1.0            1.0                  1   \n",
              "...                        ...      ...            ...                ...   \n",
              "20239                      0.0      3.0            2.0                  0   \n",
              "7590                       0.0      1.0            2.0                  1   \n",
              "13610                      0.0      1.0            1.0                  1   \n",
              "1045                       0.0      0.0            0.0                  0   \n",
              "18968                      1.0      0.0            2.0                  2   \n",
              "\n",
              "       multiple_deliveries  \n",
              "8708                   2.0  \n",
              "25198                  1.0  \n",
              "34049                  0.0  \n",
              "25987                  1.0  \n",
              "37121                  1.0  \n",
              "...                    ...  \n",
              "20239                  0.0  \n",
              "7590                   1.0  \n",
              "13610                  0.0  \n",
              "1045                   1.0  \n",
              "18968                  1.0  \n",
              "\n",
              "[30156 rows x 25 columns]"
            ]
          },
          "execution_count": 37,
          "metadata": {},
          "output_type": "execute_result"
        }
      ],
      "source": [
        "X_train_trans"
      ]
    },
    {
      "cell_type": "code",
      "execution_count": 38,
      "metadata": {
        "colab": {
          "base_uri": "https://localhost:8080/"
        },
        "id": "jR-p4ReDqiqE",
        "outputId": "422623dd-ce91-4856-f390-8577cfae74ad"
      },
      "outputs": [
        {
          "name": "stdout",
          "output_type": "stream",
          "text": [
            "Requirement already satisfied: optuna in c:\\users\\shobh\\anaconda3\\lib\\site-packages (4.2.0)\n",
            "Requirement already satisfied: alembic>=1.5.0 in c:\\users\\shobh\\anaconda3\\lib\\site-packages (from optuna) (1.14.0)\n",
            "Requirement already satisfied: colorlog in c:\\users\\shobh\\anaconda3\\lib\\site-packages (from optuna) (6.9.0)\n",
            "Requirement already satisfied: numpy in c:\\users\\shobh\\anaconda3\\lib\\site-packages (from optuna) (1.24.3)\n",
            "Requirement already satisfied: packaging>=20.0 in c:\\users\\shobh\\anaconda3\\lib\\site-packages (from optuna) (23.1)\n",
            "Requirement already satisfied: sqlalchemy>=1.4.2 in c:\\users\\shobh\\anaconda3\\lib\\site-packages (from optuna) (1.4.39)\n",
            "Requirement already satisfied: tqdm in c:\\users\\shobh\\anaconda3\\lib\\site-packages (from optuna) (4.65.0)\n",
            "Requirement already satisfied: PyYAML in c:\\users\\shobh\\anaconda3\\lib\\site-packages (from optuna) (6.0)\n",
            "Requirement already satisfied: Mako in c:\\users\\shobh\\anaconda3\\lib\\site-packages (from alembic>=1.5.0->optuna) (1.3.8)\n",
            "Requirement already satisfied: typing-extensions>=4 in c:\\users\\shobh\\anaconda3\\lib\\site-packages (from alembic>=1.5.0->optuna) (4.12.2)\n",
            "Requirement already satisfied: greenlet!=0.4.17 in c:\\users\\shobh\\anaconda3\\lib\\site-packages (from sqlalchemy>=1.4.2->optuna) (2.0.1)\n",
            "Requirement already satisfied: colorama in c:\\users\\shobh\\anaconda3\\lib\\site-packages (from colorlog->optuna) (0.4.6)\n",
            "Requirement already satisfied: MarkupSafe>=0.9.2 in c:\\users\\shobh\\anaconda3\\lib\\site-packages (from Mako->alembic>=1.5.0->optuna) (2.1.1)\n",
            "Note: you may need to restart the kernel to use updated packages.\n"
          ]
        }
      ],
      "source": [
        "%pip install optuna"
      ]
    },
    {
      "cell_type": "code",
      "execution_count": 39,
      "metadata": {},
      "outputs": [
        {
          "name": "stdout",
          "output_type": "stream",
          "text": [
            "Requirement already satisfied: xgboost in c:\\users\\shobh\\anaconda3\\lib\\site-packages (2.1.3)\n",
            "Requirement already satisfied: numpy in c:\\users\\shobh\\anaconda3\\lib\\site-packages (from xgboost) (1.24.3)\n",
            "Requirement already satisfied: scipy in c:\\users\\shobh\\anaconda3\\lib\\site-packages (from xgboost) (1.11.1)\n"
          ]
        }
      ],
      "source": [
        "! pip install xgboost"
      ]
    },
    {
      "cell_type": "code",
      "execution_count": 40,
      "metadata": {
        "id": "vvAmK7Wfq8rV"
      },
      "outputs": [],
      "source": [
        "from sklearn.ensemble import RandomForestRegressor, GradientBoostingRegressor\n",
        "from sklearn.neighbors import KNeighborsRegressor\n",
        "from sklearn.svm import SVR\n",
        "from xgboost import XGBRegressor\n",
        "from lightgbm import LGBMRegressor\n",
        "import optuna"
      ]
    },
    {
      "cell_type": "code",
      "execution_count": 41,
      "metadata": {
        "id": "7-i3qhXbteRD"
      },
      "outputs": [],
      "source": [
        "from sklearn.metrics import r2_score, mean_absolute_error"
      ]
    },
    {
      "cell_type": "code",
      "execution_count": 42,
      "metadata": {
        "id": "RvZDCzGZrGQK"
      },
      "outputs": [],
      "source": [
        "def objective(trial):\n",
        "    with mlflow.start_run(nested=True):\n",
        "        model_name = trial.suggest_categorical(\"model\",[\"SVM\",\"RF\",\"KNN\",\"GB\",\"XGB\",\"LGBM\"])\n",
        "\n",
        "        if model_name == \"SVM\":\n",
        "            kernel_svm = trial.suggest_categorical(\"kernel_svm\",[\"linear\",\"poly\",\"rbf\"])\n",
        "            if kernel_svm == \"linear\":\n",
        "                c_linear = trial.suggest_float(\"c_linear\",0,10)\n",
        "                model = SVR(C=c_linear,kernel=\"linear\")\n",
        "\n",
        "            elif kernel_svm == \"poly\":\n",
        "                c_poly = trial.suggest_float(\"c_poly\",0,10)\n",
        "                degree_poly = trial.suggest_int(\"degree_poly\",1,5)\n",
        "                model = SVR(C=c_poly,degree=degree_poly,\n",
        "                            kernel=\"poly\")\n",
        "\n",
        "            else:\n",
        "                c_rbf = trial.suggest_float(\"c_rbf\",0,100)\n",
        "                gamma_rbf = trial.suggest_float(\"gamma_rbf\",0,10)\n",
        "                model = SVR(C=c_rbf,gamma=gamma_rbf,\n",
        "                            kernel=\"rbf\")\n",
        "\n",
        "        elif model_name == \"RF\":\n",
        "            n_estimators_rf = trial.suggest_int(\"n_estimators_rf\",10,200)\n",
        "            max_depth_rf = trial.suggest_int(\"max_depth_rf\",2,20)\n",
        "            model = RandomForestRegressor(n_estimators=n_estimators_rf,\n",
        "                                        max_depth=max_depth_rf,\n",
        "                                        random_state=42,\n",
        "                                        n_jobs=-1)\n",
        "\n",
        "        elif model_name == \"GB\":\n",
        "            n_estimators_gb = trial.suggest_int(\"n_estimators_gb\",10,200)\n",
        "            learning_rate_gb = trial.suggest_float(\"learning_rate_gb\",0,1)\n",
        "            max_depth_gb = trial.suggest_int(\"max_depth_gb\",2,20)\n",
        "            model = GradientBoostingRegressor(n_estimators=n_estimators_gb,\n",
        "                                                learning_rate=learning_rate_gb,\n",
        "                                                max_depth=max_depth_gb,\n",
        "                                                random_state=42)\n",
        "\n",
        "        elif model_name == \"KNN\":\n",
        "            n_neighbors_knn = trial.suggest_int(\"n_neighbors_knn\",1,25)\n",
        "            weights_knn = trial.suggest_categorical(\"weights_knn\",[\"uniform\",\"distance\"])\n",
        "            model = KNeighborsRegressor(n_neighbors=n_neighbors_knn,\n",
        "                                        weights=weights_knn,n_jobs=-1)\n",
        "\n",
        "        elif model_name == \"XGB\":\n",
        "            n_estimators_xgb = trial.suggest_int(\"n_estimators_xgb\",10,200)\n",
        "            learning_rate_xgb = trial.suggest_float(\"learning_rate_xgb\",0.1,0.5)\n",
        "            max_depth_xgb = trial.suggest_int(\"max_depth_xgb\",2,20)\n",
        "            model = XGBRegressor(n_estimators=n_estimators_xgb,\n",
        "                                    learning_rate=learning_rate_xgb,\n",
        "                                    max_depth=max_depth_xgb,\n",
        "                                    random_state=42,\n",
        "                                    n_jobs=-1)\n",
        "\n",
        "        elif model_name == \"LGBM\":\n",
        "            n_estimators_lgbm = trial.suggest_int(\"n_estimators_lgbm\",10,200)\n",
        "            learning_rate_lgbm = trial.suggest_float(\"learning_rate_lgbm\",0.1,0.5)\n",
        "            max_depth_lgbm = trial.suggest_int(\"max_depth_lgbm\",2,20)\n",
        "            model = LGBMRegressor(n_estimators=n_estimators_lgbm,\n",
        "                                    learning_rate=learning_rate_lgbm,\n",
        "                                    max_depth=max_depth_lgbm,\n",
        "                                    random_state=42)\n",
        "\n",
        "\n",
        "        # train the model\n",
        "        model.fit(X_train_trans,y_train_pt.values.ravel())\n",
        "\n",
        "        # log model params\n",
        "        mlflow.log_params(model.get_params())\n",
        "\n",
        "        # get the predictions\n",
        "        y_pred_train = model.predict(X_train_trans)\n",
        "        y_pred_test = model.predict(X_test_trans)\n",
        "\n",
        "        # get the actual predictions values\n",
        "        y_pred_train_org = pt.inverse_transform(y_pred_train.reshape(-1,1))\n",
        "        y_pred_test_org = pt.inverse_transform(y_pred_test.reshape(-1,1))\n",
        "\n",
        "        # calculate the error\n",
        "        error = mean_absolute_error(y_test,y_pred_test_org)\n",
        "\n",
        "        # log model_name\n",
        "        mlflow.log_param(\"model\",model_name)\n",
        "\n",
        "        # log error\n",
        "        mlflow.log_metric(\"MAE\",error)\n",
        "\n",
        "        return error"
      ]
    },
    {
      "cell_type": "code",
      "execution_count": null,
      "metadata": {},
      "outputs": [],
      "source": []
    },
    {
      "cell_type": "code",
      "execution_count": 44,
      "metadata": {
        "colab": {
          "base_uri": "https://localhost:8080/",
          "height": 1000
        },
        "id": "yKs32EWWs42v",
        "outputId": "347c4211-d001-4b1e-b2f8-2af7e938ec21"
      },
      "outputs": [
        {
          "name": "stderr",
          "output_type": "stream",
          "text": [
            "[I 2025-01-21 05:48:59,382] A new study created in memory with name: model_selection\n"
          ]
        },
        {
          "name": "stdout",
          "output_type": "stream",
          "text": [
            "🏃 View run unruly-mare-269 at: https://dagshub.com/ShobhanaVerma07/Food_Delivery_Time_Prediction.mlflow/#/experiments/3/runs/ad703f89366145db9ae68f8813a50182\n",
            "🧪 View experiment at: https://dagshub.com/ShobhanaVerma07/Food_Delivery_Time_Prediction.mlflow/#/experiments/3\n"
          ]
        },
        {
          "name": "stderr",
          "output_type": "stream",
          "text": [
            "[I 2025-01-21 05:49:11,353] Trial 2 finished with value: 4.198899564767615 and parameters: {'model': 'KNN', 'n_neighbors_knn': 9, 'weights_knn': 'distance'}. Best is trial 2 with value: 4.198899564767615.\n"
          ]
        },
        {
          "name": "stdout",
          "output_type": "stream",
          "text": [
            "🏃 View run masked-fawn-522 at: https://dagshub.com/ShobhanaVerma07/Food_Delivery_Time_Prediction.mlflow/#/experiments/3/runs/2ba54b3215b644b5a31ac02093f44669\n",
            "🧪 View experiment at: https://dagshub.com/ShobhanaVerma07/Food_Delivery_Time_Prediction.mlflow/#/experiments/3\n"
          ]
        },
        {
          "name": "stderr",
          "output_type": "stream",
          "text": [
            "[I 2025-01-21 05:49:19,881] Trial 0 finished with value: 3.067753354146401 and parameters: {'model': 'LGBM', 'n_estimators_lgbm': 140, 'learning_rate_lgbm': 0.16778112951075913, 'max_depth_lgbm': 6}. Best is trial 0 with value: 3.067753354146401.\n"
          ]
        },
        {
          "name": "stdout",
          "output_type": "stream",
          "text": [
            "🏃 View run industrious-newt-60 at: https://dagshub.com/ShobhanaVerma07/Food_Delivery_Time_Prediction.mlflow/#/experiments/3/runs/625f5d3ae1f94b8ab1c9a728ccb72c1b\n",
            "🧪 View experiment at: https://dagshub.com/ShobhanaVerma07/Food_Delivery_Time_Prediction.mlflow/#/experiments/3\n"
          ]
        },
        {
          "name": "stderr",
          "output_type": "stream",
          "text": [
            "[I 2025-01-21 05:49:21,109] Trial 6 finished with value: 3.3279274817422446 and parameters: {'model': 'GB', 'n_estimators_gb': 137, 'learning_rate_gb': 0.22175041081137525, 'max_depth_gb': 3}. Best is trial 0 with value: 3.067753354146401.\n"
          ]
        },
        {
          "name": "stdout",
          "output_type": "stream",
          "text": [
            "🏃 View run zealous-yak-307 at: https://dagshub.com/ShobhanaVerma07/Food_Delivery_Time_Prediction.mlflow/#/experiments/3/runs/e716ba1171cb48e4919fbc8be80f0d63\n",
            "🧪 View experiment at: https://dagshub.com/ShobhanaVerma07/Food_Delivery_Time_Prediction.mlflow/#/experiments/3\n"
          ]
        },
        {
          "name": "stderr",
          "output_type": "stream",
          "text": [
            "[I 2025-01-21 05:49:27,101] Trial 4 finished with value: 3.2730446146438665 and parameters: {'model': 'XGB', 'n_estimators_xgb': 169, 'learning_rate_xgb': 0.3376511589529174, 'max_depth_xgb': 10}. Best is trial 0 with value: 3.067753354146401.\n"
          ]
        },
        {
          "name": "stdout",
          "output_type": "stream",
          "text": [
            "🏃 View run illustrious-robin-56 at: https://dagshub.com/ShobhanaVerma07/Food_Delivery_Time_Prediction.mlflow/#/experiments/3/runs/33c345d9b9ab46a4b14fc79e8e7ba8f7\n",
            "🧪 View experiment at: https://dagshub.com/ShobhanaVerma07/Food_Delivery_Time_Prediction.mlflow/#/experiments/3\n"
          ]
        },
        {
          "name": "stderr",
          "output_type": "stream",
          "text": [
            "[I 2025-01-21 05:49:32,417] Trial 3 finished with value: 4.081369286857615 and parameters: {'model': 'GB', 'n_estimators_gb': 29, 'learning_rate_gb': 0.9772299001660266, 'max_depth_gb': 19}. Best is trial 0 with value: 3.067753354146401.\n"
          ]
        },
        {
          "name": "stdout",
          "output_type": "stream",
          "text": [
            "🏃 View run kindly-carp-131 at: https://dagshub.com/ShobhanaVerma07/Food_Delivery_Time_Prediction.mlflow/#/experiments/3/runs/e5b7f4d0e0a8418299cd61d091722a41\n",
            "🧪 View experiment at: https://dagshub.com/ShobhanaVerma07/Food_Delivery_Time_Prediction.mlflow/#/experiments/3\n",
            "🏃 View run dapper-sloth-912 at: https://dagshub.com/ShobhanaVerma07/Food_Delivery_Time_Prediction.mlflow/#/experiments/3/runs/a8c45d2f6fed4744ae9308718b6bb789\n",
            "🧪 View experiment at: https://dagshub.com/ShobhanaVerma07/Food_Delivery_Time_Prediction.mlflow/#/experiments/3\n"
          ]
        },
        {
          "name": "stderr",
          "output_type": "stream",
          "text": [
            "[I 2025-01-21 05:49:42,218] Trial 9 finished with value: 3.0397986075080268 and parameters: {'model': 'LGBM', 'n_estimators_lgbm': 91, 'learning_rate_lgbm': 0.23382684986107735, 'max_depth_lgbm': 17}. Best is trial 9 with value: 3.0397986075080268.\n",
            "[I 2025-01-21 05:49:45,064] Trial 5 finished with value: 3.3966843184686053 and parameters: {'model': 'XGB', 'n_estimators_xgb': 56, 'learning_rate_xgb': 0.32521761546474465, 'max_depth_xgb': 20}. Best is trial 9 with value: 3.0397986075080268.\n"
          ]
        },
        {
          "name": "stdout",
          "output_type": "stream",
          "text": [
            "🏃 View run legendary-owl-392 at: https://dagshub.com/ShobhanaVerma07/Food_Delivery_Time_Prediction.mlflow/#/experiments/3/runs/b12a12cc63434332a1c249ca9f74f874\n",
            "🧪 View experiment at: https://dagshub.com/ShobhanaVerma07/Food_Delivery_Time_Prediction.mlflow/#/experiments/3\n"
          ]
        },
        {
          "name": "stderr",
          "output_type": "stream",
          "text": [
            "[I 2025-01-21 05:49:50,032] Trial 11 finished with value: 3.067954814120444 and parameters: {'model': 'LGBM', 'n_estimators_lgbm': 57, 'learning_rate_lgbm': 0.4013093958032249, 'max_depth_lgbm': 12}. Best is trial 9 with value: 3.0397986075080268.\n"
          ]
        },
        {
          "name": "stdout",
          "output_type": "stream",
          "text": [
            "🏃 View run vaunted-snail-3 at: https://dagshub.com/ShobhanaVerma07/Food_Delivery_Time_Prediction.mlflow/#/experiments/3/runs/c94d82db7b4a4f1a81733f6823d4059e\n",
            "🧪 View experiment at: https://dagshub.com/ShobhanaVerma07/Food_Delivery_Time_Prediction.mlflow/#/experiments/3\n"
          ]
        },
        {
          "name": "stderr",
          "output_type": "stream",
          "text": [
            "[I 2025-01-21 05:49:53,043] Trial 8 finished with value: 3.3343804832801918 and parameters: {'model': 'GB', 'n_estimators_gb': 86, 'learning_rate_gb': 0.368147716296338, 'max_depth_gb': 11}. Best is trial 9 with value: 3.0397986075080268.\n"
          ]
        },
        {
          "name": "stdout",
          "output_type": "stream",
          "text": [
            "🏃 View run skillful-rat-268 at: https://dagshub.com/ShobhanaVerma07/Food_Delivery_Time_Prediction.mlflow/#/experiments/3/runs/3ce2db408bc343138444f4cb91192287\n",
            "🧪 View experiment at: https://dagshub.com/ShobhanaVerma07/Food_Delivery_Time_Prediction.mlflow/#/experiments/3\n"
          ]
        },
        {
          "name": "stderr",
          "output_type": "stream",
          "text": [
            "[I 2025-01-21 05:50:08,097] Trial 7 finished with value: 3.4759652474497127 and parameters: {'model': 'GB', 'n_estimators_gb': 146, 'learning_rate_gb': 0.45288270345351067, 'max_depth_gb': 13}. Best is trial 9 with value: 3.0397986075080268.\n"
          ]
        },
        {
          "name": "stdout",
          "output_type": "stream",
          "text": [
            "🏃 View run unequaled-toad-842 at: https://dagshub.com/ShobhanaVerma07/Food_Delivery_Time_Prediction.mlflow/#/experiments/3/runs/ca4aa4ee92114904ab0dcb83182e9900\n",
            "🧪 View experiment at: https://dagshub.com/ShobhanaVerma07/Food_Delivery_Time_Prediction.mlflow/#/experiments/3\n",
            "🏃 View run amazing-rat-700 at: https://dagshub.com/ShobhanaVerma07/Food_Delivery_Time_Prediction.mlflow/#/experiments/3/runs/d2601c147420483ba265e138d9b76cab\n",
            "🧪 View experiment at: https://dagshub.com/ShobhanaVerma07/Food_Delivery_Time_Prediction.mlflow/#/experiments/3\n",
            "🏃 View run industrious-gull-420 at: https://dagshub.com/ShobhanaVerma07/Food_Delivery_Time_Prediction.mlflow/#/experiments/3/runs/c6377253f11e4c2caef9a6bd8a0b9d90\n",
            "🧪 View experiment at: https://dagshub.com/ShobhanaVerma07/Food_Delivery_Time_Prediction.mlflow/#/experiments/3\n",
            "🏃 View run stylish-turtle-445 at: https://dagshub.com/ShobhanaVerma07/Food_Delivery_Time_Prediction.mlflow/#/experiments/3/runs/91f8708d753e46c384ef904b9e84c6ee\n",
            "🧪 View experiment at: https://dagshub.com/ShobhanaVerma07/Food_Delivery_Time_Prediction.mlflow/#/experiments/3\n"
          ]
        },
        {
          "name": "stderr",
          "output_type": "stream",
          "text": [
            "[I 2025-01-21 05:50:16,987] Trial 13 finished with value: 3.071813817670532 and parameters: {'model': 'RF', 'n_estimators_rf': 101, 'max_depth_rf': 17}. Best is trial 9 with value: 3.0397986075080268.\n",
            "[I 2025-01-21 05:50:17,974] Trial 15 finished with value: 3.171021066810617 and parameters: {'model': 'XGB', 'n_estimators_xgb': 116, 'learning_rate_xgb': 0.2720033539600495, 'max_depth_xgb': 4}. Best is trial 9 with value: 3.0397986075080268.\n",
            "[I 2025-01-21 05:50:18,984] Trial 14 finished with value: 3.17872131280123 and parameters: {'model': 'LGBM', 'n_estimators_lgbm': 101, 'learning_rate_lgbm': 0.4380686136331644, 'max_depth_lgbm': 4}. Best is trial 9 with value: 3.0397986075080268.\n",
            "[I 2025-01-21 05:50:20,352] Trial 16 finished with value: 3.0363242428196227 and parameters: {'model': 'LGBM', 'n_estimators_lgbm': 83, 'learning_rate_lgbm': 0.19584907006352734, 'max_depth_lgbm': 15}. Best is trial 16 with value: 3.0363242428196227.\n"
          ]
        },
        {
          "name": "stdout",
          "output_type": "stream",
          "text": [
            "🏃 View run colorful-hog-507 at: https://dagshub.com/ShobhanaVerma07/Food_Delivery_Time_Prediction.mlflow/#/experiments/3/runs/f01aa38505cd4e38bf8e71f9d3345960\n",
            "🧪 View experiment at: https://dagshub.com/ShobhanaVerma07/Food_Delivery_Time_Prediction.mlflow/#/experiments/3\n"
          ]
        },
        {
          "name": "stderr",
          "output_type": "stream",
          "text": [
            "[I 2025-01-21 06:29:53,075] Trial 12 finished with value: 4.6754331905394375 and parameters: {'model': 'SVM', 'kernel_svm': 'poly', 'c_poly': 8.395863808884291, 'degree_poly': 1}. Best is trial 16 with value: 3.0363242428196227.\n"
          ]
        },
        {
          "name": "stdout",
          "output_type": "stream",
          "text": [
            "🏃 View run bedecked-frog-311 at: https://dagshub.com/ShobhanaVerma07/Food_Delivery_Time_Prediction.mlflow/#/experiments/3/runs/ea41dfd411b641119b3e8069b5056904\n",
            "🧪 View experiment at: https://dagshub.com/ShobhanaVerma07/Food_Delivery_Time_Prediction.mlflow/#/experiments/3\n"
          ]
        },
        {
          "name": "stderr",
          "output_type": "stream",
          "text": [
            "[I 2025-01-21 06:30:47,083] Trial 22 finished with value: 3.0538145061592443 and parameters: {'model': 'LGBM', 'n_estimators_lgbm': 68, 'learning_rate_lgbm': 0.1979864588120741, 'max_depth_lgbm': 20}. Best is trial 16 with value: 3.0363242428196227.\n"
          ]
        },
        {
          "name": "stdout",
          "output_type": "stream",
          "text": [
            "🏃 View run worried-mule-144 at: https://dagshub.com/ShobhanaVerma07/Food_Delivery_Time_Prediction.mlflow/#/experiments/3/runs/96139d3cb26c49bd95be6d5bbdb253ee\n",
            "🧪 View experiment at: https://dagshub.com/ShobhanaVerma07/Food_Delivery_Time_Prediction.mlflow/#/experiments/3\n"
          ]
        },
        {
          "name": "stderr",
          "output_type": "stream",
          "text": [
            "[I 2025-01-21 06:32:10,323] Trial 21 finished with value: 3.9683419488709 and parameters: {'model': 'SVM', 'kernel_svm': 'poly', 'c_poly': 4.428077457608202, 'degree_poly': 2}. Best is trial 16 with value: 3.0363242428196227.\n"
          ]
        },
        {
          "name": "stdout",
          "output_type": "stream",
          "text": [
            "🏃 View run bold-stoat-731 at: https://dagshub.com/ShobhanaVerma07/Food_Delivery_Time_Prediction.mlflow/#/experiments/3/runs/5ac65bc22e0b424bbdbd4c37f515c864\n",
            "🧪 View experiment at: https://dagshub.com/ShobhanaVerma07/Food_Delivery_Time_Prediction.mlflow/#/experiments/3\n"
          ]
        },
        {
          "name": "stderr",
          "output_type": "stream",
          "text": [
            "[I 2025-01-21 06:32:12,535] Trial 23 finished with value: 3.0563284401225657 and parameters: {'model': 'LGBM', 'n_estimators_lgbm': 195, 'learning_rate_lgbm': 0.2608206774808941, 'max_depth_lgbm': 17}. Best is trial 16 with value: 3.0363242428196227.\n"
          ]
        },
        {
          "name": "stdout",
          "output_type": "stream",
          "text": [
            "🏃 View run bemused-hound-501 at: https://dagshub.com/ShobhanaVerma07/Food_Delivery_Time_Prediction.mlflow/#/experiments/3/runs/78c9fec115a042f1a03809d06170e7a1\n",
            "🧪 View experiment at: https://dagshub.com/ShobhanaVerma07/Food_Delivery_Time_Prediction.mlflow/#/experiments/3\n"
          ]
        },
        {
          "name": "stderr",
          "output_type": "stream",
          "text": [
            "[I 2025-01-21 06:32:13,798] Trial 24 finished with value: 3.2587792462489285 and parameters: {'model': 'LGBM', 'n_estimators_lgbm': 10, 'learning_rate_lgbm': 0.2645218713311952, 'max_depth_lgbm': 17}. Best is trial 16 with value: 3.0363242428196227.\n"
          ]
        },
        {
          "name": "stdout",
          "output_type": "stream",
          "text": [
            "🏃 View run ambitious-newt-929 at: https://dagshub.com/ShobhanaVerma07/Food_Delivery_Time_Prediction.mlflow/#/experiments/3/runs/55f9f78fbef04d159814499993c97f3b\n",
            "🧪 View experiment at: https://dagshub.com/ShobhanaVerma07/Food_Delivery_Time_Prediction.mlflow/#/experiments/3\n"
          ]
        },
        {
          "name": "stderr",
          "output_type": "stream",
          "text": [
            "[I 2025-01-21 06:32:20,981] Trial 25 finished with value: 5.86392936333293 and parameters: {'model': 'RF', 'n_estimators_rf': 194, 'max_depth_rf': 2}. Best is trial 16 with value: 3.0363242428196227.\n"
          ]
        },
        {
          "name": "stdout",
          "output_type": "stream",
          "text": [
            "🏃 View run suave-hound-75 at: https://dagshub.com/ShobhanaVerma07/Food_Delivery_Time_Prediction.mlflow/#/experiments/3/runs/fdac5b154d3949fd9f65881f4559d9d3\n",
            "🧪 View experiment at: https://dagshub.com/ShobhanaVerma07/Food_Delivery_Time_Prediction.mlflow/#/experiments/3\n"
          ]
        },
        {
          "name": "stderr",
          "output_type": "stream",
          "text": [
            "[I 2025-01-21 06:32:26,898] Trial 26 finished with value: 4.306030197628447 and parameters: {'model': 'KNN', 'n_neighbors_knn': 24, 'weights_knn': 'uniform'}. Best is trial 16 with value: 3.0363242428196227.\n"
          ]
        },
        {
          "name": "stdout",
          "output_type": "stream",
          "text": [
            "🏃 View run worried-quail-956 at: https://dagshub.com/ShobhanaVerma07/Food_Delivery_Time_Prediction.mlflow/#/experiments/3/runs/f24d06bce3d446bb8fe5e3ab84f19ef3\n",
            "🧪 View experiment at: https://dagshub.com/ShobhanaVerma07/Food_Delivery_Time_Prediction.mlflow/#/experiments/3\n",
            "🏃 View run angry-foal-950 at: https://dagshub.com/ShobhanaVerma07/Food_Delivery_Time_Prediction.mlflow/#/experiments/3/runs/c18bef8c27804dc18cb6e7ada3ff99d6\n",
            "🧪 View experiment at: https://dagshub.com/ShobhanaVerma07/Food_Delivery_Time_Prediction.mlflow/#/experiments/3\n"
          ]
        },
        {
          "name": "stderr",
          "output_type": "stream",
          "text": [
            "[I 2025-01-21 06:32:36,911] Trial 27 finished with value: 4.313473738754308 and parameters: {'model': 'KNN', 'n_neighbors_knn': 25, 'weights_knn': 'uniform'}. Best is trial 16 with value: 3.0363242428196227.\n",
            "[I 2025-01-21 06:32:37,879] Trial 20 finished with value: 3.9670279048818435 and parameters: {'model': 'SVM', 'kernel_svm': 'poly', 'c_poly': 5.097482454645017, 'degree_poly': 2}. Best is trial 16 with value: 3.0363242428196227.\n"
          ]
        },
        {
          "name": "stdout",
          "output_type": "stream",
          "text": [
            "🏃 View run merciful-fox-441 at: https://dagshub.com/ShobhanaVerma07/Food_Delivery_Time_Prediction.mlflow/#/experiments/3/runs/8111f4a85309458a8c5763baab1d5dd6\n",
            "🧪 View experiment at: https://dagshub.com/ShobhanaVerma07/Food_Delivery_Time_Prediction.mlflow/#/experiments/3\n"
          ]
        },
        {
          "name": "stderr",
          "output_type": "stream",
          "text": [
            "[I 2025-01-21 06:32:42,962] Trial 28 finished with value: 3.044850041093152 and parameters: {'model': 'LGBM', 'n_estimators_lgbm': 83, 'learning_rate_lgbm': 0.15067784734200498, 'max_depth_lgbm': 20}. Best is trial 16 with value: 3.0363242428196227.\n"
          ]
        },
        {
          "name": "stdout",
          "output_type": "stream",
          "text": [
            "🏃 View run ambitious-bird-960 at: https://dagshub.com/ShobhanaVerma07/Food_Delivery_Time_Prediction.mlflow/#/experiments/3/runs/ccfdc32785b749c4943446e35d7b4221\n",
            "🧪 View experiment at: https://dagshub.com/ShobhanaVerma07/Food_Delivery_Time_Prediction.mlflow/#/experiments/3\n"
          ]
        },
        {
          "name": "stderr",
          "output_type": "stream",
          "text": [
            "[I 2025-01-21 06:32:46,854] Trial 29 finished with value: 3.0323203837785337 and parameters: {'model': 'LGBM', 'n_estimators_lgbm': 82, 'learning_rate_lgbm': 0.14482051766647916, 'max_depth_lgbm': 20}. Best is trial 29 with value: 3.0323203837785337.\n"
          ]
        },
        {
          "name": "stdout",
          "output_type": "stream",
          "text": [
            "🏃 View run persistent-duck-23 at: https://dagshub.com/ShobhanaVerma07/Food_Delivery_Time_Prediction.mlflow/#/experiments/3/runs/549ae4108d09420a9e4d7edd0ff8fe29\n",
            "🧪 View experiment at: https://dagshub.com/ShobhanaVerma07/Food_Delivery_Time_Prediction.mlflow/#/experiments/3\n"
          ]
        },
        {
          "name": "stderr",
          "output_type": "stream",
          "text": [
            "[I 2025-01-21 06:33:17,979] Trial 17 finished with value: 3.964249644710664 and parameters: {'model': 'SVM', 'kernel_svm': 'poly', 'c_poly': 9.172463103055897, 'degree_poly': 2}. Best is trial 29 with value: 3.0323203837785337.\n"
          ]
        },
        {
          "name": "stdout",
          "output_type": "stream",
          "text": [
            "🏃 View run resilient-midge-17 at: https://dagshub.com/ShobhanaVerma07/Food_Delivery_Time_Prediction.mlflow/#/experiments/3/runs/da05b89adad74b4797cc89f51e185c3d\n",
            "🧪 View experiment at: https://dagshub.com/ShobhanaVerma07/Food_Delivery_Time_Prediction.mlflow/#/experiments/3\n"
          ]
        },
        {
          "name": "stderr",
          "output_type": "stream",
          "text": [
            "[I 2025-01-21 06:42:31,593] Trial 18 finished with value: 4.6754643611031215 and parameters: {'model': 'SVM', 'kernel_svm': 'linear', 'c_linear': 9.495971048655893}. Best is trial 29 with value: 3.0323203837785337.\n"
          ]
        },
        {
          "name": "stdout",
          "output_type": "stream",
          "text": [
            "🏃 View run thundering-flea-886 at: https://dagshub.com/ShobhanaVerma07/Food_Delivery_Time_Prediction.mlflow/#/experiments/3/runs/6aafd924a7454fe09bdbc417e3a94cd6\n",
            "🧪 View experiment at: https://dagshub.com/ShobhanaVerma07/Food_Delivery_Time_Prediction.mlflow/#/experiments/3\n"
          ]
        },
        {
          "name": "stderr",
          "output_type": "stream",
          "text": [
            "[I 2025-01-21 06:43:42,515] Trial 10 finished with value: 6.5585051145344355 and parameters: {'model': 'SVM', 'kernel_svm': 'rbf', 'c_rbf': 10.73193500923808, 'gamma_rbf': 8.436878158600752}. Best is trial 29 with value: 3.0323203837785337.\n"
          ]
        },
        {
          "name": "stdout",
          "output_type": "stream",
          "text": [
            "🏃 View run brawny-whale-43 at: https://dagshub.com/ShobhanaVerma07/Food_Delivery_Time_Prediction.mlflow/#/experiments/3/runs/4e43210a3c654362aa4ab77b77fc7da5\n",
            "🧪 View experiment at: https://dagshub.com/ShobhanaVerma07/Food_Delivery_Time_Prediction.mlflow/#/experiments/3\n"
          ]
        },
        {
          "name": "stderr",
          "output_type": "stream",
          "text": [
            "[I 2025-01-21 06:43:46,434] Trial 1 finished with value: 6.38268135513438 and parameters: {'model': 'SVM', 'kernel_svm': 'rbf', 'c_rbf': 19.2053760537052, 'gamma_rbf': 5.75926614942569}. Best is trial 29 with value: 3.0323203837785337.\n"
          ]
        },
        {
          "name": "stdout",
          "output_type": "stream",
          "text": [
            "🏃 View run masked-elk-639 at: https://dagshub.com/ShobhanaVerma07/Food_Delivery_Time_Prediction.mlflow/#/experiments/3/runs/13480830898843c58fcc1cf3e344a69a\n",
            "🧪 View experiment at: https://dagshub.com/ShobhanaVerma07/Food_Delivery_Time_Prediction.mlflow/#/experiments/3\n"
          ]
        },
        {
          "name": "stderr",
          "output_type": "stream",
          "text": [
            "[I 2025-01-21 06:44:19,212] Trial 19 finished with value: 6.446396701587195 and parameters: {'model': 'SVM', 'kernel_svm': 'rbf', 'c_rbf': 55.75064668965414, 'gamma_rbf': 6.318095404265534}. Best is trial 29 with value: 3.0323203837785337.\n"
          ]
        },
        {
          "name": "stdout",
          "output_type": "stream",
          "text": [
            "🏃 View run Best Model at: https://dagshub.com/ShobhanaVerma07/Food_Delivery_Time_Prediction.mlflow/#/experiments/3/runs/de7b7df444b34216befe8f1927b5b59d\n",
            "🧪 View experiment at: https://dagshub.com/ShobhanaVerma07/Food_Delivery_Time_Prediction.mlflow/#/experiments/3\n"
          ]
        }
      ],
      "source": [
        "# create optuna study\n",
        "study = optuna.create_study(direction=\"minimize\",study_name=\"model_selection\")\n",
        "\n",
        "with mlflow.start_run(run_name=\"Best Model\") as parent:\n",
        "    # optimize the objective function\n",
        "    study.optimize(objective,n_trials=30,n_jobs=-1)\n",
        "\n",
        "    # log the best parameters \n",
        "    mlflow.log_params(study.best_params)\n",
        "\n",
        "    # log the best score\n",
        "    mlflow.log_metric(\"best_score\",study.best_value)"
      ]
    },
    {
      "cell_type": "code",
      "execution_count": 45,
      "metadata": {
        "colab": {
          "base_uri": "https://localhost:8080/"
        },
        "id": "56OTolVRfzTd",
        "outputId": "1732bcf5-cd0b-4fea-cc4a-d967fa58c2aa"
      },
      "outputs": [
        {
          "data": {
            "text/plain": [
              "3.0323203837785337"
            ]
          },
          "execution_count": 45,
          "metadata": {},
          "output_type": "execute_result"
        }
      ],
      "source": [
        "# best score\n",
        "\n",
        "study.best_value"
      ]
    },
    {
      "cell_type": "code",
      "execution_count": 46,
      "metadata": {
        "id": "5RYtbnAdjI--"
      },
      "outputs": [],
      "source": [
        "lgbm_params = {\n",
        "    \"n_estimators\": 145,\n",
        "    \"learning_rate\": 0.16632111599858262,\n",
        "    \"max_depth\": 17\n",
        "}"
      ]
    },
    {
      "cell_type": "code",
      "execution_count": 47,
      "metadata": {
        "colab": {
          "base_uri": "https://localhost:8080/",
          "height": 167
        },
        "id": "ngwQnZSrhtM2",
        "outputId": "ef4e4ab3-2c1e-4b51-8a57-dfc10a099110"
      },
      "outputs": [
        {
          "name": "stdout",
          "output_type": "stream",
          "text": [
            "[LightGBM] [Info] Auto-choosing row-wise multi-threading, the overhead of testing was 0.001594 seconds.\n",
            "You can set `force_row_wise=true` to remove the overhead.\n",
            "And if memory is not enough, you can set `force_col_wise=true`.\n",
            "[LightGBM] [Info] Total Bins 352\n",
            "[LightGBM] [Info] Number of data points in the train set: 30156, number of used features: 25\n",
            "[LightGBM] [Info] Start training from score -0.000000\n"
          ]
        },
        {
          "data": {
            "text/html": [
              "<style>#sk-container-id-3 {color: black;}#sk-container-id-3 pre{padding: 0;}#sk-container-id-3 div.sk-toggleable {background-color: white;}#sk-container-id-3 label.sk-toggleable__label {cursor: pointer;display: block;width: 100%;margin-bottom: 0;padding: 0.3em;box-sizing: border-box;text-align: center;}#sk-container-id-3 label.sk-toggleable__label-arrow:before {content: \"▸\";float: left;margin-right: 0.25em;color: #696969;}#sk-container-id-3 label.sk-toggleable__label-arrow:hover:before {color: black;}#sk-container-id-3 div.sk-estimator:hover label.sk-toggleable__label-arrow:before {color: black;}#sk-container-id-3 div.sk-toggleable__content {max-height: 0;max-width: 0;overflow: hidden;text-align: left;background-color: #f0f8ff;}#sk-container-id-3 div.sk-toggleable__content pre {margin: 0.2em;color: black;border-radius: 0.25em;background-color: #f0f8ff;}#sk-container-id-3 input.sk-toggleable__control:checked~div.sk-toggleable__content {max-height: 200px;max-width: 100%;overflow: auto;}#sk-container-id-3 input.sk-toggleable__control:checked~label.sk-toggleable__label-arrow:before {content: \"▾\";}#sk-container-id-3 div.sk-estimator input.sk-toggleable__control:checked~label.sk-toggleable__label {background-color: #d4ebff;}#sk-container-id-3 div.sk-label input.sk-toggleable__control:checked~label.sk-toggleable__label {background-color: #d4ebff;}#sk-container-id-3 input.sk-hidden--visually {border: 0;clip: rect(1px 1px 1px 1px);clip: rect(1px, 1px, 1px, 1px);height: 1px;margin: -1px;overflow: hidden;padding: 0;position: absolute;width: 1px;}#sk-container-id-3 div.sk-estimator {font-family: monospace;background-color: #f0f8ff;border: 1px dotted black;border-radius: 0.25em;box-sizing: border-box;margin-bottom: 0.5em;}#sk-container-id-3 div.sk-estimator:hover {background-color: #d4ebff;}#sk-container-id-3 div.sk-parallel-item::after {content: \"\";width: 100%;border-bottom: 1px solid gray;flex-grow: 1;}#sk-container-id-3 div.sk-label:hover label.sk-toggleable__label {background-color: #d4ebff;}#sk-container-id-3 div.sk-serial::before {content: \"\";position: absolute;border-left: 1px solid gray;box-sizing: border-box;top: 0;bottom: 0;left: 50%;z-index: 0;}#sk-container-id-3 div.sk-serial {display: flex;flex-direction: column;align-items: center;background-color: white;padding-right: 0.2em;padding-left: 0.2em;position: relative;}#sk-container-id-3 div.sk-item {position: relative;z-index: 1;}#sk-container-id-3 div.sk-parallel {display: flex;align-items: stretch;justify-content: center;background-color: white;position: relative;}#sk-container-id-3 div.sk-item::before, #sk-container-id-3 div.sk-parallel-item::before {content: \"\";position: absolute;border-left: 1px solid gray;box-sizing: border-box;top: 0;bottom: 0;left: 50%;z-index: -1;}#sk-container-id-3 div.sk-parallel-item {display: flex;flex-direction: column;z-index: 1;position: relative;background-color: white;}#sk-container-id-3 div.sk-parallel-item:first-child::after {align-self: flex-end;width: 50%;}#sk-container-id-3 div.sk-parallel-item:last-child::after {align-self: flex-start;width: 50%;}#sk-container-id-3 div.sk-parallel-item:only-child::after {width: 0;}#sk-container-id-3 div.sk-dashed-wrapped {border: 1px dashed gray;margin: 0 0.4em 0.5em 0.4em;box-sizing: border-box;padding-bottom: 0.4em;background-color: white;}#sk-container-id-3 div.sk-label label {font-family: monospace;font-weight: bold;display: inline-block;line-height: 1.2em;}#sk-container-id-3 div.sk-label-container {text-align: center;}#sk-container-id-3 div.sk-container {/* jupyter's `normalize.less` sets `[hidden] { display: none; }` but bootstrap.min.css set `[hidden] { display: none !important; }` so we also need the `!important` here to be able to override the default hidden behavior on the sphinx rendered scikit-learn.org. See: https://github.com/scikit-learn/scikit-learn/issues/21755 */display: inline-block !important;position: relative;}#sk-container-id-3 div.sk-text-repr-fallback {display: none;}</style><div id=\"sk-container-id-3\" class=\"sk-top-container\"><div class=\"sk-text-repr-fallback\"><pre>LGBMRegressor(learning_rate=0.16632111599858262, max_depth=17, n_estimators=145)</pre><b>In a Jupyter environment, please rerun this cell to show the HTML representation or trust the notebook. <br />On GitHub, the HTML representation is unable to render, please try loading this page with nbviewer.org.</b></div><div class=\"sk-container\" hidden><div class=\"sk-item\"><div class=\"sk-estimator sk-toggleable\"><input class=\"sk-toggleable__control sk-hidden--visually\" id=\"sk-estimator-id-20\" type=\"checkbox\" checked><label for=\"sk-estimator-id-20\" class=\"sk-toggleable__label sk-toggleable__label-arrow\">LGBMRegressor</label><div class=\"sk-toggleable__content\"><pre>LGBMRegressor(learning_rate=0.16632111599858262, max_depth=17, n_estimators=145)</pre></div></div></div></div></div>"
            ],
            "text/plain": [
              "LGBMRegressor(learning_rate=0.16632111599858262, max_depth=17, n_estimators=145)"
            ]
          },
          "execution_count": 47,
          "metadata": {},
          "output_type": "execute_result"
        }
      ],
      "source": [
        "# train the model on best parameters\n",
        "\n",
        "lgbm = LGBMRegressor(**lgbm_params)\n",
        "\n",
        "lgbm.fit(X_train_trans,y_train_pt.values.ravel())"
      ]
    },
    {
      "cell_type": "code",
      "execution_count": 48,
      "metadata": {
        "id": "PgboKKdfrRJb"
      },
      "outputs": [],
      "source": [
        "# get the predictions\n",
        "y_pred_train = lgbm.predict(X_train_trans)\n",
        "y_pred_test = lgbm.predict(X_test_trans)"
      ]
    },
    {
      "cell_type": "code",
      "execution_count": 49,
      "metadata": {
        "id": "TbyRoXrMrRJb"
      },
      "outputs": [],
      "source": [
        "# get the actual predictions values\n",
        "\n",
        "y_pred_train_org = pt.inverse_transform(y_pred_train.reshape(-1,1))\n",
        "y_pred_test_org = pt.inverse_transform(y_pred_test.reshape(-1,1))"
      ]
    },
    {
      "cell_type": "code",
      "execution_count": 50,
      "metadata": {
        "colab": {
          "base_uri": "https://localhost:8080/"
        },
        "id": "WP7ynLUCrRJc",
        "outputId": "8540c390-cfa0-411f-ec8f-d1ba6321c409"
      },
      "outputs": [
        {
          "name": "stdout",
          "output_type": "stream",
          "text": [
            "The train error is 2.78 minutes\n",
            "The test error is 3.02 minutes\n"
          ]
        }
      ],
      "source": [
        "from sklearn.metrics import mean_absolute_error, r2_score\n",
        "\n",
        "print(f\"The train error is {mean_absolute_error(y_train,y_pred_train_org):.2f} minutes\")\n",
        "print(f\"The test error is {mean_absolute_error(y_test,y_pred_test_org):.2f} minutes\")"
      ]
    },
    {
      "cell_type": "code",
      "execution_count": 51,
      "metadata": {
        "colab": {
          "base_uri": "https://localhost:8080/"
        },
        "id": "ISoCCVh5rRJc",
        "outputId": "ec032495-255f-465e-ec8c-9673b130c430"
      },
      "outputs": [
        {
          "name": "stdout",
          "output_type": "stream",
          "text": [
            "The train r2 score is 0.86\n",
            "The test r2 score is 0.84\n"
          ]
        }
      ],
      "source": [
        "print(f\"The train r2 score is {r2_score(y_train,y_pred_train_org):.2f}\")\n",
        "print(f\"The test r2 score is {r2_score(y_test,y_pred_test_org):.2f}\")"
      ]
    },
    {
      "cell_type": "code",
      "execution_count": 52,
      "metadata": {
        "colab": {
          "base_uri": "https://localhost:8080/",
          "height": 1000
        },
        "id": "bY2Cqy_cZrQQ",
        "outputId": "650bd0cd-ab99-4534-d707-962294567cfc"
      },
      "outputs": [
        {
          "data": {
            "text/html": [
              "<div>\n",
              "<style scoped>\n",
              "    .dataframe tbody tr th:only-of-type {\n",
              "        vertical-align: middle;\n",
              "    }\n",
              "\n",
              "    .dataframe tbody tr th {\n",
              "        vertical-align: top;\n",
              "    }\n",
              "\n",
              "    .dataframe thead th {\n",
              "        text-align: right;\n",
              "    }\n",
              "</style>\n",
              "<table border=\"1\" class=\"dataframe\">\n",
              "  <thead>\n",
              "    <tr style=\"text-align: right;\">\n",
              "      <th></th>\n",
              "      <th>number</th>\n",
              "      <th>value</th>\n",
              "      <th>datetime_start</th>\n",
              "      <th>datetime_complete</th>\n",
              "      <th>duration</th>\n",
              "      <th>params_c_linear</th>\n",
              "      <th>params_c_poly</th>\n",
              "      <th>params_c_rbf</th>\n",
              "      <th>params_degree_poly</th>\n",
              "      <th>params_gamma_rbf</th>\n",
              "      <th>...</th>\n",
              "      <th>params_max_depth_rf</th>\n",
              "      <th>params_max_depth_xgb</th>\n",
              "      <th>params_model</th>\n",
              "      <th>params_n_estimators_gb</th>\n",
              "      <th>params_n_estimators_lgbm</th>\n",
              "      <th>params_n_estimators_rf</th>\n",
              "      <th>params_n_estimators_xgb</th>\n",
              "      <th>params_n_neighbors_knn</th>\n",
              "      <th>params_weights_knn</th>\n",
              "      <th>state</th>\n",
              "    </tr>\n",
              "  </thead>\n",
              "  <tbody>\n",
              "    <tr>\n",
              "      <th>0</th>\n",
              "      <td>0</td>\n",
              "      <td>3.067753</td>\n",
              "      <td>2025-01-21 05:49:02.334957</td>\n",
              "      <td>2025-01-21 05:49:19.870674</td>\n",
              "      <td>0 days 00:00:17.535717</td>\n",
              "      <td>NaN</td>\n",
              "      <td>NaN</td>\n",
              "      <td>NaN</td>\n",
              "      <td>NaN</td>\n",
              "      <td>NaN</td>\n",
              "      <td>...</td>\n",
              "      <td>NaN</td>\n",
              "      <td>NaN</td>\n",
              "      <td>LGBM</td>\n",
              "      <td>NaN</td>\n",
              "      <td>140.0</td>\n",
              "      <td>NaN</td>\n",
              "      <td>NaN</td>\n",
              "      <td>NaN</td>\n",
              "      <td>NaN</td>\n",
              "      <td>COMPLETE</td>\n",
              "    </tr>\n",
              "    <tr>\n",
              "      <th>1</th>\n",
              "      <td>1</td>\n",
              "      <td>6.382681</td>\n",
              "      <td>2025-01-21 05:49:02.336962</td>\n",
              "      <td>2025-01-21 06:43:46.434082</td>\n",
              "      <td>0 days 00:54:44.097120</td>\n",
              "      <td>NaN</td>\n",
              "      <td>NaN</td>\n",
              "      <td>19.205376</td>\n",
              "      <td>NaN</td>\n",
              "      <td>5.759266</td>\n",
              "      <td>...</td>\n",
              "      <td>NaN</td>\n",
              "      <td>NaN</td>\n",
              "      <td>SVM</td>\n",
              "      <td>NaN</td>\n",
              "      <td>NaN</td>\n",
              "      <td>NaN</td>\n",
              "      <td>NaN</td>\n",
              "      <td>NaN</td>\n",
              "      <td>NaN</td>\n",
              "      <td>COMPLETE</td>\n",
              "    </tr>\n",
              "    <tr>\n",
              "      <th>2</th>\n",
              "      <td>2</td>\n",
              "      <td>4.198900</td>\n",
              "      <td>2025-01-21 05:49:02.338939</td>\n",
              "      <td>2025-01-21 05:49:11.349959</td>\n",
              "      <td>0 days 00:00:09.011020</td>\n",
              "      <td>NaN</td>\n",
              "      <td>NaN</td>\n",
              "      <td>NaN</td>\n",
              "      <td>NaN</td>\n",
              "      <td>NaN</td>\n",
              "      <td>...</td>\n",
              "      <td>NaN</td>\n",
              "      <td>NaN</td>\n",
              "      <td>KNN</td>\n",
              "      <td>NaN</td>\n",
              "      <td>NaN</td>\n",
              "      <td>NaN</td>\n",
              "      <td>NaN</td>\n",
              "      <td>9.0</td>\n",
              "      <td>distance</td>\n",
              "      <td>COMPLETE</td>\n",
              "    </tr>\n",
              "    <tr>\n",
              "      <th>3</th>\n",
              "      <td>3</td>\n",
              "      <td>4.081369</td>\n",
              "      <td>2025-01-21 05:49:02.340951</td>\n",
              "      <td>2025-01-21 05:49:32.417694</td>\n",
              "      <td>0 days 00:00:30.076743</td>\n",
              "      <td>NaN</td>\n",
              "      <td>NaN</td>\n",
              "      <td>NaN</td>\n",
              "      <td>NaN</td>\n",
              "      <td>NaN</td>\n",
              "      <td>...</td>\n",
              "      <td>NaN</td>\n",
              "      <td>NaN</td>\n",
              "      <td>GB</td>\n",
              "      <td>29.0</td>\n",
              "      <td>NaN</td>\n",
              "      <td>NaN</td>\n",
              "      <td>NaN</td>\n",
              "      <td>NaN</td>\n",
              "      <td>NaN</td>\n",
              "      <td>COMPLETE</td>\n",
              "    </tr>\n",
              "    <tr>\n",
              "      <th>4</th>\n",
              "      <td>4</td>\n",
              "      <td>3.273045</td>\n",
              "      <td>2025-01-21 05:49:02.341942</td>\n",
              "      <td>2025-01-21 05:49:27.099696</td>\n",
              "      <td>0 days 00:00:24.757754</td>\n",
              "      <td>NaN</td>\n",
              "      <td>NaN</td>\n",
              "      <td>NaN</td>\n",
              "      <td>NaN</td>\n",
              "      <td>NaN</td>\n",
              "      <td>...</td>\n",
              "      <td>NaN</td>\n",
              "      <td>10.0</td>\n",
              "      <td>XGB</td>\n",
              "      <td>NaN</td>\n",
              "      <td>NaN</td>\n",
              "      <td>NaN</td>\n",
              "      <td>169.0</td>\n",
              "      <td>NaN</td>\n",
              "      <td>NaN</td>\n",
              "      <td>COMPLETE</td>\n",
              "    </tr>\n",
              "    <tr>\n",
              "      <th>5</th>\n",
              "      <td>5</td>\n",
              "      <td>3.396684</td>\n",
              "      <td>2025-01-21 05:49:02.342908</td>\n",
              "      <td>2025-01-21 05:49:45.064894</td>\n",
              "      <td>0 days 00:00:42.721986</td>\n",
              "      <td>NaN</td>\n",
              "      <td>NaN</td>\n",
              "      <td>NaN</td>\n",
              "      <td>NaN</td>\n",
              "      <td>NaN</td>\n",
              "      <td>...</td>\n",
              "      <td>NaN</td>\n",
              "      <td>20.0</td>\n",
              "      <td>XGB</td>\n",
              "      <td>NaN</td>\n",
              "      <td>NaN</td>\n",
              "      <td>NaN</td>\n",
              "      <td>56.0</td>\n",
              "      <td>NaN</td>\n",
              "      <td>NaN</td>\n",
              "      <td>COMPLETE</td>\n",
              "    </tr>\n",
              "    <tr>\n",
              "      <th>6</th>\n",
              "      <td>6</td>\n",
              "      <td>3.327927</td>\n",
              "      <td>2025-01-21 05:49:02.343918</td>\n",
              "      <td>2025-01-21 05:49:21.109842</td>\n",
              "      <td>0 days 00:00:18.765924</td>\n",
              "      <td>NaN</td>\n",
              "      <td>NaN</td>\n",
              "      <td>NaN</td>\n",
              "      <td>NaN</td>\n",
              "      <td>NaN</td>\n",
              "      <td>...</td>\n",
              "      <td>NaN</td>\n",
              "      <td>NaN</td>\n",
              "      <td>GB</td>\n",
              "      <td>137.0</td>\n",
              "      <td>NaN</td>\n",
              "      <td>NaN</td>\n",
              "      <td>NaN</td>\n",
              "      <td>NaN</td>\n",
              "      <td>NaN</td>\n",
              "      <td>COMPLETE</td>\n",
              "    </tr>\n",
              "    <tr>\n",
              "      <th>7</th>\n",
              "      <td>7</td>\n",
              "      <td>3.475965</td>\n",
              "      <td>2025-01-21 05:49:02.344917</td>\n",
              "      <td>2025-01-21 05:50:08.097155</td>\n",
              "      <td>0 days 00:01:05.752238</td>\n",
              "      <td>NaN</td>\n",
              "      <td>NaN</td>\n",
              "      <td>NaN</td>\n",
              "      <td>NaN</td>\n",
              "      <td>NaN</td>\n",
              "      <td>...</td>\n",
              "      <td>NaN</td>\n",
              "      <td>NaN</td>\n",
              "      <td>GB</td>\n",
              "      <td>146.0</td>\n",
              "      <td>NaN</td>\n",
              "      <td>NaN</td>\n",
              "      <td>NaN</td>\n",
              "      <td>NaN</td>\n",
              "      <td>NaN</td>\n",
              "      <td>COMPLETE</td>\n",
              "    </tr>\n",
              "    <tr>\n",
              "      <th>8</th>\n",
              "      <td>8</td>\n",
              "      <td>3.334380</td>\n",
              "      <td>2025-01-21 05:49:11.359958</td>\n",
              "      <td>2025-01-21 05:49:53.043499</td>\n",
              "      <td>0 days 00:00:41.683541</td>\n",
              "      <td>NaN</td>\n",
              "      <td>NaN</td>\n",
              "      <td>NaN</td>\n",
              "      <td>NaN</td>\n",
              "      <td>NaN</td>\n",
              "      <td>...</td>\n",
              "      <td>NaN</td>\n",
              "      <td>NaN</td>\n",
              "      <td>GB</td>\n",
              "      <td>86.0</td>\n",
              "      <td>NaN</td>\n",
              "      <td>NaN</td>\n",
              "      <td>NaN</td>\n",
              "      <td>NaN</td>\n",
              "      <td>NaN</td>\n",
              "      <td>COMPLETE</td>\n",
              "    </tr>\n",
              "    <tr>\n",
              "      <th>9</th>\n",
              "      <td>9</td>\n",
              "      <td>3.039799</td>\n",
              "      <td>2025-01-21 05:49:19.962901</td>\n",
              "      <td>2025-01-21 05:49:42.216491</td>\n",
              "      <td>0 days 00:00:22.253590</td>\n",
              "      <td>NaN</td>\n",
              "      <td>NaN</td>\n",
              "      <td>NaN</td>\n",
              "      <td>NaN</td>\n",
              "      <td>NaN</td>\n",
              "      <td>...</td>\n",
              "      <td>NaN</td>\n",
              "      <td>NaN</td>\n",
              "      <td>LGBM</td>\n",
              "      <td>NaN</td>\n",
              "      <td>91.0</td>\n",
              "      <td>NaN</td>\n",
              "      <td>NaN</td>\n",
              "      <td>NaN</td>\n",
              "      <td>NaN</td>\n",
              "      <td>COMPLETE</td>\n",
              "    </tr>\n",
              "    <tr>\n",
              "      <th>10</th>\n",
              "      <td>10</td>\n",
              "      <td>6.558505</td>\n",
              "      <td>2025-01-21 05:49:21.112840</td>\n",
              "      <td>2025-01-21 06:43:42.515186</td>\n",
              "      <td>0 days 00:54:21.402346</td>\n",
              "      <td>NaN</td>\n",
              "      <td>NaN</td>\n",
              "      <td>10.731935</td>\n",
              "      <td>NaN</td>\n",
              "      <td>8.436878</td>\n",
              "      <td>...</td>\n",
              "      <td>NaN</td>\n",
              "      <td>NaN</td>\n",
              "      <td>SVM</td>\n",
              "      <td>NaN</td>\n",
              "      <td>NaN</td>\n",
              "      <td>NaN</td>\n",
              "      <td>NaN</td>\n",
              "      <td>NaN</td>\n",
              "      <td>NaN</td>\n",
              "      <td>COMPLETE</td>\n",
              "    </tr>\n",
              "    <tr>\n",
              "      <th>11</th>\n",
              "      <td>11</td>\n",
              "      <td>3.067955</td>\n",
              "      <td>2025-01-21 05:49:27.105679</td>\n",
              "      <td>2025-01-21 05:49:50.031366</td>\n",
              "      <td>0 days 00:00:22.925687</td>\n",
              "      <td>NaN</td>\n",
              "      <td>NaN</td>\n",
              "      <td>NaN</td>\n",
              "      <td>NaN</td>\n",
              "      <td>NaN</td>\n",
              "      <td>...</td>\n",
              "      <td>NaN</td>\n",
              "      <td>NaN</td>\n",
              "      <td>LGBM</td>\n",
              "      <td>NaN</td>\n",
              "      <td>57.0</td>\n",
              "      <td>NaN</td>\n",
              "      <td>NaN</td>\n",
              "      <td>NaN</td>\n",
              "      <td>NaN</td>\n",
              "      <td>COMPLETE</td>\n",
              "    </tr>\n",
              "    <tr>\n",
              "      <th>12</th>\n",
              "      <td>12</td>\n",
              "      <td>4.675433</td>\n",
              "      <td>2025-01-21 05:49:32.421696</td>\n",
              "      <td>2025-01-21 06:29:53.065452</td>\n",
              "      <td>0 days 00:40:20.643756</td>\n",
              "      <td>NaN</td>\n",
              "      <td>8.395864</td>\n",
              "      <td>NaN</td>\n",
              "      <td>1.0</td>\n",
              "      <td>NaN</td>\n",
              "      <td>...</td>\n",
              "      <td>NaN</td>\n",
              "      <td>NaN</td>\n",
              "      <td>SVM</td>\n",
              "      <td>NaN</td>\n",
              "      <td>NaN</td>\n",
              "      <td>NaN</td>\n",
              "      <td>NaN</td>\n",
              "      <td>NaN</td>\n",
              "      <td>NaN</td>\n",
              "      <td>COMPLETE</td>\n",
              "    </tr>\n",
              "    <tr>\n",
              "      <th>13</th>\n",
              "      <td>13</td>\n",
              "      <td>3.071814</td>\n",
              "      <td>2025-01-21 05:49:42.237495</td>\n",
              "      <td>2025-01-21 05:50:16.986901</td>\n",
              "      <td>0 days 00:00:34.749406</td>\n",
              "      <td>NaN</td>\n",
              "      <td>NaN</td>\n",
              "      <td>NaN</td>\n",
              "      <td>NaN</td>\n",
              "      <td>NaN</td>\n",
              "      <td>...</td>\n",
              "      <td>17.0</td>\n",
              "      <td>NaN</td>\n",
              "      <td>RF</td>\n",
              "      <td>NaN</td>\n",
              "      <td>NaN</td>\n",
              "      <td>101.0</td>\n",
              "      <td>NaN</td>\n",
              "      <td>NaN</td>\n",
              "      <td>NaN</td>\n",
              "      <td>COMPLETE</td>\n",
              "    </tr>\n",
              "    <tr>\n",
              "      <th>14</th>\n",
              "      <td>14</td>\n",
              "      <td>3.178721</td>\n",
              "      <td>2025-01-21 05:49:45.068887</td>\n",
              "      <td>2025-01-21 05:50:18.984964</td>\n",
              "      <td>0 days 00:00:33.916077</td>\n",
              "      <td>NaN</td>\n",
              "      <td>NaN</td>\n",
              "      <td>NaN</td>\n",
              "      <td>NaN</td>\n",
              "      <td>NaN</td>\n",
              "      <td>...</td>\n",
              "      <td>NaN</td>\n",
              "      <td>NaN</td>\n",
              "      <td>LGBM</td>\n",
              "      <td>NaN</td>\n",
              "      <td>101.0</td>\n",
              "      <td>NaN</td>\n",
              "      <td>NaN</td>\n",
              "      <td>NaN</td>\n",
              "      <td>NaN</td>\n",
              "      <td>COMPLETE</td>\n",
              "    </tr>\n",
              "    <tr>\n",
              "      <th>15</th>\n",
              "      <td>15</td>\n",
              "      <td>3.171021</td>\n",
              "      <td>2025-01-21 05:49:50.036365</td>\n",
              "      <td>2025-01-21 05:50:17.973660</td>\n",
              "      <td>0 days 00:00:27.937295</td>\n",
              "      <td>NaN</td>\n",
              "      <td>NaN</td>\n",
              "      <td>NaN</td>\n",
              "      <td>NaN</td>\n",
              "      <td>NaN</td>\n",
              "      <td>...</td>\n",
              "      <td>NaN</td>\n",
              "      <td>4.0</td>\n",
              "      <td>XGB</td>\n",
              "      <td>NaN</td>\n",
              "      <td>NaN</td>\n",
              "      <td>NaN</td>\n",
              "      <td>116.0</td>\n",
              "      <td>NaN</td>\n",
              "      <td>NaN</td>\n",
              "      <td>COMPLETE</td>\n",
              "    </tr>\n",
              "    <tr>\n",
              "      <th>16</th>\n",
              "      <td>16</td>\n",
              "      <td>3.036324</td>\n",
              "      <td>2025-01-21 05:49:53.049505</td>\n",
              "      <td>2025-01-21 05:50:20.351984</td>\n",
              "      <td>0 days 00:00:27.302479</td>\n",
              "      <td>NaN</td>\n",
              "      <td>NaN</td>\n",
              "      <td>NaN</td>\n",
              "      <td>NaN</td>\n",
              "      <td>NaN</td>\n",
              "      <td>...</td>\n",
              "      <td>NaN</td>\n",
              "      <td>NaN</td>\n",
              "      <td>LGBM</td>\n",
              "      <td>NaN</td>\n",
              "      <td>83.0</td>\n",
              "      <td>NaN</td>\n",
              "      <td>NaN</td>\n",
              "      <td>NaN</td>\n",
              "      <td>NaN</td>\n",
              "      <td>COMPLETE</td>\n",
              "    </tr>\n",
              "    <tr>\n",
              "      <th>17</th>\n",
              "      <td>17</td>\n",
              "      <td>3.964250</td>\n",
              "      <td>2025-01-21 05:50:08.100148</td>\n",
              "      <td>2025-01-21 06:33:17.978965</td>\n",
              "      <td>0 days 00:43:09.878817</td>\n",
              "      <td>NaN</td>\n",
              "      <td>9.172463</td>\n",
              "      <td>NaN</td>\n",
              "      <td>2.0</td>\n",
              "      <td>NaN</td>\n",
              "      <td>...</td>\n",
              "      <td>NaN</td>\n",
              "      <td>NaN</td>\n",
              "      <td>SVM</td>\n",
              "      <td>NaN</td>\n",
              "      <td>NaN</td>\n",
              "      <td>NaN</td>\n",
              "      <td>NaN</td>\n",
              "      <td>NaN</td>\n",
              "      <td>NaN</td>\n",
              "      <td>COMPLETE</td>\n",
              "    </tr>\n",
              "    <tr>\n",
              "      <th>18</th>\n",
              "      <td>18</td>\n",
              "      <td>4.675464</td>\n",
              "      <td>2025-01-21 05:50:16.990899</td>\n",
              "      <td>2025-01-21 06:42:31.591293</td>\n",
              "      <td>0 days 00:52:14.600394</td>\n",
              "      <td>9.495971</td>\n",
              "      <td>NaN</td>\n",
              "      <td>NaN</td>\n",
              "      <td>NaN</td>\n",
              "      <td>NaN</td>\n",
              "      <td>...</td>\n",
              "      <td>NaN</td>\n",
              "      <td>NaN</td>\n",
              "      <td>SVM</td>\n",
              "      <td>NaN</td>\n",
              "      <td>NaN</td>\n",
              "      <td>NaN</td>\n",
              "      <td>NaN</td>\n",
              "      <td>NaN</td>\n",
              "      <td>NaN</td>\n",
              "      <td>COMPLETE</td>\n",
              "    </tr>\n",
              "    <tr>\n",
              "      <th>19</th>\n",
              "      <td>19</td>\n",
              "      <td>6.446397</td>\n",
              "      <td>2025-01-21 05:50:17.978663</td>\n",
              "      <td>2025-01-21 06:44:19.211322</td>\n",
              "      <td>0 days 00:54:01.232659</td>\n",
              "      <td>NaN</td>\n",
              "      <td>NaN</td>\n",
              "      <td>55.750647</td>\n",
              "      <td>NaN</td>\n",
              "      <td>6.318095</td>\n",
              "      <td>...</td>\n",
              "      <td>NaN</td>\n",
              "      <td>NaN</td>\n",
              "      <td>SVM</td>\n",
              "      <td>NaN</td>\n",
              "      <td>NaN</td>\n",
              "      <td>NaN</td>\n",
              "      <td>NaN</td>\n",
              "      <td>NaN</td>\n",
              "      <td>NaN</td>\n",
              "      <td>COMPLETE</td>\n",
              "    </tr>\n",
              "    <tr>\n",
              "      <th>20</th>\n",
              "      <td>20</td>\n",
              "      <td>3.967028</td>\n",
              "      <td>2025-01-21 05:50:18.987970</td>\n",
              "      <td>2025-01-21 06:32:37.879700</td>\n",
              "      <td>0 days 00:42:18.891730</td>\n",
              "      <td>NaN</td>\n",
              "      <td>5.097482</td>\n",
              "      <td>NaN</td>\n",
              "      <td>2.0</td>\n",
              "      <td>NaN</td>\n",
              "      <td>...</td>\n",
              "      <td>NaN</td>\n",
              "      <td>NaN</td>\n",
              "      <td>SVM</td>\n",
              "      <td>NaN</td>\n",
              "      <td>NaN</td>\n",
              "      <td>NaN</td>\n",
              "      <td>NaN</td>\n",
              "      <td>NaN</td>\n",
              "      <td>NaN</td>\n",
              "      <td>COMPLETE</td>\n",
              "    </tr>\n",
              "    <tr>\n",
              "      <th>21</th>\n",
              "      <td>21</td>\n",
              "      <td>3.968342</td>\n",
              "      <td>2025-01-21 05:50:20.354984</td>\n",
              "      <td>2025-01-21 06:32:10.322746</td>\n",
              "      <td>0 days 00:41:49.967762</td>\n",
              "      <td>NaN</td>\n",
              "      <td>4.428077</td>\n",
              "      <td>NaN</td>\n",
              "      <td>2.0</td>\n",
              "      <td>NaN</td>\n",
              "      <td>...</td>\n",
              "      <td>NaN</td>\n",
              "      <td>NaN</td>\n",
              "      <td>SVM</td>\n",
              "      <td>NaN</td>\n",
              "      <td>NaN</td>\n",
              "      <td>NaN</td>\n",
              "      <td>NaN</td>\n",
              "      <td>NaN</td>\n",
              "      <td>NaN</td>\n",
              "      <td>COMPLETE</td>\n",
              "    </tr>\n",
              "    <tr>\n",
              "      <th>22</th>\n",
              "      <td>22</td>\n",
              "      <td>3.053815</td>\n",
              "      <td>2025-01-21 06:29:53.118441</td>\n",
              "      <td>2025-01-21 06:30:47.082859</td>\n",
              "      <td>0 days 00:00:53.964418</td>\n",
              "      <td>NaN</td>\n",
              "      <td>NaN</td>\n",
              "      <td>NaN</td>\n",
              "      <td>NaN</td>\n",
              "      <td>NaN</td>\n",
              "      <td>...</td>\n",
              "      <td>NaN</td>\n",
              "      <td>NaN</td>\n",
              "      <td>LGBM</td>\n",
              "      <td>NaN</td>\n",
              "      <td>68.0</td>\n",
              "      <td>NaN</td>\n",
              "      <td>NaN</td>\n",
              "      <td>NaN</td>\n",
              "      <td>NaN</td>\n",
              "      <td>COMPLETE</td>\n",
              "    </tr>\n",
              "    <tr>\n",
              "      <th>23</th>\n",
              "      <td>23</td>\n",
              "      <td>3.056328</td>\n",
              "      <td>2025-01-21 06:30:47.088865</td>\n",
              "      <td>2025-01-21 06:32:12.535321</td>\n",
              "      <td>0 days 00:01:25.446456</td>\n",
              "      <td>NaN</td>\n",
              "      <td>NaN</td>\n",
              "      <td>NaN</td>\n",
              "      <td>NaN</td>\n",
              "      <td>NaN</td>\n",
              "      <td>...</td>\n",
              "      <td>NaN</td>\n",
              "      <td>NaN</td>\n",
              "      <td>LGBM</td>\n",
              "      <td>NaN</td>\n",
              "      <td>195.0</td>\n",
              "      <td>NaN</td>\n",
              "      <td>NaN</td>\n",
              "      <td>NaN</td>\n",
              "      <td>NaN</td>\n",
              "      <td>COMPLETE</td>\n",
              "    </tr>\n",
              "    <tr>\n",
              "      <th>24</th>\n",
              "      <td>24</td>\n",
              "      <td>3.258779</td>\n",
              "      <td>2025-01-21 06:32:10.329746</td>\n",
              "      <td>2025-01-21 06:32:13.797671</td>\n",
              "      <td>0 days 00:00:03.467925</td>\n",
              "      <td>NaN</td>\n",
              "      <td>NaN</td>\n",
              "      <td>NaN</td>\n",
              "      <td>NaN</td>\n",
              "      <td>NaN</td>\n",
              "      <td>...</td>\n",
              "      <td>NaN</td>\n",
              "      <td>NaN</td>\n",
              "      <td>LGBM</td>\n",
              "      <td>NaN</td>\n",
              "      <td>10.0</td>\n",
              "      <td>NaN</td>\n",
              "      <td>NaN</td>\n",
              "      <td>NaN</td>\n",
              "      <td>NaN</td>\n",
              "      <td>COMPLETE</td>\n",
              "    </tr>\n",
              "    <tr>\n",
              "      <th>25</th>\n",
              "      <td>25</td>\n",
              "      <td>5.863929</td>\n",
              "      <td>2025-01-21 06:32:12.540321</td>\n",
              "      <td>2025-01-21 06:32:20.981268</td>\n",
              "      <td>0 days 00:00:08.440947</td>\n",
              "      <td>NaN</td>\n",
              "      <td>NaN</td>\n",
              "      <td>NaN</td>\n",
              "      <td>NaN</td>\n",
              "      <td>NaN</td>\n",
              "      <td>...</td>\n",
              "      <td>2.0</td>\n",
              "      <td>NaN</td>\n",
              "      <td>RF</td>\n",
              "      <td>NaN</td>\n",
              "      <td>NaN</td>\n",
              "      <td>194.0</td>\n",
              "      <td>NaN</td>\n",
              "      <td>NaN</td>\n",
              "      <td>NaN</td>\n",
              "      <td>COMPLETE</td>\n",
              "    </tr>\n",
              "    <tr>\n",
              "      <th>26</th>\n",
              "      <td>26</td>\n",
              "      <td>4.306030</td>\n",
              "      <td>2025-01-21 06:32:13.801671</td>\n",
              "      <td>2025-01-21 06:32:26.898999</td>\n",
              "      <td>0 days 00:00:13.097328</td>\n",
              "      <td>NaN</td>\n",
              "      <td>NaN</td>\n",
              "      <td>NaN</td>\n",
              "      <td>NaN</td>\n",
              "      <td>NaN</td>\n",
              "      <td>...</td>\n",
              "      <td>NaN</td>\n",
              "      <td>NaN</td>\n",
              "      <td>KNN</td>\n",
              "      <td>NaN</td>\n",
              "      <td>NaN</td>\n",
              "      <td>NaN</td>\n",
              "      <td>NaN</td>\n",
              "      <td>24.0</td>\n",
              "      <td>uniform</td>\n",
              "      <td>COMPLETE</td>\n",
              "    </tr>\n",
              "    <tr>\n",
              "      <th>27</th>\n",
              "      <td>27</td>\n",
              "      <td>4.313474</td>\n",
              "      <td>2025-01-21 06:32:20.983791</td>\n",
              "      <td>2025-01-21 06:32:36.910273</td>\n",
              "      <td>0 days 00:00:15.926482</td>\n",
              "      <td>NaN</td>\n",
              "      <td>NaN</td>\n",
              "      <td>NaN</td>\n",
              "      <td>NaN</td>\n",
              "      <td>NaN</td>\n",
              "      <td>...</td>\n",
              "      <td>NaN</td>\n",
              "      <td>NaN</td>\n",
              "      <td>KNN</td>\n",
              "      <td>NaN</td>\n",
              "      <td>NaN</td>\n",
              "      <td>NaN</td>\n",
              "      <td>NaN</td>\n",
              "      <td>25.0</td>\n",
              "      <td>uniform</td>\n",
              "      <td>COMPLETE</td>\n",
              "    </tr>\n",
              "    <tr>\n",
              "      <th>28</th>\n",
              "      <td>28</td>\n",
              "      <td>3.044850</td>\n",
              "      <td>2025-01-21 06:32:26.900998</td>\n",
              "      <td>2025-01-21 06:32:42.962500</td>\n",
              "      <td>0 days 00:00:16.061502</td>\n",
              "      <td>NaN</td>\n",
              "      <td>NaN</td>\n",
              "      <td>NaN</td>\n",
              "      <td>NaN</td>\n",
              "      <td>NaN</td>\n",
              "      <td>...</td>\n",
              "      <td>NaN</td>\n",
              "      <td>NaN</td>\n",
              "      <td>LGBM</td>\n",
              "      <td>NaN</td>\n",
              "      <td>83.0</td>\n",
              "      <td>NaN</td>\n",
              "      <td>NaN</td>\n",
              "      <td>NaN</td>\n",
              "      <td>NaN</td>\n",
              "      <td>COMPLETE</td>\n",
              "    </tr>\n",
              "    <tr>\n",
              "      <th>29</th>\n",
              "      <td>29</td>\n",
              "      <td>3.032320</td>\n",
              "      <td>2025-01-21 06:32:36.916521</td>\n",
              "      <td>2025-01-21 06:32:46.854279</td>\n",
              "      <td>0 days 00:00:09.937758</td>\n",
              "      <td>NaN</td>\n",
              "      <td>NaN</td>\n",
              "      <td>NaN</td>\n",
              "      <td>NaN</td>\n",
              "      <td>NaN</td>\n",
              "      <td>...</td>\n",
              "      <td>NaN</td>\n",
              "      <td>NaN</td>\n",
              "      <td>LGBM</td>\n",
              "      <td>NaN</td>\n",
              "      <td>82.0</td>\n",
              "      <td>NaN</td>\n",
              "      <td>NaN</td>\n",
              "      <td>NaN</td>\n",
              "      <td>NaN</td>\n",
              "      <td>COMPLETE</td>\n",
              "    </tr>\n",
              "  </tbody>\n",
              "</table>\n",
              "<p>30 rows × 26 columns</p>\n",
              "</div>"
            ],
            "text/plain": [
              "    number     value             datetime_start          datetime_complete  \\\n",
              "0        0  3.067753 2025-01-21 05:49:02.334957 2025-01-21 05:49:19.870674   \n",
              "1        1  6.382681 2025-01-21 05:49:02.336962 2025-01-21 06:43:46.434082   \n",
              "2        2  4.198900 2025-01-21 05:49:02.338939 2025-01-21 05:49:11.349959   \n",
              "3        3  4.081369 2025-01-21 05:49:02.340951 2025-01-21 05:49:32.417694   \n",
              "4        4  3.273045 2025-01-21 05:49:02.341942 2025-01-21 05:49:27.099696   \n",
              "5        5  3.396684 2025-01-21 05:49:02.342908 2025-01-21 05:49:45.064894   \n",
              "6        6  3.327927 2025-01-21 05:49:02.343918 2025-01-21 05:49:21.109842   \n",
              "7        7  3.475965 2025-01-21 05:49:02.344917 2025-01-21 05:50:08.097155   \n",
              "8        8  3.334380 2025-01-21 05:49:11.359958 2025-01-21 05:49:53.043499   \n",
              "9        9  3.039799 2025-01-21 05:49:19.962901 2025-01-21 05:49:42.216491   \n",
              "10      10  6.558505 2025-01-21 05:49:21.112840 2025-01-21 06:43:42.515186   \n",
              "11      11  3.067955 2025-01-21 05:49:27.105679 2025-01-21 05:49:50.031366   \n",
              "12      12  4.675433 2025-01-21 05:49:32.421696 2025-01-21 06:29:53.065452   \n",
              "13      13  3.071814 2025-01-21 05:49:42.237495 2025-01-21 05:50:16.986901   \n",
              "14      14  3.178721 2025-01-21 05:49:45.068887 2025-01-21 05:50:18.984964   \n",
              "15      15  3.171021 2025-01-21 05:49:50.036365 2025-01-21 05:50:17.973660   \n",
              "16      16  3.036324 2025-01-21 05:49:53.049505 2025-01-21 05:50:20.351984   \n",
              "17      17  3.964250 2025-01-21 05:50:08.100148 2025-01-21 06:33:17.978965   \n",
              "18      18  4.675464 2025-01-21 05:50:16.990899 2025-01-21 06:42:31.591293   \n",
              "19      19  6.446397 2025-01-21 05:50:17.978663 2025-01-21 06:44:19.211322   \n",
              "20      20  3.967028 2025-01-21 05:50:18.987970 2025-01-21 06:32:37.879700   \n",
              "21      21  3.968342 2025-01-21 05:50:20.354984 2025-01-21 06:32:10.322746   \n",
              "22      22  3.053815 2025-01-21 06:29:53.118441 2025-01-21 06:30:47.082859   \n",
              "23      23  3.056328 2025-01-21 06:30:47.088865 2025-01-21 06:32:12.535321   \n",
              "24      24  3.258779 2025-01-21 06:32:10.329746 2025-01-21 06:32:13.797671   \n",
              "25      25  5.863929 2025-01-21 06:32:12.540321 2025-01-21 06:32:20.981268   \n",
              "26      26  4.306030 2025-01-21 06:32:13.801671 2025-01-21 06:32:26.898999   \n",
              "27      27  4.313474 2025-01-21 06:32:20.983791 2025-01-21 06:32:36.910273   \n",
              "28      28  3.044850 2025-01-21 06:32:26.900998 2025-01-21 06:32:42.962500   \n",
              "29      29  3.032320 2025-01-21 06:32:36.916521 2025-01-21 06:32:46.854279   \n",
              "\n",
              "                 duration  params_c_linear  params_c_poly  params_c_rbf  \\\n",
              "0  0 days 00:00:17.535717              NaN            NaN           NaN   \n",
              "1  0 days 00:54:44.097120              NaN            NaN     19.205376   \n",
              "2  0 days 00:00:09.011020              NaN            NaN           NaN   \n",
              "3  0 days 00:00:30.076743              NaN            NaN           NaN   \n",
              "4  0 days 00:00:24.757754              NaN            NaN           NaN   \n",
              "5  0 days 00:00:42.721986              NaN            NaN           NaN   \n",
              "6  0 days 00:00:18.765924              NaN            NaN           NaN   \n",
              "7  0 days 00:01:05.752238              NaN            NaN           NaN   \n",
              "8  0 days 00:00:41.683541              NaN            NaN           NaN   \n",
              "9  0 days 00:00:22.253590              NaN            NaN           NaN   \n",
              "10 0 days 00:54:21.402346              NaN            NaN     10.731935   \n",
              "11 0 days 00:00:22.925687              NaN            NaN           NaN   \n",
              "12 0 days 00:40:20.643756              NaN       8.395864           NaN   \n",
              "13 0 days 00:00:34.749406              NaN            NaN           NaN   \n",
              "14 0 days 00:00:33.916077              NaN            NaN           NaN   \n",
              "15 0 days 00:00:27.937295              NaN            NaN           NaN   \n",
              "16 0 days 00:00:27.302479              NaN            NaN           NaN   \n",
              "17 0 days 00:43:09.878817              NaN       9.172463           NaN   \n",
              "18 0 days 00:52:14.600394         9.495971            NaN           NaN   \n",
              "19 0 days 00:54:01.232659              NaN            NaN     55.750647   \n",
              "20 0 days 00:42:18.891730              NaN       5.097482           NaN   \n",
              "21 0 days 00:41:49.967762              NaN       4.428077           NaN   \n",
              "22 0 days 00:00:53.964418              NaN            NaN           NaN   \n",
              "23 0 days 00:01:25.446456              NaN            NaN           NaN   \n",
              "24 0 days 00:00:03.467925              NaN            NaN           NaN   \n",
              "25 0 days 00:00:08.440947              NaN            NaN           NaN   \n",
              "26 0 days 00:00:13.097328              NaN            NaN           NaN   \n",
              "27 0 days 00:00:15.926482              NaN            NaN           NaN   \n",
              "28 0 days 00:00:16.061502              NaN            NaN           NaN   \n",
              "29 0 days 00:00:09.937758              NaN            NaN           NaN   \n",
              "\n",
              "    params_degree_poly  params_gamma_rbf  ... params_max_depth_rf  \\\n",
              "0                  NaN               NaN  ...                 NaN   \n",
              "1                  NaN          5.759266  ...                 NaN   \n",
              "2                  NaN               NaN  ...                 NaN   \n",
              "3                  NaN               NaN  ...                 NaN   \n",
              "4                  NaN               NaN  ...                 NaN   \n",
              "5                  NaN               NaN  ...                 NaN   \n",
              "6                  NaN               NaN  ...                 NaN   \n",
              "7                  NaN               NaN  ...                 NaN   \n",
              "8                  NaN               NaN  ...                 NaN   \n",
              "9                  NaN               NaN  ...                 NaN   \n",
              "10                 NaN          8.436878  ...                 NaN   \n",
              "11                 NaN               NaN  ...                 NaN   \n",
              "12                 1.0               NaN  ...                 NaN   \n",
              "13                 NaN               NaN  ...                17.0   \n",
              "14                 NaN               NaN  ...                 NaN   \n",
              "15                 NaN               NaN  ...                 NaN   \n",
              "16                 NaN               NaN  ...                 NaN   \n",
              "17                 2.0               NaN  ...                 NaN   \n",
              "18                 NaN               NaN  ...                 NaN   \n",
              "19                 NaN          6.318095  ...                 NaN   \n",
              "20                 2.0               NaN  ...                 NaN   \n",
              "21                 2.0               NaN  ...                 NaN   \n",
              "22                 NaN               NaN  ...                 NaN   \n",
              "23                 NaN               NaN  ...                 NaN   \n",
              "24                 NaN               NaN  ...                 NaN   \n",
              "25                 NaN               NaN  ...                 2.0   \n",
              "26                 NaN               NaN  ...                 NaN   \n",
              "27                 NaN               NaN  ...                 NaN   \n",
              "28                 NaN               NaN  ...                 NaN   \n",
              "29                 NaN               NaN  ...                 NaN   \n",
              "\n",
              "    params_max_depth_xgb  params_model  params_n_estimators_gb  \\\n",
              "0                    NaN          LGBM                     NaN   \n",
              "1                    NaN           SVM                     NaN   \n",
              "2                    NaN           KNN                     NaN   \n",
              "3                    NaN            GB                    29.0   \n",
              "4                   10.0           XGB                     NaN   \n",
              "5                   20.0           XGB                     NaN   \n",
              "6                    NaN            GB                   137.0   \n",
              "7                    NaN            GB                   146.0   \n",
              "8                    NaN            GB                    86.0   \n",
              "9                    NaN          LGBM                     NaN   \n",
              "10                   NaN           SVM                     NaN   \n",
              "11                   NaN          LGBM                     NaN   \n",
              "12                   NaN           SVM                     NaN   \n",
              "13                   NaN            RF                     NaN   \n",
              "14                   NaN          LGBM                     NaN   \n",
              "15                   4.0           XGB                     NaN   \n",
              "16                   NaN          LGBM                     NaN   \n",
              "17                   NaN           SVM                     NaN   \n",
              "18                   NaN           SVM                     NaN   \n",
              "19                   NaN           SVM                     NaN   \n",
              "20                   NaN           SVM                     NaN   \n",
              "21                   NaN           SVM                     NaN   \n",
              "22                   NaN          LGBM                     NaN   \n",
              "23                   NaN          LGBM                     NaN   \n",
              "24                   NaN          LGBM                     NaN   \n",
              "25                   NaN            RF                     NaN   \n",
              "26                   NaN           KNN                     NaN   \n",
              "27                   NaN           KNN                     NaN   \n",
              "28                   NaN          LGBM                     NaN   \n",
              "29                   NaN          LGBM                     NaN   \n",
              "\n",
              "    params_n_estimators_lgbm  params_n_estimators_rf  params_n_estimators_xgb  \\\n",
              "0                      140.0                     NaN                      NaN   \n",
              "1                        NaN                     NaN                      NaN   \n",
              "2                        NaN                     NaN                      NaN   \n",
              "3                        NaN                     NaN                      NaN   \n",
              "4                        NaN                     NaN                    169.0   \n",
              "5                        NaN                     NaN                     56.0   \n",
              "6                        NaN                     NaN                      NaN   \n",
              "7                        NaN                     NaN                      NaN   \n",
              "8                        NaN                     NaN                      NaN   \n",
              "9                       91.0                     NaN                      NaN   \n",
              "10                       NaN                     NaN                      NaN   \n",
              "11                      57.0                     NaN                      NaN   \n",
              "12                       NaN                     NaN                      NaN   \n",
              "13                       NaN                   101.0                      NaN   \n",
              "14                     101.0                     NaN                      NaN   \n",
              "15                       NaN                     NaN                    116.0   \n",
              "16                      83.0                     NaN                      NaN   \n",
              "17                       NaN                     NaN                      NaN   \n",
              "18                       NaN                     NaN                      NaN   \n",
              "19                       NaN                     NaN                      NaN   \n",
              "20                       NaN                     NaN                      NaN   \n",
              "21                       NaN                     NaN                      NaN   \n",
              "22                      68.0                     NaN                      NaN   \n",
              "23                     195.0                     NaN                      NaN   \n",
              "24                      10.0                     NaN                      NaN   \n",
              "25                       NaN                   194.0                      NaN   \n",
              "26                       NaN                     NaN                      NaN   \n",
              "27                       NaN                     NaN                      NaN   \n",
              "28                      83.0                     NaN                      NaN   \n",
              "29                      82.0                     NaN                      NaN   \n",
              "\n",
              "    params_n_neighbors_knn params_weights_knn     state  \n",
              "0                      NaN                NaN  COMPLETE  \n",
              "1                      NaN                NaN  COMPLETE  \n",
              "2                      9.0           distance  COMPLETE  \n",
              "3                      NaN                NaN  COMPLETE  \n",
              "4                      NaN                NaN  COMPLETE  \n",
              "5                      NaN                NaN  COMPLETE  \n",
              "6                      NaN                NaN  COMPLETE  \n",
              "7                      NaN                NaN  COMPLETE  \n",
              "8                      NaN                NaN  COMPLETE  \n",
              "9                      NaN                NaN  COMPLETE  \n",
              "10                     NaN                NaN  COMPLETE  \n",
              "11                     NaN                NaN  COMPLETE  \n",
              "12                     NaN                NaN  COMPLETE  \n",
              "13                     NaN                NaN  COMPLETE  \n",
              "14                     NaN                NaN  COMPLETE  \n",
              "15                     NaN                NaN  COMPLETE  \n",
              "16                     NaN                NaN  COMPLETE  \n",
              "17                     NaN                NaN  COMPLETE  \n",
              "18                     NaN                NaN  COMPLETE  \n",
              "19                     NaN                NaN  COMPLETE  \n",
              "20                     NaN                NaN  COMPLETE  \n",
              "21                     NaN                NaN  COMPLETE  \n",
              "22                     NaN                NaN  COMPLETE  \n",
              "23                     NaN                NaN  COMPLETE  \n",
              "24                     NaN                NaN  COMPLETE  \n",
              "25                     NaN                NaN  COMPLETE  \n",
              "26                    24.0            uniform  COMPLETE  \n",
              "27                    25.0            uniform  COMPLETE  \n",
              "28                     NaN                NaN  COMPLETE  \n",
              "29                     NaN                NaN  COMPLETE  \n",
              "\n",
              "[30 rows x 26 columns]"
            ]
          },
          "execution_count": 52,
          "metadata": {},
          "output_type": "execute_result"
        }
      ],
      "source": [
        "# dataframe of results\n",
        "\n",
        "study.trials_dataframe()"
      ]
    },
    {
      "cell_type": "code",
      "execution_count": 53,
      "metadata": {
        "colab": {
          "base_uri": "https://localhost:8080/",
          "height": 304
        },
        "id": "aGVSVjrVjtPd",
        "outputId": "f9af40c4-3d9a-4daf-a2ae-c7f2a6f7b623"
      },
      "outputs": [
        {
          "data": {
            "text/plain": [
              "params_model\n",
              "LGBM    10\n",
              "SVM      8\n",
              "GB       4\n",
              "KNN      3\n",
              "XGB      3\n",
              "RF       2\n",
              "Name: count, dtype: int64"
            ]
          },
          "execution_count": 53,
          "metadata": {},
          "output_type": "execute_result"
        }
      ],
      "source": [
        "# model frequency\n",
        "\n",
        "study.trials_dataframe()['params_model'].value_counts()"
      ]
    },
    {
      "cell_type": "code",
      "execution_count": 54,
      "metadata": {
        "colab": {
          "base_uri": "https://localhost:8080/",
          "height": 304
        },
        "id": "KPRu7okBjc55",
        "outputId": "bfcd6c9e-e538-41a0-f1de-54a2c9aec8e0"
      },
      "outputs": [
        {
          "data": {
            "text/plain": [
              "params_model\n",
              "LGBM    3.083664\n",
              "XGB     3.280250\n",
              "GB      3.554911\n",
              "KNN     4.272801\n",
              "RF      4.467872\n",
              "SVM     5.079763\n",
              "Name: value, dtype: float64"
            ]
          },
          "execution_count": 54,
          "metadata": {},
          "output_type": "execute_result"
        }
      ],
      "source": [
        "# avg scores for all tested models\n",
        "\n",
        "study.trials_dataframe().groupby(\"params_model\")['value'].mean().sort_values()"
      ]
    },
    {
      "cell_type": "code",
      "execution_count": 55,
      "metadata": {
        "id": "koJGzQrTzHiI"
      },
      "outputs": [],
      "source": [
        "from sklearn.compose import TransformedTargetRegressor\n",
        "\n",
        "model = TransformedTargetRegressor(regressor=lgbm,\n",
        "                                    transformer=pt)"
      ]
    },
    {
      "cell_type": "code",
      "execution_count": 56,
      "metadata": {
        "colab": {
          "base_uri": "https://localhost:8080/"
        },
        "id": "VJHdqxQyq_sG",
        "outputId": "dc339481-c4f6-418d-b043-304a4a47599a"
      },
      "outputs": [
        {
          "data": {
            "text/plain": [
              "array([-3.06435673, -3.04327813, -3.0700516 , -3.06852842, -3.05699881])"
            ]
          },
          "execution_count": 56,
          "metadata": {},
          "output_type": "execute_result"
        }
      ],
      "source": [
        "from sklearn.model_selection import cross_val_score\n",
        "\n",
        "scores = cross_val_score(model,\n",
        "                         X_train_trans,\n",
        "                         y_train,\n",
        "                         scoring=\"neg_mean_absolute_error\",\n",
        "                         cv=5,n_jobs=-1)\n",
        "\n",
        "scores"
      ]
    },
    {
      "cell_type": "code",
      "execution_count": 57,
      "metadata": {
        "colab": {
          "base_uri": "https://localhost:8080/"
        },
        "id": "wjN_ItGuuwoY",
        "outputId": "3059bbad-c969-4934-9280-85f5914e6b16"
      },
      "outputs": [
        {
          "data": {
            "text/plain": [
              "3.060642738151514"
            ]
          },
          "execution_count": 57,
          "metadata": {},
          "output_type": "execute_result"
        }
      ],
      "source": [
        "# mean score\n",
        "\n",
        "- scores.mean()"
      ]
    },
    {
      "cell_type": "code",
      "execution_count": 58,
      "metadata": {
        "colab": {
          "base_uri": "https://localhost:8080/",
          "height": 542
        },
        "id": "XGuyq81b7GI4",
        "outputId": "edb729f4-bf29-41ad-d721-2c617015007b"
      },
      "outputs": [
        {
          "data": {
            "application/vnd.plotly.v1+json": {
              "config": {
                "plotlyServerURL": "https://plot.ly"
              },
              "data": [
                {
                  "mode": "markers",
                  "name": "Objective Value",
                  "type": "scatter",
                  "x": [
                    0,
                    1,
                    2,
                    3,
                    4,
                    5,
                    6,
                    7,
                    8,
                    9,
                    10,
                    11,
                    12,
                    13,
                    14,
                    15,
                    16,
                    17,
                    18,
                    19,
                    20,
                    21,
                    22,
                    23,
                    24,
                    25,
                    26,
                    27,
                    28,
                    29
                  ],
                  "y": [
                    3.067753354146401,
                    6.38268135513438,
                    4.198899564767615,
                    4.081369286857615,
                    3.2730446146438665,
                    3.3966843184686053,
                    3.3279274817422446,
                    3.4759652474497127,
                    3.3343804832801918,
                    3.0397986075080268,
                    6.5585051145344355,
                    3.067954814120444,
                    4.6754331905394375,
                    3.071813817670532,
                    3.17872131280123,
                    3.171021066810617,
                    3.0363242428196227,
                    3.964249644710664,
                    4.6754643611031215,
                    6.446396701587195,
                    3.9670279048818435,
                    3.9683419488709,
                    3.0538145061592443,
                    3.0563284401225657,
                    3.2587792462489285,
                    5.86392936333293,
                    4.306030197628447,
                    4.313473738754308,
                    3.044850041093152,
                    3.0323203837785337
                  ]
                },
                {
                  "mode": "lines",
                  "name": "Best Value",
                  "type": "scatter",
                  "x": [
                    0,
                    1,
                    2,
                    3,
                    4,
                    5,
                    6,
                    7,
                    8,
                    9,
                    10,
                    11,
                    12,
                    13,
                    14,
                    15,
                    16,
                    17,
                    18,
                    19,
                    20,
                    21,
                    22,
                    23,
                    24,
                    25,
                    26,
                    27,
                    28,
                    29
                  ],
                  "y": [
                    3.067753354146401,
                    3.067753354146401,
                    3.067753354146401,
                    3.067753354146401,
                    3.067753354146401,
                    3.067753354146401,
                    3.067753354146401,
                    3.067753354146401,
                    3.067753354146401,
                    3.0397986075080268,
                    3.0397986075080268,
                    3.0397986075080268,
                    3.0397986075080268,
                    3.0397986075080268,
                    3.0397986075080268,
                    3.0397986075080268,
                    3.0363242428196227,
                    3.0363242428196227,
                    3.0363242428196227,
                    3.0363242428196227,
                    3.0363242428196227,
                    3.0363242428196227,
                    3.0363242428196227,
                    3.0363242428196227,
                    3.0363242428196227,
                    3.0363242428196227,
                    3.0363242428196227,
                    3.0363242428196227,
                    3.0363242428196227,
                    3.0323203837785337
                  ]
                },
                {
                  "marker": {
                    "color": "#cccccc"
                  },
                  "mode": "markers",
                  "name": "Infeasible Trial",
                  "showlegend": false,
                  "type": "scatter",
                  "x": [],
                  "y": []
                }
              ],
              "layout": {
                "template": {
                  "data": {
                    "bar": [
                      {
                        "error_x": {
                          "color": "#2a3f5f"
                        },
                        "error_y": {
                          "color": "#2a3f5f"
                        },
                        "marker": {
                          "line": {
                            "color": "#E5ECF6",
                            "width": 0.5
                          },
                          "pattern": {
                            "fillmode": "overlay",
                            "size": 10,
                            "solidity": 0.2
                          }
                        },
                        "type": "bar"
                      }
                    ],
                    "barpolar": [
                      {
                        "marker": {
                          "line": {
                            "color": "#E5ECF6",
                            "width": 0.5
                          },
                          "pattern": {
                            "fillmode": "overlay",
                            "size": 10,
                            "solidity": 0.2
                          }
                        },
                        "type": "barpolar"
                      }
                    ],
                    "carpet": [
                      {
                        "aaxis": {
                          "endlinecolor": "#2a3f5f",
                          "gridcolor": "white",
                          "linecolor": "white",
                          "minorgridcolor": "white",
                          "startlinecolor": "#2a3f5f"
                        },
                        "baxis": {
                          "endlinecolor": "#2a3f5f",
                          "gridcolor": "white",
                          "linecolor": "white",
                          "minorgridcolor": "white",
                          "startlinecolor": "#2a3f5f"
                        },
                        "type": "carpet"
                      }
                    ],
                    "choropleth": [
                      {
                        "colorbar": {
                          "outlinewidth": 0,
                          "ticks": ""
                        },
                        "type": "choropleth"
                      }
                    ],
                    "contour": [
                      {
                        "colorbar": {
                          "outlinewidth": 0,
                          "ticks": ""
                        },
                        "colorscale": [
                          [
                            0,
                            "#0d0887"
                          ],
                          [
                            0.1111111111111111,
                            "#46039f"
                          ],
                          [
                            0.2222222222222222,
                            "#7201a8"
                          ],
                          [
                            0.3333333333333333,
                            "#9c179e"
                          ],
                          [
                            0.4444444444444444,
                            "#bd3786"
                          ],
                          [
                            0.5555555555555556,
                            "#d8576b"
                          ],
                          [
                            0.6666666666666666,
                            "#ed7953"
                          ],
                          [
                            0.7777777777777778,
                            "#fb9f3a"
                          ],
                          [
                            0.8888888888888888,
                            "#fdca26"
                          ],
                          [
                            1,
                            "#f0f921"
                          ]
                        ],
                        "type": "contour"
                      }
                    ],
                    "contourcarpet": [
                      {
                        "colorbar": {
                          "outlinewidth": 0,
                          "ticks": ""
                        },
                        "type": "contourcarpet"
                      }
                    ],
                    "heatmap": [
                      {
                        "colorbar": {
                          "outlinewidth": 0,
                          "ticks": ""
                        },
                        "colorscale": [
                          [
                            0,
                            "#0d0887"
                          ],
                          [
                            0.1111111111111111,
                            "#46039f"
                          ],
                          [
                            0.2222222222222222,
                            "#7201a8"
                          ],
                          [
                            0.3333333333333333,
                            "#9c179e"
                          ],
                          [
                            0.4444444444444444,
                            "#bd3786"
                          ],
                          [
                            0.5555555555555556,
                            "#d8576b"
                          ],
                          [
                            0.6666666666666666,
                            "#ed7953"
                          ],
                          [
                            0.7777777777777778,
                            "#fb9f3a"
                          ],
                          [
                            0.8888888888888888,
                            "#fdca26"
                          ],
                          [
                            1,
                            "#f0f921"
                          ]
                        ],
                        "type": "heatmap"
                      }
                    ],
                    "heatmapgl": [
                      {
                        "colorbar": {
                          "outlinewidth": 0,
                          "ticks": ""
                        },
                        "colorscale": [
                          [
                            0,
                            "#0d0887"
                          ],
                          [
                            0.1111111111111111,
                            "#46039f"
                          ],
                          [
                            0.2222222222222222,
                            "#7201a8"
                          ],
                          [
                            0.3333333333333333,
                            "#9c179e"
                          ],
                          [
                            0.4444444444444444,
                            "#bd3786"
                          ],
                          [
                            0.5555555555555556,
                            "#d8576b"
                          ],
                          [
                            0.6666666666666666,
                            "#ed7953"
                          ],
                          [
                            0.7777777777777778,
                            "#fb9f3a"
                          ],
                          [
                            0.8888888888888888,
                            "#fdca26"
                          ],
                          [
                            1,
                            "#f0f921"
                          ]
                        ],
                        "type": "heatmapgl"
                      }
                    ],
                    "histogram": [
                      {
                        "marker": {
                          "pattern": {
                            "fillmode": "overlay",
                            "size": 10,
                            "solidity": 0.2
                          }
                        },
                        "type": "histogram"
                      }
                    ],
                    "histogram2d": [
                      {
                        "colorbar": {
                          "outlinewidth": 0,
                          "ticks": ""
                        },
                        "colorscale": [
                          [
                            0,
                            "#0d0887"
                          ],
                          [
                            0.1111111111111111,
                            "#46039f"
                          ],
                          [
                            0.2222222222222222,
                            "#7201a8"
                          ],
                          [
                            0.3333333333333333,
                            "#9c179e"
                          ],
                          [
                            0.4444444444444444,
                            "#bd3786"
                          ],
                          [
                            0.5555555555555556,
                            "#d8576b"
                          ],
                          [
                            0.6666666666666666,
                            "#ed7953"
                          ],
                          [
                            0.7777777777777778,
                            "#fb9f3a"
                          ],
                          [
                            0.8888888888888888,
                            "#fdca26"
                          ],
                          [
                            1,
                            "#f0f921"
                          ]
                        ],
                        "type": "histogram2d"
                      }
                    ],
                    "histogram2dcontour": [
                      {
                        "colorbar": {
                          "outlinewidth": 0,
                          "ticks": ""
                        },
                        "colorscale": [
                          [
                            0,
                            "#0d0887"
                          ],
                          [
                            0.1111111111111111,
                            "#46039f"
                          ],
                          [
                            0.2222222222222222,
                            "#7201a8"
                          ],
                          [
                            0.3333333333333333,
                            "#9c179e"
                          ],
                          [
                            0.4444444444444444,
                            "#bd3786"
                          ],
                          [
                            0.5555555555555556,
                            "#d8576b"
                          ],
                          [
                            0.6666666666666666,
                            "#ed7953"
                          ],
                          [
                            0.7777777777777778,
                            "#fb9f3a"
                          ],
                          [
                            0.8888888888888888,
                            "#fdca26"
                          ],
                          [
                            1,
                            "#f0f921"
                          ]
                        ],
                        "type": "histogram2dcontour"
                      }
                    ],
                    "mesh3d": [
                      {
                        "colorbar": {
                          "outlinewidth": 0,
                          "ticks": ""
                        },
                        "type": "mesh3d"
                      }
                    ],
                    "parcoords": [
                      {
                        "line": {
                          "colorbar": {
                            "outlinewidth": 0,
                            "ticks": ""
                          }
                        },
                        "type": "parcoords"
                      }
                    ],
                    "pie": [
                      {
                        "automargin": true,
                        "type": "pie"
                      }
                    ],
                    "scatter": [
                      {
                        "fillpattern": {
                          "fillmode": "overlay",
                          "size": 10,
                          "solidity": 0.2
                        },
                        "type": "scatter"
                      }
                    ],
                    "scatter3d": [
                      {
                        "line": {
                          "colorbar": {
                            "outlinewidth": 0,
                            "ticks": ""
                          }
                        },
                        "marker": {
                          "colorbar": {
                            "outlinewidth": 0,
                            "ticks": ""
                          }
                        },
                        "type": "scatter3d"
                      }
                    ],
                    "scattercarpet": [
                      {
                        "marker": {
                          "colorbar": {
                            "outlinewidth": 0,
                            "ticks": ""
                          }
                        },
                        "type": "scattercarpet"
                      }
                    ],
                    "scattergeo": [
                      {
                        "marker": {
                          "colorbar": {
                            "outlinewidth": 0,
                            "ticks": ""
                          }
                        },
                        "type": "scattergeo"
                      }
                    ],
                    "scattergl": [
                      {
                        "marker": {
                          "colorbar": {
                            "outlinewidth": 0,
                            "ticks": ""
                          }
                        },
                        "type": "scattergl"
                      }
                    ],
                    "scattermapbox": [
                      {
                        "marker": {
                          "colorbar": {
                            "outlinewidth": 0,
                            "ticks": ""
                          }
                        },
                        "type": "scattermapbox"
                      }
                    ],
                    "scatterpolar": [
                      {
                        "marker": {
                          "colorbar": {
                            "outlinewidth": 0,
                            "ticks": ""
                          }
                        },
                        "type": "scatterpolar"
                      }
                    ],
                    "scatterpolargl": [
                      {
                        "marker": {
                          "colorbar": {
                            "outlinewidth": 0,
                            "ticks": ""
                          }
                        },
                        "type": "scatterpolargl"
                      }
                    ],
                    "scatterternary": [
                      {
                        "marker": {
                          "colorbar": {
                            "outlinewidth": 0,
                            "ticks": ""
                          }
                        },
                        "type": "scatterternary"
                      }
                    ],
                    "surface": [
                      {
                        "colorbar": {
                          "outlinewidth": 0,
                          "ticks": ""
                        },
                        "colorscale": [
                          [
                            0,
                            "#0d0887"
                          ],
                          [
                            0.1111111111111111,
                            "#46039f"
                          ],
                          [
                            0.2222222222222222,
                            "#7201a8"
                          ],
                          [
                            0.3333333333333333,
                            "#9c179e"
                          ],
                          [
                            0.4444444444444444,
                            "#bd3786"
                          ],
                          [
                            0.5555555555555556,
                            "#d8576b"
                          ],
                          [
                            0.6666666666666666,
                            "#ed7953"
                          ],
                          [
                            0.7777777777777778,
                            "#fb9f3a"
                          ],
                          [
                            0.8888888888888888,
                            "#fdca26"
                          ],
                          [
                            1,
                            "#f0f921"
                          ]
                        ],
                        "type": "surface"
                      }
                    ],
                    "table": [
                      {
                        "cells": {
                          "fill": {
                            "color": "#EBF0F8"
                          },
                          "line": {
                            "color": "white"
                          }
                        },
                        "header": {
                          "fill": {
                            "color": "#C8D4E3"
                          },
                          "line": {
                            "color": "white"
                          }
                        },
                        "type": "table"
                      }
                    ]
                  },
                  "layout": {
                    "annotationdefaults": {
                      "arrowcolor": "#2a3f5f",
                      "arrowhead": 0,
                      "arrowwidth": 1
                    },
                    "autotypenumbers": "strict",
                    "coloraxis": {
                      "colorbar": {
                        "outlinewidth": 0,
                        "ticks": ""
                      }
                    },
                    "colorscale": {
                      "diverging": [
                        [
                          0,
                          "#8e0152"
                        ],
                        [
                          0.1,
                          "#c51b7d"
                        ],
                        [
                          0.2,
                          "#de77ae"
                        ],
                        [
                          0.3,
                          "#f1b6da"
                        ],
                        [
                          0.4,
                          "#fde0ef"
                        ],
                        [
                          0.5,
                          "#f7f7f7"
                        ],
                        [
                          0.6,
                          "#e6f5d0"
                        ],
                        [
                          0.7,
                          "#b8e186"
                        ],
                        [
                          0.8,
                          "#7fbc41"
                        ],
                        [
                          0.9,
                          "#4d9221"
                        ],
                        [
                          1,
                          "#276419"
                        ]
                      ],
                      "sequential": [
                        [
                          0,
                          "#0d0887"
                        ],
                        [
                          0.1111111111111111,
                          "#46039f"
                        ],
                        [
                          0.2222222222222222,
                          "#7201a8"
                        ],
                        [
                          0.3333333333333333,
                          "#9c179e"
                        ],
                        [
                          0.4444444444444444,
                          "#bd3786"
                        ],
                        [
                          0.5555555555555556,
                          "#d8576b"
                        ],
                        [
                          0.6666666666666666,
                          "#ed7953"
                        ],
                        [
                          0.7777777777777778,
                          "#fb9f3a"
                        ],
                        [
                          0.8888888888888888,
                          "#fdca26"
                        ],
                        [
                          1,
                          "#f0f921"
                        ]
                      ],
                      "sequentialminus": [
                        [
                          0,
                          "#0d0887"
                        ],
                        [
                          0.1111111111111111,
                          "#46039f"
                        ],
                        [
                          0.2222222222222222,
                          "#7201a8"
                        ],
                        [
                          0.3333333333333333,
                          "#9c179e"
                        ],
                        [
                          0.4444444444444444,
                          "#bd3786"
                        ],
                        [
                          0.5555555555555556,
                          "#d8576b"
                        ],
                        [
                          0.6666666666666666,
                          "#ed7953"
                        ],
                        [
                          0.7777777777777778,
                          "#fb9f3a"
                        ],
                        [
                          0.8888888888888888,
                          "#fdca26"
                        ],
                        [
                          1,
                          "#f0f921"
                        ]
                      ]
                    },
                    "colorway": [
                      "#636efa",
                      "#EF553B",
                      "#00cc96",
                      "#ab63fa",
                      "#FFA15A",
                      "#19d3f3",
                      "#FF6692",
                      "#B6E880",
                      "#FF97FF",
                      "#FECB52"
                    ],
                    "font": {
                      "color": "#2a3f5f"
                    },
                    "geo": {
                      "bgcolor": "white",
                      "lakecolor": "white",
                      "landcolor": "#E5ECF6",
                      "showlakes": true,
                      "showland": true,
                      "subunitcolor": "white"
                    },
                    "hoverlabel": {
                      "align": "left"
                    },
                    "hovermode": "closest",
                    "mapbox": {
                      "style": "light"
                    },
                    "paper_bgcolor": "white",
                    "plot_bgcolor": "#E5ECF6",
                    "polar": {
                      "angularaxis": {
                        "gridcolor": "white",
                        "linecolor": "white",
                        "ticks": ""
                      },
                      "bgcolor": "#E5ECF6",
                      "radialaxis": {
                        "gridcolor": "white",
                        "linecolor": "white",
                        "ticks": ""
                      }
                    },
                    "scene": {
                      "xaxis": {
                        "backgroundcolor": "#E5ECF6",
                        "gridcolor": "white",
                        "gridwidth": 2,
                        "linecolor": "white",
                        "showbackground": true,
                        "ticks": "",
                        "zerolinecolor": "white"
                      },
                      "yaxis": {
                        "backgroundcolor": "#E5ECF6",
                        "gridcolor": "white",
                        "gridwidth": 2,
                        "linecolor": "white",
                        "showbackground": true,
                        "ticks": "",
                        "zerolinecolor": "white"
                      },
                      "zaxis": {
                        "backgroundcolor": "#E5ECF6",
                        "gridcolor": "white",
                        "gridwidth": 2,
                        "linecolor": "white",
                        "showbackground": true,
                        "ticks": "",
                        "zerolinecolor": "white"
                      }
                    },
                    "shapedefaults": {
                      "line": {
                        "color": "#2a3f5f"
                      }
                    },
                    "ternary": {
                      "aaxis": {
                        "gridcolor": "white",
                        "linecolor": "white",
                        "ticks": ""
                      },
                      "baxis": {
                        "gridcolor": "white",
                        "linecolor": "white",
                        "ticks": ""
                      },
                      "bgcolor": "#E5ECF6",
                      "caxis": {
                        "gridcolor": "white",
                        "linecolor": "white",
                        "ticks": ""
                      }
                    },
                    "title": {
                      "x": 0.05
                    },
                    "xaxis": {
                      "automargin": true,
                      "gridcolor": "white",
                      "linecolor": "white",
                      "ticks": "",
                      "title": {
                        "standoff": 15
                      },
                      "zerolinecolor": "white",
                      "zerolinewidth": 2
                    },
                    "yaxis": {
                      "automargin": true,
                      "gridcolor": "white",
                      "linecolor": "white",
                      "ticks": "",
                      "title": {
                        "standoff": 15
                      },
                      "zerolinecolor": "white",
                      "zerolinewidth": 2
                    }
                  }
                },
                "title": {
                  "text": "Optimization History Plot"
                },
                "xaxis": {
                  "title": {
                    "text": "Trial"
                  }
                },
                "yaxis": {
                  "title": {
                    "text": "Objective Value"
                  }
                }
              }
            }
          },
          "metadata": {},
          "output_type": "display_data"
        }
      ],
      "source": [
        "# optimization history plot\n",
        "\n",
        "optuna.visualization.plot_optimization_history(study)"
      ]
    },
    {
      "cell_type": "code",
      "execution_count": 59,
      "metadata": {
        "colab": {
          "base_uri": "https://localhost:8080/",
          "height": 542
        },
        "id": "_gQvs3z97S1G",
        "outputId": "13cd1cce-d7b2-4a5b-f446-38a8b738da35"
      },
      "outputs": [
        {
          "data": {
            "application/vnd.plotly.v1+json": {
              "config": {
                "plotlyServerURL": "https://plot.ly"
              },
              "data": [
                {
                  "dimensions": [
                    {
                      "label": "Objective Value",
                      "range": [
                        3.0323203837785337,
                        6.5585051145344355
                      ],
                      "values": [
                        3.067753354146401,
                        6.38268135513438,
                        4.198899564767615,
                        4.081369286857615,
                        3.2730446146438665,
                        3.3966843184686053,
                        3.3279274817422446,
                        3.4759652474497127,
                        3.3343804832801918,
                        3.0397986075080268,
                        6.5585051145344355,
                        3.067954814120444,
                        4.6754331905394375,
                        3.071813817670532,
                        3.17872131280123,
                        3.171021066810617,
                        3.0363242428196227,
                        3.964249644710664,
                        4.6754643611031215,
                        6.446396701587195,
                        3.9670279048818435,
                        3.9683419488709,
                        3.0538145061592443,
                        3.0563284401225657,
                        3.2587792462489285,
                        5.86392936333293,
                        4.306030197628447,
                        4.313473738754308,
                        3.044850041093152,
                        3.0323203837785337
                      ]
                    },
                    {
                      "label": "model",
                      "range": [
                        0,
                        5
                      ],
                      "ticktext": [
                        "LGBM",
                        "SVM",
                        "KNN",
                        "GB",
                        "XGB",
                        "RF"
                      ],
                      "tickvals": [
                        0,
                        1,
                        2,
                        3,
                        4,
                        5
                      ],
                      "values": [
                        0,
                        1,
                        2,
                        3,
                        4,
                        4,
                        3,
                        3,
                        3,
                        0,
                        1,
                        0,
                        1,
                        5,
                        0,
                        4,
                        0,
                        1,
                        1,
                        1,
                        1,
                        1,
                        0,
                        0,
                        0,
                        5,
                        2,
                        2,
                        0,
                        0
                      ]
                    }
                  ],
                  "labelangle": 30,
                  "labelside": "bottom",
                  "line": {
                    "color": [
                      3.067753354146401,
                      6.38268135513438,
                      4.198899564767615,
                      4.081369286857615,
                      3.2730446146438665,
                      3.3966843184686053,
                      3.3279274817422446,
                      3.4759652474497127,
                      3.3343804832801918,
                      3.0397986075080268,
                      6.5585051145344355,
                      3.067954814120444,
                      4.6754331905394375,
                      3.071813817670532,
                      3.17872131280123,
                      3.171021066810617,
                      3.0363242428196227,
                      3.964249644710664,
                      4.6754643611031215,
                      6.446396701587195,
                      3.9670279048818435,
                      3.9683419488709,
                      3.0538145061592443,
                      3.0563284401225657,
                      3.2587792462489285,
                      5.86392936333293,
                      4.306030197628447,
                      4.313473738754308,
                      3.044850041093152,
                      3.0323203837785337
                    ],
                    "colorbar": {
                      "title": {
                        "text": "Objective Value"
                      }
                    },
                    "colorscale": [
                      [
                        0,
                        "rgb(247,251,255)"
                      ],
                      [
                        0.125,
                        "rgb(222,235,247)"
                      ],
                      [
                        0.25,
                        "rgb(198,219,239)"
                      ],
                      [
                        0.375,
                        "rgb(158,202,225)"
                      ],
                      [
                        0.5,
                        "rgb(107,174,214)"
                      ],
                      [
                        0.625,
                        "rgb(66,146,198)"
                      ],
                      [
                        0.75,
                        "rgb(33,113,181)"
                      ],
                      [
                        0.875,
                        "rgb(8,81,156)"
                      ],
                      [
                        1,
                        "rgb(8,48,107)"
                      ]
                    ],
                    "reversescale": true,
                    "showscale": true
                  },
                  "type": "parcoords"
                }
              ],
              "layout": {
                "template": {
                  "data": {
                    "bar": [
                      {
                        "error_x": {
                          "color": "#2a3f5f"
                        },
                        "error_y": {
                          "color": "#2a3f5f"
                        },
                        "marker": {
                          "line": {
                            "color": "#E5ECF6",
                            "width": 0.5
                          },
                          "pattern": {
                            "fillmode": "overlay",
                            "size": 10,
                            "solidity": 0.2
                          }
                        },
                        "type": "bar"
                      }
                    ],
                    "barpolar": [
                      {
                        "marker": {
                          "line": {
                            "color": "#E5ECF6",
                            "width": 0.5
                          },
                          "pattern": {
                            "fillmode": "overlay",
                            "size": 10,
                            "solidity": 0.2
                          }
                        },
                        "type": "barpolar"
                      }
                    ],
                    "carpet": [
                      {
                        "aaxis": {
                          "endlinecolor": "#2a3f5f",
                          "gridcolor": "white",
                          "linecolor": "white",
                          "minorgridcolor": "white",
                          "startlinecolor": "#2a3f5f"
                        },
                        "baxis": {
                          "endlinecolor": "#2a3f5f",
                          "gridcolor": "white",
                          "linecolor": "white",
                          "minorgridcolor": "white",
                          "startlinecolor": "#2a3f5f"
                        },
                        "type": "carpet"
                      }
                    ],
                    "choropleth": [
                      {
                        "colorbar": {
                          "outlinewidth": 0,
                          "ticks": ""
                        },
                        "type": "choropleth"
                      }
                    ],
                    "contour": [
                      {
                        "colorbar": {
                          "outlinewidth": 0,
                          "ticks": ""
                        },
                        "colorscale": [
                          [
                            0,
                            "#0d0887"
                          ],
                          [
                            0.1111111111111111,
                            "#46039f"
                          ],
                          [
                            0.2222222222222222,
                            "#7201a8"
                          ],
                          [
                            0.3333333333333333,
                            "#9c179e"
                          ],
                          [
                            0.4444444444444444,
                            "#bd3786"
                          ],
                          [
                            0.5555555555555556,
                            "#d8576b"
                          ],
                          [
                            0.6666666666666666,
                            "#ed7953"
                          ],
                          [
                            0.7777777777777778,
                            "#fb9f3a"
                          ],
                          [
                            0.8888888888888888,
                            "#fdca26"
                          ],
                          [
                            1,
                            "#f0f921"
                          ]
                        ],
                        "type": "contour"
                      }
                    ],
                    "contourcarpet": [
                      {
                        "colorbar": {
                          "outlinewidth": 0,
                          "ticks": ""
                        },
                        "type": "contourcarpet"
                      }
                    ],
                    "heatmap": [
                      {
                        "colorbar": {
                          "outlinewidth": 0,
                          "ticks": ""
                        },
                        "colorscale": [
                          [
                            0,
                            "#0d0887"
                          ],
                          [
                            0.1111111111111111,
                            "#46039f"
                          ],
                          [
                            0.2222222222222222,
                            "#7201a8"
                          ],
                          [
                            0.3333333333333333,
                            "#9c179e"
                          ],
                          [
                            0.4444444444444444,
                            "#bd3786"
                          ],
                          [
                            0.5555555555555556,
                            "#d8576b"
                          ],
                          [
                            0.6666666666666666,
                            "#ed7953"
                          ],
                          [
                            0.7777777777777778,
                            "#fb9f3a"
                          ],
                          [
                            0.8888888888888888,
                            "#fdca26"
                          ],
                          [
                            1,
                            "#f0f921"
                          ]
                        ],
                        "type": "heatmap"
                      }
                    ],
                    "heatmapgl": [
                      {
                        "colorbar": {
                          "outlinewidth": 0,
                          "ticks": ""
                        },
                        "colorscale": [
                          [
                            0,
                            "#0d0887"
                          ],
                          [
                            0.1111111111111111,
                            "#46039f"
                          ],
                          [
                            0.2222222222222222,
                            "#7201a8"
                          ],
                          [
                            0.3333333333333333,
                            "#9c179e"
                          ],
                          [
                            0.4444444444444444,
                            "#bd3786"
                          ],
                          [
                            0.5555555555555556,
                            "#d8576b"
                          ],
                          [
                            0.6666666666666666,
                            "#ed7953"
                          ],
                          [
                            0.7777777777777778,
                            "#fb9f3a"
                          ],
                          [
                            0.8888888888888888,
                            "#fdca26"
                          ],
                          [
                            1,
                            "#f0f921"
                          ]
                        ],
                        "type": "heatmapgl"
                      }
                    ],
                    "histogram": [
                      {
                        "marker": {
                          "pattern": {
                            "fillmode": "overlay",
                            "size": 10,
                            "solidity": 0.2
                          }
                        },
                        "type": "histogram"
                      }
                    ],
                    "histogram2d": [
                      {
                        "colorbar": {
                          "outlinewidth": 0,
                          "ticks": ""
                        },
                        "colorscale": [
                          [
                            0,
                            "#0d0887"
                          ],
                          [
                            0.1111111111111111,
                            "#46039f"
                          ],
                          [
                            0.2222222222222222,
                            "#7201a8"
                          ],
                          [
                            0.3333333333333333,
                            "#9c179e"
                          ],
                          [
                            0.4444444444444444,
                            "#bd3786"
                          ],
                          [
                            0.5555555555555556,
                            "#d8576b"
                          ],
                          [
                            0.6666666666666666,
                            "#ed7953"
                          ],
                          [
                            0.7777777777777778,
                            "#fb9f3a"
                          ],
                          [
                            0.8888888888888888,
                            "#fdca26"
                          ],
                          [
                            1,
                            "#f0f921"
                          ]
                        ],
                        "type": "histogram2d"
                      }
                    ],
                    "histogram2dcontour": [
                      {
                        "colorbar": {
                          "outlinewidth": 0,
                          "ticks": ""
                        },
                        "colorscale": [
                          [
                            0,
                            "#0d0887"
                          ],
                          [
                            0.1111111111111111,
                            "#46039f"
                          ],
                          [
                            0.2222222222222222,
                            "#7201a8"
                          ],
                          [
                            0.3333333333333333,
                            "#9c179e"
                          ],
                          [
                            0.4444444444444444,
                            "#bd3786"
                          ],
                          [
                            0.5555555555555556,
                            "#d8576b"
                          ],
                          [
                            0.6666666666666666,
                            "#ed7953"
                          ],
                          [
                            0.7777777777777778,
                            "#fb9f3a"
                          ],
                          [
                            0.8888888888888888,
                            "#fdca26"
                          ],
                          [
                            1,
                            "#f0f921"
                          ]
                        ],
                        "type": "histogram2dcontour"
                      }
                    ],
                    "mesh3d": [
                      {
                        "colorbar": {
                          "outlinewidth": 0,
                          "ticks": ""
                        },
                        "type": "mesh3d"
                      }
                    ],
                    "parcoords": [
                      {
                        "line": {
                          "colorbar": {
                            "outlinewidth": 0,
                            "ticks": ""
                          }
                        },
                        "type": "parcoords"
                      }
                    ],
                    "pie": [
                      {
                        "automargin": true,
                        "type": "pie"
                      }
                    ],
                    "scatter": [
                      {
                        "fillpattern": {
                          "fillmode": "overlay",
                          "size": 10,
                          "solidity": 0.2
                        },
                        "type": "scatter"
                      }
                    ],
                    "scatter3d": [
                      {
                        "line": {
                          "colorbar": {
                            "outlinewidth": 0,
                            "ticks": ""
                          }
                        },
                        "marker": {
                          "colorbar": {
                            "outlinewidth": 0,
                            "ticks": ""
                          }
                        },
                        "type": "scatter3d"
                      }
                    ],
                    "scattercarpet": [
                      {
                        "marker": {
                          "colorbar": {
                            "outlinewidth": 0,
                            "ticks": ""
                          }
                        },
                        "type": "scattercarpet"
                      }
                    ],
                    "scattergeo": [
                      {
                        "marker": {
                          "colorbar": {
                            "outlinewidth": 0,
                            "ticks": ""
                          }
                        },
                        "type": "scattergeo"
                      }
                    ],
                    "scattergl": [
                      {
                        "marker": {
                          "colorbar": {
                            "outlinewidth": 0,
                            "ticks": ""
                          }
                        },
                        "type": "scattergl"
                      }
                    ],
                    "scattermapbox": [
                      {
                        "marker": {
                          "colorbar": {
                            "outlinewidth": 0,
                            "ticks": ""
                          }
                        },
                        "type": "scattermapbox"
                      }
                    ],
                    "scatterpolar": [
                      {
                        "marker": {
                          "colorbar": {
                            "outlinewidth": 0,
                            "ticks": ""
                          }
                        },
                        "type": "scatterpolar"
                      }
                    ],
                    "scatterpolargl": [
                      {
                        "marker": {
                          "colorbar": {
                            "outlinewidth": 0,
                            "ticks": ""
                          }
                        },
                        "type": "scatterpolargl"
                      }
                    ],
                    "scatterternary": [
                      {
                        "marker": {
                          "colorbar": {
                            "outlinewidth": 0,
                            "ticks": ""
                          }
                        },
                        "type": "scatterternary"
                      }
                    ],
                    "surface": [
                      {
                        "colorbar": {
                          "outlinewidth": 0,
                          "ticks": ""
                        },
                        "colorscale": [
                          [
                            0,
                            "#0d0887"
                          ],
                          [
                            0.1111111111111111,
                            "#46039f"
                          ],
                          [
                            0.2222222222222222,
                            "#7201a8"
                          ],
                          [
                            0.3333333333333333,
                            "#9c179e"
                          ],
                          [
                            0.4444444444444444,
                            "#bd3786"
                          ],
                          [
                            0.5555555555555556,
                            "#d8576b"
                          ],
                          [
                            0.6666666666666666,
                            "#ed7953"
                          ],
                          [
                            0.7777777777777778,
                            "#fb9f3a"
                          ],
                          [
                            0.8888888888888888,
                            "#fdca26"
                          ],
                          [
                            1,
                            "#f0f921"
                          ]
                        ],
                        "type": "surface"
                      }
                    ],
                    "table": [
                      {
                        "cells": {
                          "fill": {
                            "color": "#EBF0F8"
                          },
                          "line": {
                            "color": "white"
                          }
                        },
                        "header": {
                          "fill": {
                            "color": "#C8D4E3"
                          },
                          "line": {
                            "color": "white"
                          }
                        },
                        "type": "table"
                      }
                    ]
                  },
                  "layout": {
                    "annotationdefaults": {
                      "arrowcolor": "#2a3f5f",
                      "arrowhead": 0,
                      "arrowwidth": 1
                    },
                    "autotypenumbers": "strict",
                    "coloraxis": {
                      "colorbar": {
                        "outlinewidth": 0,
                        "ticks": ""
                      }
                    },
                    "colorscale": {
                      "diverging": [
                        [
                          0,
                          "#8e0152"
                        ],
                        [
                          0.1,
                          "#c51b7d"
                        ],
                        [
                          0.2,
                          "#de77ae"
                        ],
                        [
                          0.3,
                          "#f1b6da"
                        ],
                        [
                          0.4,
                          "#fde0ef"
                        ],
                        [
                          0.5,
                          "#f7f7f7"
                        ],
                        [
                          0.6,
                          "#e6f5d0"
                        ],
                        [
                          0.7,
                          "#b8e186"
                        ],
                        [
                          0.8,
                          "#7fbc41"
                        ],
                        [
                          0.9,
                          "#4d9221"
                        ],
                        [
                          1,
                          "#276419"
                        ]
                      ],
                      "sequential": [
                        [
                          0,
                          "#0d0887"
                        ],
                        [
                          0.1111111111111111,
                          "#46039f"
                        ],
                        [
                          0.2222222222222222,
                          "#7201a8"
                        ],
                        [
                          0.3333333333333333,
                          "#9c179e"
                        ],
                        [
                          0.4444444444444444,
                          "#bd3786"
                        ],
                        [
                          0.5555555555555556,
                          "#d8576b"
                        ],
                        [
                          0.6666666666666666,
                          "#ed7953"
                        ],
                        [
                          0.7777777777777778,
                          "#fb9f3a"
                        ],
                        [
                          0.8888888888888888,
                          "#fdca26"
                        ],
                        [
                          1,
                          "#f0f921"
                        ]
                      ],
                      "sequentialminus": [
                        [
                          0,
                          "#0d0887"
                        ],
                        [
                          0.1111111111111111,
                          "#46039f"
                        ],
                        [
                          0.2222222222222222,
                          "#7201a8"
                        ],
                        [
                          0.3333333333333333,
                          "#9c179e"
                        ],
                        [
                          0.4444444444444444,
                          "#bd3786"
                        ],
                        [
                          0.5555555555555556,
                          "#d8576b"
                        ],
                        [
                          0.6666666666666666,
                          "#ed7953"
                        ],
                        [
                          0.7777777777777778,
                          "#fb9f3a"
                        ],
                        [
                          0.8888888888888888,
                          "#fdca26"
                        ],
                        [
                          1,
                          "#f0f921"
                        ]
                      ]
                    },
                    "colorway": [
                      "#636efa",
                      "#EF553B",
                      "#00cc96",
                      "#ab63fa",
                      "#FFA15A",
                      "#19d3f3",
                      "#FF6692",
                      "#B6E880",
                      "#FF97FF",
                      "#FECB52"
                    ],
                    "font": {
                      "color": "#2a3f5f"
                    },
                    "geo": {
                      "bgcolor": "white",
                      "lakecolor": "white",
                      "landcolor": "#E5ECF6",
                      "showlakes": true,
                      "showland": true,
                      "subunitcolor": "white"
                    },
                    "hoverlabel": {
                      "align": "left"
                    },
                    "hovermode": "closest",
                    "mapbox": {
                      "style": "light"
                    },
                    "paper_bgcolor": "white",
                    "plot_bgcolor": "#E5ECF6",
                    "polar": {
                      "angularaxis": {
                        "gridcolor": "white",
                        "linecolor": "white",
                        "ticks": ""
                      },
                      "bgcolor": "#E5ECF6",
                      "radialaxis": {
                        "gridcolor": "white",
                        "linecolor": "white",
                        "ticks": ""
                      }
                    },
                    "scene": {
                      "xaxis": {
                        "backgroundcolor": "#E5ECF6",
                        "gridcolor": "white",
                        "gridwidth": 2,
                        "linecolor": "white",
                        "showbackground": true,
                        "ticks": "",
                        "zerolinecolor": "white"
                      },
                      "yaxis": {
                        "backgroundcolor": "#E5ECF6",
                        "gridcolor": "white",
                        "gridwidth": 2,
                        "linecolor": "white",
                        "showbackground": true,
                        "ticks": "",
                        "zerolinecolor": "white"
                      },
                      "zaxis": {
                        "backgroundcolor": "#E5ECF6",
                        "gridcolor": "white",
                        "gridwidth": 2,
                        "linecolor": "white",
                        "showbackground": true,
                        "ticks": "",
                        "zerolinecolor": "white"
                      }
                    },
                    "shapedefaults": {
                      "line": {
                        "color": "#2a3f5f"
                      }
                    },
                    "ternary": {
                      "aaxis": {
                        "gridcolor": "white",
                        "linecolor": "white",
                        "ticks": ""
                      },
                      "baxis": {
                        "gridcolor": "white",
                        "linecolor": "white",
                        "ticks": ""
                      },
                      "bgcolor": "#E5ECF6",
                      "caxis": {
                        "gridcolor": "white",
                        "linecolor": "white",
                        "ticks": ""
                      }
                    },
                    "title": {
                      "x": 0.05
                    },
                    "xaxis": {
                      "automargin": true,
                      "gridcolor": "white",
                      "linecolor": "white",
                      "ticks": "",
                      "title": {
                        "standoff": 15
                      },
                      "zerolinecolor": "white",
                      "zerolinewidth": 2
                    },
                    "yaxis": {
                      "automargin": true,
                      "gridcolor": "white",
                      "linecolor": "white",
                      "ticks": "",
                      "title": {
                        "standoff": 15
                      },
                      "zerolinecolor": "white",
                      "zerolinewidth": 2
                    }
                  }
                },
                "title": {
                  "text": "Parallel Coordinate Plot"
                }
              }
            }
          },
          "metadata": {},
          "output_type": "display_data"
        }
      ],
      "source": [
        "# partial coord plot\n",
        "\n",
        "optuna.visualization.plot_parallel_coordinate(study,params=[\"model\"])"
      ]
    }
  ],
  "metadata": {
    "colab": {
      "provenance": []
    },
    "kernelspec": {
      "display_name": "base",
      "language": "python",
      "name": "python3"
    },
    "language_info": {
      "codemirror_mode": {
        "name": "ipython",
        "version": 3
      },
      "file_extension": ".py",
      "mimetype": "text/x-python",
      "name": "python",
      "nbconvert_exporter": "python",
      "pygments_lexer": "ipython3",
      "version": "3.11.5"
    }
  },
  "nbformat": 4,
  "nbformat_minor": 0
}
