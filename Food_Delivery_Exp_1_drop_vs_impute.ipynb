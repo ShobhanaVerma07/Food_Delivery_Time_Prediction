{
  "cells": [
    {
      "cell_type": "markdown",
      "metadata": {
        "id": "HWqt3W2bVbas"
      },
      "source": [
        "# Import Packages"
      ]
    },
    {
      "cell_type": "code",
      "execution_count": 41,
      "metadata": {
        "id": "Kje27pyKIlRO"
      },
      "outputs": [],
      "source": [
        "import numpy as np\n",
        "import pandas as pd\n",
        "import data_clean_utils\n",
        "from sklearn.pipeline import Pipeline\n",
        "from sklearn.compose import ColumnTransformer\n",
        "from sklearn.impute import SimpleImputer, KNNImputer, MissingIndicator\n",
        "from sklearn.preprocessing import OneHotEncoder, StandardScaler, LabelEncoder, MinMaxScaler, PowerTransformer, OrdinalEncoder\n",
        "from sklearn.model_selection import train_test_split"
      ]
    },
    {
      "cell_type": "code",
      "execution_count": 42,
      "metadata": {
        "colab": {
          "base_uri": "https://localhost:8080/"
        },
        "id": "TIIvcTR5TCXb",
        "outputId": "9fb0b005-c080-449e-b2c0-5d71a5112f9b"
      },
      "outputs": [
        {
          "name": "stdout",
          "output_type": "stream",
          "text": [
            "Requirement already satisfied: mlflow in c:\\users\\shobh\\anaconda3\\lib\\site-packages (2.19.0)\n",
            "Requirement already satisfied: dagshub in c:\\users\\shobh\\anaconda3\\lib\\site-packages (0.5.1)\n",
            "Requirement already satisfied: mlflow-skinny==2.19.0 in c:\\users\\shobh\\anaconda3\\lib\\site-packages (from mlflow) (2.19.0)\n",
            "Requirement already satisfied: Flask<4 in c:\\users\\shobh\\anaconda3\\lib\\site-packages (from mlflow) (2.2.2)\n",
            "Requirement already satisfied: Jinja2<4,>=3.0 in c:\\users\\shobh\\anaconda3\\lib\\site-packages (from mlflow) (3.1.2)\n",
            "Requirement already satisfied: alembic!=1.10.0,<2 in c:\\users\\shobh\\anaconda3\\lib\\site-packages (from mlflow) (1.14.0)\n",
            "Requirement already satisfied: docker<8,>=4.0.0 in c:\\users\\shobh\\anaconda3\\lib\\site-packages (from mlflow) (7.1.0)\n",
            "Requirement already satisfied: graphene<4 in c:\\users\\shobh\\anaconda3\\lib\\site-packages (from mlflow) (3.4.3)\n",
            "Requirement already satisfied: markdown<4,>=3.3 in c:\\users\\shobh\\anaconda3\\lib\\site-packages (from mlflow) (3.4.1)\n",
            "Requirement already satisfied: matplotlib<4 in c:\\users\\shobh\\anaconda3\\lib\\site-packages (from mlflow) (3.7.2)\n",
            "Requirement already satisfied: numpy<3 in c:\\users\\shobh\\anaconda3\\lib\\site-packages (from mlflow) (1.24.3)\n",
            "Requirement already satisfied: pandas<3 in c:\\users\\shobh\\anaconda3\\lib\\site-packages (from mlflow) (2.0.3)\n",
            "Requirement already satisfied: pyarrow<19,>=4.0.0 in c:\\users\\shobh\\anaconda3\\lib\\site-packages (from mlflow) (11.0.0)\n",
            "Requirement already satisfied: scikit-learn<2 in c:\\users\\shobh\\anaconda3\\lib\\site-packages (from mlflow) (1.3.0)\n",
            "Requirement already satisfied: scipy<2 in c:\\users\\shobh\\anaconda3\\lib\\site-packages (from mlflow) (1.11.1)\n",
            "Requirement already satisfied: sqlalchemy<3,>=1.4.0 in c:\\users\\shobh\\anaconda3\\lib\\site-packages (from mlflow) (1.4.39)\n",
            "Requirement already satisfied: waitress<4 in c:\\users\\shobh\\anaconda3\\lib\\site-packages (from mlflow) (3.0.2)\n",
            "Requirement already satisfied: cachetools<6,>=5.0.0 in c:\\users\\shobh\\anaconda3\\lib\\site-packages (from mlflow-skinny==2.19.0->mlflow) (5.5.0)\n",
            "Requirement already satisfied: click<9,>=7.0 in c:\\users\\shobh\\anaconda3\\lib\\site-packages (from mlflow-skinny==2.19.0->mlflow) (8.0.4)\n",
            "Requirement already satisfied: cloudpickle<4 in c:\\users\\shobh\\anaconda3\\lib\\site-packages (from mlflow-skinny==2.19.0->mlflow) (2.2.1)\n",
            "Requirement already satisfied: databricks-sdk<1,>=0.20.0 in c:\\users\\shobh\\anaconda3\\lib\\site-packages (from mlflow-skinny==2.19.0->mlflow) (0.40.0)\n",
            "Requirement already satisfied: gitpython<4,>=3.1.9 in c:\\users\\shobh\\anaconda3\\lib\\site-packages (from mlflow-skinny==2.19.0->mlflow) (3.1.44)\n",
            "Requirement already satisfied: importlib_metadata!=4.7.0,<9,>=3.7.0 in c:\\users\\shobh\\anaconda3\\lib\\site-packages (from mlflow-skinny==2.19.0->mlflow) (6.0.0)\n",
            "Requirement already satisfied: opentelemetry-api<3,>=1.9.0 in c:\\users\\shobh\\anaconda3\\lib\\site-packages (from mlflow-skinny==2.19.0->mlflow) (1.29.0)\n",
            "Requirement already satisfied: opentelemetry-sdk<3,>=1.9.0 in c:\\users\\shobh\\anaconda3\\lib\\site-packages (from mlflow-skinny==2.19.0->mlflow) (1.29.0)\n",
            "Requirement already satisfied: packaging<25 in c:\\users\\shobh\\anaconda3\\lib\\site-packages (from mlflow-skinny==2.19.0->mlflow) (23.1)\n",
            "Requirement already satisfied: protobuf<6,>=3.12.0 in c:\\users\\shobh\\anaconda3\\lib\\site-packages (from mlflow-skinny==2.19.0->mlflow) (5.29.3)\n",
            "Requirement already satisfied: pyyaml<7,>=5.1 in c:\\users\\shobh\\anaconda3\\lib\\site-packages (from mlflow-skinny==2.19.0->mlflow) (6.0)\n",
            "Requirement already satisfied: requests<3,>=2.17.3 in c:\\users\\shobh\\anaconda3\\lib\\site-packages (from mlflow-skinny==2.19.0->mlflow) (2.31.0)\n",
            "Requirement already satisfied: sqlparse<1,>=0.4.0 in c:\\users\\shobh\\anaconda3\\lib\\site-packages (from mlflow-skinny==2.19.0->mlflow) (0.5.3)\n",
            "Requirement already satisfied: appdirs>=1.4.4 in c:\\users\\shobh\\anaconda3\\lib\\site-packages (from dagshub) (1.4.4)\n",
            "Requirement already satisfied: httpx>=0.23.0 in c:\\users\\shobh\\anaconda3\\lib\\site-packages (from dagshub) (0.28.1)\n",
            "Requirement already satisfied: rich>=13.1.0 in c:\\users\\shobh\\anaconda3\\lib\\site-packages (from dagshub) (13.9.4)\n",
            "Requirement already satisfied: dacite~=1.6.0 in c:\\users\\shobh\\anaconda3\\lib\\site-packages (from dagshub) (1.6.0)\n",
            "Requirement already satisfied: tenacity>=8.2.2 in c:\\users\\shobh\\anaconda3\\lib\\site-packages (from dagshub) (8.2.2)\n",
            "Requirement already satisfied: gql[requests] in c:\\users\\shobh\\anaconda3\\lib\\site-packages (from dagshub) (3.5.0)\n",
            "Requirement already satisfied: dataclasses-json in c:\\users\\shobh\\anaconda3\\lib\\site-packages (from dagshub) (0.6.7)\n",
            "Requirement already satisfied: treelib>=1.6.4 in c:\\users\\shobh\\anaconda3\\lib\\site-packages (from dagshub) (1.7.0)\n",
            "Requirement already satisfied: pathvalidate>=3.0.0 in c:\\users\\shobh\\anaconda3\\lib\\site-packages (from dagshub) (3.2.3)\n",
            "Requirement already satisfied: python-dateutil in c:\\users\\shobh\\anaconda3\\lib\\site-packages (from dagshub) (2.8.2)\n",
            "Requirement already satisfied: boto3 in c:\\users\\shobh\\anaconda3\\lib\\site-packages (from dagshub) (1.36.0)\n",
            "Requirement already satisfied: semver in c:\\users\\shobh\\anaconda3\\lib\\site-packages (from dagshub) (3.0.2)\n",
            "Requirement already satisfied: dagshub-annotation-converter>=0.1.3 in c:\\users\\shobh\\anaconda3\\lib\\site-packages (from dagshub) (0.1.3)\n",
            "Requirement already satisfied: Mako in c:\\users\\shobh\\anaconda3\\lib\\site-packages (from alembic!=1.10.0,<2->mlflow) (1.3.8)\n",
            "Requirement already satisfied: typing-extensions>=4 in c:\\users\\shobh\\anaconda3\\lib\\site-packages (from alembic!=1.10.0,<2->mlflow) (4.12.2)\n",
            "Requirement already satisfied: colorama in c:\\users\\shobh\\anaconda3\\lib\\site-packages (from click<9,>=7.0->mlflow-skinny==2.19.0->mlflow) (0.4.6)\n",
            "Requirement already satisfied: lxml in c:\\users\\shobh\\anaconda3\\lib\\site-packages (from dagshub-annotation-converter>=0.1.3->dagshub) (4.9.3)\n",
            "Requirement already satisfied: pillow in c:\\users\\shobh\\anaconda3\\lib\\site-packages (from dagshub-annotation-converter>=0.1.3->dagshub) (9.4.0)\n",
            "Requirement already satisfied: pydantic>=2.0.0 in c:\\users\\shobh\\anaconda3\\lib\\site-packages (from dagshub-annotation-converter>=0.1.3->dagshub) (2.10.5)\n",
            "Requirement already satisfied: pywin32>=304 in c:\\users\\shobh\\anaconda3\\lib\\site-packages (from docker<8,>=4.0.0->mlflow) (305.1)\n",
            "Requirement already satisfied: urllib3>=1.26.0 in c:\\users\\shobh\\anaconda3\\lib\\site-packages (from docker<8,>=4.0.0->mlflow) (1.26.16)\n",
            "Requirement already satisfied: Werkzeug>=2.2.2 in c:\\users\\shobh\\anaconda3\\lib\\site-packages (from Flask<4->mlflow) (2.2.3)\n",
            "Requirement already satisfied: itsdangerous>=2.0 in c:\\users\\shobh\\anaconda3\\lib\\site-packages (from Flask<4->mlflow) (2.0.1)\n",
            "Requirement already satisfied: gitdb<5,>=4.0.1 in c:\\users\\shobh\\anaconda3\\lib\\site-packages (from gitpython<4,>=3.1.9->mlflow-skinny==2.19.0->mlflow) (4.0.12)\n",
            "Requirement already satisfied: graphql-core<3.3,>=3.1 in c:\\users\\shobh\\anaconda3\\lib\\site-packages (from graphene<4->mlflow) (3.2.5)\n",
            "Requirement already satisfied: graphql-relay<3.3,>=3.1 in c:\\users\\shobh\\anaconda3\\lib\\site-packages (from graphene<4->mlflow) (3.2.0)\n",
            "Requirement already satisfied: anyio in c:\\users\\shobh\\anaconda3\\lib\\site-packages (from httpx>=0.23.0->dagshub) (3.5.0)\n",
            "Requirement already satisfied: certifi in c:\\users\\shobh\\anaconda3\\lib\\site-packages (from httpx>=0.23.0->dagshub) (2023.7.22)\n",
            "Requirement already satisfied: httpcore==1.* in c:\\users\\shobh\\anaconda3\\lib\\site-packages (from httpx>=0.23.0->dagshub) (1.0.7)\n",
            "Requirement already satisfied: idna in c:\\users\\shobh\\anaconda3\\lib\\site-packages (from httpx>=0.23.0->dagshub) (3.4)\n",
            "Requirement already satisfied: h11<0.15,>=0.13 in c:\\users\\shobh\\anaconda3\\lib\\site-packages (from httpcore==1.*->httpx>=0.23.0->dagshub) (0.14.0)\n",
            "Requirement already satisfied: MarkupSafe>=2.0 in c:\\users\\shobh\\anaconda3\\lib\\site-packages (from Jinja2<4,>=3.0->mlflow) (2.1.1)\n",
            "Requirement already satisfied: contourpy>=1.0.1 in c:\\users\\shobh\\anaconda3\\lib\\site-packages (from matplotlib<4->mlflow) (1.0.5)\n",
            "Requirement already satisfied: cycler>=0.10 in c:\\users\\shobh\\anaconda3\\lib\\site-packages (from matplotlib<4->mlflow) (0.11.0)\n",
            "Requirement already satisfied: fonttools>=4.22.0 in c:\\users\\shobh\\anaconda3\\lib\\site-packages (from matplotlib<4->mlflow) (4.25.0)\n",
            "Requirement already satisfied: kiwisolver>=1.0.1 in c:\\users\\shobh\\anaconda3\\lib\\site-packages (from matplotlib<4->mlflow) (1.4.4)\n",
            "Requirement already satisfied: pyparsing<3.1,>=2.3.1 in c:\\users\\shobh\\anaconda3\\lib\\site-packages (from matplotlib<4->mlflow) (3.0.9)\n",
            "Requirement already satisfied: pytz>=2020.1 in c:\\users\\shobh\\anaconda3\\lib\\site-packages (from pandas<3->mlflow) (2023.3.post1)\n",
            "Requirement already satisfied: tzdata>=2022.1 in c:\\users\\shobh\\anaconda3\\lib\\site-packages (from pandas<3->mlflow) (2023.3)\n",
            "Requirement already satisfied: six>=1.5 in c:\\users\\shobh\\anaconda3\\lib\\site-packages (from python-dateutil->dagshub) (1.16.0)\n",
            "Requirement already satisfied: markdown-it-py>=2.2.0 in c:\\users\\shobh\\anaconda3\\lib\\site-packages (from rich>=13.1.0->dagshub) (2.2.0)\n",
            "Requirement already satisfied: pygments<3.0.0,>=2.13.0 in c:\\users\\shobh\\anaconda3\\lib\\site-packages (from rich>=13.1.0->dagshub) (2.15.1)\n",
            "Requirement already satisfied: joblib>=1.1.1 in c:\\users\\shobh\\anaconda3\\lib\\site-packages (from scikit-learn<2->mlflow) (1.2.0)\n",
            "Requirement already satisfied: threadpoolctl>=2.0.0 in c:\\users\\shobh\\anaconda3\\lib\\site-packages (from scikit-learn<2->mlflow) (2.2.0)\n",
            "Requirement already satisfied: greenlet!=0.4.17 in c:\\users\\shobh\\anaconda3\\lib\\site-packages (from sqlalchemy<3,>=1.4.0->mlflow) (2.0.1)\n",
            "Requirement already satisfied: botocore<1.37.0,>=1.36.0 in c:\\users\\shobh\\anaconda3\\lib\\site-packages (from boto3->dagshub) (1.36.0)\n",
            "Requirement already satisfied: jmespath<2.0.0,>=0.7.1 in c:\\users\\shobh\\anaconda3\\lib\\site-packages (from boto3->dagshub) (0.10.0)\n",
            "Requirement already satisfied: s3transfer<0.12.0,>=0.11.0 in c:\\users\\shobh\\anaconda3\\lib\\site-packages (from boto3->dagshub) (0.11.0)\n",
            "Requirement already satisfied: marshmallow<4.0.0,>=3.18.0 in c:\\users\\shobh\\anaconda3\\lib\\site-packages (from dataclasses-json->dagshub) (3.25.1)\n",
            "Requirement already satisfied: typing-inspect<1,>=0.4.0 in c:\\users\\shobh\\anaconda3\\lib\\site-packages (from dataclasses-json->dagshub) (0.9.0)\n",
            "Requirement already satisfied: yarl<2.0,>=1.6 in c:\\users\\shobh\\anaconda3\\lib\\site-packages (from gql[requests]->dagshub) (1.8.1)\n",
            "Requirement already satisfied: backoff<3.0,>=1.11.1 in c:\\users\\shobh\\anaconda3\\lib\\site-packages (from gql[requests]->dagshub) (2.2.1)\n",
            "Requirement already satisfied: requests-toolbelt<2,>=1.0.0 in c:\\users\\shobh\\anaconda3\\lib\\site-packages (from gql[requests]->dagshub) (1.0.0)\n",
            "Requirement already satisfied: sniffio>=1.1 in c:\\users\\shobh\\anaconda3\\lib\\site-packages (from anyio->httpx>=0.23.0->dagshub) (1.2.0)\n",
            "Requirement already satisfied: google-auth~=2.0 in c:\\users\\shobh\\anaconda3\\lib\\site-packages (from databricks-sdk<1,>=0.20.0->mlflow-skinny==2.19.0->mlflow) (2.37.0)\n",
            "Requirement already satisfied: smmap<6,>=3.0.1 in c:\\users\\shobh\\anaconda3\\lib\\site-packages (from gitdb<5,>=4.0.1->gitpython<4,>=3.1.9->mlflow-skinny==2.19.0->mlflow) (5.0.2)\n",
            "Requirement already satisfied: zipp>=0.5 in c:\\users\\shobh\\anaconda3\\lib\\site-packages (from importlib_metadata!=4.7.0,<9,>=3.7.0->mlflow-skinny==2.19.0->mlflow) (3.11.0)\n",
            "Requirement already satisfied: mdurl~=0.1 in c:\\users\\shobh\\anaconda3\\lib\\site-packages (from markdown-it-py>=2.2.0->rich>=13.1.0->dagshub) (0.1.0)\n",
            "Requirement already satisfied: deprecated>=1.2.6 in c:\\users\\shobh\\anaconda3\\lib\\site-packages (from opentelemetry-api<3,>=1.9.0->mlflow-skinny==2.19.0->mlflow) (1.2.15)\n",
            "Requirement already satisfied: opentelemetry-semantic-conventions==0.50b0 in c:\\users\\shobh\\anaconda3\\lib\\site-packages (from opentelemetry-sdk<3,>=1.9.0->mlflow-skinny==2.19.0->mlflow) (0.50b0)\n",
            "Requirement already satisfied: annotated-types>=0.6.0 in c:\\users\\shobh\\anaconda3\\lib\\site-packages (from pydantic>=2.0.0->dagshub-annotation-converter>=0.1.3->dagshub) (0.7.0)\n",
            "Requirement already satisfied: pydantic-core==2.27.2 in c:\\users\\shobh\\anaconda3\\lib\\site-packages (from pydantic>=2.0.0->dagshub-annotation-converter>=0.1.3->dagshub) (2.27.2)\n",
            "Requirement already satisfied: charset-normalizer<4,>=2 in c:\\users\\shobh\\anaconda3\\lib\\site-packages (from requests<3,>=2.17.3->mlflow-skinny==2.19.0->mlflow) (2.0.4)\n",
            "Requirement already satisfied: mypy-extensions>=0.3.0 in c:\\users\\shobh\\anaconda3\\lib\\site-packages (from typing-inspect<1,>=0.4.0->dataclasses-json->dagshub) (1.0.0)\n",
            "Requirement already satisfied: multidict>=4.0 in c:\\users\\shobh\\anaconda3\\lib\\site-packages (from yarl<2.0,>=1.6->gql[requests]->dagshub) (6.0.2)\n",
            "Requirement already satisfied: wrapt<2,>=1.10 in c:\\users\\shobh\\anaconda3\\lib\\site-packages (from deprecated>=1.2.6->opentelemetry-api<3,>=1.9.0->mlflow-skinny==2.19.0->mlflow) (1.14.1)\n",
            "Requirement already satisfied: pyasn1-modules>=0.2.1 in c:\\users\\shobh\\anaconda3\\lib\\site-packages (from google-auth~=2.0->databricks-sdk<1,>=0.20.0->mlflow-skinny==2.19.0->mlflow) (0.2.8)\n",
            "Requirement already satisfied: rsa<5,>=3.1.4 in c:\\users\\shobh\\anaconda3\\lib\\site-packages (from google-auth~=2.0->databricks-sdk<1,>=0.20.0->mlflow-skinny==2.19.0->mlflow) (4.9)\n",
            "Requirement already satisfied: pyasn1<0.5.0,>=0.4.6 in c:\\users\\shobh\\anaconda3\\lib\\site-packages (from pyasn1-modules>=0.2.1->google-auth~=2.0->databricks-sdk<1,>=0.20.0->mlflow-skinny==2.19.0->mlflow) (0.4.8)\n",
            "Note: you may need to restart the kernel to use updated packages.\n"
          ]
        }
      ],
      "source": [
        "%pip install mlflow dagshub"
      ]
    },
    {
      "cell_type": "code",
      "execution_count": 43,
      "metadata": {},
      "outputs": [
        {
          "data": {
            "text/html": [
              "<pre style=\"white-space:pre;overflow-x:auto;line-height:normal;font-family:Menlo,'DejaVu Sans Mono',consolas,'Courier New',monospace\">Initialized MLflow to track repo <span style=\"color: #008000; text-decoration-color: #008000\">\"ShobhanaVerma07/Food_Delivery_Time_Prediction\"</span>\n",
              "</pre>\n"
            ],
            "text/plain": [
              "Initialized MLflow to track repo \u001b[32m\"ShobhanaVerma07/Food_Delivery_Time_Prediction\"\u001b[0m\n"
            ]
          },
          "metadata": {},
          "output_type": "display_data"
        },
        {
          "data": {
            "text/html": [
              "<pre style=\"white-space:pre;overflow-x:auto;line-height:normal;font-family:Menlo,'DejaVu Sans Mono',consolas,'Courier New',monospace\">Repository ShobhanaVerma07/Food_Delivery_Time_Prediction initialized!\n",
              "</pre>\n"
            ],
            "text/plain": [
              "Repository ShobhanaVerma07/Food_Delivery_Time_Prediction initialized!\n"
            ]
          },
          "metadata": {},
          "output_type": "display_data"
        }
      ],
      "source": [
        "import dagshub\n",
        "dagshub.init(repo_owner='ShobhanaVerma07', repo_name='Food_Delivery_Time_Prediction', mlflow=True)\n",
        "\n",
        "# import mlflow\n",
        "# with mlflow.start_run():\n",
        "#   mlflow.log_param('parameter name', 'value')\n",
        "#   mlflow.log_metric('metric name', 1)"
      ]
    },
    {
      "cell_type": "code",
      "execution_count": 44,
      "metadata": {
        "id": "r7eob7mfjxgl"
      },
      "outputs": [],
      "source": [
        "from sklearn import set_config\n",
        "\n",
        "set_config(transform_output=\"pandas\")"
      ]
    },
    {
      "cell_type": "markdown",
      "metadata": {
        "id": "1vFGURsDVtnH"
      },
      "source": [
        "# Load the Data"
      ]
    },
    {
      "cell_type": "code",
      "execution_count": 45,
      "metadata": {
        "id": "BVMYEJ2OYjRW"
      },
      "outputs": [],
      "source": [
        "# load the data\n",
        "\n",
        "df = pd.read_csv('swiggy.csv')"
      ]
    },
    {
      "cell_type": "markdown",
      "metadata": {
        "id": "OQoORRdSYoWU"
      },
      "source": [
        "# Clean Data"
      ]
    },
    {
      "cell_type": "code",
      "execution_count": 46,
      "metadata": {
        "id": "YpqxpFOJYqgs"
      },
      "outputs": [],
      "source": [
        "data_clean_utils.perform_data_cleaning(df)"
      ]
    },
    {
      "cell_type": "code",
      "execution_count": 47,
      "metadata": {
        "colab": {
          "base_uri": "https://localhost:8080/",
          "height": 444
        },
        "id": "I0fKq6d3Y2W2",
        "outputId": "3885330b-0018-47f5-8341-d329e5c5df47"
      },
      "outputs": [
        {
          "data": {
            "text/html": [
              "<div>\n",
              "<style scoped>\n",
              "    .dataframe tbody tr th:only-of-type {\n",
              "        vertical-align: middle;\n",
              "    }\n",
              "\n",
              "    .dataframe tbody tr th {\n",
              "        vertical-align: top;\n",
              "    }\n",
              "\n",
              "    .dataframe thead th {\n",
              "        text-align: right;\n",
              "    }\n",
              "</style>\n",
              "<table border=\"1\" class=\"dataframe\">\n",
              "  <thead>\n",
              "    <tr style=\"text-align: right;\">\n",
              "      <th></th>\n",
              "      <th>rider_id</th>\n",
              "      <th>age</th>\n",
              "      <th>ratings</th>\n",
              "      <th>restaurant_latitude</th>\n",
              "      <th>restaurant_longitude</th>\n",
              "      <th>delivery_latitude</th>\n",
              "      <th>delivery_longitude</th>\n",
              "      <th>order_date</th>\n",
              "      <th>weather</th>\n",
              "      <th>traffic</th>\n",
              "      <th>...</th>\n",
              "      <th>city_name</th>\n",
              "      <th>order_day</th>\n",
              "      <th>order_month</th>\n",
              "      <th>order_day_of_week</th>\n",
              "      <th>is_weekend</th>\n",
              "      <th>pickup_time_minutes</th>\n",
              "      <th>order_time_hour</th>\n",
              "      <th>order_time_of_day</th>\n",
              "      <th>distance</th>\n",
              "      <th>distance_type</th>\n",
              "    </tr>\n",
              "  </thead>\n",
              "  <tbody>\n",
              "    <tr>\n",
              "      <th>0</th>\n",
              "      <td>INDORES13DEL02</td>\n",
              "      <td>37.0</td>\n",
              "      <td>4.9</td>\n",
              "      <td>22.745049</td>\n",
              "      <td>75.892471</td>\n",
              "      <td>22.765049</td>\n",
              "      <td>75.912471</td>\n",
              "      <td>2022-03-19</td>\n",
              "      <td>sunny</td>\n",
              "      <td>high</td>\n",
              "      <td>...</td>\n",
              "      <td>INDO</td>\n",
              "      <td>19</td>\n",
              "      <td>3</td>\n",
              "      <td>saturday</td>\n",
              "      <td>1</td>\n",
              "      <td>15.0</td>\n",
              "      <td>11.0</td>\n",
              "      <td>morning</td>\n",
              "      <td>3.025149</td>\n",
              "      <td>short</td>\n",
              "    </tr>\n",
              "    <tr>\n",
              "      <th>1</th>\n",
              "      <td>BANGRES18DEL02</td>\n",
              "      <td>34.0</td>\n",
              "      <td>4.5</td>\n",
              "      <td>12.913041</td>\n",
              "      <td>77.683237</td>\n",
              "      <td>13.043041</td>\n",
              "      <td>77.813237</td>\n",
              "      <td>2022-03-25</td>\n",
              "      <td>stormy</td>\n",
              "      <td>jam</td>\n",
              "      <td>...</td>\n",
              "      <td>BANG</td>\n",
              "      <td>25</td>\n",
              "      <td>3</td>\n",
              "      <td>friday</td>\n",
              "      <td>0</td>\n",
              "      <td>5.0</td>\n",
              "      <td>19.0</td>\n",
              "      <td>evening</td>\n",
              "      <td>20.183530</td>\n",
              "      <td>very_long</td>\n",
              "    </tr>\n",
              "    <tr>\n",
              "      <th>2</th>\n",
              "      <td>BANGRES19DEL01</td>\n",
              "      <td>23.0</td>\n",
              "      <td>4.4</td>\n",
              "      <td>12.914264</td>\n",
              "      <td>77.678400</td>\n",
              "      <td>12.924264</td>\n",
              "      <td>77.688400</td>\n",
              "      <td>2022-03-19</td>\n",
              "      <td>sandstorms</td>\n",
              "      <td>low</td>\n",
              "      <td>...</td>\n",
              "      <td>BANG</td>\n",
              "      <td>19</td>\n",
              "      <td>3</td>\n",
              "      <td>saturday</td>\n",
              "      <td>1</td>\n",
              "      <td>15.0</td>\n",
              "      <td>8.0</td>\n",
              "      <td>morning</td>\n",
              "      <td>1.552758</td>\n",
              "      <td>short</td>\n",
              "    </tr>\n",
              "    <tr>\n",
              "      <th>3</th>\n",
              "      <td>COIMBRES13DEL02</td>\n",
              "      <td>38.0</td>\n",
              "      <td>4.7</td>\n",
              "      <td>11.003669</td>\n",
              "      <td>76.976494</td>\n",
              "      <td>11.053669</td>\n",
              "      <td>77.026494</td>\n",
              "      <td>2022-04-05</td>\n",
              "      <td>sunny</td>\n",
              "      <td>medium</td>\n",
              "      <td>...</td>\n",
              "      <td>COIMB</td>\n",
              "      <td>5</td>\n",
              "      <td>4</td>\n",
              "      <td>tuesday</td>\n",
              "      <td>0</td>\n",
              "      <td>10.0</td>\n",
              "      <td>18.0</td>\n",
              "      <td>evening</td>\n",
              "      <td>7.790401</td>\n",
              "      <td>medium</td>\n",
              "    </tr>\n",
              "    <tr>\n",
              "      <th>4</th>\n",
              "      <td>CHENRES12DEL01</td>\n",
              "      <td>32.0</td>\n",
              "      <td>4.6</td>\n",
              "      <td>12.972793</td>\n",
              "      <td>80.249982</td>\n",
              "      <td>13.012793</td>\n",
              "      <td>80.289982</td>\n",
              "      <td>2022-03-26</td>\n",
              "      <td>cloudy</td>\n",
              "      <td>high</td>\n",
              "      <td>...</td>\n",
              "      <td>CHEN</td>\n",
              "      <td>26</td>\n",
              "      <td>3</td>\n",
              "      <td>saturday</td>\n",
              "      <td>1</td>\n",
              "      <td>15.0</td>\n",
              "      <td>13.0</td>\n",
              "      <td>afternoon</td>\n",
              "      <td>6.210138</td>\n",
              "      <td>medium</td>\n",
              "    </tr>\n",
              "    <tr>\n",
              "      <th>...</th>\n",
              "      <td>...</td>\n",
              "      <td>...</td>\n",
              "      <td>...</td>\n",
              "      <td>...</td>\n",
              "      <td>...</td>\n",
              "      <td>...</td>\n",
              "      <td>...</td>\n",
              "      <td>...</td>\n",
              "      <td>...</td>\n",
              "      <td>...</td>\n",
              "      <td>...</td>\n",
              "      <td>...</td>\n",
              "      <td>...</td>\n",
              "      <td>...</td>\n",
              "      <td>...</td>\n",
              "      <td>...</td>\n",
              "      <td>...</td>\n",
              "      <td>...</td>\n",
              "      <td>...</td>\n",
              "      <td>...</td>\n",
              "      <td>...</td>\n",
              "    </tr>\n",
              "    <tr>\n",
              "      <th>45497</th>\n",
              "      <td>JAPRES04DEL01</td>\n",
              "      <td>30.0</td>\n",
              "      <td>4.8</td>\n",
              "      <td>26.902328</td>\n",
              "      <td>75.794257</td>\n",
              "      <td>26.912328</td>\n",
              "      <td>75.804257</td>\n",
              "      <td>2022-03-24</td>\n",
              "      <td>windy</td>\n",
              "      <td>high</td>\n",
              "      <td>...</td>\n",
              "      <td>JAP</td>\n",
              "      <td>24</td>\n",
              "      <td>3</td>\n",
              "      <td>thursday</td>\n",
              "      <td>0</td>\n",
              "      <td>10.0</td>\n",
              "      <td>11.0</td>\n",
              "      <td>morning</td>\n",
              "      <td>1.489846</td>\n",
              "      <td>short</td>\n",
              "    </tr>\n",
              "    <tr>\n",
              "      <th>45498</th>\n",
              "      <td>AGRRES16DEL01</td>\n",
              "      <td>21.0</td>\n",
              "      <td>4.6</td>\n",
              "      <td>NaN</td>\n",
              "      <td>NaN</td>\n",
              "      <td>NaN</td>\n",
              "      <td>NaN</td>\n",
              "      <td>2022-02-16</td>\n",
              "      <td>windy</td>\n",
              "      <td>jam</td>\n",
              "      <td>...</td>\n",
              "      <td>AGR</td>\n",
              "      <td>16</td>\n",
              "      <td>2</td>\n",
              "      <td>wednesday</td>\n",
              "      <td>0</td>\n",
              "      <td>15.0</td>\n",
              "      <td>19.0</td>\n",
              "      <td>evening</td>\n",
              "      <td>NaN</td>\n",
              "      <td>NaN</td>\n",
              "    </tr>\n",
              "    <tr>\n",
              "      <th>45499</th>\n",
              "      <td>CHENRES08DEL03</td>\n",
              "      <td>30.0</td>\n",
              "      <td>4.9</td>\n",
              "      <td>13.022394</td>\n",
              "      <td>80.242439</td>\n",
              "      <td>13.052394</td>\n",
              "      <td>80.272439</td>\n",
              "      <td>2022-03-11</td>\n",
              "      <td>cloudy</td>\n",
              "      <td>low</td>\n",
              "      <td>...</td>\n",
              "      <td>CHEN</td>\n",
              "      <td>11</td>\n",
              "      <td>3</td>\n",
              "      <td>friday</td>\n",
              "      <td>0</td>\n",
              "      <td>15.0</td>\n",
              "      <td>23.0</td>\n",
              "      <td>night</td>\n",
              "      <td>4.657195</td>\n",
              "      <td>short</td>\n",
              "    </tr>\n",
              "    <tr>\n",
              "      <th>45500</th>\n",
              "      <td>COIMBRES11DEL01</td>\n",
              "      <td>20.0</td>\n",
              "      <td>4.7</td>\n",
              "      <td>11.001753</td>\n",
              "      <td>76.986241</td>\n",
              "      <td>11.041753</td>\n",
              "      <td>77.026241</td>\n",
              "      <td>2022-03-07</td>\n",
              "      <td>cloudy</td>\n",
              "      <td>high</td>\n",
              "      <td>...</td>\n",
              "      <td>COIMB</td>\n",
              "      <td>7</td>\n",
              "      <td>3</td>\n",
              "      <td>monday</td>\n",
              "      <td>0</td>\n",
              "      <td>5.0</td>\n",
              "      <td>13.0</td>\n",
              "      <td>afternoon</td>\n",
              "      <td>6.232393</td>\n",
              "      <td>medium</td>\n",
              "    </tr>\n",
              "    <tr>\n",
              "      <th>45501</th>\n",
              "      <td>RANCHIRES09DEL02</td>\n",
              "      <td>23.0</td>\n",
              "      <td>4.9</td>\n",
              "      <td>23.351058</td>\n",
              "      <td>85.325731</td>\n",
              "      <td>23.431058</td>\n",
              "      <td>85.405731</td>\n",
              "      <td>2022-03-02</td>\n",
              "      <td>fog</td>\n",
              "      <td>medium</td>\n",
              "      <td>...</td>\n",
              "      <td>RANCHI</td>\n",
              "      <td>2</td>\n",
              "      <td>3</td>\n",
              "      <td>wednesday</td>\n",
              "      <td>0</td>\n",
              "      <td>5.0</td>\n",
              "      <td>17.0</td>\n",
              "      <td>afternoon</td>\n",
              "      <td>12.074396</td>\n",
              "      <td>long</td>\n",
              "    </tr>\n",
              "  </tbody>\n",
              "</table>\n",
              "<p>45502 rows × 27 columns</p>\n",
              "</div>"
            ],
            "text/plain": [
              "                rider_id   age  ratings  restaurant_latitude  \\\n",
              "0        INDORES13DEL02   37.0      4.9            22.745049   \n",
              "1        BANGRES18DEL02   34.0      4.5            12.913041   \n",
              "2        BANGRES19DEL01   23.0      4.4            12.914264   \n",
              "3       COIMBRES13DEL02   38.0      4.7            11.003669   \n",
              "4        CHENRES12DEL01   32.0      4.6            12.972793   \n",
              "...                  ...   ...      ...                  ...   \n",
              "45497     JAPRES04DEL01   30.0      4.8            26.902328   \n",
              "45498     AGRRES16DEL01   21.0      4.6                  NaN   \n",
              "45499    CHENRES08DEL03   30.0      4.9            13.022394   \n",
              "45500   COIMBRES11DEL01   20.0      4.7            11.001753   \n",
              "45501  RANCHIRES09DEL02   23.0      4.9            23.351058   \n",
              "\n",
              "       restaurant_longitude  delivery_latitude  delivery_longitude  \\\n",
              "0                 75.892471          22.765049           75.912471   \n",
              "1                 77.683237          13.043041           77.813237   \n",
              "2                 77.678400          12.924264           77.688400   \n",
              "3                 76.976494          11.053669           77.026494   \n",
              "4                 80.249982          13.012793           80.289982   \n",
              "...                     ...                ...                 ...   \n",
              "45497             75.794257          26.912328           75.804257   \n",
              "45498                   NaN                NaN                 NaN   \n",
              "45499             80.242439          13.052394           80.272439   \n",
              "45500             76.986241          11.041753           77.026241   \n",
              "45501             85.325731          23.431058           85.405731   \n",
              "\n",
              "       order_date     weather traffic  ...  city_name order_day order_month  \\\n",
              "0      2022-03-19       sunny    high  ...       INDO        19           3   \n",
              "1      2022-03-25      stormy     jam  ...       BANG        25           3   \n",
              "2      2022-03-19  sandstorms     low  ...       BANG        19           3   \n",
              "3      2022-04-05       sunny  medium  ...      COIMB         5           4   \n",
              "4      2022-03-26      cloudy    high  ...       CHEN        26           3   \n",
              "...           ...         ...     ...  ...        ...       ...         ...   \n",
              "45497  2022-03-24       windy    high  ...        JAP        24           3   \n",
              "45498  2022-02-16       windy     jam  ...        AGR        16           2   \n",
              "45499  2022-03-11      cloudy     low  ...       CHEN        11           3   \n",
              "45500  2022-03-07      cloudy    high  ...      COIMB         7           3   \n",
              "45501  2022-03-02         fog  medium  ...     RANCHI         2           3   \n",
              "\n",
              "       order_day_of_week is_weekend pickup_time_minutes  order_time_hour  \\\n",
              "0               saturday          1                15.0             11.0   \n",
              "1                 friday          0                 5.0             19.0   \n",
              "2               saturday          1                15.0              8.0   \n",
              "3                tuesday          0                10.0             18.0   \n",
              "4               saturday          1                15.0             13.0   \n",
              "...                  ...        ...                 ...              ...   \n",
              "45497           thursday          0                10.0             11.0   \n",
              "45498          wednesday          0                15.0             19.0   \n",
              "45499             friday          0                15.0             23.0   \n",
              "45500             monday          0                 5.0             13.0   \n",
              "45501          wednesday          0                 5.0             17.0   \n",
              "\n",
              "      order_time_of_day   distance  distance_type  \n",
              "0               morning   3.025149          short  \n",
              "1               evening  20.183530      very_long  \n",
              "2               morning   1.552758          short  \n",
              "3               evening   7.790401         medium  \n",
              "4             afternoon   6.210138         medium  \n",
              "...                 ...        ...            ...  \n",
              "45497           morning   1.489846          short  \n",
              "45498           evening        NaN            NaN  \n",
              "45499             night   4.657195          short  \n",
              "45500         afternoon   6.232393         medium  \n",
              "45501         afternoon  12.074396           long  \n",
              "\n",
              "[45502 rows x 27 columns]"
            ]
          },
          "execution_count": 47,
          "metadata": {},
          "output_type": "execute_result"
        }
      ],
      "source": [
        "# load the cleaned data\n",
        "\n",
        "df = pd.read_csv('swiggy_cleaned.csv')\n",
        "\n",
        "df"
      ]
    },
    {
      "cell_type": "code",
      "execution_count": 48,
      "metadata": {
        "colab": {
          "base_uri": "https://localhost:8080/"
        },
        "id": "06VhmH7Lb4xz",
        "outputId": "e0f8e4d7-6a1f-4f0a-9b84-78d0b369bec4"
      },
      "outputs": [
        {
          "data": {
            "text/plain": [
              "Index(['rider_id', 'age', 'ratings', 'restaurant_latitude',\n",
              "       'restaurant_longitude', 'delivery_latitude', 'delivery_longitude',\n",
              "       'order_date', 'weather', 'traffic', 'vehicle_condition',\n",
              "       'type_of_order', 'type_of_vehicle', 'multiple_deliveries', 'festival',\n",
              "       'city_type', 'time_taken', 'city_name', 'order_day', 'order_month',\n",
              "       'order_day_of_week', 'is_weekend', 'pickup_time_minutes',\n",
              "       'order_time_hour', 'order_time_of_day', 'distance', 'distance_type'],\n",
              "      dtype='object')"
            ]
          },
          "execution_count": 48,
          "metadata": {},
          "output_type": "execute_result"
        }
      ],
      "source": [
        "df.columns"
      ]
    },
    {
      "cell_type": "code",
      "execution_count": 49,
      "metadata": {
        "colab": {
          "base_uri": "https://localhost:8080/",
          "height": 444
        },
        "id": "R-UYeFPobyeh",
        "outputId": "a1cdb513-3d83-490f-f6b0-2b03fe076f61"
      },
      "outputs": [
        {
          "data": {
            "text/html": [
              "<div>\n",
              "<style scoped>\n",
              "    .dataframe tbody tr th:only-of-type {\n",
              "        vertical-align: middle;\n",
              "    }\n",
              "\n",
              "    .dataframe tbody tr th {\n",
              "        vertical-align: top;\n",
              "    }\n",
              "\n",
              "    .dataframe thead th {\n",
              "        text-align: right;\n",
              "    }\n",
              "</style>\n",
              "<table border=\"1\" class=\"dataframe\">\n",
              "  <thead>\n",
              "    <tr style=\"text-align: right;\">\n",
              "      <th></th>\n",
              "      <th>age</th>\n",
              "      <th>ratings</th>\n",
              "      <th>weather</th>\n",
              "      <th>traffic</th>\n",
              "      <th>vehicle_condition</th>\n",
              "      <th>type_of_order</th>\n",
              "      <th>type_of_vehicle</th>\n",
              "      <th>multiple_deliveries</th>\n",
              "      <th>festival</th>\n",
              "      <th>city_type</th>\n",
              "      <th>time_taken</th>\n",
              "      <th>is_weekend</th>\n",
              "      <th>pickup_time_minutes</th>\n",
              "      <th>order_time_of_day</th>\n",
              "      <th>distance</th>\n",
              "      <th>distance_type</th>\n",
              "    </tr>\n",
              "  </thead>\n",
              "  <tbody>\n",
              "    <tr>\n",
              "      <th>0</th>\n",
              "      <td>37.0</td>\n",
              "      <td>4.9</td>\n",
              "      <td>sunny</td>\n",
              "      <td>high</td>\n",
              "      <td>2</td>\n",
              "      <td>snack</td>\n",
              "      <td>motorcycle</td>\n",
              "      <td>0.0</td>\n",
              "      <td>no</td>\n",
              "      <td>urban</td>\n",
              "      <td>24</td>\n",
              "      <td>1</td>\n",
              "      <td>15.0</td>\n",
              "      <td>morning</td>\n",
              "      <td>3.025149</td>\n",
              "      <td>short</td>\n",
              "    </tr>\n",
              "    <tr>\n",
              "      <th>1</th>\n",
              "      <td>34.0</td>\n",
              "      <td>4.5</td>\n",
              "      <td>stormy</td>\n",
              "      <td>jam</td>\n",
              "      <td>2</td>\n",
              "      <td>snack</td>\n",
              "      <td>scooter</td>\n",
              "      <td>1.0</td>\n",
              "      <td>no</td>\n",
              "      <td>metropolitian</td>\n",
              "      <td>33</td>\n",
              "      <td>0</td>\n",
              "      <td>5.0</td>\n",
              "      <td>evening</td>\n",
              "      <td>20.183530</td>\n",
              "      <td>very_long</td>\n",
              "    </tr>\n",
              "    <tr>\n",
              "      <th>2</th>\n",
              "      <td>23.0</td>\n",
              "      <td>4.4</td>\n",
              "      <td>sandstorms</td>\n",
              "      <td>low</td>\n",
              "      <td>0</td>\n",
              "      <td>drinks</td>\n",
              "      <td>motorcycle</td>\n",
              "      <td>1.0</td>\n",
              "      <td>no</td>\n",
              "      <td>urban</td>\n",
              "      <td>26</td>\n",
              "      <td>1</td>\n",
              "      <td>15.0</td>\n",
              "      <td>morning</td>\n",
              "      <td>1.552758</td>\n",
              "      <td>short</td>\n",
              "    </tr>\n",
              "    <tr>\n",
              "      <th>3</th>\n",
              "      <td>38.0</td>\n",
              "      <td>4.7</td>\n",
              "      <td>sunny</td>\n",
              "      <td>medium</td>\n",
              "      <td>0</td>\n",
              "      <td>buffet</td>\n",
              "      <td>motorcycle</td>\n",
              "      <td>1.0</td>\n",
              "      <td>no</td>\n",
              "      <td>metropolitian</td>\n",
              "      <td>21</td>\n",
              "      <td>0</td>\n",
              "      <td>10.0</td>\n",
              "      <td>evening</td>\n",
              "      <td>7.790401</td>\n",
              "      <td>medium</td>\n",
              "    </tr>\n",
              "    <tr>\n",
              "      <th>4</th>\n",
              "      <td>32.0</td>\n",
              "      <td>4.6</td>\n",
              "      <td>cloudy</td>\n",
              "      <td>high</td>\n",
              "      <td>1</td>\n",
              "      <td>snack</td>\n",
              "      <td>scooter</td>\n",
              "      <td>1.0</td>\n",
              "      <td>no</td>\n",
              "      <td>metropolitian</td>\n",
              "      <td>30</td>\n",
              "      <td>1</td>\n",
              "      <td>15.0</td>\n",
              "      <td>afternoon</td>\n",
              "      <td>6.210138</td>\n",
              "      <td>medium</td>\n",
              "    </tr>\n",
              "    <tr>\n",
              "      <th>...</th>\n",
              "      <td>...</td>\n",
              "      <td>...</td>\n",
              "      <td>...</td>\n",
              "      <td>...</td>\n",
              "      <td>...</td>\n",
              "      <td>...</td>\n",
              "      <td>...</td>\n",
              "      <td>...</td>\n",
              "      <td>...</td>\n",
              "      <td>...</td>\n",
              "      <td>...</td>\n",
              "      <td>...</td>\n",
              "      <td>...</td>\n",
              "      <td>...</td>\n",
              "      <td>...</td>\n",
              "      <td>...</td>\n",
              "    </tr>\n",
              "    <tr>\n",
              "      <th>45497</th>\n",
              "      <td>30.0</td>\n",
              "      <td>4.8</td>\n",
              "      <td>windy</td>\n",
              "      <td>high</td>\n",
              "      <td>1</td>\n",
              "      <td>meal</td>\n",
              "      <td>motorcycle</td>\n",
              "      <td>0.0</td>\n",
              "      <td>no</td>\n",
              "      <td>metropolitian</td>\n",
              "      <td>32</td>\n",
              "      <td>0</td>\n",
              "      <td>10.0</td>\n",
              "      <td>morning</td>\n",
              "      <td>1.489846</td>\n",
              "      <td>short</td>\n",
              "    </tr>\n",
              "    <tr>\n",
              "      <th>45498</th>\n",
              "      <td>21.0</td>\n",
              "      <td>4.6</td>\n",
              "      <td>windy</td>\n",
              "      <td>jam</td>\n",
              "      <td>0</td>\n",
              "      <td>buffet</td>\n",
              "      <td>motorcycle</td>\n",
              "      <td>1.0</td>\n",
              "      <td>no</td>\n",
              "      <td>metropolitian</td>\n",
              "      <td>36</td>\n",
              "      <td>0</td>\n",
              "      <td>15.0</td>\n",
              "      <td>evening</td>\n",
              "      <td>NaN</td>\n",
              "      <td>NaN</td>\n",
              "    </tr>\n",
              "    <tr>\n",
              "      <th>45499</th>\n",
              "      <td>30.0</td>\n",
              "      <td>4.9</td>\n",
              "      <td>cloudy</td>\n",
              "      <td>low</td>\n",
              "      <td>1</td>\n",
              "      <td>drinks</td>\n",
              "      <td>scooter</td>\n",
              "      <td>0.0</td>\n",
              "      <td>no</td>\n",
              "      <td>metropolitian</td>\n",
              "      <td>16</td>\n",
              "      <td>0</td>\n",
              "      <td>15.0</td>\n",
              "      <td>night</td>\n",
              "      <td>4.657195</td>\n",
              "      <td>short</td>\n",
              "    </tr>\n",
              "    <tr>\n",
              "      <th>45500</th>\n",
              "      <td>20.0</td>\n",
              "      <td>4.7</td>\n",
              "      <td>cloudy</td>\n",
              "      <td>high</td>\n",
              "      <td>0</td>\n",
              "      <td>snack</td>\n",
              "      <td>motorcycle</td>\n",
              "      <td>1.0</td>\n",
              "      <td>no</td>\n",
              "      <td>metropolitian</td>\n",
              "      <td>26</td>\n",
              "      <td>0</td>\n",
              "      <td>5.0</td>\n",
              "      <td>afternoon</td>\n",
              "      <td>6.232393</td>\n",
              "      <td>medium</td>\n",
              "    </tr>\n",
              "    <tr>\n",
              "      <th>45501</th>\n",
              "      <td>23.0</td>\n",
              "      <td>4.9</td>\n",
              "      <td>fog</td>\n",
              "      <td>medium</td>\n",
              "      <td>2</td>\n",
              "      <td>snack</td>\n",
              "      <td>scooter</td>\n",
              "      <td>1.0</td>\n",
              "      <td>no</td>\n",
              "      <td>metropolitian</td>\n",
              "      <td>36</td>\n",
              "      <td>0</td>\n",
              "      <td>5.0</td>\n",
              "      <td>afternoon</td>\n",
              "      <td>12.074396</td>\n",
              "      <td>long</td>\n",
              "    </tr>\n",
              "  </tbody>\n",
              "</table>\n",
              "<p>45502 rows × 16 columns</p>\n",
              "</div>"
            ],
            "text/plain": [
              "        age  ratings     weather traffic  vehicle_condition type_of_order  \\\n",
              "0      37.0      4.9       sunny    high                  2         snack   \n",
              "1      34.0      4.5      stormy     jam                  2         snack   \n",
              "2      23.0      4.4  sandstorms     low                  0        drinks   \n",
              "3      38.0      4.7       sunny  medium                  0        buffet   \n",
              "4      32.0      4.6      cloudy    high                  1         snack   \n",
              "...     ...      ...         ...     ...                ...           ...   \n",
              "45497  30.0      4.8       windy    high                  1          meal   \n",
              "45498  21.0      4.6       windy     jam                  0        buffet   \n",
              "45499  30.0      4.9      cloudy     low                  1        drinks   \n",
              "45500  20.0      4.7      cloudy    high                  0         snack   \n",
              "45501  23.0      4.9         fog  medium                  2         snack   \n",
              "\n",
              "      type_of_vehicle  multiple_deliveries festival      city_type  \\\n",
              "0          motorcycle                  0.0       no          urban   \n",
              "1             scooter                  1.0       no  metropolitian   \n",
              "2          motorcycle                  1.0       no          urban   \n",
              "3          motorcycle                  1.0       no  metropolitian   \n",
              "4             scooter                  1.0       no  metropolitian   \n",
              "...               ...                  ...      ...            ...   \n",
              "45497      motorcycle                  0.0       no  metropolitian   \n",
              "45498      motorcycle                  1.0       no  metropolitian   \n",
              "45499         scooter                  0.0       no  metropolitian   \n",
              "45500      motorcycle                  1.0       no  metropolitian   \n",
              "45501         scooter                  1.0       no  metropolitian   \n",
              "\n",
              "       time_taken  is_weekend  pickup_time_minutes order_time_of_day  \\\n",
              "0              24           1                 15.0           morning   \n",
              "1              33           0                  5.0           evening   \n",
              "2              26           1                 15.0           morning   \n",
              "3              21           0                 10.0           evening   \n",
              "4              30           1                 15.0         afternoon   \n",
              "...           ...         ...                  ...               ...   \n",
              "45497          32           0                 10.0           morning   \n",
              "45498          36           0                 15.0           evening   \n",
              "45499          16           0                 15.0             night   \n",
              "45500          26           0                  5.0         afternoon   \n",
              "45501          36           0                  5.0         afternoon   \n",
              "\n",
              "        distance distance_type  \n",
              "0       3.025149         short  \n",
              "1      20.183530     very_long  \n",
              "2       1.552758         short  \n",
              "3       7.790401        medium  \n",
              "4       6.210138        medium  \n",
              "...          ...           ...  \n",
              "45497   1.489846         short  \n",
              "45498        NaN           NaN  \n",
              "45499   4.657195         short  \n",
              "45500   6.232393        medium  \n",
              "45501  12.074396          long  \n",
              "\n",
              "[45502 rows x 16 columns]"
            ]
          },
          "execution_count": 49,
          "metadata": {},
          "output_type": "execute_result"
        }
      ],
      "source": [
        "# drop columns not required for model input\n",
        "\n",
        "columns_to_drop =  ['rider_id',\n",
        "                    'restaurant_latitude',\n",
        "                    'restaurant_longitude',\n",
        "                    'delivery_latitude',\n",
        "                    'delivery_longitude',\n",
        "                    'order_date',\n",
        "                    \"order_time_hour\",\n",
        "                    \"order_day\",\n",
        "                    \"city_name\",\n",
        "                    \"order_day_of_week\",\n",
        "                    \"order_month\"]\n",
        "\n",
        "df.drop(columns=columns_to_drop, inplace=True)\n",
        "\n",
        "df"
      ]
    },
    {
      "cell_type": "code",
      "execution_count": 50,
      "metadata": {
        "colab": {
          "base_uri": "https://localhost:8080/",
          "height": 586
        },
        "id": "IiOq4IO6cX4q",
        "outputId": "a1f2d6e4-9588-487e-b2db-caa04fd14db4"
      },
      "outputs": [
        {
          "data": {
            "text/plain": [
              "age                    1854\n",
              "ratings                1908\n",
              "weather                 525\n",
              "traffic                 510\n",
              "vehicle_condition         0\n",
              "type_of_order             0\n",
              "type_of_vehicle           0\n",
              "multiple_deliveries     993\n",
              "festival                228\n",
              "city_type              1198\n",
              "time_taken                0\n",
              "is_weekend                0\n",
              "pickup_time_minutes    1640\n",
              "order_time_of_day      2070\n",
              "distance               3630\n",
              "distance_type          3630\n",
              "dtype: int64"
            ]
          },
          "execution_count": 50,
          "metadata": {},
          "output_type": "execute_result"
        }
      ],
      "source": [
        "# check for missing values\n",
        "\n",
        "df.isna().sum()"
      ]
    },
    {
      "cell_type": "code",
      "execution_count": 51,
      "metadata": {
        "colab": {
          "base_uri": "https://localhost:8080/"
        },
        "id": "iHMDE9Mdcxno",
        "outputId": "572a7ca4-3613-460a-d70b-d1f4c1ba97db"
      },
      "outputs": [
        {
          "data": {
            "text/plain": [
              "0"
            ]
          },
          "execution_count": 51,
          "metadata": {},
          "output_type": "execute_result"
        }
      ],
      "source": [
        "# check for duplicates\n",
        "\n",
        "df.duplicated().sum()"
      ]
    },
    {
      "cell_type": "code",
      "execution_count": 52,
      "metadata": {
        "colab": {
          "base_uri": "https://localhost:8080/",
          "height": 486
        },
        "id": "Q7bSLKIEc5-E",
        "outputId": "57a204e7-09e8-4094-edb5-91276c60bb8e"
      },
      "outputs": [
        {
          "data": {
            "text/plain": [
              "<Axes: >"
            ]
          },
          "execution_count": 52,
          "metadata": {},
          "output_type": "execute_result"
        },
        {
          "data": {
            "image/png": "[encoded data removed]",
            "text/plain": [
              "<Figure size 2500x1000 with 2 Axes>"
            ]
          },
          "metadata": {},
          "output_type": "display_data"
        }
      ],
      "source": [
        "import missingno as msno\n",
        "\n",
        "msno.matrix(df)"
      ]
    },
    {
      "cell_type": "code",
      "execution_count": 53,
      "metadata": {
        "colab": {
          "base_uri": "https://localhost:8080/"
        },
        "id": "eAWElUOCi4Zk",
        "outputId": "438edb65-4912-465b-9c35-da2613e9c82f"
      },
      "outputs": [
        {
          "data": {
            "text/plain": [
              "Index(['age', 'ratings', 'weather', 'traffic', 'multiple_deliveries',\n",
              "       'festival', 'city_type', 'pickup_time_minutes', 'order_time_of_day',\n",
              "       'distance', 'distance_type'],\n",
              "      dtype='object')"
            ]
          },
          "execution_count": 53,
          "metadata": {},
          "output_type": "execute_result"
        }
      ],
      "source": [
        "# columns that have missing values\n",
        "\n",
        "missing_cols = (\n",
        "                    df\n",
        "                    .isna()\n",
        "                    .any(axis=0)\n",
        "                    .loc[lambda x: x]\n",
        "                    .index\n",
        "                )\n",
        "\n",
        "missing_cols"
      ]
    },
    {
      "cell_type": "markdown",
      "metadata": {
        "id": "4xvBsmp_jcpC"
      },
      "source": [
        "# Drop Missing Values\n",
        "\n"
      ]
    },
    {
      "cell_type": "code",
      "execution_count": 54,
      "metadata": {
        "id": "-CMP7U64T0SI"
      },
      "outputs": [],
      "source": [
        "import mlflow"
      ]
    },
    {
      "cell_type": "code",
      "execution_count": 55,
      "metadata": {
        "id": "VrCkNOgSTxRB"
      },
      "outputs": [],
      "source": [
        "# set the tracking server\n",
        "\n",
        "mlflow.set_tracking_uri(\"https://dagshub.com/ShobhanaVerma07/Food_Delivery_Time_Prediction.mlflow\")"
      ]
    },
    {
      "cell_type": "code",
      "execution_count": 56,
      "metadata": {
        "colab": {
          "base_uri": "https://localhost:8080/"
        },
        "id": "NsprZjwxT53M",
        "outputId": "9fd83165-0251-40c4-e0b7-94d781ddf463"
      },
      "outputs": [
        {
          "data": {
            "text/plain": [
              "<Experiment: artifact_location='mlflow-artifacts:/7a3e6b2f385e4b369c2a403e2e1816d8', creation_time=1737046362814, experiment_id='0', last_update_time=1737046362814, lifecycle_stage='active', name='Exp 1 - Keep Vs Drop Missing Values', tags={}>"
            ]
          },
          "execution_count": 56,
          "metadata": {},
          "output_type": "execute_result"
        }
      ],
      "source": [
        "# mlflow experiment\n",
        "\n",
        "mlflow.set_experiment(\"Exp 1 - Keep Vs Drop Missing Values\")"
      ]
    },
    {
      "cell_type": "code",
      "execution_count": 57,
      "metadata": {
        "id": "ZSmpdrv92RWf"
      },
      "outputs": [],
      "source": [
        "temp_df = df.copy().dropna()"
      ]
    },
    {
      "cell_type": "code",
      "execution_count": 58,
      "metadata": {
        "colab": {
          "base_uri": "https://localhost:8080/",
          "height": 444
        },
        "id": "V3jgEdKSjikf",
        "outputId": "8db46c9f-2e47-452a-926c-49b71921534f"
      },
      "outputs": [
        {
          "data": {
            "text/html": [
              "<div>\n",
              "<style scoped>\n",
              "    .dataframe tbody tr th:only-of-type {\n",
              "        vertical-align: middle;\n",
              "    }\n",
              "\n",
              "    .dataframe tbody tr th {\n",
              "        vertical-align: top;\n",
              "    }\n",
              "\n",
              "    .dataframe thead th {\n",
              "        text-align: right;\n",
              "    }\n",
              "</style>\n",
              "<table border=\"1\" class=\"dataframe\">\n",
              "  <thead>\n",
              "    <tr style=\"text-align: right;\">\n",
              "      <th></th>\n",
              "      <th>age</th>\n",
              "      <th>ratings</th>\n",
              "      <th>weather</th>\n",
              "      <th>traffic</th>\n",
              "      <th>vehicle_condition</th>\n",
              "      <th>type_of_order</th>\n",
              "      <th>type_of_vehicle</th>\n",
              "      <th>multiple_deliveries</th>\n",
              "      <th>festival</th>\n",
              "      <th>city_type</th>\n",
              "      <th>is_weekend</th>\n",
              "      <th>pickup_time_minutes</th>\n",
              "      <th>order_time_of_day</th>\n",
              "      <th>distance</th>\n",
              "      <th>distance_type</th>\n",
              "    </tr>\n",
              "  </thead>\n",
              "  <tbody>\n",
              "    <tr>\n",
              "      <th>0</th>\n",
              "      <td>37.0</td>\n",
              "      <td>4.9</td>\n",
              "      <td>sunny</td>\n",
              "      <td>high</td>\n",
              "      <td>2</td>\n",
              "      <td>snack</td>\n",
              "      <td>motorcycle</td>\n",
              "      <td>0.0</td>\n",
              "      <td>no</td>\n",
              "      <td>urban</td>\n",
              "      <td>1</td>\n",
              "      <td>15.0</td>\n",
              "      <td>morning</td>\n",
              "      <td>3.025149</td>\n",
              "      <td>short</td>\n",
              "    </tr>\n",
              "    <tr>\n",
              "      <th>1</th>\n",
              "      <td>34.0</td>\n",
              "      <td>4.5</td>\n",
              "      <td>stormy</td>\n",
              "      <td>jam</td>\n",
              "      <td>2</td>\n",
              "      <td>snack</td>\n",
              "      <td>scooter</td>\n",
              "      <td>1.0</td>\n",
              "      <td>no</td>\n",
              "      <td>metropolitian</td>\n",
              "      <td>0</td>\n",
              "      <td>5.0</td>\n",
              "      <td>evening</td>\n",
              "      <td>20.183530</td>\n",
              "      <td>very_long</td>\n",
              "    </tr>\n",
              "    <tr>\n",
              "      <th>2</th>\n",
              "      <td>23.0</td>\n",
              "      <td>4.4</td>\n",
              "      <td>sandstorms</td>\n",
              "      <td>low</td>\n",
              "      <td>0</td>\n",
              "      <td>drinks</td>\n",
              "      <td>motorcycle</td>\n",
              "      <td>1.0</td>\n",
              "      <td>no</td>\n",
              "      <td>urban</td>\n",
              "      <td>1</td>\n",
              "      <td>15.0</td>\n",
              "      <td>morning</td>\n",
              "      <td>1.552758</td>\n",
              "      <td>short</td>\n",
              "    </tr>\n",
              "    <tr>\n",
              "      <th>3</th>\n",
              "      <td>38.0</td>\n",
              "      <td>4.7</td>\n",
              "      <td>sunny</td>\n",
              "      <td>medium</td>\n",
              "      <td>0</td>\n",
              "      <td>buffet</td>\n",
              "      <td>motorcycle</td>\n",
              "      <td>1.0</td>\n",
              "      <td>no</td>\n",
              "      <td>metropolitian</td>\n",
              "      <td>0</td>\n",
              "      <td>10.0</td>\n",
              "      <td>evening</td>\n",
              "      <td>7.790401</td>\n",
              "      <td>medium</td>\n",
              "    </tr>\n",
              "    <tr>\n",
              "      <th>4</th>\n",
              "      <td>32.0</td>\n",
              "      <td>4.6</td>\n",
              "      <td>cloudy</td>\n",
              "      <td>high</td>\n",
              "      <td>1</td>\n",
              "      <td>snack</td>\n",
              "      <td>scooter</td>\n",
              "      <td>1.0</td>\n",
              "      <td>no</td>\n",
              "      <td>metropolitian</td>\n",
              "      <td>1</td>\n",
              "      <td>15.0</td>\n",
              "      <td>afternoon</td>\n",
              "      <td>6.210138</td>\n",
              "      <td>medium</td>\n",
              "    </tr>\n",
              "    <tr>\n",
              "      <th>...</th>\n",
              "      <td>...</td>\n",
              "      <td>...</td>\n",
              "      <td>...</td>\n",
              "      <td>...</td>\n",
              "      <td>...</td>\n",
              "      <td>...</td>\n",
              "      <td>...</td>\n",
              "      <td>...</td>\n",
              "      <td>...</td>\n",
              "      <td>...</td>\n",
              "      <td>...</td>\n",
              "      <td>...</td>\n",
              "      <td>...</td>\n",
              "      <td>...</td>\n",
              "      <td>...</td>\n",
              "    </tr>\n",
              "    <tr>\n",
              "      <th>45496</th>\n",
              "      <td>35.0</td>\n",
              "      <td>4.2</td>\n",
              "      <td>windy</td>\n",
              "      <td>jam</td>\n",
              "      <td>2</td>\n",
              "      <td>drinks</td>\n",
              "      <td>motorcycle</td>\n",
              "      <td>1.0</td>\n",
              "      <td>no</td>\n",
              "      <td>metropolitian</td>\n",
              "      <td>0</td>\n",
              "      <td>10.0</td>\n",
              "      <td>night</td>\n",
              "      <td>16.600272</td>\n",
              "      <td>very_long</td>\n",
              "    </tr>\n",
              "    <tr>\n",
              "      <th>45497</th>\n",
              "      <td>30.0</td>\n",
              "      <td>4.8</td>\n",
              "      <td>windy</td>\n",
              "      <td>high</td>\n",
              "      <td>1</td>\n",
              "      <td>meal</td>\n",
              "      <td>motorcycle</td>\n",
              "      <td>0.0</td>\n",
              "      <td>no</td>\n",
              "      <td>metropolitian</td>\n",
              "      <td>0</td>\n",
              "      <td>10.0</td>\n",
              "      <td>morning</td>\n",
              "      <td>1.489846</td>\n",
              "      <td>short</td>\n",
              "    </tr>\n",
              "    <tr>\n",
              "      <th>45499</th>\n",
              "      <td>30.0</td>\n",
              "      <td>4.9</td>\n",
              "      <td>cloudy</td>\n",
              "      <td>low</td>\n",
              "      <td>1</td>\n",
              "      <td>drinks</td>\n",
              "      <td>scooter</td>\n",
              "      <td>0.0</td>\n",
              "      <td>no</td>\n",
              "      <td>metropolitian</td>\n",
              "      <td>0</td>\n",
              "      <td>15.0</td>\n",
              "      <td>night</td>\n",
              "      <td>4.657195</td>\n",
              "      <td>short</td>\n",
              "    </tr>\n",
              "    <tr>\n",
              "      <th>45500</th>\n",
              "      <td>20.0</td>\n",
              "      <td>4.7</td>\n",
              "      <td>cloudy</td>\n",
              "      <td>high</td>\n",
              "      <td>0</td>\n",
              "      <td>snack</td>\n",
              "      <td>motorcycle</td>\n",
              "      <td>1.0</td>\n",
              "      <td>no</td>\n",
              "      <td>metropolitian</td>\n",
              "      <td>0</td>\n",
              "      <td>5.0</td>\n",
              "      <td>afternoon</td>\n",
              "      <td>6.232393</td>\n",
              "      <td>medium</td>\n",
              "    </tr>\n",
              "    <tr>\n",
              "      <th>45501</th>\n",
              "      <td>23.0</td>\n",
              "      <td>4.9</td>\n",
              "      <td>fog</td>\n",
              "      <td>medium</td>\n",
              "      <td>2</td>\n",
              "      <td>snack</td>\n",
              "      <td>scooter</td>\n",
              "      <td>1.0</td>\n",
              "      <td>no</td>\n",
              "      <td>metropolitian</td>\n",
              "      <td>0</td>\n",
              "      <td>5.0</td>\n",
              "      <td>afternoon</td>\n",
              "      <td>12.074396</td>\n",
              "      <td>long</td>\n",
              "    </tr>\n",
              "  </tbody>\n",
              "</table>\n",
              "<p>37695 rows × 15 columns</p>\n",
              "</div>"
            ],
            "text/plain": [
              "        age  ratings     weather traffic  vehicle_condition type_of_order  \\\n",
              "0      37.0      4.9       sunny    high                  2         snack   \n",
              "1      34.0      4.5      stormy     jam                  2         snack   \n",
              "2      23.0      4.4  sandstorms     low                  0        drinks   \n",
              "3      38.0      4.7       sunny  medium                  0        buffet   \n",
              "4      32.0      4.6      cloudy    high                  1         snack   \n",
              "...     ...      ...         ...     ...                ...           ...   \n",
              "45496  35.0      4.2       windy     jam                  2        drinks   \n",
              "45497  30.0      4.8       windy    high                  1          meal   \n",
              "45499  30.0      4.9      cloudy     low                  1        drinks   \n",
              "45500  20.0      4.7      cloudy    high                  0         snack   \n",
              "45501  23.0      4.9         fog  medium                  2         snack   \n",
              "\n",
              "      type_of_vehicle  multiple_deliveries festival      city_type  \\\n",
              "0          motorcycle                  0.0       no          urban   \n",
              "1             scooter                  1.0       no  metropolitian   \n",
              "2          motorcycle                  1.0       no          urban   \n",
              "3          motorcycle                  1.0       no  metropolitian   \n",
              "4             scooter                  1.0       no  metropolitian   \n",
              "...               ...                  ...      ...            ...   \n",
              "45496      motorcycle                  1.0       no  metropolitian   \n",
              "45497      motorcycle                  0.0       no  metropolitian   \n",
              "45499         scooter                  0.0       no  metropolitian   \n",
              "45500      motorcycle                  1.0       no  metropolitian   \n",
              "45501         scooter                  1.0       no  metropolitian   \n",
              "\n",
              "       is_weekend  pickup_time_minutes order_time_of_day   distance  \\\n",
              "0               1                 15.0           morning   3.025149   \n",
              "1               0                  5.0           evening  20.183530   \n",
              "2               1                 15.0           morning   1.552758   \n",
              "3               0                 10.0           evening   7.790401   \n",
              "4               1                 15.0         afternoon   6.210138   \n",
              "...           ...                  ...               ...        ...   \n",
              "45496           0                 10.0             night  16.600272   \n",
              "45497           0                 10.0           morning   1.489846   \n",
              "45499           0                 15.0             night   4.657195   \n",
              "45500           0                  5.0         afternoon   6.232393   \n",
              "45501           0                  5.0         afternoon  12.074396   \n",
              "\n",
              "      distance_type  \n",
              "0             short  \n",
              "1         very_long  \n",
              "2             short  \n",
              "3            medium  \n",
              "4            medium  \n",
              "...             ...  \n",
              "45496     very_long  \n",
              "45497         short  \n",
              "45499         short  \n",
              "45500        medium  \n",
              "45501          long  \n",
              "\n",
              "[37695 rows x 15 columns]"
            ]
          },
          "execution_count": 58,
          "metadata": {},
          "output_type": "execute_result"
        }
      ],
      "source": [
        "# split into X and y\n",
        "\n",
        "X = temp_df.drop(columns='time_taken')\n",
        "y = temp_df['time_taken']\n",
        "\n",
        "X"
      ]
    },
    {
      "cell_type": "code",
      "execution_count": 59,
      "metadata": {
        "id": "qyiJRoSijpkP"
      },
      "outputs": [],
      "source": [
        "# train test split\n",
        "\n",
        "X_train, X_test, y_train, y_test = train_test_split(X,y,test_size=0.2,random_state=42)"
      ]
    },
    {
      "cell_type": "code",
      "execution_count": 60,
      "metadata": {
        "colab": {
          "base_uri": "https://localhost:8080/"
        },
        "id": "snUsH1UGkACY",
        "outputId": "695e74ce-0f88-49da-879a-d06917f06969"
      },
      "outputs": [
        {
          "name": "stdout",
          "output_type": "stream",
          "text": [
            "The size of train data is (30156, 15)\n",
            "The shape of test data is (7539, 15)\n"
          ]
        }
      ],
      "source": [
        "print(\"The size of train data is\",X_train.shape)\n",
        "print(\"The shape of test data is\",X_test.shape)"
      ]
    },
    {
      "cell_type": "code",
      "execution_count": 61,
      "metadata": {
        "colab": {
          "base_uri": "https://localhost:8080/",
          "height": 458
        },
        "id": "6h7lDIxZidY3",
        "outputId": "c1a8d694-61ca-4323-f895-0c1647f288cf"
      },
      "outputs": [
        {
          "data": {
            "text/plain": [
              "8708     49\n",
              "25198    31\n",
              "34049    11\n",
              "25987    24\n",
              "37121    31\n",
              "         ..\n",
              "20239    30\n",
              "7590     24\n",
              "13610    15\n",
              "1045     26\n",
              "18968    28\n",
              "Name: time_taken, Length: 30156, dtype: int64"
            ]
          },
          "execution_count": 61,
          "metadata": {},
          "output_type": "execute_result"
        }
      ],
      "source": [
        "y_train"
      ]
    },
    {
      "cell_type": "code",
      "execution_count": 62,
      "metadata": {
        "colab": {
          "base_uri": "https://localhost:8080/",
          "height": 554
        },
        "id": "77g0pvGMSBQ8",
        "outputId": "0d83c7fe-07c9-4768-a2cc-2f21e491300c"
      },
      "outputs": [
        {
          "data": {
            "text/plain": [
              "age                    0\n",
              "ratings                0\n",
              "weather                0\n",
              "traffic                0\n",
              "vehicle_condition      0\n",
              "type_of_order          0\n",
              "type_of_vehicle        0\n",
              "multiple_deliveries    0\n",
              "festival               0\n",
              "city_type              0\n",
              "is_weekend             0\n",
              "pickup_time_minutes    0\n",
              "order_time_of_day      0\n",
              "distance               0\n",
              "distance_type          0\n",
              "dtype: int64"
            ]
          },
          "execution_count": 62,
          "metadata": {},
          "output_type": "execute_result"
        }
      ],
      "source": [
        "# missing data in training data\n",
        "\n",
        "X_train.isna().sum()"
      ]
    },
    {
      "cell_type": "code",
      "execution_count": 63,
      "metadata": {
        "colab": {
          "base_uri": "https://localhost:8080/"
        },
        "id": "c9Eozi9SzlH_",
        "outputId": "4647e229-7ba7-44f4-f2ae-ad0571f6ddf7"
      },
      "outputs": [
        {
          "data": {
            "text/plain": [
              "Index(['age', 'ratings', 'weather', 'traffic', 'vehicle_condition',\n",
              "       'type_of_order', 'type_of_vehicle', 'multiple_deliveries', 'festival',\n",
              "       'city_type', 'is_weekend', 'pickup_time_minutes', 'order_time_of_day',\n",
              "       'distance', 'distance_type'],\n",
              "      dtype='object')"
            ]
          },
          "execution_count": 63,
          "metadata": {},
          "output_type": "execute_result"
        }
      ],
      "source": [
        "X_train.columns"
      ]
    },
    {
      "cell_type": "code",
      "execution_count": 64,
      "metadata": {
        "colab": {
          "base_uri": "https://localhost:8080/"
        },
        "id": "SDcyXUijzGls",
        "outputId": "d1bdc66d-5a21-4552-a06b-d0f40b89806c"
      },
      "outputs": [
        {
          "data": {
            "text/plain": [
              "15"
            ]
          },
          "execution_count": 64,
          "metadata": {},
          "output_type": "execute_result"
        }
      ],
      "source": [
        "len(X_train.columns)"
      ]
    },
    {
      "cell_type": "code",
      "execution_count": 65,
      "metadata": {
        "id": "irHmoGjKwvHo"
      },
      "outputs": [],
      "source": [
        "# do basic preprocessing\n",
        "\n",
        "num_cols = [\"age\",\"ratings\",\"pickup_time_minutes\",\"distance\"]\n",
        "\n",
        "nominal_cat_cols = ['weather','type_of_order',\n",
        "                    'type_of_vehicle',\"festival\",\n",
        "                    \"city_type\",\n",
        "                    \"is_weekend\",\n",
        "                    \"order_time_of_day\"]\n",
        "\n",
        "ordinal_cat_cols = [\"traffic\",\"distance_type\"]"
      ]
    },
    {
      "cell_type": "code",
      "execution_count": 66,
      "metadata": {
        "colab": {
          "base_uri": "https://localhost:8080/"
        },
        "id": "0XQ1zNSAzYEo",
        "outputId": "19444a75-aafc-4fbf-f09e-d968c9779077"
      },
      "outputs": [
        {
          "data": {
            "text/plain": [
              "13"
            ]
          },
          "execution_count": 66,
          "metadata": {},
          "output_type": "execute_result"
        }
      ],
      "source": [
        "len(num_cols + nominal_cat_cols + ordinal_cat_cols)"
      ]
    },
    {
      "cell_type": "code",
      "execution_count": 67,
      "metadata": {
        "colab": {
          "base_uri": "https://localhost:8080/"
        },
        "id": "C7kszVVv0M07",
        "outputId": "84fb504c-82b9-4d4a-e124-85acb5ac354e"
      },
      "outputs": [
        {
          "name": "stdout",
          "output_type": "stream",
          "text": [
            "traffic ['jam' 'medium' 'high' 'low']\n",
            "distance_type ['medium' 'short' 'long' 'very_long']\n"
          ]
        }
      ],
      "source": [
        "for col in ordinal_cat_cols:\n",
        "    print(col,X_train[col].unique())"
      ]
    },
    {
      "cell_type": "code",
      "execution_count": 68,
      "metadata": {
        "id": "lqdBHUmC0RN0"
      },
      "outputs": [],
      "source": [
        "# generate order for ordinal encoding\n",
        "\n",
        "traffic_order = [\"low\",\"medium\",\"high\",\"jam\"]\n",
        "\n",
        "distance_type_order = [\"short\",\"medium\",\"long\",\"very_long\"]"
      ]
    },
    {
      "cell_type": "code",
      "execution_count": 69,
      "metadata": {
        "colab": {
          "base_uri": "https://localhost:8080/",
          "height": 136
        },
        "id": "1g1TJYYjzpVp",
        "outputId": "346260b1-367e-4878-f1f9-9b67a99eb10f"
      },
      "outputs": [
        {
          "data": {
            "text/html": [
              "<style>#sk-container-id-3 {color: black;}#sk-container-id-3 pre{padding: 0;}#sk-container-id-3 div.sk-toggleable {background-color: white;}#sk-container-id-3 label.sk-toggleable__label {cursor: pointer;display: block;width: 100%;margin-bottom: 0;padding: 0.3em;box-sizing: border-box;text-align: center;}#sk-container-id-3 label.sk-toggleable__label-arrow:before {content: \"▸\";float: left;margin-right: 0.25em;color: #696969;}#sk-container-id-3 label.sk-toggleable__label-arrow:hover:before {color: black;}#sk-container-id-3 div.sk-estimator:hover label.sk-toggleable__label-arrow:before {color: black;}#sk-container-id-3 div.sk-toggleable__content {max-height: 0;max-width: 0;overflow: hidden;text-align: left;background-color: #f0f8ff;}#sk-container-id-3 div.sk-toggleable__content pre {margin: 0.2em;color: black;border-radius: 0.25em;background-color: #f0f8ff;}#sk-container-id-3 input.sk-toggleable__control:checked~div.sk-toggleable__content {max-height: 200px;max-width: 100%;overflow: auto;}#sk-container-id-3 input.sk-toggleable__control:checked~label.sk-toggleable__label-arrow:before {content: \"▾\";}#sk-container-id-3 div.sk-estimator input.sk-toggleable__control:checked~label.sk-toggleable__label {background-color: #d4ebff;}#sk-container-id-3 div.sk-label input.sk-toggleable__control:checked~label.sk-toggleable__label {background-color: #d4ebff;}#sk-container-id-3 input.sk-hidden--visually {border: 0;clip: rect(1px 1px 1px 1px);clip: rect(1px, 1px, 1px, 1px);height: 1px;margin: -1px;overflow: hidden;padding: 0;position: absolute;width: 1px;}#sk-container-id-3 div.sk-estimator {font-family: monospace;background-color: #f0f8ff;border: 1px dotted black;border-radius: 0.25em;box-sizing: border-box;margin-bottom: 0.5em;}#sk-container-id-3 div.sk-estimator:hover {background-color: #d4ebff;}#sk-container-id-3 div.sk-parallel-item::after {content: \"\";width: 100%;border-bottom: 1px solid gray;flex-grow: 1;}#sk-container-id-3 div.sk-label:hover label.sk-toggleable__label {background-color: #d4ebff;}#sk-container-id-3 div.sk-serial::before {content: \"\";position: absolute;border-left: 1px solid gray;box-sizing: border-box;top: 0;bottom: 0;left: 50%;z-index: 0;}#sk-container-id-3 div.sk-serial {display: flex;flex-direction: column;align-items: center;background-color: white;padding-right: 0.2em;padding-left: 0.2em;position: relative;}#sk-container-id-3 div.sk-item {position: relative;z-index: 1;}#sk-container-id-3 div.sk-parallel {display: flex;align-items: stretch;justify-content: center;background-color: white;position: relative;}#sk-container-id-3 div.sk-item::before, #sk-container-id-3 div.sk-parallel-item::before {content: \"\";position: absolute;border-left: 1px solid gray;box-sizing: border-box;top: 0;bottom: 0;left: 50%;z-index: -1;}#sk-container-id-3 div.sk-parallel-item {display: flex;flex-direction: column;z-index: 1;position: relative;background-color: white;}#sk-container-id-3 div.sk-parallel-item:first-child::after {align-self: flex-end;width: 50%;}#sk-container-id-3 div.sk-parallel-item:last-child::after {align-self: flex-start;width: 50%;}#sk-container-id-3 div.sk-parallel-item:only-child::after {width: 0;}#sk-container-id-3 div.sk-dashed-wrapped {border: 1px dashed gray;margin: 0 0.4em 0.5em 0.4em;box-sizing: border-box;padding-bottom: 0.4em;background-color: white;}#sk-container-id-3 div.sk-label label {font-family: monospace;font-weight: bold;display: inline-block;line-height: 1.2em;}#sk-container-id-3 div.sk-label-container {text-align: center;}#sk-container-id-3 div.sk-container {/* jupyter's `normalize.less` sets `[hidden] { display: none; }` but bootstrap.min.css set `[hidden] { display: none !important; }` so we also need the `!important` here to be able to override the default hidden behavior on the sphinx rendered scikit-learn.org. See: https://github.com/scikit-learn/scikit-learn/issues/21755 */display: inline-block !important;position: relative;}#sk-container-id-3 div.sk-text-repr-fallback {display: none;}</style><div id=\"sk-container-id-3\" class=\"sk-top-container\"><div class=\"sk-text-repr-fallback\"><pre>ColumnTransformer(n_jobs=-1, remainder=&#x27;passthrough&#x27;,\n",
              "                  transformers=[(&#x27;scale&#x27;, MinMaxScaler(),\n",
              "                                 [&#x27;age&#x27;, &#x27;ratings&#x27;, &#x27;pickup_time_minutes&#x27;,\n",
              "                                  &#x27;distance&#x27;]),\n",
              "                                (&#x27;nominal_encode&#x27;,\n",
              "                                 OneHotEncoder(drop=&#x27;first&#x27;,\n",
              "                                               handle_unknown=&#x27;ignore&#x27;,\n",
              "                                               sparse_output=False),\n",
              "                                 [&#x27;weather&#x27;, &#x27;type_of_order&#x27;, &#x27;type_of_vehicle&#x27;,\n",
              "                                  &#x27;festival&#x27;, &#x27;city_type&#x27;, &#x27;is_weekend&#x27;,\n",
              "                                  &#x27;order_time_of_day&#x27;]),\n",
              "                                (&#x27;ordinal_encode&#x27;,\n",
              "                                 OrdinalEncoder(categories=[[&#x27;low&#x27;, &#x27;medium&#x27;,\n",
              "                                                             &#x27;high&#x27;, &#x27;jam&#x27;],\n",
              "                                                            [&#x27;short&#x27;, &#x27;medium&#x27;,\n",
              "                                                             &#x27;long&#x27;,\n",
              "                                                             &#x27;very_long&#x27;]]),\n",
              "                                 [&#x27;traffic&#x27;, &#x27;distance_type&#x27;])],\n",
              "                  verbose_feature_names_out=False)</pre><b>In a Jupyter environment, please rerun this cell to show the HTML representation or trust the notebook. <br />On GitHub, the HTML representation is unable to render, please try loading this page with nbviewer.org.</b></div><div class=\"sk-container\" hidden><div class=\"sk-item sk-dashed-wrapped\"><div class=\"sk-label-container\"><div class=\"sk-label sk-toggleable\"><input class=\"sk-toggleable__control sk-hidden--visually\" id=\"sk-estimator-id-11\" type=\"checkbox\" ><label for=\"sk-estimator-id-11\" class=\"sk-toggleable__label sk-toggleable__label-arrow\">ColumnTransformer</label><div class=\"sk-toggleable__content\"><pre>ColumnTransformer(n_jobs=-1, remainder=&#x27;passthrough&#x27;,\n",
              "                  transformers=[(&#x27;scale&#x27;, MinMaxScaler(),\n",
              "                                 [&#x27;age&#x27;, &#x27;ratings&#x27;, &#x27;pickup_time_minutes&#x27;,\n",
              "                                  &#x27;distance&#x27;]),\n",
              "                                (&#x27;nominal_encode&#x27;,\n",
              "                                 OneHotEncoder(drop=&#x27;first&#x27;,\n",
              "                                               handle_unknown=&#x27;ignore&#x27;,\n",
              "                                               sparse_output=False),\n",
              "                                 [&#x27;weather&#x27;, &#x27;type_of_order&#x27;, &#x27;type_of_vehicle&#x27;,\n",
              "                                  &#x27;festival&#x27;, &#x27;city_type&#x27;, &#x27;is_weekend&#x27;,\n",
              "                                  &#x27;order_time_of_day&#x27;]),\n",
              "                                (&#x27;ordinal_encode&#x27;,\n",
              "                                 OrdinalEncoder(categories=[[&#x27;low&#x27;, &#x27;medium&#x27;,\n",
              "                                                             &#x27;high&#x27;, &#x27;jam&#x27;],\n",
              "                                                            [&#x27;short&#x27;, &#x27;medium&#x27;,\n",
              "                                                             &#x27;long&#x27;,\n",
              "                                                             &#x27;very_long&#x27;]]),\n",
              "                                 [&#x27;traffic&#x27;, &#x27;distance_type&#x27;])],\n",
              "                  verbose_feature_names_out=False)</pre></div></div></div><div class=\"sk-parallel\"><div class=\"sk-parallel-item\"><div class=\"sk-item\"><div class=\"sk-label-container\"><div class=\"sk-label sk-toggleable\"><input class=\"sk-toggleable__control sk-hidden--visually\" id=\"sk-estimator-id-12\" type=\"checkbox\" ><label for=\"sk-estimator-id-12\" class=\"sk-toggleable__label sk-toggleable__label-arrow\">scale</label><div class=\"sk-toggleable__content\"><pre>[&#x27;age&#x27;, &#x27;ratings&#x27;, &#x27;pickup_time_minutes&#x27;, &#x27;distance&#x27;]</pre></div></div></div><div class=\"sk-serial\"><div class=\"sk-item\"><div class=\"sk-estimator sk-toggleable\"><input class=\"sk-toggleable__control sk-hidden--visually\" id=\"sk-estimator-id-13\" type=\"checkbox\" ><label for=\"sk-estimator-id-13\" class=\"sk-toggleable__label sk-toggleable__label-arrow\">MinMaxScaler</label><div class=\"sk-toggleable__content\"><pre>MinMaxScaler()</pre></div></div></div></div></div></div><div class=\"sk-parallel-item\"><div class=\"sk-item\"><div class=\"sk-label-container\"><div class=\"sk-label sk-toggleable\"><input class=\"sk-toggleable__control sk-hidden--visually\" id=\"sk-estimator-id-14\" type=\"checkbox\" ><label for=\"sk-estimator-id-14\" class=\"sk-toggleable__label sk-toggleable__label-arrow\">nominal_encode</label><div class=\"sk-toggleable__content\"><pre>[&#x27;weather&#x27;, &#x27;type_of_order&#x27;, &#x27;type_of_vehicle&#x27;, &#x27;festival&#x27;, &#x27;city_type&#x27;, &#x27;is_weekend&#x27;, &#x27;order_time_of_day&#x27;]</pre></div></div></div><div class=\"sk-serial\"><div class=\"sk-item\"><div class=\"sk-estimator sk-toggleable\"><input class=\"sk-toggleable__control sk-hidden--visually\" id=\"sk-estimator-id-15\" type=\"checkbox\" ><label for=\"sk-estimator-id-15\" class=\"sk-toggleable__label sk-toggleable__label-arrow\">OneHotEncoder</label><div class=\"sk-toggleable__content\"><pre>OneHotEncoder(drop=&#x27;first&#x27;, handle_unknown=&#x27;ignore&#x27;, sparse_output=False)</pre></div></div></div></div></div></div><div class=\"sk-parallel-item\"><div class=\"sk-item\"><div class=\"sk-label-container\"><div class=\"sk-label sk-toggleable\"><input class=\"sk-toggleable__control sk-hidden--visually\" id=\"sk-estimator-id-16\" type=\"checkbox\" ><label for=\"sk-estimator-id-16\" class=\"sk-toggleable__label sk-toggleable__label-arrow\">ordinal_encode</label><div class=\"sk-toggleable__content\"><pre>[&#x27;traffic&#x27;, &#x27;distance_type&#x27;]</pre></div></div></div><div class=\"sk-serial\"><div class=\"sk-item\"><div class=\"sk-estimator sk-toggleable\"><input class=\"sk-toggleable__control sk-hidden--visually\" id=\"sk-estimator-id-17\" type=\"checkbox\" ><label for=\"sk-estimator-id-17\" class=\"sk-toggleable__label sk-toggleable__label-arrow\">OrdinalEncoder</label><div class=\"sk-toggleable__content\"><pre>OrdinalEncoder(categories=[[&#x27;low&#x27;, &#x27;medium&#x27;, &#x27;high&#x27;, &#x27;jam&#x27;],\n",
              "                           [&#x27;short&#x27;, &#x27;medium&#x27;, &#x27;long&#x27;, &#x27;very_long&#x27;]])</pre></div></div></div></div></div></div><div class=\"sk-parallel-item\"><div class=\"sk-item\"><div class=\"sk-label-container\"><div class=\"sk-label sk-toggleable\"><input class=\"sk-toggleable__control sk-hidden--visually\" id=\"sk-estimator-id-18\" type=\"checkbox\" ><label for=\"sk-estimator-id-18\" class=\"sk-toggleable__label sk-toggleable__label-arrow\">remainder</label><div class=\"sk-toggleable__content\"><pre></pre></div></div></div><div class=\"sk-serial\"><div class=\"sk-item\"><div class=\"sk-estimator sk-toggleable\"><input class=\"sk-toggleable__control sk-hidden--visually\" id=\"sk-estimator-id-19\" type=\"checkbox\" ><label for=\"sk-estimator-id-19\" class=\"sk-toggleable__label sk-toggleable__label-arrow\">passthrough</label><div class=\"sk-toggleable__content\"><pre>passthrough</pre></div></div></div></div></div></div></div></div></div></div>"
            ],
            "text/plain": [
              "ColumnTransformer(n_jobs=-1, remainder='passthrough',\n",
              "                  transformers=[('scale', MinMaxScaler(),\n",
              "                                 ['age', 'ratings', 'pickup_time_minutes',\n",
              "                                  'distance']),\n",
              "                                ('nominal_encode',\n",
              "                                 OneHotEncoder(drop='first',\n",
              "                                               handle_unknown='ignore',\n",
              "                                               sparse_output=False),\n",
              "                                 ['weather', 'type_of_order', 'type_of_vehicle',\n",
              "                                  'festival', 'city_type', 'is_weekend',\n",
              "                                  'order_time_of_day']),\n",
              "                                ('ordinal_encode',\n",
              "                                 OrdinalEncoder(categories=[['low', 'medium',\n",
              "                                                             'high', 'jam'],\n",
              "                                                            ['short', 'medium',\n",
              "                                                             'long',\n",
              "                                                             'very_long']]),\n",
              "                                 ['traffic', 'distance_type'])],\n",
              "                  verbose_feature_names_out=False)"
            ]
          },
          "execution_count": 69,
          "metadata": {},
          "output_type": "execute_result"
        }
      ],
      "source": [
        "# Build a preprocessor\n",
        "preprocessor = ColumnTransformer(\n",
        "    transformers=[\n",
        "        (\"scale\", MinMaxScaler(), num_cols),\n",
        "        (\"nominal_encode\", OneHotEncoder(drop=\"first\", handle_unknown=\"ignore\", sparse_output=False), nominal_cat_cols),\n",
        "        (\"ordinal_encode\", OrdinalEncoder(categories=[traffic_order, distance_type_order]), ordinal_cat_cols)\n",
        "    ],\n",
        "    remainder=\"passthrough\",  # Keeps other columns unchanged\n",
        "    n_jobs=-1,\n",
        "    verbose_feature_names_out=False\n",
        ")\n",
        "\n",
        "# Set the output format to pandas\n",
        "preprocessor.set_output(transform=\"pandas\")"
      ]
    },
    {
      "cell_type": "code",
      "execution_count": 70,
      "metadata": {
        "colab": {
          "base_uri": "https://localhost:8080/",
          "height": 461
        },
        "id": "NwuEcET21f-Y",
        "outputId": "3ca3c39a-1009-41d8-fd87-97a590dd404f"
      },
      "outputs": [
        {
          "data": {
            "text/html": [
              "<div>\n",
              "<style scoped>\n",
              "    .dataframe tbody tr th:only-of-type {\n",
              "        vertical-align: middle;\n",
              "    }\n",
              "\n",
              "    .dataframe tbody tr th {\n",
              "        vertical-align: top;\n",
              "    }\n",
              "\n",
              "    .dataframe thead th {\n",
              "        text-align: right;\n",
              "    }\n",
              "</style>\n",
              "<table border=\"1\" class=\"dataframe\">\n",
              "  <thead>\n",
              "    <tr style=\"text-align: right;\">\n",
              "      <th></th>\n",
              "      <th>age</th>\n",
              "      <th>ratings</th>\n",
              "      <th>pickup_time_minutes</th>\n",
              "      <th>distance</th>\n",
              "      <th>weather_fog</th>\n",
              "      <th>weather_sandstorms</th>\n",
              "      <th>weather_stormy</th>\n",
              "      <th>weather_sunny</th>\n",
              "      <th>weather_windy</th>\n",
              "      <th>type_of_order_drinks</th>\n",
              "      <th>...</th>\n",
              "      <th>city_type_semi-urban</th>\n",
              "      <th>city_type_urban</th>\n",
              "      <th>is_weekend_1</th>\n",
              "      <th>order_time_of_day_evening</th>\n",
              "      <th>order_time_of_day_morning</th>\n",
              "      <th>order_time_of_day_night</th>\n",
              "      <th>traffic</th>\n",
              "      <th>distance_type</th>\n",
              "      <th>vehicle_condition</th>\n",
              "      <th>multiple_deliveries</th>\n",
              "    </tr>\n",
              "  </thead>\n",
              "  <tbody>\n",
              "    <tr>\n",
              "      <th>8708</th>\n",
              "      <td>0.473684</td>\n",
              "      <td>0.56</td>\n",
              "      <td>1.0</td>\n",
              "      <td>0.404165</td>\n",
              "      <td>0.0</td>\n",
              "      <td>0.0</td>\n",
              "      <td>0.0</td>\n",
              "      <td>1.0</td>\n",
              "      <td>0.0</td>\n",
              "      <td>1.0</td>\n",
              "      <td>...</td>\n",
              "      <td>1.0</td>\n",
              "      <td>0.0</td>\n",
              "      <td>0.0</td>\n",
              "      <td>0.0</td>\n",
              "      <td>0.0</td>\n",
              "      <td>1.0</td>\n",
              "      <td>3.0</td>\n",
              "      <td>1.0</td>\n",
              "      <td>0</td>\n",
              "      <td>2.0</td>\n",
              "    </tr>\n",
              "    <tr>\n",
              "      <th>25198</th>\n",
              "      <td>1.000000</td>\n",
              "      <td>0.76</td>\n",
              "      <td>0.0</td>\n",
              "      <td>0.154044</td>\n",
              "      <td>0.0</td>\n",
              "      <td>1.0</td>\n",
              "      <td>0.0</td>\n",
              "      <td>0.0</td>\n",
              "      <td>0.0</td>\n",
              "      <td>0.0</td>\n",
              "      <td>...</td>\n",
              "      <td>0.0</td>\n",
              "      <td>0.0</td>\n",
              "      <td>1.0</td>\n",
              "      <td>0.0</td>\n",
              "      <td>0.0</td>\n",
              "      <td>0.0</td>\n",
              "      <td>1.0</td>\n",
              "      <td>0.0</td>\n",
              "      <td>0</td>\n",
              "      <td>1.0</td>\n",
              "    </tr>\n",
              "    <tr>\n",
              "      <th>34049</th>\n",
              "      <td>0.473684</td>\n",
              "      <td>0.80</td>\n",
              "      <td>0.5</td>\n",
              "      <td>0.002461</td>\n",
              "      <td>0.0</td>\n",
              "      <td>0.0</td>\n",
              "      <td>0.0</td>\n",
              "      <td>1.0</td>\n",
              "      <td>0.0</td>\n",
              "      <td>0.0</td>\n",
              "      <td>...</td>\n",
              "      <td>0.0</td>\n",
              "      <td>1.0</td>\n",
              "      <td>0.0</td>\n",
              "      <td>0.0</td>\n",
              "      <td>1.0</td>\n",
              "      <td>0.0</td>\n",
              "      <td>2.0</td>\n",
              "      <td>0.0</td>\n",
              "      <td>1</td>\n",
              "      <td>0.0</td>\n",
              "    </tr>\n",
              "    <tr>\n",
              "      <th>25987</th>\n",
              "      <td>1.000000</td>\n",
              "      <td>0.92</td>\n",
              "      <td>1.0</td>\n",
              "      <td>0.460411</td>\n",
              "      <td>0.0</td>\n",
              "      <td>1.0</td>\n",
              "      <td>0.0</td>\n",
              "      <td>0.0</td>\n",
              "      <td>0.0</td>\n",
              "      <td>0.0</td>\n",
              "      <td>...</td>\n",
              "      <td>0.0</td>\n",
              "      <td>0.0</td>\n",
              "      <td>1.0</td>\n",
              "      <td>0.0</td>\n",
              "      <td>0.0</td>\n",
              "      <td>1.0</td>\n",
              "      <td>0.0</td>\n",
              "      <td>2.0</td>\n",
              "      <td>0</td>\n",
              "      <td>1.0</td>\n",
              "    </tr>\n",
              "    <tr>\n",
              "      <th>37121</th>\n",
              "      <td>0.526316</td>\n",
              "      <td>0.76</td>\n",
              "      <td>0.5</td>\n",
              "      <td>0.243676</td>\n",
              "      <td>0.0</td>\n",
              "      <td>0.0</td>\n",
              "      <td>0.0</td>\n",
              "      <td>0.0</td>\n",
              "      <td>1.0</td>\n",
              "      <td>0.0</td>\n",
              "      <td>...</td>\n",
              "      <td>0.0</td>\n",
              "      <td>0.0</td>\n",
              "      <td>1.0</td>\n",
              "      <td>0.0</td>\n",
              "      <td>0.0</td>\n",
              "      <td>0.0</td>\n",
              "      <td>1.0</td>\n",
              "      <td>1.0</td>\n",
              "      <td>1</td>\n",
              "      <td>1.0</td>\n",
              "    </tr>\n",
              "    <tr>\n",
              "      <th>...</th>\n",
              "      <td>...</td>\n",
              "      <td>...</td>\n",
              "      <td>...</td>\n",
              "      <td>...</td>\n",
              "      <td>...</td>\n",
              "      <td>...</td>\n",
              "      <td>...</td>\n",
              "      <td>...</td>\n",
              "      <td>...</td>\n",
              "      <td>...</td>\n",
              "      <td>...</td>\n",
              "      <td>...</td>\n",
              "      <td>...</td>\n",
              "      <td>...</td>\n",
              "      <td>...</td>\n",
              "      <td>...</td>\n",
              "      <td>...</td>\n",
              "      <td>...</td>\n",
              "      <td>...</td>\n",
              "      <td>...</td>\n",
              "      <td>...</td>\n",
              "    </tr>\n",
              "    <tr>\n",
              "      <th>20239</th>\n",
              "      <td>0.578947</td>\n",
              "      <td>0.92</td>\n",
              "      <td>0.5</td>\n",
              "      <td>0.451895</td>\n",
              "      <td>0.0</td>\n",
              "      <td>0.0</td>\n",
              "      <td>0.0</td>\n",
              "      <td>1.0</td>\n",
              "      <td>0.0</td>\n",
              "      <td>0.0</td>\n",
              "      <td>...</td>\n",
              "      <td>0.0</td>\n",
              "      <td>0.0</td>\n",
              "      <td>1.0</td>\n",
              "      <td>1.0</td>\n",
              "      <td>0.0</td>\n",
              "      <td>0.0</td>\n",
              "      <td>3.0</td>\n",
              "      <td>2.0</td>\n",
              "      <td>0</td>\n",
              "      <td>0.0</td>\n",
              "    </tr>\n",
              "    <tr>\n",
              "      <th>7590</th>\n",
              "      <td>0.052632</td>\n",
              "      <td>1.00</td>\n",
              "      <td>1.0</td>\n",
              "      <td>0.612270</td>\n",
              "      <td>0.0</td>\n",
              "      <td>1.0</td>\n",
              "      <td>0.0</td>\n",
              "      <td>0.0</td>\n",
              "      <td>0.0</td>\n",
              "      <td>0.0</td>\n",
              "      <td>...</td>\n",
              "      <td>0.0</td>\n",
              "      <td>0.0</td>\n",
              "      <td>1.0</td>\n",
              "      <td>1.0</td>\n",
              "      <td>0.0</td>\n",
              "      <td>0.0</td>\n",
              "      <td>1.0</td>\n",
              "      <td>2.0</td>\n",
              "      <td>1</td>\n",
              "      <td>1.0</td>\n",
              "    </tr>\n",
              "    <tr>\n",
              "      <th>13610</th>\n",
              "      <td>0.526316</td>\n",
              "      <td>0.92</td>\n",
              "      <td>0.0</td>\n",
              "      <td>0.322877</td>\n",
              "      <td>0.0</td>\n",
              "      <td>0.0</td>\n",
              "      <td>0.0</td>\n",
              "      <td>0.0</td>\n",
              "      <td>0.0</td>\n",
              "      <td>0.0</td>\n",
              "      <td>...</td>\n",
              "      <td>0.0</td>\n",
              "      <td>0.0</td>\n",
              "      <td>1.0</td>\n",
              "      <td>0.0</td>\n",
              "      <td>0.0</td>\n",
              "      <td>0.0</td>\n",
              "      <td>1.0</td>\n",
              "      <td>1.0</td>\n",
              "      <td>1</td>\n",
              "      <td>0.0</td>\n",
              "    </tr>\n",
              "    <tr>\n",
              "      <th>1045</th>\n",
              "      <td>0.947368</td>\n",
              "      <td>0.96</td>\n",
              "      <td>0.5</td>\n",
              "      <td>0.004486</td>\n",
              "      <td>0.0</td>\n",
              "      <td>0.0</td>\n",
              "      <td>0.0</td>\n",
              "      <td>1.0</td>\n",
              "      <td>0.0</td>\n",
              "      <td>0.0</td>\n",
              "      <td>...</td>\n",
              "      <td>0.0</td>\n",
              "      <td>1.0</td>\n",
              "      <td>1.0</td>\n",
              "      <td>0.0</td>\n",
              "      <td>1.0</td>\n",
              "      <td>0.0</td>\n",
              "      <td>0.0</td>\n",
              "      <td>0.0</td>\n",
              "      <td>0</td>\n",
              "      <td>1.0</td>\n",
              "    </tr>\n",
              "    <tr>\n",
              "      <th>18968</th>\n",
              "      <td>0.684211</td>\n",
              "      <td>0.96</td>\n",
              "      <td>0.0</td>\n",
              "      <td>0.481978</td>\n",
              "      <td>0.0</td>\n",
              "      <td>0.0</td>\n",
              "      <td>0.0</td>\n",
              "      <td>0.0</td>\n",
              "      <td>1.0</td>\n",
              "      <td>0.0</td>\n",
              "      <td>...</td>\n",
              "      <td>0.0</td>\n",
              "      <td>1.0</td>\n",
              "      <td>0.0</td>\n",
              "      <td>0.0</td>\n",
              "      <td>0.0</td>\n",
              "      <td>1.0</td>\n",
              "      <td>0.0</td>\n",
              "      <td>2.0</td>\n",
              "      <td>2</td>\n",
              "      <td>1.0</td>\n",
              "    </tr>\n",
              "  </tbody>\n",
              "</table>\n",
              "<p>30156 rows × 25 columns</p>\n",
              "</div>"
            ],
            "text/plain": [
              "            age  ratings  pickup_time_minutes  distance  weather_fog  \\\n",
              "8708   0.473684     0.56                  1.0  0.404165          0.0   \n",
              "25198  1.000000     0.76                  0.0  0.154044          0.0   \n",
              "34049  0.473684     0.80                  0.5  0.002461          0.0   \n",
              "25987  1.000000     0.92                  1.0  0.460411          0.0   \n",
              "37121  0.526316     0.76                  0.5  0.243676          0.0   \n",
              "...         ...      ...                  ...       ...          ...   \n",
              "20239  0.578947     0.92                  0.5  0.451895          0.0   \n",
              "7590   0.052632     1.00                  1.0  0.612270          0.0   \n",
              "13610  0.526316     0.92                  0.0  0.322877          0.0   \n",
              "1045   0.947368     0.96                  0.5  0.004486          0.0   \n",
              "18968  0.684211     0.96                  0.0  0.481978          0.0   \n",
              "\n",
              "       weather_sandstorms  weather_stormy  weather_sunny  weather_windy  \\\n",
              "8708                  0.0             0.0            1.0            0.0   \n",
              "25198                 1.0             0.0            0.0            0.0   \n",
              "34049                 0.0             0.0            1.0            0.0   \n",
              "25987                 1.0             0.0            0.0            0.0   \n",
              "37121                 0.0             0.0            0.0            1.0   \n",
              "...                   ...             ...            ...            ...   \n",
              "20239                 0.0             0.0            1.0            0.0   \n",
              "7590                  1.0             0.0            0.0            0.0   \n",
              "13610                 0.0             0.0            0.0            0.0   \n",
              "1045                  0.0             0.0            1.0            0.0   \n",
              "18968                 0.0             0.0            0.0            1.0   \n",
              "\n",
              "       type_of_order_drinks  ...  city_type_semi-urban  city_type_urban  \\\n",
              "8708                    1.0  ...                   1.0              0.0   \n",
              "25198                   0.0  ...                   0.0              0.0   \n",
              "34049                   0.0  ...                   0.0              1.0   \n",
              "25987                   0.0  ...                   0.0              0.0   \n",
              "37121                   0.0  ...                   0.0              0.0   \n",
              "...                     ...  ...                   ...              ...   \n",
              "20239                   0.0  ...                   0.0              0.0   \n",
              "7590                    0.0  ...                   0.0              0.0   \n",
              "13610                   0.0  ...                   0.0              0.0   \n",
              "1045                    0.0  ...                   0.0              1.0   \n",
              "18968                   0.0  ...                   0.0              1.0   \n",
              "\n",
              "       is_weekend_1  order_time_of_day_evening  order_time_of_day_morning  \\\n",
              "8708            0.0                        0.0                        0.0   \n",
              "25198           1.0                        0.0                        0.0   \n",
              "34049           0.0                        0.0                        1.0   \n",
              "25987           1.0                        0.0                        0.0   \n",
              "37121           1.0                        0.0                        0.0   \n",
              "...             ...                        ...                        ...   \n",
              "20239           1.0                        1.0                        0.0   \n",
              "7590            1.0                        1.0                        0.0   \n",
              "13610           1.0                        0.0                        0.0   \n",
              "1045            1.0                        0.0                        1.0   \n",
              "18968           0.0                        0.0                        0.0   \n",
              "\n",
              "       order_time_of_day_night  traffic  distance_type  vehicle_condition  \\\n",
              "8708                       1.0      3.0            1.0                  0   \n",
              "25198                      0.0      1.0            0.0                  0   \n",
              "34049                      0.0      2.0            0.0                  1   \n",
              "25987                      1.0      0.0            2.0                  0   \n",
              "37121                      0.0      1.0            1.0                  1   \n",
              "...                        ...      ...            ...                ...   \n",
              "20239                      0.0      3.0            2.0                  0   \n",
              "7590                       0.0      1.0            2.0                  1   \n",
              "13610                      0.0      1.0            1.0                  1   \n",
              "1045                       0.0      0.0            0.0                  0   \n",
              "18968                      1.0      0.0            2.0                  2   \n",
              "\n",
              "       multiple_deliveries  \n",
              "8708                   2.0  \n",
              "25198                  1.0  \n",
              "34049                  0.0  \n",
              "25987                  1.0  \n",
              "37121                  1.0  \n",
              "...                    ...  \n",
              "20239                  0.0  \n",
              "7590                   1.0  \n",
              "13610                  0.0  \n",
              "1045                   1.0  \n",
              "18968                  1.0  \n",
              "\n",
              "[30156 rows x 25 columns]"
            ]
          },
          "execution_count": 70,
          "metadata": {},
          "output_type": "execute_result"
        }
      ],
      "source": [
        "# transform the data\n",
        "\n",
        "X_train_trans = preprocessor.fit_transform(X_train)\n",
        "X_test_trans = preprocessor.transform(X_test)\n",
        "\n",
        "X_train_trans"
      ]
    },
    {
      "cell_type": "code",
      "execution_count": 71,
      "metadata": {
        "id": "qPgu4Y6f2kKQ"
      },
      "outputs": [],
      "source": [
        "# transform target column\n",
        "\n",
        "pt = PowerTransformer()\n",
        "\n",
        "y_train_pt = pt.fit_transform(y_train.values.reshape(-1,1))\n",
        "y_test_pt = pt.transform(y_test.values.reshape(-1,1))"
      ]
    },
    {
      "cell_type": "code",
      "execution_count": 72,
      "metadata": {
        "colab": {
          "base_uri": "https://localhost:8080/"
        },
        "id": "THK6HestNW-a",
        "outputId": "117e7815-c756-4c81-ae0f-ce94259d9ac3"
      },
      "outputs": [
        {
          "data": {
            "text/plain": [
              "array([0.32446096])"
            ]
          },
          "execution_count": 72,
          "metadata": {},
          "output_type": "execute_result"
        }
      ],
      "source": [
        "pt.lambdas_"
      ]
    },
    {
      "cell_type": "code",
      "execution_count": 73,
      "metadata": {
        "colab": {
          "base_uri": "https://localhost:8080/",
          "height": 424
        },
        "id": "UiGcJMAo2xZx",
        "outputId": "4dc5134a-e236-47ef-c6b3-aca4fa0076b5"
      },
      "outputs": [
        {
          "data": {
            "text/html": [
              "<div>\n",
              "<style scoped>\n",
              "    .dataframe tbody tr th:only-of-type {\n",
              "        vertical-align: middle;\n",
              "    }\n",
              "\n",
              "    .dataframe tbody tr th {\n",
              "        vertical-align: top;\n",
              "    }\n",
              "\n",
              "    .dataframe thead th {\n",
              "        text-align: right;\n",
              "    }\n",
              "</style>\n",
              "<table border=\"1\" class=\"dataframe\">\n",
              "  <thead>\n",
              "    <tr style=\"text-align: right;\">\n",
              "      <th></th>\n",
              "      <th>x0</th>\n",
              "    </tr>\n",
              "  </thead>\n",
              "  <tbody>\n",
              "    <tr>\n",
              "      <th>0</th>\n",
              "      <td>2.028672</td>\n",
              "    </tr>\n",
              "    <tr>\n",
              "      <th>1</th>\n",
              "      <td>0.554539</td>\n",
              "    </tr>\n",
              "    <tr>\n",
              "      <th>2</th>\n",
              "      <td>-2.024267</td>\n",
              "    </tr>\n",
              "    <tr>\n",
              "      <th>3</th>\n",
              "      <td>-0.173699</td>\n",
              "    </tr>\n",
              "    <tr>\n",
              "      <th>4</th>\n",
              "      <td>0.554539</td>\n",
              "    </tr>\n",
              "    <tr>\n",
              "      <th>...</th>\n",
              "      <td>...</td>\n",
              "    </tr>\n",
              "    <tr>\n",
              "      <th>30151</th>\n",
              "      <td>0.457580</td>\n",
              "    </tr>\n",
              "    <tr>\n",
              "      <th>30152</th>\n",
              "      <td>-0.173699</td>\n",
              "    </tr>\n",
              "    <tr>\n",
              "      <th>30153</th>\n",
              "      <td>-1.350937</td>\n",
              "    </tr>\n",
              "    <tr>\n",
              "      <th>30154</th>\n",
              "      <td>0.047111</td>\n",
              "    </tr>\n",
              "    <tr>\n",
              "      <th>30155</th>\n",
              "      <td>0.257130</td>\n",
              "    </tr>\n",
              "  </tbody>\n",
              "</table>\n",
              "<p>30156 rows × 1 columns</p>\n",
              "</div>"
            ],
            "text/plain": [
              "             x0\n",
              "0      2.028672\n",
              "1      0.554539\n",
              "2     -2.024267\n",
              "3     -0.173699\n",
              "4      0.554539\n",
              "...         ...\n",
              "30151  0.457580\n",
              "30152 -0.173699\n",
              "30153 -1.350937\n",
              "30154  0.047111\n",
              "30155  0.257130\n",
              "\n",
              "[30156 rows x 1 columns]"
            ]
          },
          "execution_count": 73,
          "metadata": {},
          "output_type": "execute_result"
        }
      ],
      "source": [
        "y_train_pt"
      ]
    },
    {
      "cell_type": "code",
      "execution_count": 74,
      "metadata": {
        "colab": {
          "base_uri": "https://localhost:8080/",
          "height": 80
        },
        "id": "wfkL3jSU2EgQ",
        "outputId": "46223563-411f-4d3e-9513-659707661602"
      },
      "outputs": [
        {
          "data": {
            "text/html": [
              "<style>#sk-container-id-4 {color: black;}#sk-container-id-4 pre{padding: 0;}#sk-container-id-4 div.sk-toggleable {background-color: white;}#sk-container-id-4 label.sk-toggleable__label {cursor: pointer;display: block;width: 100%;margin-bottom: 0;padding: 0.3em;box-sizing: border-box;text-align: center;}#sk-container-id-4 label.sk-toggleable__label-arrow:before {content: \"▸\";float: left;margin-right: 0.25em;color: #696969;}#sk-container-id-4 label.sk-toggleable__label-arrow:hover:before {color: black;}#sk-container-id-4 div.sk-estimator:hover label.sk-toggleable__label-arrow:before {color: black;}#sk-container-id-4 div.sk-toggleable__content {max-height: 0;max-width: 0;overflow: hidden;text-align: left;background-color: #f0f8ff;}#sk-container-id-4 div.sk-toggleable__content pre {margin: 0.2em;color: black;border-radius: 0.25em;background-color: #f0f8ff;}#sk-container-id-4 input.sk-toggleable__control:checked~div.sk-toggleable__content {max-height: 200px;max-width: 100%;overflow: auto;}#sk-container-id-4 input.sk-toggleable__control:checked~label.sk-toggleable__label-arrow:before {content: \"▾\";}#sk-container-id-4 div.sk-estimator input.sk-toggleable__control:checked~label.sk-toggleable__label {background-color: #d4ebff;}#sk-container-id-4 div.sk-label input.sk-toggleable__control:checked~label.sk-toggleable__label {background-color: #d4ebff;}#sk-container-id-4 input.sk-hidden--visually {border: 0;clip: rect(1px 1px 1px 1px);clip: rect(1px, 1px, 1px, 1px);height: 1px;margin: -1px;overflow: hidden;padding: 0;position: absolute;width: 1px;}#sk-container-id-4 div.sk-estimator {font-family: monospace;background-color: #f0f8ff;border: 1px dotted black;border-radius: 0.25em;box-sizing: border-box;margin-bottom: 0.5em;}#sk-container-id-4 div.sk-estimator:hover {background-color: #d4ebff;}#sk-container-id-4 div.sk-parallel-item::after {content: \"\";width: 100%;border-bottom: 1px solid gray;flex-grow: 1;}#sk-container-id-4 div.sk-label:hover label.sk-toggleable__label {background-color: #d4ebff;}#sk-container-id-4 div.sk-serial::before {content: \"\";position: absolute;border-left: 1px solid gray;box-sizing: border-box;top: 0;bottom: 0;left: 50%;z-index: 0;}#sk-container-id-4 div.sk-serial {display: flex;flex-direction: column;align-items: center;background-color: white;padding-right: 0.2em;padding-left: 0.2em;position: relative;}#sk-container-id-4 div.sk-item {position: relative;z-index: 1;}#sk-container-id-4 div.sk-parallel {display: flex;align-items: stretch;justify-content: center;background-color: white;position: relative;}#sk-container-id-4 div.sk-item::before, #sk-container-id-4 div.sk-parallel-item::before {content: \"\";position: absolute;border-left: 1px solid gray;box-sizing: border-box;top: 0;bottom: 0;left: 50%;z-index: -1;}#sk-container-id-4 div.sk-parallel-item {display: flex;flex-direction: column;z-index: 1;position: relative;background-color: white;}#sk-container-id-4 div.sk-parallel-item:first-child::after {align-self: flex-end;width: 50%;}#sk-container-id-4 div.sk-parallel-item:last-child::after {align-self: flex-start;width: 50%;}#sk-container-id-4 div.sk-parallel-item:only-child::after {width: 0;}#sk-container-id-4 div.sk-dashed-wrapped {border: 1px dashed gray;margin: 0 0.4em 0.5em 0.4em;box-sizing: border-box;padding-bottom: 0.4em;background-color: white;}#sk-container-id-4 div.sk-label label {font-family: monospace;font-weight: bold;display: inline-block;line-height: 1.2em;}#sk-container-id-4 div.sk-label-container {text-align: center;}#sk-container-id-4 div.sk-container {/* jupyter's `normalize.less` sets `[hidden] { display: none; }` but bootstrap.min.css set `[hidden] { display: none !important; }` so we also need the `!important` here to be able to override the default hidden behavior on the sphinx rendered scikit-learn.org. See: https://github.com/scikit-learn/scikit-learn/issues/21755 */display: inline-block !important;position: relative;}#sk-container-id-4 div.sk-text-repr-fallback {display: none;}</style><div id=\"sk-container-id-4\" class=\"sk-top-container\"><div class=\"sk-text-repr-fallback\"><pre>RandomForestRegressor()</pre><b>In a Jupyter environment, please rerun this cell to show the HTML representation or trust the notebook. <br />On GitHub, the HTML representation is unable to render, please try loading this page with nbviewer.org.</b></div><div class=\"sk-container\" hidden><div class=\"sk-item\"><div class=\"sk-estimator sk-toggleable\"><input class=\"sk-toggleable__control sk-hidden--visually\" id=\"sk-estimator-id-20\" type=\"checkbox\" checked><label for=\"sk-estimator-id-20\" class=\"sk-toggleable__label sk-toggleable__label-arrow\">RandomForestRegressor</label><div class=\"sk-toggleable__content\"><pre>RandomForestRegressor()</pre></div></div></div></div></div>"
            ],
            "text/plain": [
              "RandomForestRegressor()"
            ]
          },
          "execution_count": 74,
          "metadata": {},
          "output_type": "execute_result"
        }
      ],
      "source": [
        "from sklearn.ensemble import RandomForestRegressor\n",
        "\n",
        "rf = RandomForestRegressor()\n",
        "\n",
        "rf.fit(X_train_trans,y_train_pt.values.ravel())"
      ]
    },
    {
      "cell_type": "code",
      "execution_count": 75,
      "metadata": {
        "id": "XUooHh143XzR"
      },
      "outputs": [],
      "source": [
        "# get the predictions\n",
        "y_pred_train = rf.predict(X_train_trans)\n",
        "y_pred_test = rf.predict(X_test_trans)"
      ]
    },
    {
      "cell_type": "code",
      "execution_count": 76,
      "metadata": {
        "id": "BjjVnJb53qBY"
      },
      "outputs": [],
      "source": [
        "# get the actual predictions values\n",
        "\n",
        "y_pred_train_org = pt.inverse_transform(y_pred_train.reshape(-1,1))\n",
        "y_pred_test_org = pt.inverse_transform(y_pred_test.reshape(-1,1))"
      ]
    },
    {
      "cell_type": "code",
      "execution_count": 77,
      "metadata": {
        "colab": {
          "base_uri": "https://localhost:8080/"
        },
        "id": "RVb1Iuu33OC_",
        "outputId": "34c7ff93-a2aa-4cd6-a5fb-844d61d1b06d"
      },
      "outputs": [
        {
          "name": "stdout",
          "output_type": "stream",
          "text": [
            "The train error is 1.16 minutes\n",
            "The test error is 3.09 minutes\n"
          ]
        }
      ],
      "source": [
        "from sklearn.metrics import mean_absolute_error, r2_score\n",
        "\n",
        "print(f\"The train error is {mean_absolute_error(y_train,y_pred_train_org):.2f} minutes\")\n",
        "print(f\"The test error is {mean_absolute_error(y_test,y_pred_test_org):.2f} minutes\")"
      ]
    },
    {
      "cell_type": "code",
      "execution_count": 78,
      "metadata": {
        "colab": {
          "base_uri": "https://localhost:8080/"
        },
        "id": "RDXed8RJ35mj",
        "outputId": "4e592f30-b031-47f1-b6b7-8d7769ee9b15"
      },
      "outputs": [
        {
          "name": "stdout",
          "output_type": "stream",
          "text": [
            "The train r2 score is 0.98\n",
            "The test r2 score is 0.83\n"
          ]
        }
      ],
      "source": [
        "print(f\"The train r2 score is {r2_score(y_train,y_pred_train_org):.2f}\")\n",
        "print(f\"The test r2 score is {r2_score(y_test,y_pred_test_org):.2f}\")"
      ]
    },
    {
      "cell_type": "code",
      "execution_count": 79,
      "metadata": {
        "colab": {
          "base_uri": "https://localhost:8080/"
        },
        "id": "xGfRgbcjopQZ",
        "outputId": "9641f98d-8484-4987-d33d-2d10fa325431"
      },
      "outputs": [
        {
          "data": {
            "text/plain": [
              "array([0.80732655, 0.81044815, 0.80966779, 0.80931286, 0.81180747])"
            ]
          },
          "execution_count": 79,
          "metadata": {},
          "output_type": "execute_result"
        }
      ],
      "source": [
        "# calculate the cross val score\n",
        "\n",
        "from sklearn.model_selection import cross_val_score\n",
        "\n",
        "scores = cross_val_score(rf,X_train_trans,y_train_pt.values.ravel(),cv=5,scoring=\"r2\",n_jobs=-1)\n",
        "\n",
        "scores"
      ]
    },
    {
      "cell_type": "code",
      "execution_count": 80,
      "metadata": {
        "colab": {
          "base_uri": "https://localhost:8080/"
        },
        "id": "cy0ik9qWopQb",
        "outputId": "060d431b-fef6-474e-e52f-28b304c8e9b7"
      },
      "outputs": [
        {
          "data": {
            "text/plain": [
              "0.8097125625648502"
            ]
          },
          "execution_count": 80,
          "metadata": {},
          "output_type": "execute_result"
        }
      ],
      "source": [
        "# mean score\n",
        "\n",
        "scores.mean()"
      ]
    },
    {
      "cell_type": "code",
      "execution_count": 81,
      "metadata": {
        "colab": {
          "base_uri": "https://localhost:8080/",
          "height": 801
        },
        "id": "13Oo6lilOwl3",
        "outputId": "9e48103f-c2c9-4992-a672-3bcd9bf67600"
      },
      "outputs": [
        {
          "data": {
            "text/plain": [
              "<Axes: >"
            ]
          },
          "execution_count": 81,
          "metadata": {},
          "output_type": "execute_result"
        },
        {
          "data": {
            "image/png": "[encoded data removed]",
            "text/plain": [
              "<Figure size 1000x1000 with 1 Axes>"
            ]
          },
          "metadata": {},
          "output_type": "display_data"
        }
      ],
      "source": [
        "# feature importance plot\n",
        "\n",
        "(\n",
        "    pd.DataFrame(rf.feature_importances_,\n",
        "             index=X_train_trans.columns,\n",
        "             columns=[\"importance\"])\n",
        "    .sort_values(by=\"importance\")\n",
        "    .plot(kind='barh',figsize=(10,10))\n",
        ")"
      ]
    },
    {
      "cell_type": "code",
      "execution_count": 82,
      "metadata": {
        "colab": {
          "base_uri": "https://localhost:8080/"
        },
        "id": "ZpAVu8lzUhI8",
        "outputId": "8d04361e-588d-4b86-a49e-24d0a6ddf224"
      },
      "outputs": [
        {
          "name": "stdout",
          "output_type": "stream",
          "text": [
            "🏃 View run Drop Missing Values at: https://dagshub.com/ShobhanaVerma07/Food_Delivery_Time_Prediction.mlflow/#/experiments/0/runs/2c8c3b98cf12478ab0769b4d789c942d\n",
            "🧪 View experiment at: https://dagshub.com/ShobhanaVerma07/Food_Delivery_Time_Prediction.mlflow/#/experiments/0\n"
          ]
        }
      ],
      "source": [
        "# log experiment\n",
        "\n",
        "with mlflow.start_run(run_name=\"Drop Missing Values\"):\n",
        "    # mlflow log experiment type\n",
        "    mlflow.log_param(\"experiment_type\",\"Drop Missing Values\")\n",
        "    # log model params\n",
        "    mlflow.log_params(rf.get_params())\n",
        "\n",
        "    # log metrics\n",
        "    mlflow.log_metric(\"training_error\",mean_absolute_error(y_train,y_pred_train_org))\n",
        "    mlflow.log_metric(\"test_error\",mean_absolute_error(y_test,y_pred_test_org))\n",
        "    mlflow.log_metric(\"training_r2\",r2_score(y_train,y_pred_train_org))\n",
        "    mlflow.log_metric(\"test_r2\",r2_score(y_test,y_pred_test_org))\n",
        "    mlflow.log_metric(\"cross_val\",scores.mean())\n"
      ]
    },
    {
      "cell_type": "code",
      "execution_count": 83,
      "metadata": {
        "id": "elPwLkGNYPqP"
      },
      "outputs": [],
      "source": [
        "from sklearn.feature_selection import RFECV"
      ]
    },
    {
      "cell_type": "code",
      "execution_count": 84,
      "metadata": {
        "id": "1Kf3ZYlWYJ7q"
      },
      "outputs": [],
      "source": [
        "# feature selection using rfecv\n",
        "\n",
        "rfecv = RFECV(\n",
        "    estimator=rf,\n",
        "    step=10,\n",
        "    cv=5,\n",
        "    scoring='r2',\n",
        "    n_jobs=-1,\n",
        "    verbose=2\n",
        ")"
      ]
    },
    {
      "cell_type": "code",
      "execution_count": 85,
      "metadata": {
        "colab": {
          "base_uri": "https://localhost:8080/",
          "height": 136
        },
        "id": "r5nDJO9OZBXH",
        "outputId": "7f922eed-7f5c-4a25-b3da-e83df2300ef5"
      },
      "outputs": [
        {
          "data": {
            "text/html": [
              "<style>#sk-container-id-5 {color: black;}#sk-container-id-5 pre{padding: 0;}#sk-container-id-5 div.sk-toggleable {background-color: white;}#sk-container-id-5 label.sk-toggleable__label {cursor: pointer;display: block;width: 100%;margin-bottom: 0;padding: 0.3em;box-sizing: border-box;text-align: center;}#sk-container-id-5 label.sk-toggleable__label-arrow:before {content: \"▸\";float: left;margin-right: 0.25em;color: #696969;}#sk-container-id-5 label.sk-toggleable__label-arrow:hover:before {color: black;}#sk-container-id-5 div.sk-estimator:hover label.sk-toggleable__label-arrow:before {color: black;}#sk-container-id-5 div.sk-toggleable__content {max-height: 0;max-width: 0;overflow: hidden;text-align: left;background-color: #f0f8ff;}#sk-container-id-5 div.sk-toggleable__content pre {margin: 0.2em;color: black;border-radius: 0.25em;background-color: #f0f8ff;}#sk-container-id-5 input.sk-toggleable__control:checked~div.sk-toggleable__content {max-height: 200px;max-width: 100%;overflow: auto;}#sk-container-id-5 input.sk-toggleable__control:checked~label.sk-toggleable__label-arrow:before {content: \"▾\";}#sk-container-id-5 div.sk-estimator input.sk-toggleable__control:checked~label.sk-toggleable__label {background-color: #d4ebff;}#sk-container-id-5 div.sk-label input.sk-toggleable__control:checked~label.sk-toggleable__label {background-color: #d4ebff;}#sk-container-id-5 input.sk-hidden--visually {border: 0;clip: rect(1px 1px 1px 1px);clip: rect(1px, 1px, 1px, 1px);height: 1px;margin: -1px;overflow: hidden;padding: 0;position: absolute;width: 1px;}#sk-container-id-5 div.sk-estimator {font-family: monospace;background-color: #f0f8ff;border: 1px dotted black;border-radius: 0.25em;box-sizing: border-box;margin-bottom: 0.5em;}#sk-container-id-5 div.sk-estimator:hover {background-color: #d4ebff;}#sk-container-id-5 div.sk-parallel-item::after {content: \"\";width: 100%;border-bottom: 1px solid gray;flex-grow: 1;}#sk-container-id-5 div.sk-label:hover label.sk-toggleable__label {background-color: #d4ebff;}#sk-container-id-5 div.sk-serial::before {content: \"\";position: absolute;border-left: 1px solid gray;box-sizing: border-box;top: 0;bottom: 0;left: 50%;z-index: 0;}#sk-container-id-5 div.sk-serial {display: flex;flex-direction: column;align-items: center;background-color: white;padding-right: 0.2em;padding-left: 0.2em;position: relative;}#sk-container-id-5 div.sk-item {position: relative;z-index: 1;}#sk-container-id-5 div.sk-parallel {display: flex;align-items: stretch;justify-content: center;background-color: white;position: relative;}#sk-container-id-5 div.sk-item::before, #sk-container-id-5 div.sk-parallel-item::before {content: \"\";position: absolute;border-left: 1px solid gray;box-sizing: border-box;top: 0;bottom: 0;left: 50%;z-index: -1;}#sk-container-id-5 div.sk-parallel-item {display: flex;flex-direction: column;z-index: 1;position: relative;background-color: white;}#sk-container-id-5 div.sk-parallel-item:first-child::after {align-self: flex-end;width: 50%;}#sk-container-id-5 div.sk-parallel-item:last-child::after {align-self: flex-start;width: 50%;}#sk-container-id-5 div.sk-parallel-item:only-child::after {width: 0;}#sk-container-id-5 div.sk-dashed-wrapped {border: 1px dashed gray;margin: 0 0.4em 0.5em 0.4em;box-sizing: border-box;padding-bottom: 0.4em;background-color: white;}#sk-container-id-5 div.sk-label label {font-family: monospace;font-weight: bold;display: inline-block;line-height: 1.2em;}#sk-container-id-5 div.sk-label-container {text-align: center;}#sk-container-id-5 div.sk-container {/* jupyter's `normalize.less` sets `[hidden] { display: none; }` but bootstrap.min.css set `[hidden] { display: none !important; }` so we also need the `!important` here to be able to override the default hidden behavior on the sphinx rendered scikit-learn.org. See: https://github.com/scikit-learn/scikit-learn/issues/21755 */display: inline-block !important;position: relative;}#sk-container-id-5 div.sk-text-repr-fallback {display: none;}</style><div id=\"sk-container-id-5\" class=\"sk-top-container\"><div class=\"sk-text-repr-fallback\"><pre>RFECV(cv=5, estimator=RandomForestRegressor(), n_jobs=-1, scoring=&#x27;r2&#x27;, step=10,\n",
              "      verbose=2)</pre><b>In a Jupyter environment, please rerun this cell to show the HTML representation or trust the notebook. <br />On GitHub, the HTML representation is unable to render, please try loading this page with nbviewer.org.</b></div><div class=\"sk-container\" hidden><div class=\"sk-item sk-dashed-wrapped\"><div class=\"sk-label-container\"><div class=\"sk-label sk-toggleable\"><input class=\"sk-toggleable__control sk-hidden--visually\" id=\"sk-estimator-id-21\" type=\"checkbox\" ><label for=\"sk-estimator-id-21\" class=\"sk-toggleable__label sk-toggleable__label-arrow\">RFECV</label><div class=\"sk-toggleable__content\"><pre>RFECV(cv=5, estimator=RandomForestRegressor(), n_jobs=-1, scoring=&#x27;r2&#x27;, step=10,\n",
              "      verbose=2)</pre></div></div></div><div class=\"sk-parallel\"><div class=\"sk-parallel-item\"><div class=\"sk-item\"><div class=\"sk-label-container\"><div class=\"sk-label sk-toggleable\"><input class=\"sk-toggleable__control sk-hidden--visually\" id=\"sk-estimator-id-22\" type=\"checkbox\" ><label for=\"sk-estimator-id-22\" class=\"sk-toggleable__label sk-toggleable__label-arrow\">estimator: RandomForestRegressor</label><div class=\"sk-toggleable__content\"><pre>RandomForestRegressor()</pre></div></div></div><div class=\"sk-serial\"><div class=\"sk-item\"><div class=\"sk-estimator sk-toggleable\"><input class=\"sk-toggleable__control sk-hidden--visually\" id=\"sk-estimator-id-23\" type=\"checkbox\" ><label for=\"sk-estimator-id-23\" class=\"sk-toggleable__label sk-toggleable__label-arrow\">RandomForestRegressor</label><div class=\"sk-toggleable__content\"><pre>RandomForestRegressor()</pre></div></div></div></div></div></div></div></div></div></div>"
            ],
            "text/plain": [
              "RFECV(cv=5, estimator=RandomForestRegressor(), n_jobs=-1, scoring='r2', step=10,\n",
              "      verbose=2)"
            ]
          },
          "execution_count": 85,
          "metadata": {},
          "output_type": "execute_result"
        }
      ],
      "source": [
        "# select features\n",
        "\n",
        "rfecv.fit(X_train_trans,y_train_pt.values.ravel())"
      ]
    },
    {
      "cell_type": "code",
      "execution_count": 86,
      "metadata": {
        "colab": {
          "base_uri": "https://localhost:8080/"
        },
        "id": "lXOM5GOijdi7",
        "outputId": "eca4e9f3-4972-40bb-e676-40c5d9bf3d71"
      },
      "outputs": [
        {
          "data": {
            "text/plain": [
              "array(['age', 'ratings', 'pickup_time_minutes', 'distance', 'weather_fog',\n",
              "       'weather_sandstorms', 'weather_stormy', 'weather_sunny',\n",
              "       'weather_windy', 'type_of_order_drinks', 'type_of_order_meal',\n",
              "       'type_of_order_snack', 'type_of_vehicle_motorcycle',\n",
              "       'type_of_vehicle_scooter', 'festival_yes', 'city_type_semi-urban',\n",
              "       'city_type_urban', 'is_weekend_1', 'order_time_of_day_evening',\n",
              "       'order_time_of_day_morning', 'order_time_of_day_night', 'traffic',\n",
              "       'distance_type', 'vehicle_condition', 'multiple_deliveries'],\n",
              "      dtype=object)"
            ]
          },
          "execution_count": 86,
          "metadata": {},
          "output_type": "execute_result"
        }
      ],
      "source": [
        "# list of selected features\n",
        "\n",
        "rfecv.get_feature_names_out()"
      ]
    },
    {
      "cell_type": "code",
      "execution_count": 87,
      "metadata": {
        "colab": {
          "base_uri": "https://localhost:8080/",
          "height": 80
        },
        "id": "R_3iDhtOkEvy",
        "outputId": "e9eea774-c852-4a61-df10-6f47d1de204a"
      },
      "outputs": [
        {
          "data": {
            "text/html": [
              "<style>#sk-container-id-6 {color: black;}#sk-container-id-6 pre{padding: 0;}#sk-container-id-6 div.sk-toggleable {background-color: white;}#sk-container-id-6 label.sk-toggleable__label {cursor: pointer;display: block;width: 100%;margin-bottom: 0;padding: 0.3em;box-sizing: border-box;text-align: center;}#sk-container-id-6 label.sk-toggleable__label-arrow:before {content: \"▸\";float: left;margin-right: 0.25em;color: #696969;}#sk-container-id-6 label.sk-toggleable__label-arrow:hover:before {color: black;}#sk-container-id-6 div.sk-estimator:hover label.sk-toggleable__label-arrow:before {color: black;}#sk-container-id-6 div.sk-toggleable__content {max-height: 0;max-width: 0;overflow: hidden;text-align: left;background-color: #f0f8ff;}#sk-container-id-6 div.sk-toggleable__content pre {margin: 0.2em;color: black;border-radius: 0.25em;background-color: #f0f8ff;}#sk-container-id-6 input.sk-toggleable__control:checked~div.sk-toggleable__content {max-height: 200px;max-width: 100%;overflow: auto;}#sk-container-id-6 input.sk-toggleable__control:checked~label.sk-toggleable__label-arrow:before {content: \"▾\";}#sk-container-id-6 div.sk-estimator input.sk-toggleable__control:checked~label.sk-toggleable__label {background-color: #d4ebff;}#sk-container-id-6 div.sk-label input.sk-toggleable__control:checked~label.sk-toggleable__label {background-color: #d4ebff;}#sk-container-id-6 input.sk-hidden--visually {border: 0;clip: rect(1px 1px 1px 1px);clip: rect(1px, 1px, 1px, 1px);height: 1px;margin: -1px;overflow: hidden;padding: 0;position: absolute;width: 1px;}#sk-container-id-6 div.sk-estimator {font-family: monospace;background-color: #f0f8ff;border: 1px dotted black;border-radius: 0.25em;box-sizing: border-box;margin-bottom: 0.5em;}#sk-container-id-6 div.sk-estimator:hover {background-color: #d4ebff;}#sk-container-id-6 div.sk-parallel-item::after {content: \"\";width: 100%;border-bottom: 1px solid gray;flex-grow: 1;}#sk-container-id-6 div.sk-label:hover label.sk-toggleable__label {background-color: #d4ebff;}#sk-container-id-6 div.sk-serial::before {content: \"\";position: absolute;border-left: 1px solid gray;box-sizing: border-box;top: 0;bottom: 0;left: 50%;z-index: 0;}#sk-container-id-6 div.sk-serial {display: flex;flex-direction: column;align-items: center;background-color: white;padding-right: 0.2em;padding-left: 0.2em;position: relative;}#sk-container-id-6 div.sk-item {position: relative;z-index: 1;}#sk-container-id-6 div.sk-parallel {display: flex;align-items: stretch;justify-content: center;background-color: white;position: relative;}#sk-container-id-6 div.sk-item::before, #sk-container-id-6 div.sk-parallel-item::before {content: \"\";position: absolute;border-left: 1px solid gray;box-sizing: border-box;top: 0;bottom: 0;left: 50%;z-index: -1;}#sk-container-id-6 div.sk-parallel-item {display: flex;flex-direction: column;z-index: 1;position: relative;background-color: white;}#sk-container-id-6 div.sk-parallel-item:first-child::after {align-self: flex-end;width: 50%;}#sk-container-id-6 div.sk-parallel-item:last-child::after {align-self: flex-start;width: 50%;}#sk-container-id-6 div.sk-parallel-item:only-child::after {width: 0;}#sk-container-id-6 div.sk-dashed-wrapped {border: 1px dashed gray;margin: 0 0.4em 0.5em 0.4em;box-sizing: border-box;padding-bottom: 0.4em;background-color: white;}#sk-container-id-6 div.sk-label label {font-family: monospace;font-weight: bold;display: inline-block;line-height: 1.2em;}#sk-container-id-6 div.sk-label-container {text-align: center;}#sk-container-id-6 div.sk-container {/* jupyter's `normalize.less` sets `[hidden] { display: none; }` but bootstrap.min.css set `[hidden] { display: none !important; }` so we also need the `!important` here to be able to override the default hidden behavior on the sphinx rendered scikit-learn.org. See: https://github.com/scikit-learn/scikit-learn/issues/21755 */display: inline-block !important;position: relative;}#sk-container-id-6 div.sk-text-repr-fallback {display: none;}</style><div id=\"sk-container-id-6\" class=\"sk-top-container\"><div class=\"sk-text-repr-fallback\"><pre>RandomForestRegressor()</pre><b>In a Jupyter environment, please rerun this cell to show the HTML representation or trust the notebook. <br />On GitHub, the HTML representation is unable to render, please try loading this page with nbviewer.org.</b></div><div class=\"sk-container\" hidden><div class=\"sk-item\"><div class=\"sk-estimator sk-toggleable\"><input class=\"sk-toggleable__control sk-hidden--visually\" id=\"sk-estimator-id-24\" type=\"checkbox\" checked><label for=\"sk-estimator-id-24\" class=\"sk-toggleable__label sk-toggleable__label-arrow\">RandomForestRegressor</label><div class=\"sk-toggleable__content\"><pre>RandomForestRegressor()</pre></div></div></div></div></div>"
            ],
            "text/plain": [
              "RandomForestRegressor()"
            ]
          },
          "execution_count": 87,
          "metadata": {},
          "output_type": "execute_result"
        }
      ],
      "source": [
        "from sklearn.ensemble import RandomForestRegressor\n",
        "\n",
        "rf = RandomForestRegressor()\n",
        "\n",
        "rf.fit(rfecv.transform(X_train_trans),y_train_pt.values.ravel())"
      ]
    },
    {
      "cell_type": "code",
      "execution_count": 88,
      "metadata": {
        "id": "HwMmOXELkEv0"
      },
      "outputs": [],
      "source": [
        "# get the predictions\n",
        "y_pred_train = rf.predict(rfecv.transform(X_train_trans))\n",
        "y_pred_test = rf.predict(rfecv.transform(X_test_trans))"
      ]
    },
    {
      "cell_type": "code",
      "execution_count": 89,
      "metadata": {
        "id": "VA4hgP-wkEv1"
      },
      "outputs": [],
      "source": [
        "# get the actual predictions values\n",
        "\n",
        "y_pred_train_org = pt.inverse_transform(y_pred_train.reshape(-1,1))\n",
        "y_pred_test_org = pt.inverse_transform(y_pred_test.reshape(-1,1))"
      ]
    },
    {
      "cell_type": "code",
      "execution_count": 90,
      "metadata": {
        "colab": {
          "base_uri": "https://localhost:8080/"
        },
        "id": "QtFc6CLokEv2",
        "outputId": "814b83f8-ed42-454c-9dc7-e1630e744cac"
      },
      "outputs": [
        {
          "name": "stdout",
          "output_type": "stream",
          "text": [
            "The train error is 1.15 minutes\n",
            "The test error is 3.09 minutes\n"
          ]
        }
      ],
      "source": [
        "from sklearn.metrics import mean_absolute_error, r2_score\n",
        "\n",
        "print(f\"The train error is {mean_absolute_error(y_train,y_pred_train_org):.2f} minutes\")\n",
        "print(f\"The test error is {mean_absolute_error(y_test,y_pred_test_org):.2f} minutes\")"
      ]
    },
    {
      "cell_type": "code",
      "execution_count": 91,
      "metadata": {
        "colab": {
          "base_uri": "https://localhost:8080/"
        },
        "id": "mhILMlLEkEv3",
        "outputId": "0b56cac1-d5a1-484d-c9ba-e17f14073cdc"
      },
      "outputs": [
        {
          "name": "stdout",
          "output_type": "stream",
          "text": [
            "The train r2 score is 0.98\n",
            "The test r2 score is 0.83\n"
          ]
        }
      ],
      "source": [
        "print(f\"The train r2 score is {r2_score(y_train,y_pred_train_org):.2f}\")\n",
        "print(f\"The test r2 score is {r2_score(y_test,y_pred_test_org):.2f}\")"
      ]
    },
    {
      "cell_type": "code",
      "execution_count": 92,
      "metadata": {
        "colab": {
          "base_uri": "https://localhost:8080/"
        },
        "id": "yZyBYyv4oFc5",
        "outputId": "57936dd0-2e47-4ac7-9290-5ceb47361457"
      },
      "outputs": [
        {
          "data": {
            "text/plain": [
              "array([0.80764677, 0.80921026, 0.8104118 , 0.80904605, 0.81138843])"
            ]
          },
          "execution_count": 92,
          "metadata": {},
          "output_type": "execute_result"
        }
      ],
      "source": [
        "# calculate the cross val score\n",
        "\n",
        "from sklearn.model_selection import cross_val_score\n",
        "\n",
        "scores = cross_val_score(rf,rfecv.transform(X_train_trans),y_train_pt.values.ravel(),cv=5,scoring=\"r2\",n_jobs=-1)\n",
        "\n",
        "scores"
      ]
    },
    {
      "cell_type": "code",
      "execution_count": 93,
      "metadata": {
        "colab": {
          "base_uri": "https://localhost:8080/"
        },
        "id": "1RYJ6I0FoFc7",
        "outputId": "cf602cc7-7bc6-4983-a2b8-ab29c2be5c97"
      },
      "outputs": [
        {
          "data": {
            "text/plain": [
              "0.8095406630360646"
            ]
          },
          "execution_count": 93,
          "metadata": {},
          "output_type": "execute_result"
        }
      ],
      "source": [
        "# mean score\n",
        "\n",
        "scores.mean()"
      ]
    },
    {
      "cell_type": "code",
      "execution_count": 94,
      "metadata": {
        "colab": {
          "base_uri": "https://localhost:8080/"
        },
        "id": "l6_fo56nkmPW",
        "outputId": "4c740fd6-93a9-4ef3-f5eb-b70712187a36"
      },
      "outputs": [
        {
          "data": {
            "text/plain": [
              "array([0.11913132, 0.21103411, 0.01149957, 0.13408494, 0.03277556,\n",
              "       0.02356125, 0.01962226, 0.07939785, 0.01801228, 0.00526211,\n",
              "       0.00555347, 0.00538122, 0.00305117, 0.00345597, 0.00646033,\n",
              "       0.00082259, 0.00732141, 0.00584912, 0.00331558, 0.00116415,\n",
              "       0.00222838, 0.15169145, 0.01792112, 0.08071361, 0.05068918])"
            ]
          },
          "execution_count": 94,
          "metadata": {},
          "output_type": "execute_result"
        }
      ],
      "source": [
        "rf.feature_importances_"
      ]
    },
    {
      "cell_type": "code",
      "execution_count": 95,
      "metadata": {
        "colab": {
          "base_uri": "https://localhost:8080/",
          "height": 801
        },
        "id": "3VgL7ChTkEv3",
        "outputId": "35c55e11-4858-49d6-ca19-9830c3687372"
      },
      "outputs": [
        {
          "data": {
            "text/plain": [
              "<Axes: >"
            ]
          },
          "execution_count": 95,
          "metadata": {},
          "output_type": "execute_result"
        },
        {
          "data": {
            "image/png": "[encoded data removed]",
            "text/plain": [
              "<Figure size 1000x1000 with 1 Axes>"
            ]
          },
          "metadata": {},
          "output_type": "display_data"
        }
      ],
      "source": [
        "# feature importance plot\n",
        "\n",
        "(\n",
        "    pd.DataFrame(rf.feature_importances_,\n",
        "             index=rfecv.transform(X_train_trans).columns,\n",
        "             columns=[\"importance\"])\n",
        "    .sort_values(by=\"importance\")\n",
        "    .plot(kind='barh',figsize=(10,10))\n",
        ")"
      ]
    },
    {
      "cell_type": "markdown",
      "metadata": {
        "id": "A5BZQeJgkJAz"
      },
      "source": [
        "# Impute Missing values"
      ]
    },
    {
      "cell_type": "code",
      "execution_count": 96,
      "metadata": {
        "id": "lo0g_AwrRelP"
      },
      "outputs": [],
      "source": [
        "temp_df = df.copy()"
      ]
    },
    {
      "cell_type": "code",
      "execution_count": 97,
      "metadata": {
        "colab": {
          "base_uri": "https://localhost:8080/",
          "height": 444
        },
        "id": "usqGURjWRelQ",
        "outputId": "ea20ea09-822f-48af-a5d2-90a5fe4b91c9"
      },
      "outputs": [
        {
          "data": {
            "text/html": [
              "<div>\n",
              "<style scoped>\n",
              "    .dataframe tbody tr th:only-of-type {\n",
              "        vertical-align: middle;\n",
              "    }\n",
              "\n",
              "    .dataframe tbody tr th {\n",
              "        vertical-align: top;\n",
              "    }\n",
              "\n",
              "    .dataframe thead th {\n",
              "        text-align: right;\n",
              "    }\n",
              "</style>\n",
              "<table border=\"1\" class=\"dataframe\">\n",
              "  <thead>\n",
              "    <tr style=\"text-align: right;\">\n",
              "      <th></th>\n",
              "      <th>age</th>\n",
              "      <th>ratings</th>\n",
              "      <th>weather</th>\n",
              "      <th>traffic</th>\n",
              "      <th>vehicle_condition</th>\n",
              "      <th>type_of_order</th>\n",
              "      <th>type_of_vehicle</th>\n",
              "      <th>multiple_deliveries</th>\n",
              "      <th>festival</th>\n",
              "      <th>city_type</th>\n",
              "      <th>is_weekend</th>\n",
              "      <th>pickup_time_minutes</th>\n",
              "      <th>order_time_of_day</th>\n",
              "      <th>distance</th>\n",
              "      <th>distance_type</th>\n",
              "    </tr>\n",
              "  </thead>\n",
              "  <tbody>\n",
              "    <tr>\n",
              "      <th>0</th>\n",
              "      <td>37.0</td>\n",
              "      <td>4.9</td>\n",
              "      <td>sunny</td>\n",
              "      <td>high</td>\n",
              "      <td>2</td>\n",
              "      <td>snack</td>\n",
              "      <td>motorcycle</td>\n",
              "      <td>0.0</td>\n",
              "      <td>no</td>\n",
              "      <td>urban</td>\n",
              "      <td>1</td>\n",
              "      <td>15.0</td>\n",
              "      <td>morning</td>\n",
              "      <td>3.025149</td>\n",
              "      <td>short</td>\n",
              "    </tr>\n",
              "    <tr>\n",
              "      <th>1</th>\n",
              "      <td>34.0</td>\n",
              "      <td>4.5</td>\n",
              "      <td>stormy</td>\n",
              "      <td>jam</td>\n",
              "      <td>2</td>\n",
              "      <td>snack</td>\n",
              "      <td>scooter</td>\n",
              "      <td>1.0</td>\n",
              "      <td>no</td>\n",
              "      <td>metropolitian</td>\n",
              "      <td>0</td>\n",
              "      <td>5.0</td>\n",
              "      <td>evening</td>\n",
              "      <td>20.183530</td>\n",
              "      <td>very_long</td>\n",
              "    </tr>\n",
              "    <tr>\n",
              "      <th>2</th>\n",
              "      <td>23.0</td>\n",
              "      <td>4.4</td>\n",
              "      <td>sandstorms</td>\n",
              "      <td>low</td>\n",
              "      <td>0</td>\n",
              "      <td>drinks</td>\n",
              "      <td>motorcycle</td>\n",
              "      <td>1.0</td>\n",
              "      <td>no</td>\n",
              "      <td>urban</td>\n",
              "      <td>1</td>\n",
              "      <td>15.0</td>\n",
              "      <td>morning</td>\n",
              "      <td>1.552758</td>\n",
              "      <td>short</td>\n",
              "    </tr>\n",
              "    <tr>\n",
              "      <th>3</th>\n",
              "      <td>38.0</td>\n",
              "      <td>4.7</td>\n",
              "      <td>sunny</td>\n",
              "      <td>medium</td>\n",
              "      <td>0</td>\n",
              "      <td>buffet</td>\n",
              "      <td>motorcycle</td>\n",
              "      <td>1.0</td>\n",
              "      <td>no</td>\n",
              "      <td>metropolitian</td>\n",
              "      <td>0</td>\n",
              "      <td>10.0</td>\n",
              "      <td>evening</td>\n",
              "      <td>7.790401</td>\n",
              "      <td>medium</td>\n",
              "    </tr>\n",
              "    <tr>\n",
              "      <th>4</th>\n",
              "      <td>32.0</td>\n",
              "      <td>4.6</td>\n",
              "      <td>cloudy</td>\n",
              "      <td>high</td>\n",
              "      <td>1</td>\n",
              "      <td>snack</td>\n",
              "      <td>scooter</td>\n",
              "      <td>1.0</td>\n",
              "      <td>no</td>\n",
              "      <td>metropolitian</td>\n",
              "      <td>1</td>\n",
              "      <td>15.0</td>\n",
              "      <td>afternoon</td>\n",
              "      <td>6.210138</td>\n",
              "      <td>medium</td>\n",
              "    </tr>\n",
              "    <tr>\n",
              "      <th>...</th>\n",
              "      <td>...</td>\n",
              "      <td>...</td>\n",
              "      <td>...</td>\n",
              "      <td>...</td>\n",
              "      <td>...</td>\n",
              "      <td>...</td>\n",
              "      <td>...</td>\n",
              "      <td>...</td>\n",
              "      <td>...</td>\n",
              "      <td>...</td>\n",
              "      <td>...</td>\n",
              "      <td>...</td>\n",
              "      <td>...</td>\n",
              "      <td>...</td>\n",
              "      <td>...</td>\n",
              "    </tr>\n",
              "    <tr>\n",
              "      <th>45497</th>\n",
              "      <td>30.0</td>\n",
              "      <td>4.8</td>\n",
              "      <td>windy</td>\n",
              "      <td>high</td>\n",
              "      <td>1</td>\n",
              "      <td>meal</td>\n",
              "      <td>motorcycle</td>\n",
              "      <td>0.0</td>\n",
              "      <td>no</td>\n",
              "      <td>metropolitian</td>\n",
              "      <td>0</td>\n",
              "      <td>10.0</td>\n",
              "      <td>morning</td>\n",
              "      <td>1.489846</td>\n",
              "      <td>short</td>\n",
              "    </tr>\n",
              "    <tr>\n",
              "      <th>45498</th>\n",
              "      <td>21.0</td>\n",
              "      <td>4.6</td>\n",
              "      <td>windy</td>\n",
              "      <td>jam</td>\n",
              "      <td>0</td>\n",
              "      <td>buffet</td>\n",
              "      <td>motorcycle</td>\n",
              "      <td>1.0</td>\n",
              "      <td>no</td>\n",
              "      <td>metropolitian</td>\n",
              "      <td>0</td>\n",
              "      <td>15.0</td>\n",
              "      <td>evening</td>\n",
              "      <td>NaN</td>\n",
              "      <td>NaN</td>\n",
              "    </tr>\n",
              "    <tr>\n",
              "      <th>45499</th>\n",
              "      <td>30.0</td>\n",
              "      <td>4.9</td>\n",
              "      <td>cloudy</td>\n",
              "      <td>low</td>\n",
              "      <td>1</td>\n",
              "      <td>drinks</td>\n",
              "      <td>scooter</td>\n",
              "      <td>0.0</td>\n",
              "      <td>no</td>\n",
              "      <td>metropolitian</td>\n",
              "      <td>0</td>\n",
              "      <td>15.0</td>\n",
              "      <td>night</td>\n",
              "      <td>4.657195</td>\n",
              "      <td>short</td>\n",
              "    </tr>\n",
              "    <tr>\n",
              "      <th>45500</th>\n",
              "      <td>20.0</td>\n",
              "      <td>4.7</td>\n",
              "      <td>cloudy</td>\n",
              "      <td>high</td>\n",
              "      <td>0</td>\n",
              "      <td>snack</td>\n",
              "      <td>motorcycle</td>\n",
              "      <td>1.0</td>\n",
              "      <td>no</td>\n",
              "      <td>metropolitian</td>\n",
              "      <td>0</td>\n",
              "      <td>5.0</td>\n",
              "      <td>afternoon</td>\n",
              "      <td>6.232393</td>\n",
              "      <td>medium</td>\n",
              "    </tr>\n",
              "    <tr>\n",
              "      <th>45501</th>\n",
              "      <td>23.0</td>\n",
              "      <td>4.9</td>\n",
              "      <td>fog</td>\n",
              "      <td>medium</td>\n",
              "      <td>2</td>\n",
              "      <td>snack</td>\n",
              "      <td>scooter</td>\n",
              "      <td>1.0</td>\n",
              "      <td>no</td>\n",
              "      <td>metropolitian</td>\n",
              "      <td>0</td>\n",
              "      <td>5.0</td>\n",
              "      <td>afternoon</td>\n",
              "      <td>12.074396</td>\n",
              "      <td>long</td>\n",
              "    </tr>\n",
              "  </tbody>\n",
              "</table>\n",
              "<p>45502 rows × 15 columns</p>\n",
              "</div>"
            ],
            "text/plain": [
              "        age  ratings     weather traffic  vehicle_condition type_of_order  \\\n",
              "0      37.0      4.9       sunny    high                  2         snack   \n",
              "1      34.0      4.5      stormy     jam                  2         snack   \n",
              "2      23.0      4.4  sandstorms     low                  0        drinks   \n",
              "3      38.0      4.7       sunny  medium                  0        buffet   \n",
              "4      32.0      4.6      cloudy    high                  1         snack   \n",
              "...     ...      ...         ...     ...                ...           ...   \n",
              "45497  30.0      4.8       windy    high                  1          meal   \n",
              "45498  21.0      4.6       windy     jam                  0        buffet   \n",
              "45499  30.0      4.9      cloudy     low                  1        drinks   \n",
              "45500  20.0      4.7      cloudy    high                  0         snack   \n",
              "45501  23.0      4.9         fog  medium                  2         snack   \n",
              "\n",
              "      type_of_vehicle  multiple_deliveries festival      city_type  \\\n",
              "0          motorcycle                  0.0       no          urban   \n",
              "1             scooter                  1.0       no  metropolitian   \n",
              "2          motorcycle                  1.0       no          urban   \n",
              "3          motorcycle                  1.0       no  metropolitian   \n",
              "4             scooter                  1.0       no  metropolitian   \n",
              "...               ...                  ...      ...            ...   \n",
              "45497      motorcycle                  0.0       no  metropolitian   \n",
              "45498      motorcycle                  1.0       no  metropolitian   \n",
              "45499         scooter                  0.0       no  metropolitian   \n",
              "45500      motorcycle                  1.0       no  metropolitian   \n",
              "45501         scooter                  1.0       no  metropolitian   \n",
              "\n",
              "       is_weekend  pickup_time_minutes order_time_of_day   distance  \\\n",
              "0               1                 15.0           morning   3.025149   \n",
              "1               0                  5.0           evening  20.183530   \n",
              "2               1                 15.0           morning   1.552758   \n",
              "3               0                 10.0           evening   7.790401   \n",
              "4               1                 15.0         afternoon   6.210138   \n",
              "...           ...                  ...               ...        ...   \n",
              "45497           0                 10.0           morning   1.489846   \n",
              "45498           0                 15.0           evening        NaN   \n",
              "45499           0                 15.0             night   4.657195   \n",
              "45500           0                  5.0         afternoon   6.232393   \n",
              "45501           0                  5.0         afternoon  12.074396   \n",
              "\n",
              "      distance_type  \n",
              "0             short  \n",
              "1         very_long  \n",
              "2             short  \n",
              "3            medium  \n",
              "4            medium  \n",
              "...             ...  \n",
              "45497         short  \n",
              "45498           NaN  \n",
              "45499         short  \n",
              "45500        medium  \n",
              "45501          long  \n",
              "\n",
              "[45502 rows x 15 columns]"
            ]
          },
          "execution_count": 97,
          "metadata": {},
          "output_type": "execute_result"
        }
      ],
      "source": [
        "# split into X and y\n",
        "\n",
        "X = temp_df.drop(columns='time_taken')\n",
        "y = temp_df['time_taken']\n",
        "\n",
        "X"
      ]
    },
    {
      "cell_type": "code",
      "execution_count": 98,
      "metadata": {
        "id": "UcJAkX63RelS"
      },
      "outputs": [],
      "source": [
        "# train test split\n",
        "\n",
        "X_train, X_test, y_train, y_test = train_test_split(X,y,test_size=0.2,random_state=42)"
      ]
    },
    {
      "cell_type": "code",
      "execution_count": 99,
      "metadata": {
        "colab": {
          "base_uri": "https://localhost:8080/"
        },
        "id": "uL9NQizbRelT",
        "outputId": "d36338fe-92e5-48ae-bf33-9d0fd2309446"
      },
      "outputs": [
        {
          "name": "stdout",
          "output_type": "stream",
          "text": [
            "The size of train data is (36401, 15)\n",
            "The shape of test data is (9101, 15)\n"
          ]
        }
      ],
      "source": [
        "print(\"The size of train data is\",X_train.shape)\n",
        "print(\"The shape of test data is\",X_test.shape)"
      ]
    },
    {
      "cell_type": "code",
      "execution_count": 100,
      "metadata": {
        "colab": {
          "base_uri": "https://localhost:8080/",
          "height": 554
        },
        "id": "DJzsaTRmR7XJ",
        "outputId": "453f21d2-510a-4b08-fa10-6204ae34082c"
      },
      "outputs": [
        {
          "data": {
            "text/plain": [
              "age                    1470\n",
              "ratings                1510\n",
              "weather                 421\n",
              "traffic                 407\n",
              "vehicle_condition         0\n",
              "type_of_order             0\n",
              "type_of_vehicle           0\n",
              "multiple_deliveries     795\n",
              "festival                188\n",
              "city_type               968\n",
              "is_weekend                0\n",
              "pickup_time_minutes    1298\n",
              "order_time_of_day      1646\n",
              "distance               2931\n",
              "distance_type          2931\n",
              "dtype: int64"
            ]
          },
          "execution_count": 100,
          "metadata": {},
          "output_type": "execute_result"
        }
      ],
      "source": [
        "# missing values in train data\n",
        "\n",
        "X_train.isna().sum()"
      ]
    },
    {
      "cell_type": "code",
      "execution_count": 101,
      "metadata": {
        "id": "6FSRQQo_RelT"
      },
      "outputs": [],
      "source": [
        "# transform target column\n",
        "\n",
        "pt = PowerTransformer()\n",
        "\n",
        "y_train_pt = pt.fit_transform(y_train.values.reshape(-1,1))\n",
        "y_test_pt = pt.transform(y_test.values.reshape(-1,1))"
      ]
    },
    {
      "cell_type": "code",
      "execution_count": 102,
      "metadata": {
        "colab": {
          "base_uri": "https://localhost:8080/"
        },
        "id": "TWPzIQCUj_74",
        "outputId": "e4dbcf92-e6e4-4b80-c770-b6dfef8874af"
      },
      "outputs": [
        {
          "data": {
            "text/plain": [
              "Index(['age', 'ratings', 'weather', 'traffic', 'multiple_deliveries',\n",
              "       'festival', 'city_type', 'pickup_time_minutes', 'order_time_of_day',\n",
              "       'distance', 'distance_type'],\n",
              "      dtype='object')"
            ]
          },
          "execution_count": 102,
          "metadata": {},
          "output_type": "execute_result"
        }
      ],
      "source": [
        "missing_cols"
      ]
    },
    {
      "cell_type": "code",
      "execution_count": 103,
      "metadata": {
        "colab": {
          "base_uri": "https://localhost:8080/"
        },
        "id": "SaXhVBXJu6mO",
        "outputId": "d9b4ef81-dbba-43f0-d0b8-747dbcef44ec"
      },
      "outputs": [
        {
          "data": {
            "text/plain": [
              "17.0"
            ]
          },
          "execution_count": 103,
          "metadata": {},
          "output_type": "execute_result"
        }
      ],
      "source": [
        "# percentage of rows in data having missing values\n",
        "\n",
        "(\n",
        "    X_train\n",
        "    .isna()\n",
        "    .any(axis=1)\n",
        "    .mean()\n",
        "    .round(2) * 100\n",
        ")\n"
      ]
    },
    {
      "cell_type": "markdown",
      "metadata": {
        "id": "QgGmD3bUeZNu"
      },
      "source": [
        "# Imputation Pipeline"
      ]
    },
    {
      "cell_type": "code",
      "execution_count": 104,
      "metadata": {
        "colab": {
          "base_uri": "https://localhost:8080/"
        },
        "id": "fPXnF6NUlGRB",
        "outputId": "8667cb7c-a119-4c5f-c31d-44ddc65e101c"
      },
      "outputs": [
        {
          "data": {
            "text/plain": [
              "['weather',\n",
              " 'type_of_order',\n",
              " 'type_of_vehicle',\n",
              " 'festival',\n",
              " 'city_type',\n",
              " 'is_weekend',\n",
              " 'order_time_of_day']"
            ]
          },
          "execution_count": 104,
          "metadata": {},
          "output_type": "execute_result"
        }
      ],
      "source": [
        "nominal_cat_cols"
      ]
    },
    {
      "cell_type": "code",
      "execution_count": 105,
      "metadata": {
        "colab": {
          "base_uri": "https://localhost:8080/",
          "height": 554
        },
        "id": "oUYxye7koxEk",
        "outputId": "6616e488-ae94-47d9-ba0e-ff7e05efece9"
      },
      "outputs": [
        {
          "data": {
            "text/plain": [
              "age                    1470\n",
              "ratings                1510\n",
              "weather                 421\n",
              "traffic                 407\n",
              "vehicle_condition         0\n",
              "type_of_order             0\n",
              "type_of_vehicle           0\n",
              "multiple_deliveries     795\n",
              "festival                188\n",
              "city_type               968\n",
              "is_weekend                0\n",
              "pickup_time_minutes    1298\n",
              "order_time_of_day      1646\n",
              "distance               2931\n",
              "distance_type          2931\n",
              "dtype: int64"
            ]
          },
          "execution_count": 105,
          "metadata": {},
          "output_type": "execute_result"
        }
      ],
      "source": [
        "X_train.isna().sum()"
      ]
    },
    {
      "cell_type": "code",
      "execution_count": 106,
      "metadata": {
        "colab": {
          "base_uri": "https://localhost:8080/"
        },
        "id": "pBUR-5tyeY2H",
        "outputId": "f64b90c6-5886-4fef-d276-85a4efe17bf1"
      },
      "outputs": [
        {
          "data": {
            "text/plain": [
              "['weather',\n",
              " 'type_of_order',\n",
              " 'type_of_vehicle',\n",
              " 'is_weekend',\n",
              " 'order_time_of_day']"
            ]
          },
          "execution_count": 106,
          "metadata": {},
          "output_type": "execute_result"
        }
      ],
      "source": [
        "# features to fill values with mode\n",
        "\n",
        "features_to_fill_mode = ['multiple_deliveries','festival','city_type']\n",
        "features_to_fill_missing = [col for col in nominal_cat_cols if col not in features_to_fill_mode]\n",
        "\n",
        "features_to_fill_missing"
      ]
    },
    {
      "cell_type": "code",
      "execution_count": 108,
      "metadata": {
        "colab": {
          "base_uri": "https://localhost:8080/",
          "height": 136
        },
        "id": "259ezcJQeY8T",
        "outputId": "55e1460e-863e-43b2-845e-c1c8462ce88c"
      },
      "outputs": [
        {
          "data": {
            "text/html": [
              "<style>#sk-container-id-7 {color: black;}#sk-container-id-7 pre{padding: 0;}#sk-container-id-7 div.sk-toggleable {background-color: white;}#sk-container-id-7 label.sk-toggleable__label {cursor: pointer;display: block;width: 100%;margin-bottom: 0;padding: 0.3em;box-sizing: border-box;text-align: center;}#sk-container-id-7 label.sk-toggleable__label-arrow:before {content: \"▸\";float: left;margin-right: 0.25em;color: #696969;}#sk-container-id-7 label.sk-toggleable__label-arrow:hover:before {color: black;}#sk-container-id-7 div.sk-estimator:hover label.sk-toggleable__label-arrow:before {color: black;}#sk-container-id-7 div.sk-toggleable__content {max-height: 0;max-width: 0;overflow: hidden;text-align: left;background-color: #f0f8ff;}#sk-container-id-7 div.sk-toggleable__content pre {margin: 0.2em;color: black;border-radius: 0.25em;background-color: #f0f8ff;}#sk-container-id-7 input.sk-toggleable__control:checked~div.sk-toggleable__content {max-height: 200px;max-width: 100%;overflow: auto;}#sk-container-id-7 input.sk-toggleable__control:checked~label.sk-toggleable__label-arrow:before {content: \"▾\";}#sk-container-id-7 div.sk-estimator input.sk-toggleable__control:checked~label.sk-toggleable__label {background-color: #d4ebff;}#sk-container-id-7 div.sk-label input.sk-toggleable__control:checked~label.sk-toggleable__label {background-color: #d4ebff;}#sk-container-id-7 input.sk-hidden--visually {border: 0;clip: rect(1px 1px 1px 1px);clip: rect(1px, 1px, 1px, 1px);height: 1px;margin: -1px;overflow: hidden;padding: 0;position: absolute;width: 1px;}#sk-container-id-7 div.sk-estimator {font-family: monospace;background-color: #f0f8ff;border: 1px dotted black;border-radius: 0.25em;box-sizing: border-box;margin-bottom: 0.5em;}#sk-container-id-7 div.sk-estimator:hover {background-color: #d4ebff;}#sk-container-id-7 div.sk-parallel-item::after {content: \"\";width: 100%;border-bottom: 1px solid gray;flex-grow: 1;}#sk-container-id-7 div.sk-label:hover label.sk-toggleable__label {background-color: #d4ebff;}#sk-container-id-7 div.sk-serial::before {content: \"\";position: absolute;border-left: 1px solid gray;box-sizing: border-box;top: 0;bottom: 0;left: 50%;z-index: 0;}#sk-container-id-7 div.sk-serial {display: flex;flex-direction: column;align-items: center;background-color: white;padding-right: 0.2em;padding-left: 0.2em;position: relative;}#sk-container-id-7 div.sk-item {position: relative;z-index: 1;}#sk-container-id-7 div.sk-parallel {display: flex;align-items: stretch;justify-content: center;background-color: white;position: relative;}#sk-container-id-7 div.sk-item::before, #sk-container-id-7 div.sk-parallel-item::before {content: \"\";position: absolute;border-left: 1px solid gray;box-sizing: border-box;top: 0;bottom: 0;left: 50%;z-index: -1;}#sk-container-id-7 div.sk-parallel-item {display: flex;flex-direction: column;z-index: 1;position: relative;background-color: white;}#sk-container-id-7 div.sk-parallel-item:first-child::after {align-self: flex-end;width: 50%;}#sk-container-id-7 div.sk-parallel-item:last-child::after {align-self: flex-start;width: 50%;}#sk-container-id-7 div.sk-parallel-item:only-child::after {width: 0;}#sk-container-id-7 div.sk-dashed-wrapped {border: 1px dashed gray;margin: 0 0.4em 0.5em 0.4em;box-sizing: border-box;padding-bottom: 0.4em;background-color: white;}#sk-container-id-7 div.sk-label label {font-family: monospace;font-weight: bold;display: inline-block;line-height: 1.2em;}#sk-container-id-7 div.sk-label-container {text-align: center;}#sk-container-id-7 div.sk-container {/* jupyter's `normalize.less` sets `[hidden] { display: none; }` but bootstrap.min.css set `[hidden] { display: none !important; }` so we also need the `!important` here to be able to override the default hidden behavior on the sphinx rendered scikit-learn.org. See: https://github.com/scikit-learn/scikit-learn/issues/21755 */display: inline-block !important;position: relative;}#sk-container-id-7 div.sk-text-repr-fallback {display: none;}</style><div id=\"sk-container-id-7\" class=\"sk-top-container\"><div class=\"sk-text-repr-fallback\"><pre>ColumnTransformer(n_jobs=-1, remainder=&#x27;passthrough&#x27;,\n",
              "                  transformers=[(&#x27;mode_imputer&#x27;,\n",
              "                                 SimpleImputer(strategy=&#x27;most_frequent&#x27;),\n",
              "                                 [&#x27;multiple_deliveries&#x27;, &#x27;festival&#x27;,\n",
              "                                  &#x27;city_type&#x27;]),\n",
              "                                (&#x27;missing_imputer&#x27;,\n",
              "                                 SimpleImputer(fill_value=&#x27;missing&#x27;,\n",
              "                                               strategy=&#x27;constant&#x27;),\n",
              "                                 [&#x27;weather&#x27;, &#x27;type_of_order&#x27;, &#x27;type_of_vehicle&#x27;,\n",
              "                                  &#x27;is_weekend&#x27;, &#x27;order_time_of_day&#x27;])],\n",
              "                  verbose_feature_names_out=False)</pre><b>In a Jupyter environment, please rerun this cell to show the HTML representation or trust the notebook. <br />On GitHub, the HTML representation is unable to render, please try loading this page with nbviewer.org.</b></div><div class=\"sk-container\" hidden><div class=\"sk-item sk-dashed-wrapped\"><div class=\"sk-label-container\"><div class=\"sk-label sk-toggleable\"><input class=\"sk-toggleable__control sk-hidden--visually\" id=\"sk-estimator-id-25\" type=\"checkbox\" ><label for=\"sk-estimator-id-25\" class=\"sk-toggleable__label sk-toggleable__label-arrow\">ColumnTransformer</label><div class=\"sk-toggleable__content\"><pre>ColumnTransformer(n_jobs=-1, remainder=&#x27;passthrough&#x27;,\n",
              "                  transformers=[(&#x27;mode_imputer&#x27;,\n",
              "                                 SimpleImputer(strategy=&#x27;most_frequent&#x27;),\n",
              "                                 [&#x27;multiple_deliveries&#x27;, &#x27;festival&#x27;,\n",
              "                                  &#x27;city_type&#x27;]),\n",
              "                                (&#x27;missing_imputer&#x27;,\n",
              "                                 SimpleImputer(fill_value=&#x27;missing&#x27;,\n",
              "                                               strategy=&#x27;constant&#x27;),\n",
              "                                 [&#x27;weather&#x27;, &#x27;type_of_order&#x27;, &#x27;type_of_vehicle&#x27;,\n",
              "                                  &#x27;is_weekend&#x27;, &#x27;order_time_of_day&#x27;])],\n",
              "                  verbose_feature_names_out=False)</pre></div></div></div><div class=\"sk-parallel\"><div class=\"sk-parallel-item\"><div class=\"sk-item\"><div class=\"sk-label-container\"><div class=\"sk-label sk-toggleable\"><input class=\"sk-toggleable__control sk-hidden--visually\" id=\"sk-estimator-id-26\" type=\"checkbox\" ><label for=\"sk-estimator-id-26\" class=\"sk-toggleable__label sk-toggleable__label-arrow\">mode_imputer</label><div class=\"sk-toggleable__content\"><pre>[&#x27;multiple_deliveries&#x27;, &#x27;festival&#x27;, &#x27;city_type&#x27;]</pre></div></div></div><div class=\"sk-serial\"><div class=\"sk-item\"><div class=\"sk-estimator sk-toggleable\"><input class=\"sk-toggleable__control sk-hidden--visually\" id=\"sk-estimator-id-27\" type=\"checkbox\" ><label for=\"sk-estimator-id-27\" class=\"sk-toggleable__label sk-toggleable__label-arrow\">SimpleImputer</label><div class=\"sk-toggleable__content\"><pre>SimpleImputer(strategy=&#x27;most_frequent&#x27;)</pre></div></div></div></div></div></div><div class=\"sk-parallel-item\"><div class=\"sk-item\"><div class=\"sk-label-container\"><div class=\"sk-label sk-toggleable\"><input class=\"sk-toggleable__control sk-hidden--visually\" id=\"sk-estimator-id-28\" type=\"checkbox\" ><label for=\"sk-estimator-id-28\" class=\"sk-toggleable__label sk-toggleable__label-arrow\">missing_imputer</label><div class=\"sk-toggleable__content\"><pre>[&#x27;weather&#x27;, &#x27;type_of_order&#x27;, &#x27;type_of_vehicle&#x27;, &#x27;is_weekend&#x27;, &#x27;order_time_of_day&#x27;]</pre></div></div></div><div class=\"sk-serial\"><div class=\"sk-item\"><div class=\"sk-estimator sk-toggleable\"><input class=\"sk-toggleable__control sk-hidden--visually\" id=\"sk-estimator-id-29\" type=\"checkbox\" ><label for=\"sk-estimator-id-29\" class=\"sk-toggleable__label sk-toggleable__label-arrow\">SimpleImputer</label><div class=\"sk-toggleable__content\"><pre>SimpleImputer(fill_value=&#x27;missing&#x27;, strategy=&#x27;constant&#x27;)</pre></div></div></div></div></div></div><div class=\"sk-parallel-item\"><div class=\"sk-item\"><div class=\"sk-label-container\"><div class=\"sk-label sk-toggleable\"><input class=\"sk-toggleable__control sk-hidden--visually\" id=\"sk-estimator-id-30\" type=\"checkbox\" ><label for=\"sk-estimator-id-30\" class=\"sk-toggleable__label sk-toggleable__label-arrow\">remainder</label><div class=\"sk-toggleable__content\"><pre></pre></div></div></div><div class=\"sk-serial\"><div class=\"sk-item\"><div class=\"sk-estimator sk-toggleable\"><input class=\"sk-toggleable__control sk-hidden--visually\" id=\"sk-estimator-id-31\" type=\"checkbox\" ><label for=\"sk-estimator-id-31\" class=\"sk-toggleable__label sk-toggleable__label-arrow\">passthrough</label><div class=\"sk-toggleable__content\"><pre>passthrough</pre></div></div></div></div></div></div></div></div></div></div>"
            ],
            "text/plain": [
              "ColumnTransformer(n_jobs=-1, remainder='passthrough',\n",
              "                  transformers=[('mode_imputer',\n",
              "                                 SimpleImputer(strategy='most_frequent'),\n",
              "                                 ['multiple_deliveries', 'festival',\n",
              "                                  'city_type']),\n",
              "                                ('missing_imputer',\n",
              "                                 SimpleImputer(fill_value='missing',\n",
              "                                               strategy='constant'),\n",
              "                                 ['weather', 'type_of_order', 'type_of_vehicle',\n",
              "                                  'is_weekend', 'order_time_of_day'])],\n",
              "                  verbose_feature_names_out=False)"
            ]
          },
          "execution_count": 108,
          "metadata": {},
          "output_type": "execute_result"
        }
      ],
      "source": [
        "# simple imputer to fill categorical vars with mode\n",
        "\n",
        "simple_imputer = ColumnTransformer(\n",
        "    transformers=[\n",
        "        (\"mode_imputer\", SimpleImputer(strategy=\"most_frequent\"), features_to_fill_mode),\n",
        "        (\"missing_imputer\", SimpleImputer(strategy=\"constant\", fill_value=\"missing\"), features_to_fill_missing),\n",
        "    ],\n",
        "    remainder=\"passthrough\",  # Keeps all other columns as they are\n",
        "    n_jobs=-1,  # Enables parallel processing\n",
        "    verbose_feature_names_out=False  # Controls feature naming in output\n",
        ")\n",
        "\n",
        "simple_imputer"
      ]
    },
    {
      "cell_type": "code",
      "execution_count": 109,
      "metadata": {
        "colab": {
          "base_uri": "https://localhost:8080/",
          "height": 444
        },
        "id": "YERItBkNguCy",
        "outputId": "b394076b-fd60-4a73-9c5b-5d690ba07bcf"
      },
      "outputs": [
        {
          "data": {
            "text/html": [
              "<div>\n",
              "<style scoped>\n",
              "    .dataframe tbody tr th:only-of-type {\n",
              "        vertical-align: middle;\n",
              "    }\n",
              "\n",
              "    .dataframe tbody tr th {\n",
              "        vertical-align: top;\n",
              "    }\n",
              "\n",
              "    .dataframe thead th {\n",
              "        text-align: right;\n",
              "    }\n",
              "</style>\n",
              "<table border=\"1\" class=\"dataframe\">\n",
              "  <thead>\n",
              "    <tr style=\"text-align: right;\">\n",
              "      <th></th>\n",
              "      <th>multiple_deliveries</th>\n",
              "      <th>festival</th>\n",
              "      <th>city_type</th>\n",
              "      <th>weather</th>\n",
              "      <th>type_of_order</th>\n",
              "      <th>type_of_vehicle</th>\n",
              "      <th>is_weekend</th>\n",
              "      <th>order_time_of_day</th>\n",
              "      <th>age</th>\n",
              "      <th>ratings</th>\n",
              "      <th>traffic</th>\n",
              "      <th>vehicle_condition</th>\n",
              "      <th>pickup_time_minutes</th>\n",
              "      <th>distance</th>\n",
              "      <th>distance_type</th>\n",
              "    </tr>\n",
              "  </thead>\n",
              "  <tbody>\n",
              "    <tr>\n",
              "      <th>11029</th>\n",
              "      <td>1.0</td>\n",
              "      <td>no</td>\n",
              "      <td>metropolitian</td>\n",
              "      <td>windy</td>\n",
              "      <td>snack</td>\n",
              "      <td>electric_scooter</td>\n",
              "      <td>0</td>\n",
              "      <td>evening</td>\n",
              "      <td>26.0</td>\n",
              "      <td>4.7</td>\n",
              "      <td>jam</td>\n",
              "      <td>2</td>\n",
              "      <td>10.0</td>\n",
              "      <td>9.177684</td>\n",
              "      <td>medium</td>\n",
              "    </tr>\n",
              "    <tr>\n",
              "      <th>15665</th>\n",
              "      <td>1.0</td>\n",
              "      <td>no</td>\n",
              "      <td>metropolitian</td>\n",
              "      <td>windy</td>\n",
              "      <td>drinks</td>\n",
              "      <td>motorcycle</td>\n",
              "      <td>0</td>\n",
              "      <td>afternoon</td>\n",
              "      <td>21.0</td>\n",
              "      <td>4.9</td>\n",
              "      <td>medium</td>\n",
              "      <td>2</td>\n",
              "      <td>5.0</td>\n",
              "      <td>6.081536</td>\n",
              "      <td>medium</td>\n",
              "    </tr>\n",
              "    <tr>\n",
              "      <th>14475</th>\n",
              "      <td>1.0</td>\n",
              "      <td>no</td>\n",
              "      <td>metropolitian</td>\n",
              "      <td>stormy</td>\n",
              "      <td>meal</td>\n",
              "      <td>scooter</td>\n",
              "      <td>1</td>\n",
              "      <td>missing</td>\n",
              "      <td>NaN</td>\n",
              "      <td>NaN</td>\n",
              "      <td>low</td>\n",
              "      <td>2</td>\n",
              "      <td>NaN</td>\n",
              "      <td>1.554563</td>\n",
              "      <td>short</td>\n",
              "    </tr>\n",
              "    <tr>\n",
              "      <th>29199</th>\n",
              "      <td>1.0</td>\n",
              "      <td>no</td>\n",
              "      <td>metropolitian</td>\n",
              "      <td>windy</td>\n",
              "      <td>buffet</td>\n",
              "      <td>motorcycle</td>\n",
              "      <td>0</td>\n",
              "      <td>evening</td>\n",
              "      <td>32.0</td>\n",
              "      <td>4.7</td>\n",
              "      <td>medium</td>\n",
              "      <td>0</td>\n",
              "      <td>15.0</td>\n",
              "      <td>20.852271</td>\n",
              "      <td>very_long</td>\n",
              "    </tr>\n",
              "    <tr>\n",
              "      <th>22514</th>\n",
              "      <td>0.0</td>\n",
              "      <td>no</td>\n",
              "      <td>urban</td>\n",
              "      <td>sandstorms</td>\n",
              "      <td>meal</td>\n",
              "      <td>scooter</td>\n",
              "      <td>0</td>\n",
              "      <td>night</td>\n",
              "      <td>34.0</td>\n",
              "      <td>4.9</td>\n",
              "      <td>jam</td>\n",
              "      <td>1</td>\n",
              "      <td>5.0</td>\n",
              "      <td>9.056096</td>\n",
              "      <td>medium</td>\n",
              "    </tr>\n",
              "    <tr>\n",
              "      <th>...</th>\n",
              "      <td>...</td>\n",
              "      <td>...</td>\n",
              "      <td>...</td>\n",
              "      <td>...</td>\n",
              "      <td>...</td>\n",
              "      <td>...</td>\n",
              "      <td>...</td>\n",
              "      <td>...</td>\n",
              "      <td>...</td>\n",
              "      <td>...</td>\n",
              "      <td>...</td>\n",
              "      <td>...</td>\n",
              "      <td>...</td>\n",
              "      <td>...</td>\n",
              "      <td>...</td>\n",
              "    </tr>\n",
              "    <tr>\n",
              "      <th>11284</th>\n",
              "      <td>0.0</td>\n",
              "      <td>no</td>\n",
              "      <td>metropolitian</td>\n",
              "      <td>sandstorms</td>\n",
              "      <td>meal</td>\n",
              "      <td>scooter</td>\n",
              "      <td>0</td>\n",
              "      <td>evening</td>\n",
              "      <td>29.0</td>\n",
              "      <td>4.7</td>\n",
              "      <td>jam</td>\n",
              "      <td>2</td>\n",
              "      <td>5.0</td>\n",
              "      <td>12.464367</td>\n",
              "      <td>long</td>\n",
              "    </tr>\n",
              "    <tr>\n",
              "      <th>44732</th>\n",
              "      <td>0.0</td>\n",
              "      <td>no</td>\n",
              "      <td>urban</td>\n",
              "      <td>cloudy</td>\n",
              "      <td>buffet</td>\n",
              "      <td>motorcycle</td>\n",
              "      <td>0</td>\n",
              "      <td>morning</td>\n",
              "      <td>36.0</td>\n",
              "      <td>4.8</td>\n",
              "      <td>low</td>\n",
              "      <td>0</td>\n",
              "      <td>10.0</td>\n",
              "      <td>1.520432</td>\n",
              "      <td>short</td>\n",
              "    </tr>\n",
              "    <tr>\n",
              "      <th>38158</th>\n",
              "      <td>0.0</td>\n",
              "      <td>no</td>\n",
              "      <td>metropolitian</td>\n",
              "      <td>fog</td>\n",
              "      <td>buffet</td>\n",
              "      <td>scooter</td>\n",
              "      <td>0</td>\n",
              "      <td>evening</td>\n",
              "      <td>36.0</td>\n",
              "      <td>4.4</td>\n",
              "      <td>jam</td>\n",
              "      <td>1</td>\n",
              "      <td>10.0</td>\n",
              "      <td>NaN</td>\n",
              "      <td>NaN</td>\n",
              "    </tr>\n",
              "    <tr>\n",
              "      <th>860</th>\n",
              "      <td>1.0</td>\n",
              "      <td>no</td>\n",
              "      <td>metropolitian</td>\n",
              "      <td>windy</td>\n",
              "      <td>meal</td>\n",
              "      <td>scooter</td>\n",
              "      <td>1</td>\n",
              "      <td>afternoon</td>\n",
              "      <td>25.0</td>\n",
              "      <td>4.9</td>\n",
              "      <td>medium</td>\n",
              "      <td>2</td>\n",
              "      <td>5.0</td>\n",
              "      <td>7.760938</td>\n",
              "      <td>medium</td>\n",
              "    </tr>\n",
              "    <tr>\n",
              "      <th>15795</th>\n",
              "      <td>0.0</td>\n",
              "      <td>no</td>\n",
              "      <td>metropolitian</td>\n",
              "      <td>cloudy</td>\n",
              "      <td>meal</td>\n",
              "      <td>motorcycle</td>\n",
              "      <td>0</td>\n",
              "      <td>evening</td>\n",
              "      <td>29.0</td>\n",
              "      <td>4.8</td>\n",
              "      <td>jam</td>\n",
              "      <td>2</td>\n",
              "      <td>15.0</td>\n",
              "      <td>7.719540</td>\n",
              "      <td>medium</td>\n",
              "    </tr>\n",
              "  </tbody>\n",
              "</table>\n",
              "<p>36401 rows × 15 columns</p>\n",
              "</div>"
            ],
            "text/plain": [
              "      multiple_deliveries festival      city_type     weather type_of_order  \\\n",
              "11029                 1.0       no  metropolitian       windy         snack   \n",
              "15665                 1.0       no  metropolitian       windy        drinks   \n",
              "14475                 1.0       no  metropolitian      stormy          meal   \n",
              "29199                 1.0       no  metropolitian       windy        buffet   \n",
              "22514                 0.0       no          urban  sandstorms          meal   \n",
              "...                   ...      ...            ...         ...           ...   \n",
              "11284                 0.0       no  metropolitian  sandstorms          meal   \n",
              "44732                 0.0       no          urban      cloudy        buffet   \n",
              "38158                 0.0       no  metropolitian         fog        buffet   \n",
              "860                   1.0       no  metropolitian       windy          meal   \n",
              "15795                 0.0       no  metropolitian      cloudy          meal   \n",
              "\n",
              "        type_of_vehicle is_weekend order_time_of_day   age  ratings traffic  \\\n",
              "11029  electric_scooter          0           evening  26.0      4.7     jam   \n",
              "15665        motorcycle          0         afternoon  21.0      4.9  medium   \n",
              "14475           scooter          1           missing   NaN      NaN     low   \n",
              "29199        motorcycle          0           evening  32.0      4.7  medium   \n",
              "22514           scooter          0             night  34.0      4.9     jam   \n",
              "...                 ...        ...               ...   ...      ...     ...   \n",
              "11284           scooter          0           evening  29.0      4.7     jam   \n",
              "44732        motorcycle          0           morning  36.0      4.8     low   \n",
              "38158           scooter          0           evening  36.0      4.4     jam   \n",
              "860             scooter          1         afternoon  25.0      4.9  medium   \n",
              "15795        motorcycle          0           evening  29.0      4.8     jam   \n",
              "\n",
              "       vehicle_condition  pickup_time_minutes   distance distance_type  \n",
              "11029                  2                 10.0   9.177684        medium  \n",
              "15665                  2                  5.0   6.081536        medium  \n",
              "14475                  2                  NaN   1.554563         short  \n",
              "29199                  0                 15.0  20.852271     very_long  \n",
              "22514                  1                  5.0   9.056096        medium  \n",
              "...                  ...                  ...        ...           ...  \n",
              "11284                  2                  5.0  12.464367          long  \n",
              "44732                  0                 10.0   1.520432         short  \n",
              "38158                  1                 10.0        NaN           NaN  \n",
              "860                    2                  5.0   7.760938        medium  \n",
              "15795                  2                 15.0   7.719540        medium  \n",
              "\n",
              "[36401 rows x 15 columns]"
            ]
          },
          "execution_count": 109,
          "metadata": {},
          "output_type": "execute_result"
        }
      ],
      "source": [
        "simple_imputer.fit_transform(X_train)"
      ]
    },
    {
      "cell_type": "code",
      "execution_count": 110,
      "metadata": {
        "colab": {
          "base_uri": "https://localhost:8080/",
          "height": 554
        },
        "id": "64qFA5LOomEX",
        "outputId": "962e5143-b2cc-423d-e665-de0346501f34"
      },
      "outputs": [
        {
          "data": {
            "text/plain": [
              "multiple_deliveries       0\n",
              "festival                  0\n",
              "city_type                 0\n",
              "weather                   0\n",
              "type_of_order             0\n",
              "type_of_vehicle           0\n",
              "is_weekend                0\n",
              "order_time_of_day         0\n",
              "age                    1470\n",
              "ratings                1510\n",
              "traffic                 407\n",
              "vehicle_condition         0\n",
              "pickup_time_minutes    1298\n",
              "distance               2931\n",
              "distance_type          2931\n",
              "dtype: int64"
            ]
          },
          "execution_count": 110,
          "metadata": {},
          "output_type": "execute_result"
        }
      ],
      "source": [
        "simple_imputer.fit_transform(X_train).isna().sum()"
      ]
    },
    {
      "cell_type": "code",
      "execution_count": 111,
      "metadata": {
        "id": "3m4pvr89eYvo"
      },
      "outputs": [],
      "source": [
        "# knn imputer\n",
        "\n",
        "knn_imputer = KNNImputer(n_neighbors=5)"
      ]
    },
    {
      "cell_type": "code",
      "execution_count": 112,
      "metadata": {
        "id": "CxotCZQykGzV"
      },
      "outputs": [],
      "source": [
        "# do basic preprocessing\n",
        "\n",
        "num_cols = [\"age\",\"ratings\",\"pickup_time_minutes\",\"distance\"]\n",
        "\n",
        "nominal_cat_cols = ['weather','type_of_order',\n",
        "                    'type_of_vehicle',\"festival\",\n",
        "                    \"city_type\",\n",
        "                    \"is_weekend\",\n",
        "                    \"order_time_of_day\"]\n",
        "\n",
        "ordinal_cat_cols = [\"traffic\",\"distance_type\"]"
      ]
    },
    {
      "cell_type": "code",
      "execution_count": 113,
      "metadata": {
        "id": "1vXEw79MkGzW"
      },
      "outputs": [],
      "source": [
        "# generate order for ordinal encoding\n",
        "\n",
        "traffic_order = [\"low\",\"medium\",\"high\",\"jam\"]\n",
        "\n",
        "distance_type_order = [\"short\",\"medium\",\"long\",\"very_long\"]"
      ]
    },
    {
      "cell_type": "code",
      "execution_count": 114,
      "metadata": {
        "colab": {
          "base_uri": "https://localhost:8080/"
        },
        "id": "Zdqxf1Kinfde",
        "outputId": "ef36a07b-2b0e-49ed-ebac-48580e165c76"
      },
      "outputs": [
        {
          "name": "stdout",
          "output_type": "stream",
          "text": [
            "traffic ['jam' 'medium' 'low' 'high' nan]\n",
            "distance_type ['medium' 'short' 'very_long' 'long' nan]\n"
          ]
        }
      ],
      "source": [
        "# unique categories the ordinal columns\n",
        "\n",
        "for col in ordinal_cat_cols:\n",
        "    print(col,X_train[col].unique())"
      ]
    },
    {
      "cell_type": "code",
      "execution_count": 117,
      "metadata": {
        "colab": {
          "base_uri": "https://localhost:8080/",
          "height": 136
        },
        "id": "IkSOLqvBkGzW",
        "outputId": "6b882e0c-03be-48d4-de66-978d77d0a0ed"
      },
      "outputs": [
        {
          "data": {
            "text/html": [
              "<style>#sk-container-id-8 {color: black;}#sk-container-id-8 pre{padding: 0;}#sk-container-id-8 div.sk-toggleable {background-color: white;}#sk-container-id-8 label.sk-toggleable__label {cursor: pointer;display: block;width: 100%;margin-bottom: 0;padding: 0.3em;box-sizing: border-box;text-align: center;}#sk-container-id-8 label.sk-toggleable__label-arrow:before {content: \"▸\";float: left;margin-right: 0.25em;color: #696969;}#sk-container-id-8 label.sk-toggleable__label-arrow:hover:before {color: black;}#sk-container-id-8 div.sk-estimator:hover label.sk-toggleable__label-arrow:before {color: black;}#sk-container-id-8 div.sk-toggleable__content {max-height: 0;max-width: 0;overflow: hidden;text-align: left;background-color: #f0f8ff;}#sk-container-id-8 div.sk-toggleable__content pre {margin: 0.2em;color: black;border-radius: 0.25em;background-color: #f0f8ff;}#sk-container-id-8 input.sk-toggleable__control:checked~div.sk-toggleable__content {max-height: 200px;max-width: 100%;overflow: auto;}#sk-container-id-8 input.sk-toggleable__control:checked~label.sk-toggleable__label-arrow:before {content: \"▾\";}#sk-container-id-8 div.sk-estimator input.sk-toggleable__control:checked~label.sk-toggleable__label {background-color: #d4ebff;}#sk-container-id-8 div.sk-label input.sk-toggleable__control:checked~label.sk-toggleable__label {background-color: #d4ebff;}#sk-container-id-8 input.sk-hidden--visually {border: 0;clip: rect(1px 1px 1px 1px);clip: rect(1px, 1px, 1px, 1px);height: 1px;margin: -1px;overflow: hidden;padding: 0;position: absolute;width: 1px;}#sk-container-id-8 div.sk-estimator {font-family: monospace;background-color: #f0f8ff;border: 1px dotted black;border-radius: 0.25em;box-sizing: border-box;margin-bottom: 0.5em;}#sk-container-id-8 div.sk-estimator:hover {background-color: #d4ebff;}#sk-container-id-8 div.sk-parallel-item::after {content: \"\";width: 100%;border-bottom: 1px solid gray;flex-grow: 1;}#sk-container-id-8 div.sk-label:hover label.sk-toggleable__label {background-color: #d4ebff;}#sk-container-id-8 div.sk-serial::before {content: \"\";position: absolute;border-left: 1px solid gray;box-sizing: border-box;top: 0;bottom: 0;left: 50%;z-index: 0;}#sk-container-id-8 div.sk-serial {display: flex;flex-direction: column;align-items: center;background-color: white;padding-right: 0.2em;padding-left: 0.2em;position: relative;}#sk-container-id-8 div.sk-item {position: relative;z-index: 1;}#sk-container-id-8 div.sk-parallel {display: flex;align-items: stretch;justify-content: center;background-color: white;position: relative;}#sk-container-id-8 div.sk-item::before, #sk-container-id-8 div.sk-parallel-item::before {content: \"\";position: absolute;border-left: 1px solid gray;box-sizing: border-box;top: 0;bottom: 0;left: 50%;z-index: -1;}#sk-container-id-8 div.sk-parallel-item {display: flex;flex-direction: column;z-index: 1;position: relative;background-color: white;}#sk-container-id-8 div.sk-parallel-item:first-child::after {align-self: flex-end;width: 50%;}#sk-container-id-8 div.sk-parallel-item:last-child::after {align-self: flex-start;width: 50%;}#sk-container-id-8 div.sk-parallel-item:only-child::after {width: 0;}#sk-container-id-8 div.sk-dashed-wrapped {border: 1px dashed gray;margin: 0 0.4em 0.5em 0.4em;box-sizing: border-box;padding-bottom: 0.4em;background-color: white;}#sk-container-id-8 div.sk-label label {font-family: monospace;font-weight: bold;display: inline-block;line-height: 1.2em;}#sk-container-id-8 div.sk-label-container {text-align: center;}#sk-container-id-8 div.sk-container {/* jupyter's `normalize.less` sets `[hidden] { display: none; }` but bootstrap.min.css set `[hidden] { display: none !important; }` so we also need the `!important` here to be able to override the default hidden behavior on the sphinx rendered scikit-learn.org. See: https://github.com/scikit-learn/scikit-learn/issues/21755 */display: inline-block !important;position: relative;}#sk-container-id-8 div.sk-text-repr-fallback {display: none;}</style><div id=\"sk-container-id-8\" class=\"sk-top-container\"><div class=\"sk-text-repr-fallback\"><pre>ColumnTransformer(n_jobs=-1, remainder=&#x27;passthrough&#x27;,\n",
              "                  transformers=[(&#x27;scale&#x27;, MinMaxScaler(),\n",
              "                                 [&#x27;age&#x27;, &#x27;ratings&#x27;, &#x27;pickup_time_minutes&#x27;,\n",
              "                                  &#x27;distance&#x27;]),\n",
              "                                (&#x27;nominal_encode&#x27;,\n",
              "                                 OneHotEncoder(drop=&#x27;first&#x27;,\n",
              "                                               handle_unknown=&#x27;ignore&#x27;,\n",
              "                                               sparse_output=False),\n",
              "                                 [&#x27;weather&#x27;, &#x27;type_of_order&#x27;, &#x27;type_of_vehicle&#x27;,\n",
              "                                  &#x27;festival&#x27;, &#x27;city_type&#x27;, &#x27;is_weekend&#x27;,\n",
              "                                  &#x27;order_time_of_day&#x27;]),\n",
              "                                (&#x27;ordinal_encode&#x27;,\n",
              "                                 OrdinalEncoder(categories=[[&#x27;low&#x27;, &#x27;medium&#x27;,\n",
              "                                                             &#x27;high&#x27;, &#x27;jam&#x27;],\n",
              "                                                            [&#x27;short&#x27;, &#x27;medium&#x27;,\n",
              "                                                             &#x27;long&#x27;,\n",
              "                                                             &#x27;very_long&#x27;]],\n",
              "                                                encoded_missing_value=-999,\n",
              "                                                handle_unknown=&#x27;use_encoded_value&#x27;,\n",
              "                                                unknown_value=-1),\n",
              "                                 [&#x27;traffic&#x27;, &#x27;distance_type&#x27;])],\n",
              "                  verbose_feature_names_out=False)</pre><b>In a Jupyter environment, please rerun this cell to show the HTML representation or trust the notebook. <br />On GitHub, the HTML representation is unable to render, please try loading this page with nbviewer.org.</b></div><div class=\"sk-container\" hidden><div class=\"sk-item sk-dashed-wrapped\"><div class=\"sk-label-container\"><div class=\"sk-label sk-toggleable\"><input class=\"sk-toggleable__control sk-hidden--visually\" id=\"sk-estimator-id-32\" type=\"checkbox\" ><label for=\"sk-estimator-id-32\" class=\"sk-toggleable__label sk-toggleable__label-arrow\">ColumnTransformer</label><div class=\"sk-toggleable__content\"><pre>ColumnTransformer(n_jobs=-1, remainder=&#x27;passthrough&#x27;,\n",
              "                  transformers=[(&#x27;scale&#x27;, MinMaxScaler(),\n",
              "                                 [&#x27;age&#x27;, &#x27;ratings&#x27;, &#x27;pickup_time_minutes&#x27;,\n",
              "                                  &#x27;distance&#x27;]),\n",
              "                                (&#x27;nominal_encode&#x27;,\n",
              "                                 OneHotEncoder(drop=&#x27;first&#x27;,\n",
              "                                               handle_unknown=&#x27;ignore&#x27;,\n",
              "                                               sparse_output=False),\n",
              "                                 [&#x27;weather&#x27;, &#x27;type_of_order&#x27;, &#x27;type_of_vehicle&#x27;,\n",
              "                                  &#x27;festival&#x27;, &#x27;city_type&#x27;, &#x27;is_weekend&#x27;,\n",
              "                                  &#x27;order_time_of_day&#x27;]),\n",
              "                                (&#x27;ordinal_encode&#x27;,\n",
              "                                 OrdinalEncoder(categories=[[&#x27;low&#x27;, &#x27;medium&#x27;,\n",
              "                                                             &#x27;high&#x27;, &#x27;jam&#x27;],\n",
              "                                                            [&#x27;short&#x27;, &#x27;medium&#x27;,\n",
              "                                                             &#x27;long&#x27;,\n",
              "                                                             &#x27;very_long&#x27;]],\n",
              "                                                encoded_missing_value=-999,\n",
              "                                                handle_unknown=&#x27;use_encoded_value&#x27;,\n",
              "                                                unknown_value=-1),\n",
              "                                 [&#x27;traffic&#x27;, &#x27;distance_type&#x27;])],\n",
              "                  verbose_feature_names_out=False)</pre></div></div></div><div class=\"sk-parallel\"><div class=\"sk-parallel-item\"><div class=\"sk-item\"><div class=\"sk-label-container\"><div class=\"sk-label sk-toggleable\"><input class=\"sk-toggleable__control sk-hidden--visually\" id=\"sk-estimator-id-33\" type=\"checkbox\" ><label for=\"sk-estimator-id-33\" class=\"sk-toggleable__label sk-toggleable__label-arrow\">scale</label><div class=\"sk-toggleable__content\"><pre>[&#x27;age&#x27;, &#x27;ratings&#x27;, &#x27;pickup_time_minutes&#x27;, &#x27;distance&#x27;]</pre></div></div></div><div class=\"sk-serial\"><div class=\"sk-item\"><div class=\"sk-estimator sk-toggleable\"><input class=\"sk-toggleable__control sk-hidden--visually\" id=\"sk-estimator-id-34\" type=\"checkbox\" ><label for=\"sk-estimator-id-34\" class=\"sk-toggleable__label sk-toggleable__label-arrow\">MinMaxScaler</label><div class=\"sk-toggleable__content\"><pre>MinMaxScaler()</pre></div></div></div></div></div></div><div class=\"sk-parallel-item\"><div class=\"sk-item\"><div class=\"sk-label-container\"><div class=\"sk-label sk-toggleable\"><input class=\"sk-toggleable__control sk-hidden--visually\" id=\"sk-estimator-id-35\" type=\"checkbox\" ><label for=\"sk-estimator-id-35\" class=\"sk-toggleable__label sk-toggleable__label-arrow\">nominal_encode</label><div class=\"sk-toggleable__content\"><pre>[&#x27;weather&#x27;, &#x27;type_of_order&#x27;, &#x27;type_of_vehicle&#x27;, &#x27;festival&#x27;, &#x27;city_type&#x27;, &#x27;is_weekend&#x27;, &#x27;order_time_of_day&#x27;]</pre></div></div></div><div class=\"sk-serial\"><div class=\"sk-item\"><div class=\"sk-estimator sk-toggleable\"><input class=\"sk-toggleable__control sk-hidden--visually\" id=\"sk-estimator-id-36\" type=\"checkbox\" ><label for=\"sk-estimator-id-36\" class=\"sk-toggleable__label sk-toggleable__label-arrow\">OneHotEncoder</label><div class=\"sk-toggleable__content\"><pre>OneHotEncoder(drop=&#x27;first&#x27;, handle_unknown=&#x27;ignore&#x27;, sparse_output=False)</pre></div></div></div></div></div></div><div class=\"sk-parallel-item\"><div class=\"sk-item\"><div class=\"sk-label-container\"><div class=\"sk-label sk-toggleable\"><input class=\"sk-toggleable__control sk-hidden--visually\" id=\"sk-estimator-id-37\" type=\"checkbox\" ><label for=\"sk-estimator-id-37\" class=\"sk-toggleable__label sk-toggleable__label-arrow\">ordinal_encode</label><div class=\"sk-toggleable__content\"><pre>[&#x27;traffic&#x27;, &#x27;distance_type&#x27;]</pre></div></div></div><div class=\"sk-serial\"><div class=\"sk-item\"><div class=\"sk-estimator sk-toggleable\"><input class=\"sk-toggleable__control sk-hidden--visually\" id=\"sk-estimator-id-38\" type=\"checkbox\" ><label for=\"sk-estimator-id-38\" class=\"sk-toggleable__label sk-toggleable__label-arrow\">OrdinalEncoder</label><div class=\"sk-toggleable__content\"><pre>OrdinalEncoder(categories=[[&#x27;low&#x27;, &#x27;medium&#x27;, &#x27;high&#x27;, &#x27;jam&#x27;],\n",
              "                           [&#x27;short&#x27;, &#x27;medium&#x27;, &#x27;long&#x27;, &#x27;very_long&#x27;]],\n",
              "               encoded_missing_value=-999, handle_unknown=&#x27;use_encoded_value&#x27;,\n",
              "               unknown_value=-1)</pre></div></div></div></div></div></div><div class=\"sk-parallel-item\"><div class=\"sk-item\"><div class=\"sk-label-container\"><div class=\"sk-label sk-toggleable\"><input class=\"sk-toggleable__control sk-hidden--visually\" id=\"sk-estimator-id-39\" type=\"checkbox\" ><label for=\"sk-estimator-id-39\" class=\"sk-toggleable__label sk-toggleable__label-arrow\">remainder</label><div class=\"sk-toggleable__content\"><pre></pre></div></div></div><div class=\"sk-serial\"><div class=\"sk-item\"><div class=\"sk-estimator sk-toggleable\"><input class=\"sk-toggleable__control sk-hidden--visually\" id=\"sk-estimator-id-40\" type=\"checkbox\" ><label for=\"sk-estimator-id-40\" class=\"sk-toggleable__label sk-toggleable__label-arrow\">passthrough</label><div class=\"sk-toggleable__content\"><pre>passthrough</pre></div></div></div></div></div></div></div></div></div></div>"
            ],
            "text/plain": [
              "ColumnTransformer(n_jobs=-1, remainder='passthrough',\n",
              "                  transformers=[('scale', MinMaxScaler(),\n",
              "                                 ['age', 'ratings', 'pickup_time_minutes',\n",
              "                                  'distance']),\n",
              "                                ('nominal_encode',\n",
              "                                 OneHotEncoder(drop='first',\n",
              "                                               handle_unknown='ignore',\n",
              "                                               sparse_output=False),\n",
              "                                 ['weather', 'type_of_order', 'type_of_vehicle',\n",
              "                                  'festival', 'city_type', 'is_weekend',\n",
              "                                  'order_time_of_day']),\n",
              "                                ('ordinal_encode',\n",
              "                                 OrdinalEncoder(categories=[['low', 'medium',\n",
              "                                                             'high', 'jam'],\n",
              "                                                            ['short', 'medium',\n",
              "                                                             'long',\n",
              "                                                             'very_long']],\n",
              "                                                encoded_missing_value=-999,\n",
              "                                                handle_unknown='use_encoded_value',\n",
              "                                                unknown_value=-1),\n",
              "                                 ['traffic', 'distance_type'])],\n",
              "                  verbose_feature_names_out=False)"
            ]
          },
          "execution_count": 117,
          "metadata": {},
          "output_type": "execute_result"
        }
      ],
      "source": [
        "# build a preprocessor\n",
        "\n",
        "preprocessor = ColumnTransformer(\n",
        "    transformers=[\n",
        "        (\"scale\", MinMaxScaler(), num_cols),  # Scaling numerical columns\n",
        "        (\"nominal_encode\", OneHotEncoder(\n",
        "            drop=\"first\", handle_unknown=\"ignore\", sparse_output=False\n",
        "        ), nominal_cat_cols),  # Encoding nominal categorical columns\n",
        "        (\"ordinal_encode\", OrdinalEncoder(\n",
        "            categories=[traffic_order, distance_type_order],\n",
        "            encoded_missing_value=-999,\n",
        "            handle_unknown=\"use_encoded_value\",\n",
        "            unknown_value=-1\n",
        "        ), ordinal_cat_cols)  # Encoding ordinal categorical columns\n",
        "    ],\n",
        "    remainder=\"passthrough\",  # Keeps unspecified columns in their original form\n",
        "    n_jobs=-1,  # Enables parallel processing\n",
        "    verbose_feature_names_out=False  # Controls feature naming in output\n",
        ")\n",
        "\n",
        "preprocessor"
      ]
    },
    {
      "cell_type": "code",
      "execution_count": 118,
      "metadata": {
        "colab": {
          "base_uri": "https://localhost:8080/",
          "height": 444
        },
        "id": "Q3NmRIuFn4Ob",
        "outputId": "4b7a1400-53d0-4e00-8247-3edb1ff7c8f3"
      },
      "outputs": [
        {
          "data": {
            "text/html": [
              "<div>\n",
              "<style scoped>\n",
              "    .dataframe tbody tr th:only-of-type {\n",
              "        vertical-align: middle;\n",
              "    }\n",
              "\n",
              "    .dataframe tbody tr th {\n",
              "        vertical-align: top;\n",
              "    }\n",
              "\n",
              "    .dataframe thead th {\n",
              "        text-align: right;\n",
              "    }\n",
              "</style>\n",
              "<table border=\"1\" class=\"dataframe\">\n",
              "  <thead>\n",
              "    <tr style=\"text-align: right;\">\n",
              "      <th></th>\n",
              "      <th>age</th>\n",
              "      <th>ratings</th>\n",
              "      <th>pickup_time_minutes</th>\n",
              "      <th>distance</th>\n",
              "      <th>weather_fog</th>\n",
              "      <th>weather_sandstorms</th>\n",
              "      <th>weather_stormy</th>\n",
              "      <th>weather_sunny</th>\n",
              "      <th>weather_windy</th>\n",
              "      <th>weather_nan</th>\n",
              "      <th>...</th>\n",
              "      <th>city_type_nan</th>\n",
              "      <th>is_weekend_1</th>\n",
              "      <th>order_time_of_day_evening</th>\n",
              "      <th>order_time_of_day_morning</th>\n",
              "      <th>order_time_of_day_night</th>\n",
              "      <th>order_time_of_day_nan</th>\n",
              "      <th>traffic</th>\n",
              "      <th>distance_type</th>\n",
              "      <th>vehicle_condition</th>\n",
              "      <th>multiple_deliveries</th>\n",
              "    </tr>\n",
              "  </thead>\n",
              "  <tbody>\n",
              "    <tr>\n",
              "      <th>11029</th>\n",
              "      <td>0.315789</td>\n",
              "      <td>0.88</td>\n",
              "      <td>0.5</td>\n",
              "      <td>0.395429</td>\n",
              "      <td>0.0</td>\n",
              "      <td>0.0</td>\n",
              "      <td>0.0</td>\n",
              "      <td>0.0</td>\n",
              "      <td>1.0</td>\n",
              "      <td>0.0</td>\n",
              "      <td>...</td>\n",
              "      <td>0.0</td>\n",
              "      <td>0.0</td>\n",
              "      <td>1.0</td>\n",
              "      <td>0.0</td>\n",
              "      <td>0.0</td>\n",
              "      <td>0.0</td>\n",
              "      <td>3.0</td>\n",
              "      <td>1.0</td>\n",
              "      <td>2</td>\n",
              "      <td>1.0</td>\n",
              "    </tr>\n",
              "    <tr>\n",
              "      <th>15665</th>\n",
              "      <td>0.052632</td>\n",
              "      <td>0.96</td>\n",
              "      <td>0.0</td>\n",
              "      <td>0.236688</td>\n",
              "      <td>0.0</td>\n",
              "      <td>0.0</td>\n",
              "      <td>0.0</td>\n",
              "      <td>0.0</td>\n",
              "      <td>1.0</td>\n",
              "      <td>0.0</td>\n",
              "      <td>...</td>\n",
              "      <td>0.0</td>\n",
              "      <td>0.0</td>\n",
              "      <td>0.0</td>\n",
              "      <td>0.0</td>\n",
              "      <td>0.0</td>\n",
              "      <td>0.0</td>\n",
              "      <td>1.0</td>\n",
              "      <td>1.0</td>\n",
              "      <td>2</td>\n",
              "      <td>1.0</td>\n",
              "    </tr>\n",
              "    <tr>\n",
              "      <th>14475</th>\n",
              "      <td>NaN</td>\n",
              "      <td>NaN</td>\n",
              "      <td>NaN</td>\n",
              "      <td>0.004588</td>\n",
              "      <td>0.0</td>\n",
              "      <td>0.0</td>\n",
              "      <td>1.0</td>\n",
              "      <td>0.0</td>\n",
              "      <td>0.0</td>\n",
              "      <td>0.0</td>\n",
              "      <td>...</td>\n",
              "      <td>0.0</td>\n",
              "      <td>1.0</td>\n",
              "      <td>0.0</td>\n",
              "      <td>0.0</td>\n",
              "      <td>0.0</td>\n",
              "      <td>1.0</td>\n",
              "      <td>0.0</td>\n",
              "      <td>0.0</td>\n",
              "      <td>2</td>\n",
              "      <td>1.0</td>\n",
              "    </tr>\n",
              "    <tr>\n",
              "      <th>29199</th>\n",
              "      <td>0.631579</td>\n",
              "      <td>0.88</td>\n",
              "      <td>1.0</td>\n",
              "      <td>0.993990</td>\n",
              "      <td>0.0</td>\n",
              "      <td>0.0</td>\n",
              "      <td>0.0</td>\n",
              "      <td>0.0</td>\n",
              "      <td>1.0</td>\n",
              "      <td>0.0</td>\n",
              "      <td>...</td>\n",
              "      <td>0.0</td>\n",
              "      <td>0.0</td>\n",
              "      <td>1.0</td>\n",
              "      <td>0.0</td>\n",
              "      <td>0.0</td>\n",
              "      <td>0.0</td>\n",
              "      <td>1.0</td>\n",
              "      <td>3.0</td>\n",
              "      <td>0</td>\n",
              "      <td>1.0</td>\n",
              "    </tr>\n",
              "    <tr>\n",
              "      <th>22514</th>\n",
              "      <td>0.736842</td>\n",
              "      <td>0.96</td>\n",
              "      <td>0.0</td>\n",
              "      <td>0.389195</td>\n",
              "      <td>0.0</td>\n",
              "      <td>1.0</td>\n",
              "      <td>0.0</td>\n",
              "      <td>0.0</td>\n",
              "      <td>0.0</td>\n",
              "      <td>0.0</td>\n",
              "      <td>...</td>\n",
              "      <td>0.0</td>\n",
              "      <td>0.0</td>\n",
              "      <td>0.0</td>\n",
              "      <td>0.0</td>\n",
              "      <td>1.0</td>\n",
              "      <td>0.0</td>\n",
              "      <td>3.0</td>\n",
              "      <td>1.0</td>\n",
              "      <td>1</td>\n",
              "      <td>0.0</td>\n",
              "    </tr>\n",
              "    <tr>\n",
              "      <th>...</th>\n",
              "      <td>...</td>\n",
              "      <td>...</td>\n",
              "      <td>...</td>\n",
              "      <td>...</td>\n",
              "      <td>...</td>\n",
              "      <td>...</td>\n",
              "      <td>...</td>\n",
              "      <td>...</td>\n",
              "      <td>...</td>\n",
              "      <td>...</td>\n",
              "      <td>...</td>\n",
              "      <td>...</td>\n",
              "      <td>...</td>\n",
              "      <td>...</td>\n",
              "      <td>...</td>\n",
              "      <td>...</td>\n",
              "      <td>...</td>\n",
              "      <td>...</td>\n",
              "      <td>...</td>\n",
              "      <td>...</td>\n",
              "      <td>...</td>\n",
              "    </tr>\n",
              "    <tr>\n",
              "      <th>11284</th>\n",
              "      <td>0.473684</td>\n",
              "      <td>0.88</td>\n",
              "      <td>0.0</td>\n",
              "      <td>0.563939</td>\n",
              "      <td>0.0</td>\n",
              "      <td>1.0</td>\n",
              "      <td>0.0</td>\n",
              "      <td>0.0</td>\n",
              "      <td>0.0</td>\n",
              "      <td>0.0</td>\n",
              "      <td>...</td>\n",
              "      <td>0.0</td>\n",
              "      <td>0.0</td>\n",
              "      <td>1.0</td>\n",
              "      <td>0.0</td>\n",
              "      <td>0.0</td>\n",
              "      <td>0.0</td>\n",
              "      <td>3.0</td>\n",
              "      <td>2.0</td>\n",
              "      <td>2</td>\n",
              "      <td>0.0</td>\n",
              "    </tr>\n",
              "    <tr>\n",
              "      <th>44732</th>\n",
              "      <td>0.842105</td>\n",
              "      <td>0.92</td>\n",
              "      <td>0.5</td>\n",
              "      <td>0.002839</td>\n",
              "      <td>0.0</td>\n",
              "      <td>0.0</td>\n",
              "      <td>0.0</td>\n",
              "      <td>0.0</td>\n",
              "      <td>0.0</td>\n",
              "      <td>0.0</td>\n",
              "      <td>...</td>\n",
              "      <td>0.0</td>\n",
              "      <td>0.0</td>\n",
              "      <td>0.0</td>\n",
              "      <td>1.0</td>\n",
              "      <td>0.0</td>\n",
              "      <td>0.0</td>\n",
              "      <td>0.0</td>\n",
              "      <td>0.0</td>\n",
              "      <td>0</td>\n",
              "      <td>0.0</td>\n",
              "    </tr>\n",
              "    <tr>\n",
              "      <th>38158</th>\n",
              "      <td>0.842105</td>\n",
              "      <td>0.76</td>\n",
              "      <td>0.5</td>\n",
              "      <td>NaN</td>\n",
              "      <td>1.0</td>\n",
              "      <td>0.0</td>\n",
              "      <td>0.0</td>\n",
              "      <td>0.0</td>\n",
              "      <td>0.0</td>\n",
              "      <td>0.0</td>\n",
              "      <td>...</td>\n",
              "      <td>0.0</td>\n",
              "      <td>0.0</td>\n",
              "      <td>1.0</td>\n",
              "      <td>0.0</td>\n",
              "      <td>0.0</td>\n",
              "      <td>0.0</td>\n",
              "      <td>3.0</td>\n",
              "      <td>-1.0</td>\n",
              "      <td>1</td>\n",
              "      <td>0.0</td>\n",
              "    </tr>\n",
              "    <tr>\n",
              "      <th>860</th>\n",
              "      <td>0.263158</td>\n",
              "      <td>0.96</td>\n",
              "      <td>0.0</td>\n",
              "      <td>0.322792</td>\n",
              "      <td>0.0</td>\n",
              "      <td>0.0</td>\n",
              "      <td>0.0</td>\n",
              "      <td>0.0</td>\n",
              "      <td>1.0</td>\n",
              "      <td>0.0</td>\n",
              "      <td>...</td>\n",
              "      <td>0.0</td>\n",
              "      <td>1.0</td>\n",
              "      <td>0.0</td>\n",
              "      <td>0.0</td>\n",
              "      <td>0.0</td>\n",
              "      <td>0.0</td>\n",
              "      <td>1.0</td>\n",
              "      <td>1.0</td>\n",
              "      <td>2</td>\n",
              "      <td>1.0</td>\n",
              "    </tr>\n",
              "    <tr>\n",
              "      <th>15795</th>\n",
              "      <td>0.473684</td>\n",
              "      <td>0.92</td>\n",
              "      <td>1.0</td>\n",
              "      <td>0.320669</td>\n",
              "      <td>0.0</td>\n",
              "      <td>0.0</td>\n",
              "      <td>0.0</td>\n",
              "      <td>0.0</td>\n",
              "      <td>0.0</td>\n",
              "      <td>0.0</td>\n",
              "      <td>...</td>\n",
              "      <td>0.0</td>\n",
              "      <td>0.0</td>\n",
              "      <td>1.0</td>\n",
              "      <td>0.0</td>\n",
              "      <td>0.0</td>\n",
              "      <td>0.0</td>\n",
              "      <td>3.0</td>\n",
              "      <td>1.0</td>\n",
              "      <td>2</td>\n",
              "      <td>0.0</td>\n",
              "    </tr>\n",
              "  </tbody>\n",
              "</table>\n",
              "<p>36401 rows × 30 columns</p>\n",
              "</div>"
            ],
            "text/plain": [
              "            age  ratings  pickup_time_minutes  distance  weather_fog  \\\n",
              "11029  0.315789     0.88                  0.5  0.395429          0.0   \n",
              "15665  0.052632     0.96                  0.0  0.236688          0.0   \n",
              "14475       NaN      NaN                  NaN  0.004588          0.0   \n",
              "29199  0.631579     0.88                  1.0  0.993990          0.0   \n",
              "22514  0.736842     0.96                  0.0  0.389195          0.0   \n",
              "...         ...      ...                  ...       ...          ...   \n",
              "11284  0.473684     0.88                  0.0  0.563939          0.0   \n",
              "44732  0.842105     0.92                  0.5  0.002839          0.0   \n",
              "38158  0.842105     0.76                  0.5       NaN          1.0   \n",
              "860    0.263158     0.96                  0.0  0.322792          0.0   \n",
              "15795  0.473684     0.92                  1.0  0.320669          0.0   \n",
              "\n",
              "       weather_sandstorms  weather_stormy  weather_sunny  weather_windy  \\\n",
              "11029                 0.0             0.0            0.0            1.0   \n",
              "15665                 0.0             0.0            0.0            1.0   \n",
              "14475                 0.0             1.0            0.0            0.0   \n",
              "29199                 0.0             0.0            0.0            1.0   \n",
              "22514                 1.0             0.0            0.0            0.0   \n",
              "...                   ...             ...            ...            ...   \n",
              "11284                 1.0             0.0            0.0            0.0   \n",
              "44732                 0.0             0.0            0.0            0.0   \n",
              "38158                 0.0             0.0            0.0            0.0   \n",
              "860                   0.0             0.0            0.0            1.0   \n",
              "15795                 0.0             0.0            0.0            0.0   \n",
              "\n",
              "       weather_nan  ...  city_type_nan  is_weekend_1  \\\n",
              "11029          0.0  ...            0.0           0.0   \n",
              "15665          0.0  ...            0.0           0.0   \n",
              "14475          0.0  ...            0.0           1.0   \n",
              "29199          0.0  ...            0.0           0.0   \n",
              "22514          0.0  ...            0.0           0.0   \n",
              "...            ...  ...            ...           ...   \n",
              "11284          0.0  ...            0.0           0.0   \n",
              "44732          0.0  ...            0.0           0.0   \n",
              "38158          0.0  ...            0.0           0.0   \n",
              "860            0.0  ...            0.0           1.0   \n",
              "15795          0.0  ...            0.0           0.0   \n",
              "\n",
              "       order_time_of_day_evening  order_time_of_day_morning  \\\n",
              "11029                        1.0                        0.0   \n",
              "15665                        0.0                        0.0   \n",
              "14475                        0.0                        0.0   \n",
              "29199                        1.0                        0.0   \n",
              "22514                        0.0                        0.0   \n",
              "...                          ...                        ...   \n",
              "11284                        1.0                        0.0   \n",
              "44732                        0.0                        1.0   \n",
              "38158                        1.0                        0.0   \n",
              "860                          0.0                        0.0   \n",
              "15795                        1.0                        0.0   \n",
              "\n",
              "       order_time_of_day_night  order_time_of_day_nan  traffic  distance_type  \\\n",
              "11029                      0.0                    0.0      3.0            1.0   \n",
              "15665                      0.0                    0.0      1.0            1.0   \n",
              "14475                      0.0                    1.0      0.0            0.0   \n",
              "29199                      0.0                    0.0      1.0            3.0   \n",
              "22514                      1.0                    0.0      3.0            1.0   \n",
              "...                        ...                    ...      ...            ...   \n",
              "11284                      0.0                    0.0      3.0            2.0   \n",
              "44732                      0.0                    0.0      0.0            0.0   \n",
              "38158                      0.0                    0.0      3.0           -1.0   \n",
              "860                        0.0                    0.0      1.0            1.0   \n",
              "15795                      0.0                    0.0      3.0            1.0   \n",
              "\n",
              "       vehicle_condition  multiple_deliveries  \n",
              "11029                  2                  1.0  \n",
              "15665                  2                  1.0  \n",
              "14475                  2                  1.0  \n",
              "29199                  0                  1.0  \n",
              "22514                  1                  0.0  \n",
              "...                  ...                  ...  \n",
              "11284                  2                  0.0  \n",
              "44732                  0                  0.0  \n",
              "38158                  1                  0.0  \n",
              "860                    2                  1.0  \n",
              "15795                  2                  0.0  \n",
              "\n",
              "[36401 rows x 30 columns]"
            ]
          },
          "execution_count": 118,
          "metadata": {},
          "output_type": "execute_result"
        }
      ],
      "source": [
        "preprocessor.fit_transform(X_train)"
      ]
    },
    {
      "cell_type": "code",
      "execution_count": 119,
      "metadata": {
        "colab": {
          "base_uri": "https://localhost:8080/",
          "height": 241
        },
        "id": "2JPTx8_AqLlf",
        "outputId": "7c5f9693-1499-4900-ec68-6961cc135221"
      },
      "outputs": [
        {
          "data": {
            "text/plain": [
              "age                    1470\n",
              "ratings                1510\n",
              "pickup_time_minutes    1298\n",
              "distance               2931\n",
              "multiple_deliveries     795\n",
              "dtype: int64"
            ]
          },
          "execution_count": 119,
          "metadata": {},
          "output_type": "execute_result"
        }
      ],
      "source": [
        "preprocessor.fit_transform(X_train).isna().sum().loc[lambda ser : ser.ge(1)]"
      ]
    },
    {
      "cell_type": "code",
      "execution_count": 120,
      "metadata": {
        "colab": {
          "base_uri": "https://localhost:8080/",
          "height": 340
        },
        "id": "n7uZVB6seYc_",
        "outputId": "cd175e6b-ead4-4a1a-bc83-70a3ec7d120f"
      },
      "outputs": [
        {
          "data": {
            "text/html": [
              "<style>#sk-container-id-9 {color: black;}#sk-container-id-9 pre{padding: 0;}#sk-container-id-9 div.sk-toggleable {background-color: white;}#sk-container-id-9 label.sk-toggleable__label {cursor: pointer;display: block;width: 100%;margin-bottom: 0;padding: 0.3em;box-sizing: border-box;text-align: center;}#sk-container-id-9 label.sk-toggleable__label-arrow:before {content: \"▸\";float: left;margin-right: 0.25em;color: #696969;}#sk-container-id-9 label.sk-toggleable__label-arrow:hover:before {color: black;}#sk-container-id-9 div.sk-estimator:hover label.sk-toggleable__label-arrow:before {color: black;}#sk-container-id-9 div.sk-toggleable__content {max-height: 0;max-width: 0;overflow: hidden;text-align: left;background-color: #f0f8ff;}#sk-container-id-9 div.sk-toggleable__content pre {margin: 0.2em;color: black;border-radius: 0.25em;background-color: #f0f8ff;}#sk-container-id-9 input.sk-toggleable__control:checked~div.sk-toggleable__content {max-height: 200px;max-width: 100%;overflow: auto;}#sk-container-id-9 input.sk-toggleable__control:checked~label.sk-toggleable__label-arrow:before {content: \"▾\";}#sk-container-id-9 div.sk-estimator input.sk-toggleable__control:checked~label.sk-toggleable__label {background-color: #d4ebff;}#sk-container-id-9 div.sk-label input.sk-toggleable__control:checked~label.sk-toggleable__label {background-color: #d4ebff;}#sk-container-id-9 input.sk-hidden--visually {border: 0;clip: rect(1px 1px 1px 1px);clip: rect(1px, 1px, 1px, 1px);height: 1px;margin: -1px;overflow: hidden;padding: 0;position: absolute;width: 1px;}#sk-container-id-9 div.sk-estimator {font-family: monospace;background-color: #f0f8ff;border: 1px dotted black;border-radius: 0.25em;box-sizing: border-box;margin-bottom: 0.5em;}#sk-container-id-9 div.sk-estimator:hover {background-color: #d4ebff;}#sk-container-id-9 div.sk-parallel-item::after {content: \"\";width: 100%;border-bottom: 1px solid gray;flex-grow: 1;}#sk-container-id-9 div.sk-label:hover label.sk-toggleable__label {background-color: #d4ebff;}#sk-container-id-9 div.sk-serial::before {content: \"\";position: absolute;border-left: 1px solid gray;box-sizing: border-box;top: 0;bottom: 0;left: 50%;z-index: 0;}#sk-container-id-9 div.sk-serial {display: flex;flex-direction: column;align-items: center;background-color: white;padding-right: 0.2em;padding-left: 0.2em;position: relative;}#sk-container-id-9 div.sk-item {position: relative;z-index: 1;}#sk-container-id-9 div.sk-parallel {display: flex;align-items: stretch;justify-content: center;background-color: white;position: relative;}#sk-container-id-9 div.sk-item::before, #sk-container-id-9 div.sk-parallel-item::before {content: \"\";position: absolute;border-left: 1px solid gray;box-sizing: border-box;top: 0;bottom: 0;left: 50%;z-index: -1;}#sk-container-id-9 div.sk-parallel-item {display: flex;flex-direction: column;z-index: 1;position: relative;background-color: white;}#sk-container-id-9 div.sk-parallel-item:first-child::after {align-self: flex-end;width: 50%;}#sk-container-id-9 div.sk-parallel-item:last-child::after {align-self: flex-start;width: 50%;}#sk-container-id-9 div.sk-parallel-item:only-child::after {width: 0;}#sk-container-id-9 div.sk-dashed-wrapped {border: 1px dashed gray;margin: 0 0.4em 0.5em 0.4em;box-sizing: border-box;padding-bottom: 0.4em;background-color: white;}#sk-container-id-9 div.sk-label label {font-family: monospace;font-weight: bold;display: inline-block;line-height: 1.2em;}#sk-container-id-9 div.sk-label-container {text-align: center;}#sk-container-id-9 div.sk-container {/* jupyter's `normalize.less` sets `[hidden] { display: none; }` but bootstrap.min.css set `[hidden] { display: none !important; }` so we also need the `!important` here to be able to override the default hidden behavior on the sphinx rendered scikit-learn.org. See: https://github.com/scikit-learn/scikit-learn/issues/21755 */display: inline-block !important;position: relative;}#sk-container-id-9 div.sk-text-repr-fallback {display: none;}</style><div id=\"sk-container-id-9\" class=\"sk-top-container\"><div class=\"sk-text-repr-fallback\"><pre>Pipeline(steps=[(&#x27;simple_imputer&#x27;,\n",
              "                 ColumnTransformer(n_jobs=-1, remainder=&#x27;passthrough&#x27;,\n",
              "                                   transformers=[(&#x27;mode_imputer&#x27;,\n",
              "                                                  SimpleImputer(strategy=&#x27;most_frequent&#x27;),\n",
              "                                                  [&#x27;multiple_deliveries&#x27;,\n",
              "                                                   &#x27;festival&#x27;, &#x27;city_type&#x27;]),\n",
              "                                                 (&#x27;missing_imputer&#x27;,\n",
              "                                                  SimpleImputer(fill_value=&#x27;missing&#x27;,\n",
              "                                                                strategy=&#x27;constant&#x27;),\n",
              "                                                  [&#x27;weather&#x27;, &#x27;type_of_order&#x27;,\n",
              "                                                   &#x27;type_of_vehicle&#x27;,\n",
              "                                                   &#x27;is_weekend&#x27;,\n",
              "                                                   &#x27;order_time_o...\n",
              "                                                   &#x27;type_of_vehicle&#x27;,\n",
              "                                                   &#x27;festival&#x27;, &#x27;city_type&#x27;,\n",
              "                                                   &#x27;is_weekend&#x27;,\n",
              "                                                   &#x27;order_time_of_day&#x27;]),\n",
              "                                                 (&#x27;ordinal_encode&#x27;,\n",
              "                                                  OrdinalEncoder(categories=[[&#x27;low&#x27;,\n",
              "                                                                              &#x27;medium&#x27;,\n",
              "                                                                              &#x27;high&#x27;,\n",
              "                                                                              &#x27;jam&#x27;],\n",
              "                                                                             [&#x27;short&#x27;,\n",
              "                                                                              &#x27;medium&#x27;,\n",
              "                                                                              &#x27;long&#x27;,\n",
              "                                                                              &#x27;very_long&#x27;]],\n",
              "                                                                 encoded_missing_value=-999,\n",
              "                                                                 handle_unknown=&#x27;use_encoded_value&#x27;,\n",
              "                                                                 unknown_value=-1),\n",
              "                                                  [&#x27;traffic&#x27;,\n",
              "                                                   &#x27;distance_type&#x27;])],\n",
              "                                   verbose_feature_names_out=False)),\n",
              "                (&#x27;knn_imputer&#x27;, KNNImputer())])</pre><b>In a Jupyter environment, please rerun this cell to show the HTML representation or trust the notebook. <br />On GitHub, the HTML representation is unable to render, please try loading this page with nbviewer.org.</b></div><div class=\"sk-container\" hidden><div class=\"sk-item sk-dashed-wrapped\"><div class=\"sk-label-container\"><div class=\"sk-label sk-toggleable\"><input class=\"sk-toggleable__control sk-hidden--visually\" id=\"sk-estimator-id-41\" type=\"checkbox\" ><label for=\"sk-estimator-id-41\" class=\"sk-toggleable__label sk-toggleable__label-arrow\">Pipeline</label><div class=\"sk-toggleable__content\"><pre>Pipeline(steps=[(&#x27;simple_imputer&#x27;,\n",
              "                 ColumnTransformer(n_jobs=-1, remainder=&#x27;passthrough&#x27;,\n",
              "                                   transformers=[(&#x27;mode_imputer&#x27;,\n",
              "                                                  SimpleImputer(strategy=&#x27;most_frequent&#x27;),\n",
              "                                                  [&#x27;multiple_deliveries&#x27;,\n",
              "                                                   &#x27;festival&#x27;, &#x27;city_type&#x27;]),\n",
              "                                                 (&#x27;missing_imputer&#x27;,\n",
              "                                                  SimpleImputer(fill_value=&#x27;missing&#x27;,\n",
              "                                                                strategy=&#x27;constant&#x27;),\n",
              "                                                  [&#x27;weather&#x27;, &#x27;type_of_order&#x27;,\n",
              "                                                   &#x27;type_of_vehicle&#x27;,\n",
              "                                                   &#x27;is_weekend&#x27;,\n",
              "                                                   &#x27;order_time_o...\n",
              "                                                   &#x27;type_of_vehicle&#x27;,\n",
              "                                                   &#x27;festival&#x27;, &#x27;city_type&#x27;,\n",
              "                                                   &#x27;is_weekend&#x27;,\n",
              "                                                   &#x27;order_time_of_day&#x27;]),\n",
              "                                                 (&#x27;ordinal_encode&#x27;,\n",
              "                                                  OrdinalEncoder(categories=[[&#x27;low&#x27;,\n",
              "                                                                              &#x27;medium&#x27;,\n",
              "                                                                              &#x27;high&#x27;,\n",
              "                                                                              &#x27;jam&#x27;],\n",
              "                                                                             [&#x27;short&#x27;,\n",
              "                                                                              &#x27;medium&#x27;,\n",
              "                                                                              &#x27;long&#x27;,\n",
              "                                                                              &#x27;very_long&#x27;]],\n",
              "                                                                 encoded_missing_value=-999,\n",
              "                                                                 handle_unknown=&#x27;use_encoded_value&#x27;,\n",
              "                                                                 unknown_value=-1),\n",
              "                                                  [&#x27;traffic&#x27;,\n",
              "                                                   &#x27;distance_type&#x27;])],\n",
              "                                   verbose_feature_names_out=False)),\n",
              "                (&#x27;knn_imputer&#x27;, KNNImputer())])</pre></div></div></div><div class=\"sk-serial\"><div class=\"sk-item sk-dashed-wrapped\"><div class=\"sk-label-container\"><div class=\"sk-label sk-toggleable\"><input class=\"sk-toggleable__control sk-hidden--visually\" id=\"sk-estimator-id-42\" type=\"checkbox\" ><label for=\"sk-estimator-id-42\" class=\"sk-toggleable__label sk-toggleable__label-arrow\">simple_imputer: ColumnTransformer</label><div class=\"sk-toggleable__content\"><pre>ColumnTransformer(n_jobs=-1, remainder=&#x27;passthrough&#x27;,\n",
              "                  transformers=[(&#x27;mode_imputer&#x27;,\n",
              "                                 SimpleImputer(strategy=&#x27;most_frequent&#x27;),\n",
              "                                 [&#x27;multiple_deliveries&#x27;, &#x27;festival&#x27;,\n",
              "                                  &#x27;city_type&#x27;]),\n",
              "                                (&#x27;missing_imputer&#x27;,\n",
              "                                 SimpleImputer(fill_value=&#x27;missing&#x27;,\n",
              "                                               strategy=&#x27;constant&#x27;),\n",
              "                                 [&#x27;weather&#x27;, &#x27;type_of_order&#x27;, &#x27;type_of_vehicle&#x27;,\n",
              "                                  &#x27;is_weekend&#x27;, &#x27;order_time_of_day&#x27;])],\n",
              "                  verbose_feature_names_out=False)</pre></div></div></div><div class=\"sk-parallel\"><div class=\"sk-parallel-item\"><div class=\"sk-item\"><div class=\"sk-label-container\"><div class=\"sk-label sk-toggleable\"><input class=\"sk-toggleable__control sk-hidden--visually\" id=\"sk-estimator-id-43\" type=\"checkbox\" ><label for=\"sk-estimator-id-43\" class=\"sk-toggleable__label sk-toggleable__label-arrow\">mode_imputer</label><div class=\"sk-toggleable__content\"><pre>[&#x27;multiple_deliveries&#x27;, &#x27;festival&#x27;, &#x27;city_type&#x27;]</pre></div></div></div><div class=\"sk-serial\"><div class=\"sk-item\"><div class=\"sk-estimator sk-toggleable\"><input class=\"sk-toggleable__control sk-hidden--visually\" id=\"sk-estimator-id-44\" type=\"checkbox\" ><label for=\"sk-estimator-id-44\" class=\"sk-toggleable__label sk-toggleable__label-arrow\">SimpleImputer</label><div class=\"sk-toggleable__content\"><pre>SimpleImputer(strategy=&#x27;most_frequent&#x27;)</pre></div></div></div></div></div></div><div class=\"sk-parallel-item\"><div class=\"sk-item\"><div class=\"sk-label-container\"><div class=\"sk-label sk-toggleable\"><input class=\"sk-toggleable__control sk-hidden--visually\" id=\"sk-estimator-id-45\" type=\"checkbox\" ><label for=\"sk-estimator-id-45\" class=\"sk-toggleable__label sk-toggleable__label-arrow\">missing_imputer</label><div class=\"sk-toggleable__content\"><pre>[&#x27;weather&#x27;, &#x27;type_of_order&#x27;, &#x27;type_of_vehicle&#x27;, &#x27;is_weekend&#x27;, &#x27;order_time_of_day&#x27;]</pre></div></div></div><div class=\"sk-serial\"><div class=\"sk-item\"><div class=\"sk-estimator sk-toggleable\"><input class=\"sk-toggleable__control sk-hidden--visually\" id=\"sk-estimator-id-46\" type=\"checkbox\" ><label for=\"sk-estimator-id-46\" class=\"sk-toggleable__label sk-toggleable__label-arrow\">SimpleImputer</label><div class=\"sk-toggleable__content\"><pre>SimpleImputer(fill_value=&#x27;missing&#x27;, strategy=&#x27;constant&#x27;)</pre></div></div></div></div></div></div><div class=\"sk-parallel-item\"><div class=\"sk-item\"><div class=\"sk-label-container\"><div class=\"sk-label sk-toggleable\"><input class=\"sk-toggleable__control sk-hidden--visually\" id=\"sk-estimator-id-47\" type=\"checkbox\" ><label for=\"sk-estimator-id-47\" class=\"sk-toggleable__label sk-toggleable__label-arrow\">remainder</label><div class=\"sk-toggleable__content\"><pre>[&#x27;age&#x27;, &#x27;ratings&#x27;, &#x27;traffic&#x27;, &#x27;vehicle_condition&#x27;, &#x27;pickup_time_minutes&#x27;, &#x27;distance&#x27;, &#x27;distance_type&#x27;]</pre></div></div></div><div class=\"sk-serial\"><div class=\"sk-item\"><div class=\"sk-estimator sk-toggleable\"><input class=\"sk-toggleable__control sk-hidden--visually\" id=\"sk-estimator-id-48\" type=\"checkbox\" ><label for=\"sk-estimator-id-48\" class=\"sk-toggleable__label sk-toggleable__label-arrow\">passthrough</label><div class=\"sk-toggleable__content\"><pre>passthrough</pre></div></div></div></div></div></div></div></div><div class=\"sk-item sk-dashed-wrapped\"><div class=\"sk-label-container\"><div class=\"sk-label sk-toggleable\"><input class=\"sk-toggleable__control sk-hidden--visually\" id=\"sk-estimator-id-49\" type=\"checkbox\" ><label for=\"sk-estimator-id-49\" class=\"sk-toggleable__label sk-toggleable__label-arrow\">preprocess: ColumnTransformer</label><div class=\"sk-toggleable__content\"><pre>ColumnTransformer(n_jobs=-1, remainder=&#x27;passthrough&#x27;,\n",
              "                  transformers=[(&#x27;scale&#x27;, MinMaxScaler(),\n",
              "                                 [&#x27;age&#x27;, &#x27;ratings&#x27;, &#x27;pickup_time_minutes&#x27;,\n",
              "                                  &#x27;distance&#x27;]),\n",
              "                                (&#x27;nominal_encode&#x27;,\n",
              "                                 OneHotEncoder(drop=&#x27;first&#x27;,\n",
              "                                               handle_unknown=&#x27;ignore&#x27;,\n",
              "                                               sparse_output=False),\n",
              "                                 [&#x27;weather&#x27;, &#x27;type_of_order&#x27;, &#x27;type_of_vehicle&#x27;,\n",
              "                                  &#x27;festival&#x27;, &#x27;city_type&#x27;, &#x27;is_weekend&#x27;,\n",
              "                                  &#x27;order_time_of_day&#x27;]),\n",
              "                                (&#x27;ordinal_encode&#x27;,\n",
              "                                 OrdinalEncoder(categories=[[&#x27;low&#x27;, &#x27;medium&#x27;,\n",
              "                                                             &#x27;high&#x27;, &#x27;jam&#x27;],\n",
              "                                                            [&#x27;short&#x27;, &#x27;medium&#x27;,\n",
              "                                                             &#x27;long&#x27;,\n",
              "                                                             &#x27;very_long&#x27;]],\n",
              "                                                encoded_missing_value=-999,\n",
              "                                                handle_unknown=&#x27;use_encoded_value&#x27;,\n",
              "                                                unknown_value=-1),\n",
              "                                 [&#x27;traffic&#x27;, &#x27;distance_type&#x27;])],\n",
              "                  verbose_feature_names_out=False)</pre></div></div></div><div class=\"sk-parallel\"><div class=\"sk-parallel-item\"><div class=\"sk-item\"><div class=\"sk-label-container\"><div class=\"sk-label sk-toggleable\"><input class=\"sk-toggleable__control sk-hidden--visually\" id=\"sk-estimator-id-50\" type=\"checkbox\" ><label for=\"sk-estimator-id-50\" class=\"sk-toggleable__label sk-toggleable__label-arrow\">scale</label><div class=\"sk-toggleable__content\"><pre>[&#x27;age&#x27;, &#x27;ratings&#x27;, &#x27;pickup_time_minutes&#x27;, &#x27;distance&#x27;]</pre></div></div></div><div class=\"sk-serial\"><div class=\"sk-item\"><div class=\"sk-estimator sk-toggleable\"><input class=\"sk-toggleable__control sk-hidden--visually\" id=\"sk-estimator-id-51\" type=\"checkbox\" ><label for=\"sk-estimator-id-51\" class=\"sk-toggleable__label sk-toggleable__label-arrow\">MinMaxScaler</label><div class=\"sk-toggleable__content\"><pre>MinMaxScaler()</pre></div></div></div></div></div></div><div class=\"sk-parallel-item\"><div class=\"sk-item\"><div class=\"sk-label-container\"><div class=\"sk-label sk-toggleable\"><input class=\"sk-toggleable__control sk-hidden--visually\" id=\"sk-estimator-id-52\" type=\"checkbox\" ><label for=\"sk-estimator-id-52\" class=\"sk-toggleable__label sk-toggleable__label-arrow\">nominal_encode</label><div class=\"sk-toggleable__content\"><pre>[&#x27;weather&#x27;, &#x27;type_of_order&#x27;, &#x27;type_of_vehicle&#x27;, &#x27;festival&#x27;, &#x27;city_type&#x27;, &#x27;is_weekend&#x27;, &#x27;order_time_of_day&#x27;]</pre></div></div></div><div class=\"sk-serial\"><div class=\"sk-item\"><div class=\"sk-estimator sk-toggleable\"><input class=\"sk-toggleable__control sk-hidden--visually\" id=\"sk-estimator-id-53\" type=\"checkbox\" ><label for=\"sk-estimator-id-53\" class=\"sk-toggleable__label sk-toggleable__label-arrow\">OneHotEncoder</label><div class=\"sk-toggleable__content\"><pre>OneHotEncoder(drop=&#x27;first&#x27;, handle_unknown=&#x27;ignore&#x27;, sparse_output=False)</pre></div></div></div></div></div></div><div class=\"sk-parallel-item\"><div class=\"sk-item\"><div class=\"sk-label-container\"><div class=\"sk-label sk-toggleable\"><input class=\"sk-toggleable__control sk-hidden--visually\" id=\"sk-estimator-id-54\" type=\"checkbox\" ><label for=\"sk-estimator-id-54\" class=\"sk-toggleable__label sk-toggleable__label-arrow\">ordinal_encode</label><div class=\"sk-toggleable__content\"><pre>[&#x27;traffic&#x27;, &#x27;distance_type&#x27;]</pre></div></div></div><div class=\"sk-serial\"><div class=\"sk-item\"><div class=\"sk-estimator sk-toggleable\"><input class=\"sk-toggleable__control sk-hidden--visually\" id=\"sk-estimator-id-55\" type=\"checkbox\" ><label for=\"sk-estimator-id-55\" class=\"sk-toggleable__label sk-toggleable__label-arrow\">OrdinalEncoder</label><div class=\"sk-toggleable__content\"><pre>OrdinalEncoder(categories=[[&#x27;low&#x27;, &#x27;medium&#x27;, &#x27;high&#x27;, &#x27;jam&#x27;],\n",
              "                           [&#x27;short&#x27;, &#x27;medium&#x27;, &#x27;long&#x27;, &#x27;very_long&#x27;]],\n",
              "               encoded_missing_value=-999, handle_unknown=&#x27;use_encoded_value&#x27;,\n",
              "               unknown_value=-1)</pre></div></div></div></div></div></div><div class=\"sk-parallel-item\"><div class=\"sk-item\"><div class=\"sk-label-container\"><div class=\"sk-label sk-toggleable\"><input class=\"sk-toggleable__control sk-hidden--visually\" id=\"sk-estimator-id-56\" type=\"checkbox\" ><label for=\"sk-estimator-id-56\" class=\"sk-toggleable__label sk-toggleable__label-arrow\">remainder</label><div class=\"sk-toggleable__content\"><pre>[&#x27;vehicle_condition&#x27;, &#x27;multiple_deliveries&#x27;]</pre></div></div></div><div class=\"sk-serial\"><div class=\"sk-item\"><div class=\"sk-estimator sk-toggleable\"><input class=\"sk-toggleable__control sk-hidden--visually\" id=\"sk-estimator-id-57\" type=\"checkbox\" ><label for=\"sk-estimator-id-57\" class=\"sk-toggleable__label sk-toggleable__label-arrow\">passthrough</label><div class=\"sk-toggleable__content\"><pre>passthrough</pre></div></div></div></div></div></div></div></div><div class=\"sk-item\"><div class=\"sk-estimator sk-toggleable\"><input class=\"sk-toggleable__control sk-hidden--visually\" id=\"sk-estimator-id-58\" type=\"checkbox\" ><label for=\"sk-estimator-id-58\" class=\"sk-toggleable__label sk-toggleable__label-arrow\">KNNImputer</label><div class=\"sk-toggleable__content\"><pre>KNNImputer()</pre></div></div></div></div></div></div></div>"
            ],
            "text/plain": [
              "Pipeline(steps=[('simple_imputer',\n",
              "                 ColumnTransformer(n_jobs=-1, remainder='passthrough',\n",
              "                                   transformers=[('mode_imputer',\n",
              "                                                  SimpleImputer(strategy='most_frequent'),\n",
              "                                                  ['multiple_deliveries',\n",
              "                                                   'festival', 'city_type']),\n",
              "                                                 ('missing_imputer',\n",
              "                                                  SimpleImputer(fill_value='missing',\n",
              "                                                                strategy='constant'),\n",
              "                                                  ['weather', 'type_of_order',\n",
              "                                                   'type_of_vehicle',\n",
              "                                                   'is_weekend',\n",
              "                                                   'order_time_o...\n",
              "                                                   'type_of_vehicle',\n",
              "                                                   'festival', 'city_type',\n",
              "                                                   'is_weekend',\n",
              "                                                   'order_time_of_day']),\n",
              "                                                 ('ordinal_encode',\n",
              "                                                  OrdinalEncoder(categories=[['low',\n",
              "                                                                              'medium',\n",
              "                                                                              'high',\n",
              "                                                                              'jam'],\n",
              "                                                                             ['short',\n",
              "                                                                              'medium',\n",
              "                                                                              'long',\n",
              "                                                                              'very_long']],\n",
              "                                                                 encoded_missing_value=-999,\n",
              "                                                                 handle_unknown='use_encoded_value',\n",
              "                                                                 unknown_value=-1),\n",
              "                                                  ['traffic',\n",
              "                                                   'distance_type'])],\n",
              "                                   verbose_feature_names_out=False)),\n",
              "                ('knn_imputer', KNNImputer())])"
            ]
          },
          "execution_count": 120,
          "metadata": {},
          "output_type": "execute_result"
        }
      ],
      "source": [
        "# build the pipeline\n",
        "\n",
        "processing_pipeline = Pipeline(steps=[\n",
        "                                (\"simple_imputer\",simple_imputer),\n",
        "                                (\"preprocess\",preprocessor),\n",
        "                                (\"knn_imputer\",knn_imputer)\n",
        "                            ])\n",
        "\n",
        "processing_pipeline"
      ]
    },
    {
      "cell_type": "code",
      "execution_count": 121,
      "metadata": {
        "colab": {
          "base_uri": "https://localhost:8080/",
          "height": 411
        },
        "id": "aGZjNZDZrRJZ",
        "outputId": "e2fb05fb-c404-44a9-f1fc-fbacb6eff388"
      },
      "outputs": [
        {
          "data": {
            "text/html": [
              "<style>#sk-container-id-10 {color: black;}#sk-container-id-10 pre{padding: 0;}#sk-container-id-10 div.sk-toggleable {background-color: white;}#sk-container-id-10 label.sk-toggleable__label {cursor: pointer;display: block;width: 100%;margin-bottom: 0;padding: 0.3em;box-sizing: border-box;text-align: center;}#sk-container-id-10 label.sk-toggleable__label-arrow:before {content: \"▸\";float: left;margin-right: 0.25em;color: #696969;}#sk-container-id-10 label.sk-toggleable__label-arrow:hover:before {color: black;}#sk-container-id-10 div.sk-estimator:hover label.sk-toggleable__label-arrow:before {color: black;}#sk-container-id-10 div.sk-toggleable__content {max-height: 0;max-width: 0;overflow: hidden;text-align: left;background-color: #f0f8ff;}#sk-container-id-10 div.sk-toggleable__content pre {margin: 0.2em;color: black;border-radius: 0.25em;background-color: #f0f8ff;}#sk-container-id-10 input.sk-toggleable__control:checked~div.sk-toggleable__content {max-height: 200px;max-width: 100%;overflow: auto;}#sk-container-id-10 input.sk-toggleable__control:checked~label.sk-toggleable__label-arrow:before {content: \"▾\";}#sk-container-id-10 div.sk-estimator input.sk-toggleable__control:checked~label.sk-toggleable__label {background-color: #d4ebff;}#sk-container-id-10 div.sk-label input.sk-toggleable__control:checked~label.sk-toggleable__label {background-color: #d4ebff;}#sk-container-id-10 input.sk-hidden--visually {border: 0;clip: rect(1px 1px 1px 1px);clip: rect(1px, 1px, 1px, 1px);height: 1px;margin: -1px;overflow: hidden;padding: 0;position: absolute;width: 1px;}#sk-container-id-10 div.sk-estimator {font-family: monospace;background-color: #f0f8ff;border: 1px dotted black;border-radius: 0.25em;box-sizing: border-box;margin-bottom: 0.5em;}#sk-container-id-10 div.sk-estimator:hover {background-color: #d4ebff;}#sk-container-id-10 div.sk-parallel-item::after {content: \"\";width: 100%;border-bottom: 1px solid gray;flex-grow: 1;}#sk-container-id-10 div.sk-label:hover label.sk-toggleable__label {background-color: #d4ebff;}#sk-container-id-10 div.sk-serial::before {content: \"\";position: absolute;border-left: 1px solid gray;box-sizing: border-box;top: 0;bottom: 0;left: 50%;z-index: 0;}#sk-container-id-10 div.sk-serial {display: flex;flex-direction: column;align-items: center;background-color: white;padding-right: 0.2em;padding-left: 0.2em;position: relative;}#sk-container-id-10 div.sk-item {position: relative;z-index: 1;}#sk-container-id-10 div.sk-parallel {display: flex;align-items: stretch;justify-content: center;background-color: white;position: relative;}#sk-container-id-10 div.sk-item::before, #sk-container-id-10 div.sk-parallel-item::before {content: \"\";position: absolute;border-left: 1px solid gray;box-sizing: border-box;top: 0;bottom: 0;left: 50%;z-index: -1;}#sk-container-id-10 div.sk-parallel-item {display: flex;flex-direction: column;z-index: 1;position: relative;background-color: white;}#sk-container-id-10 div.sk-parallel-item:first-child::after {align-self: flex-end;width: 50%;}#sk-container-id-10 div.sk-parallel-item:last-child::after {align-self: flex-start;width: 50%;}#sk-container-id-10 div.sk-parallel-item:only-child::after {width: 0;}#sk-container-id-10 div.sk-dashed-wrapped {border: 1px dashed gray;margin: 0 0.4em 0.5em 0.4em;box-sizing: border-box;padding-bottom: 0.4em;background-color: white;}#sk-container-id-10 div.sk-label label {font-family: monospace;font-weight: bold;display: inline-block;line-height: 1.2em;}#sk-container-id-10 div.sk-label-container {text-align: center;}#sk-container-id-10 div.sk-container {/* jupyter's `normalize.less` sets `[hidden] { display: none; }` but bootstrap.min.css set `[hidden] { display: none !important; }` so we also need the `!important` here to be able to override the default hidden behavior on the sphinx rendered scikit-learn.org. See: https://github.com/scikit-learn/scikit-learn/issues/21755 */display: inline-block !important;position: relative;}#sk-container-id-10 div.sk-text-repr-fallback {display: none;}</style><div id=\"sk-container-id-10\" class=\"sk-top-container\"><div class=\"sk-text-repr-fallback\"><pre>Pipeline(steps=[(&#x27;preprocessing&#x27;,\n",
              "                 Pipeline(steps=[(&#x27;simple_imputer&#x27;,\n",
              "                                  ColumnTransformer(n_jobs=-1,\n",
              "                                                    remainder=&#x27;passthrough&#x27;,\n",
              "                                                    transformers=[(&#x27;mode_imputer&#x27;,\n",
              "                                                                   SimpleImputer(strategy=&#x27;most_frequent&#x27;),\n",
              "                                                                   [&#x27;multiple_deliveries&#x27;,\n",
              "                                                                    &#x27;festival&#x27;,\n",
              "                                                                    &#x27;city_type&#x27;]),\n",
              "                                                                  (&#x27;missing_imputer&#x27;,\n",
              "                                                                   SimpleImputer(fill_value=&#x27;missing&#x27;,\n",
              "                                                                                 strategy=&#x27;constant&#x27;),\n",
              "                                                                   [&#x27;weather&#x27;,\n",
              "                                                                    &#x27;type_of_order&#x27;,\n",
              "                                                                    &#x27;type_of_ve...\n",
              "                                                                    &#x27;is_weekend&#x27;,\n",
              "                                                                    &#x27;order_time_of_day&#x27;]),\n",
              "                                                                  (&#x27;ordinal_encode&#x27;,\n",
              "                                                                   OrdinalEncoder(categories=[[&#x27;low&#x27;,\n",
              "                                                                                               &#x27;medium&#x27;,\n",
              "                                                                                               &#x27;high&#x27;,\n",
              "                                                                                               &#x27;jam&#x27;],\n",
              "                                                                                              [&#x27;short&#x27;,\n",
              "                                                                                               &#x27;medium&#x27;,\n",
              "                                                                                               &#x27;long&#x27;,\n",
              "                                                                                               &#x27;very_long&#x27;]],\n",
              "                                                                                  encoded_missing_value=-999,\n",
              "                                                                                  handle_unknown=&#x27;use_encoded_value&#x27;,\n",
              "                                                                                  unknown_value=-1),\n",
              "                                                                   [&#x27;traffic&#x27;,\n",
              "                                                                    &#x27;distance_type&#x27;])],\n",
              "                                                    verbose_feature_names_out=False)),\n",
              "                                 (&#x27;knn_imputer&#x27;, KNNImputer())])),\n",
              "                (&#x27;model&#x27;, RandomForestRegressor())])</pre><b>In a Jupyter environment, please rerun this cell to show the HTML representation or trust the notebook. <br />On GitHub, the HTML representation is unable to render, please try loading this page with nbviewer.org.</b></div><div class=\"sk-container\" hidden><div class=\"sk-item sk-dashed-wrapped\"><div class=\"sk-label-container\"><div class=\"sk-label sk-toggleable\"><input class=\"sk-toggleable__control sk-hidden--visually\" id=\"sk-estimator-id-59\" type=\"checkbox\" ><label for=\"sk-estimator-id-59\" class=\"sk-toggleable__label sk-toggleable__label-arrow\">Pipeline</label><div class=\"sk-toggleable__content\"><pre>Pipeline(steps=[(&#x27;preprocessing&#x27;,\n",
              "                 Pipeline(steps=[(&#x27;simple_imputer&#x27;,\n",
              "                                  ColumnTransformer(n_jobs=-1,\n",
              "                                                    remainder=&#x27;passthrough&#x27;,\n",
              "                                                    transformers=[(&#x27;mode_imputer&#x27;,\n",
              "                                                                   SimpleImputer(strategy=&#x27;most_frequent&#x27;),\n",
              "                                                                   [&#x27;multiple_deliveries&#x27;,\n",
              "                                                                    &#x27;festival&#x27;,\n",
              "                                                                    &#x27;city_type&#x27;]),\n",
              "                                                                  (&#x27;missing_imputer&#x27;,\n",
              "                                                                   SimpleImputer(fill_value=&#x27;missing&#x27;,\n",
              "                                                                                 strategy=&#x27;constant&#x27;),\n",
              "                                                                   [&#x27;weather&#x27;,\n",
              "                                                                    &#x27;type_of_order&#x27;,\n",
              "                                                                    &#x27;type_of_ve...\n",
              "                                                                    &#x27;is_weekend&#x27;,\n",
              "                                                                    &#x27;order_time_of_day&#x27;]),\n",
              "                                                                  (&#x27;ordinal_encode&#x27;,\n",
              "                                                                   OrdinalEncoder(categories=[[&#x27;low&#x27;,\n",
              "                                                                                               &#x27;medium&#x27;,\n",
              "                                                                                               &#x27;high&#x27;,\n",
              "                                                                                               &#x27;jam&#x27;],\n",
              "                                                                                              [&#x27;short&#x27;,\n",
              "                                                                                               &#x27;medium&#x27;,\n",
              "                                                                                               &#x27;long&#x27;,\n",
              "                                                                                               &#x27;very_long&#x27;]],\n",
              "                                                                                  encoded_missing_value=-999,\n",
              "                                                                                  handle_unknown=&#x27;use_encoded_value&#x27;,\n",
              "                                                                                  unknown_value=-1),\n",
              "                                                                   [&#x27;traffic&#x27;,\n",
              "                                                                    &#x27;distance_type&#x27;])],\n",
              "                                                    verbose_feature_names_out=False)),\n",
              "                                 (&#x27;knn_imputer&#x27;, KNNImputer())])),\n",
              "                (&#x27;model&#x27;, RandomForestRegressor())])</pre></div></div></div><div class=\"sk-serial\"><div class=\"sk-item\"><div class=\"sk-label-container\"><div class=\"sk-label sk-toggleable\"><input class=\"sk-toggleable__control sk-hidden--visually\" id=\"sk-estimator-id-60\" type=\"checkbox\" ><label for=\"sk-estimator-id-60\" class=\"sk-toggleable__label sk-toggleable__label-arrow\">preprocessing: Pipeline</label><div class=\"sk-toggleable__content\"><pre>Pipeline(steps=[(&#x27;simple_imputer&#x27;,\n",
              "                 ColumnTransformer(n_jobs=-1, remainder=&#x27;passthrough&#x27;,\n",
              "                                   transformers=[(&#x27;mode_imputer&#x27;,\n",
              "                                                  SimpleImputer(strategy=&#x27;most_frequent&#x27;),\n",
              "                                                  [&#x27;multiple_deliveries&#x27;,\n",
              "                                                   &#x27;festival&#x27;, &#x27;city_type&#x27;]),\n",
              "                                                 (&#x27;missing_imputer&#x27;,\n",
              "                                                  SimpleImputer(fill_value=&#x27;missing&#x27;,\n",
              "                                                                strategy=&#x27;constant&#x27;),\n",
              "                                                  [&#x27;weather&#x27;, &#x27;type_of_order&#x27;,\n",
              "                                                   &#x27;type_of_vehicle&#x27;,\n",
              "                                                   &#x27;is_weekend&#x27;,\n",
              "                                                   &#x27;order_time_o...\n",
              "                                                   &#x27;type_of_vehicle&#x27;,\n",
              "                                                   &#x27;festival&#x27;, &#x27;city_type&#x27;,\n",
              "                                                   &#x27;is_weekend&#x27;,\n",
              "                                                   &#x27;order_time_of_day&#x27;]),\n",
              "                                                 (&#x27;ordinal_encode&#x27;,\n",
              "                                                  OrdinalEncoder(categories=[[&#x27;low&#x27;,\n",
              "                                                                              &#x27;medium&#x27;,\n",
              "                                                                              &#x27;high&#x27;,\n",
              "                                                                              &#x27;jam&#x27;],\n",
              "                                                                             [&#x27;short&#x27;,\n",
              "                                                                              &#x27;medium&#x27;,\n",
              "                                                                              &#x27;long&#x27;,\n",
              "                                                                              &#x27;very_long&#x27;]],\n",
              "                                                                 encoded_missing_value=-999,\n",
              "                                                                 handle_unknown=&#x27;use_encoded_value&#x27;,\n",
              "                                                                 unknown_value=-1),\n",
              "                                                  [&#x27;traffic&#x27;,\n",
              "                                                   &#x27;distance_type&#x27;])],\n",
              "                                   verbose_feature_names_out=False)),\n",
              "                (&#x27;knn_imputer&#x27;, KNNImputer())])</pre></div></div></div><div class=\"sk-serial\"><div class=\"sk-item sk-dashed-wrapped\"><div class=\"sk-label-container\"><div class=\"sk-label sk-toggleable\"><input class=\"sk-toggleable__control sk-hidden--visually\" id=\"sk-estimator-id-61\" type=\"checkbox\" ><label for=\"sk-estimator-id-61\" class=\"sk-toggleable__label sk-toggleable__label-arrow\">simple_imputer: ColumnTransformer</label><div class=\"sk-toggleable__content\"><pre>ColumnTransformer(n_jobs=-1, remainder=&#x27;passthrough&#x27;,\n",
              "                  transformers=[(&#x27;mode_imputer&#x27;,\n",
              "                                 SimpleImputer(strategy=&#x27;most_frequent&#x27;),\n",
              "                                 [&#x27;multiple_deliveries&#x27;, &#x27;festival&#x27;,\n",
              "                                  &#x27;city_type&#x27;]),\n",
              "                                (&#x27;missing_imputer&#x27;,\n",
              "                                 SimpleImputer(fill_value=&#x27;missing&#x27;,\n",
              "                                               strategy=&#x27;constant&#x27;),\n",
              "                                 [&#x27;weather&#x27;, &#x27;type_of_order&#x27;, &#x27;type_of_vehicle&#x27;,\n",
              "                                  &#x27;is_weekend&#x27;, &#x27;order_time_of_day&#x27;])],\n",
              "                  verbose_feature_names_out=False)</pre></div></div></div><div class=\"sk-parallel\"><div class=\"sk-parallel-item\"><div class=\"sk-item\"><div class=\"sk-label-container\"><div class=\"sk-label sk-toggleable\"><input class=\"sk-toggleable__control sk-hidden--visually\" id=\"sk-estimator-id-62\" type=\"checkbox\" ><label for=\"sk-estimator-id-62\" class=\"sk-toggleable__label sk-toggleable__label-arrow\">mode_imputer</label><div class=\"sk-toggleable__content\"><pre>[&#x27;multiple_deliveries&#x27;, &#x27;festival&#x27;, &#x27;city_type&#x27;]</pre></div></div></div><div class=\"sk-serial\"><div class=\"sk-item\"><div class=\"sk-estimator sk-toggleable\"><input class=\"sk-toggleable__control sk-hidden--visually\" id=\"sk-estimator-id-63\" type=\"checkbox\" ><label for=\"sk-estimator-id-63\" class=\"sk-toggleable__label sk-toggleable__label-arrow\">SimpleImputer</label><div class=\"sk-toggleable__content\"><pre>SimpleImputer(strategy=&#x27;most_frequent&#x27;)</pre></div></div></div></div></div></div><div class=\"sk-parallel-item\"><div class=\"sk-item\"><div class=\"sk-label-container\"><div class=\"sk-label sk-toggleable\"><input class=\"sk-toggleable__control sk-hidden--visually\" id=\"sk-estimator-id-64\" type=\"checkbox\" ><label for=\"sk-estimator-id-64\" class=\"sk-toggleable__label sk-toggleable__label-arrow\">missing_imputer</label><div class=\"sk-toggleable__content\"><pre>[&#x27;weather&#x27;, &#x27;type_of_order&#x27;, &#x27;type_of_vehicle&#x27;, &#x27;is_weekend&#x27;, &#x27;order_time_of_day&#x27;]</pre></div></div></div><div class=\"sk-serial\"><div class=\"sk-item\"><div class=\"sk-estimator sk-toggleable\"><input class=\"sk-toggleable__control sk-hidden--visually\" id=\"sk-estimator-id-65\" type=\"checkbox\" ><label for=\"sk-estimator-id-65\" class=\"sk-toggleable__label sk-toggleable__label-arrow\">SimpleImputer</label><div class=\"sk-toggleable__content\"><pre>SimpleImputer(fill_value=&#x27;missing&#x27;, strategy=&#x27;constant&#x27;)</pre></div></div></div></div></div></div><div class=\"sk-parallel-item\"><div class=\"sk-item\"><div class=\"sk-label-container\"><div class=\"sk-label sk-toggleable\"><input class=\"sk-toggleable__control sk-hidden--visually\" id=\"sk-estimator-id-66\" type=\"checkbox\" ><label for=\"sk-estimator-id-66\" class=\"sk-toggleable__label sk-toggleable__label-arrow\">remainder</label><div class=\"sk-toggleable__content\"><pre>[&#x27;age&#x27;, &#x27;ratings&#x27;, &#x27;traffic&#x27;, &#x27;vehicle_condition&#x27;, &#x27;pickup_time_minutes&#x27;, &#x27;distance&#x27;, &#x27;distance_type&#x27;]</pre></div></div></div><div class=\"sk-serial\"><div class=\"sk-item\"><div class=\"sk-estimator sk-toggleable\"><input class=\"sk-toggleable__control sk-hidden--visually\" id=\"sk-estimator-id-67\" type=\"checkbox\" ><label for=\"sk-estimator-id-67\" class=\"sk-toggleable__label sk-toggleable__label-arrow\">passthrough</label><div class=\"sk-toggleable__content\"><pre>passthrough</pre></div></div></div></div></div></div></div></div><div class=\"sk-item sk-dashed-wrapped\"><div class=\"sk-label-container\"><div class=\"sk-label sk-toggleable\"><input class=\"sk-toggleable__control sk-hidden--visually\" id=\"sk-estimator-id-68\" type=\"checkbox\" ><label for=\"sk-estimator-id-68\" class=\"sk-toggleable__label sk-toggleable__label-arrow\">preprocess: ColumnTransformer</label><div class=\"sk-toggleable__content\"><pre>ColumnTransformer(n_jobs=-1, remainder=&#x27;passthrough&#x27;,\n",
              "                  transformers=[(&#x27;scale&#x27;, MinMaxScaler(),\n",
              "                                 [&#x27;age&#x27;, &#x27;ratings&#x27;, &#x27;pickup_time_minutes&#x27;,\n",
              "                                  &#x27;distance&#x27;]),\n",
              "                                (&#x27;nominal_encode&#x27;,\n",
              "                                 OneHotEncoder(drop=&#x27;first&#x27;,\n",
              "                                               handle_unknown=&#x27;ignore&#x27;,\n",
              "                                               sparse_output=False),\n",
              "                                 [&#x27;weather&#x27;, &#x27;type_of_order&#x27;, &#x27;type_of_vehicle&#x27;,\n",
              "                                  &#x27;festival&#x27;, &#x27;city_type&#x27;, &#x27;is_weekend&#x27;,\n",
              "                                  &#x27;order_time_of_day&#x27;]),\n",
              "                                (&#x27;ordinal_encode&#x27;,\n",
              "                                 OrdinalEncoder(categories=[[&#x27;low&#x27;, &#x27;medium&#x27;,\n",
              "                                                             &#x27;high&#x27;, &#x27;jam&#x27;],\n",
              "                                                            [&#x27;short&#x27;, &#x27;medium&#x27;,\n",
              "                                                             &#x27;long&#x27;,\n",
              "                                                             &#x27;very_long&#x27;]],\n",
              "                                                encoded_missing_value=-999,\n",
              "                                                handle_unknown=&#x27;use_encoded_value&#x27;,\n",
              "                                                unknown_value=-1),\n",
              "                                 [&#x27;traffic&#x27;, &#x27;distance_type&#x27;])],\n",
              "                  verbose_feature_names_out=False)</pre></div></div></div><div class=\"sk-parallel\"><div class=\"sk-parallel-item\"><div class=\"sk-item\"><div class=\"sk-label-container\"><div class=\"sk-label sk-toggleable\"><input class=\"sk-toggleable__control sk-hidden--visually\" id=\"sk-estimator-id-69\" type=\"checkbox\" ><label for=\"sk-estimator-id-69\" class=\"sk-toggleable__label sk-toggleable__label-arrow\">scale</label><div class=\"sk-toggleable__content\"><pre>[&#x27;age&#x27;, &#x27;ratings&#x27;, &#x27;pickup_time_minutes&#x27;, &#x27;distance&#x27;]</pre></div></div></div><div class=\"sk-serial\"><div class=\"sk-item\"><div class=\"sk-estimator sk-toggleable\"><input class=\"sk-toggleable__control sk-hidden--visually\" id=\"sk-estimator-id-70\" type=\"checkbox\" ><label for=\"sk-estimator-id-70\" class=\"sk-toggleable__label sk-toggleable__label-arrow\">MinMaxScaler</label><div class=\"sk-toggleable__content\"><pre>MinMaxScaler()</pre></div></div></div></div></div></div><div class=\"sk-parallel-item\"><div class=\"sk-item\"><div class=\"sk-label-container\"><div class=\"sk-label sk-toggleable\"><input class=\"sk-toggleable__control sk-hidden--visually\" id=\"sk-estimator-id-71\" type=\"checkbox\" ><label for=\"sk-estimator-id-71\" class=\"sk-toggleable__label sk-toggleable__label-arrow\">nominal_encode</label><div class=\"sk-toggleable__content\"><pre>[&#x27;weather&#x27;, &#x27;type_of_order&#x27;, &#x27;type_of_vehicle&#x27;, &#x27;festival&#x27;, &#x27;city_type&#x27;, &#x27;is_weekend&#x27;, &#x27;order_time_of_day&#x27;]</pre></div></div></div><div class=\"sk-serial\"><div class=\"sk-item\"><div class=\"sk-estimator sk-toggleable\"><input class=\"sk-toggleable__control sk-hidden--visually\" id=\"sk-estimator-id-72\" type=\"checkbox\" ><label for=\"sk-estimator-id-72\" class=\"sk-toggleable__label sk-toggleable__label-arrow\">OneHotEncoder</label><div class=\"sk-toggleable__content\"><pre>OneHotEncoder(drop=&#x27;first&#x27;, handle_unknown=&#x27;ignore&#x27;, sparse_output=False)</pre></div></div></div></div></div></div><div class=\"sk-parallel-item\"><div class=\"sk-item\"><div class=\"sk-label-container\"><div class=\"sk-label sk-toggleable\"><input class=\"sk-toggleable__control sk-hidden--visually\" id=\"sk-estimator-id-73\" type=\"checkbox\" ><label for=\"sk-estimator-id-73\" class=\"sk-toggleable__label sk-toggleable__label-arrow\">ordinal_encode</label><div class=\"sk-toggleable__content\"><pre>[&#x27;traffic&#x27;, &#x27;distance_type&#x27;]</pre></div></div></div><div class=\"sk-serial\"><div class=\"sk-item\"><div class=\"sk-estimator sk-toggleable\"><input class=\"sk-toggleable__control sk-hidden--visually\" id=\"sk-estimator-id-74\" type=\"checkbox\" ><label for=\"sk-estimator-id-74\" class=\"sk-toggleable__label sk-toggleable__label-arrow\">OrdinalEncoder</label><div class=\"sk-toggleable__content\"><pre>OrdinalEncoder(categories=[[&#x27;low&#x27;, &#x27;medium&#x27;, &#x27;high&#x27;, &#x27;jam&#x27;],\n",
              "                           [&#x27;short&#x27;, &#x27;medium&#x27;, &#x27;long&#x27;, &#x27;very_long&#x27;]],\n",
              "               encoded_missing_value=-999, handle_unknown=&#x27;use_encoded_value&#x27;,\n",
              "               unknown_value=-1)</pre></div></div></div></div></div></div><div class=\"sk-parallel-item\"><div class=\"sk-item\"><div class=\"sk-label-container\"><div class=\"sk-label sk-toggleable\"><input class=\"sk-toggleable__control sk-hidden--visually\" id=\"sk-estimator-id-75\" type=\"checkbox\" ><label for=\"sk-estimator-id-75\" class=\"sk-toggleable__label sk-toggleable__label-arrow\">remainder</label><div class=\"sk-toggleable__content\"><pre>[&#x27;vehicle_condition&#x27;, &#x27;multiple_deliveries&#x27;]</pre></div></div></div><div class=\"sk-serial\"><div class=\"sk-item\"><div class=\"sk-estimator sk-toggleable\"><input class=\"sk-toggleable__control sk-hidden--visually\" id=\"sk-estimator-id-76\" type=\"checkbox\" ><label for=\"sk-estimator-id-76\" class=\"sk-toggleable__label sk-toggleable__label-arrow\">passthrough</label><div class=\"sk-toggleable__content\"><pre>passthrough</pre></div></div></div></div></div></div></div></div><div class=\"sk-item\"><div class=\"sk-estimator sk-toggleable\"><input class=\"sk-toggleable__control sk-hidden--visually\" id=\"sk-estimator-id-77\" type=\"checkbox\" ><label for=\"sk-estimator-id-77\" class=\"sk-toggleable__label sk-toggleable__label-arrow\">KNNImputer</label><div class=\"sk-toggleable__content\"><pre>KNNImputer()</pre></div></div></div></div></div><div class=\"sk-item\"><div class=\"sk-estimator sk-toggleable\"><input class=\"sk-toggleable__control sk-hidden--visually\" id=\"sk-estimator-id-78\" type=\"checkbox\" ><label for=\"sk-estimator-id-78\" class=\"sk-toggleable__label sk-toggleable__label-arrow\">RandomForestRegressor</label><div class=\"sk-toggleable__content\"><pre>RandomForestRegressor()</pre></div></div></div></div></div></div></div>"
            ],
            "text/plain": [
              "Pipeline(steps=[('preprocessing',\n",
              "                 Pipeline(steps=[('simple_imputer',\n",
              "                                  ColumnTransformer(n_jobs=-1,\n",
              "                                                    remainder='passthrough',\n",
              "                                                    transformers=[('mode_imputer',\n",
              "                                                                   SimpleImputer(strategy='most_frequent'),\n",
              "                                                                   ['multiple_deliveries',\n",
              "                                                                    'festival',\n",
              "                                                                    'city_type']),\n",
              "                                                                  ('missing_imputer',\n",
              "                                                                   SimpleImputer(fill_value='missing',\n",
              "                                                                                 strategy='constant'),\n",
              "                                                                   ['weather',\n",
              "                                                                    'type_of_order',\n",
              "                                                                    'type_of_ve...\n",
              "                                                                    'is_weekend',\n",
              "                                                                    'order_time_of_day']),\n",
              "                                                                  ('ordinal_encode',\n",
              "                                                                   OrdinalEncoder(categories=[['low',\n",
              "                                                                                               'medium',\n",
              "                                                                                               'high',\n",
              "                                                                                               'jam'],\n",
              "                                                                                              ['short',\n",
              "                                                                                               'medium',\n",
              "                                                                                               'long',\n",
              "                                                                                               'very_long']],\n",
              "                                                                                  encoded_missing_value=-999,\n",
              "                                                                                  handle_unknown='use_encoded_value',\n",
              "                                                                                  unknown_value=-1),\n",
              "                                                                   ['traffic',\n",
              "                                                                    'distance_type'])],\n",
              "                                                    verbose_feature_names_out=False)),\n",
              "                                 ('knn_imputer', KNNImputer())])),\n",
              "                ('model', RandomForestRegressor())])"
            ]
          },
          "execution_count": 121,
          "metadata": {},
          "output_type": "execute_result"
        }
      ],
      "source": [
        "model_pipe = Pipeline(steps=[\n",
        "                                (\"preprocessing\",processing_pipeline),\n",
        "                                (\"model\",rf)\n",
        "                            ])\n",
        "\n",
        "model_pipe"
      ]
    },
    {
      "cell_type": "code",
      "execution_count": 122,
      "metadata": {
        "colab": {
          "base_uri": "https://localhost:8080/",
          "height": 411
        },
        "id": "_YGm13Jfr8Qs",
        "outputId": "404cc458-f122-4e35-ca13-ce1881a0c18f"
      },
      "outputs": [
        {
          "data": {
            "text/html": [
              "<style>#sk-container-id-11 {color: black;}#sk-container-id-11 pre{padding: 0;}#sk-container-id-11 div.sk-toggleable {background-color: white;}#sk-container-id-11 label.sk-toggleable__label {cursor: pointer;display: block;width: 100%;margin-bottom: 0;padding: 0.3em;box-sizing: border-box;text-align: center;}#sk-container-id-11 label.sk-toggleable__label-arrow:before {content: \"▸\";float: left;margin-right: 0.25em;color: #696969;}#sk-container-id-11 label.sk-toggleable__label-arrow:hover:before {color: black;}#sk-container-id-11 div.sk-estimator:hover label.sk-toggleable__label-arrow:before {color: black;}#sk-container-id-11 div.sk-toggleable__content {max-height: 0;max-width: 0;overflow: hidden;text-align: left;background-color: #f0f8ff;}#sk-container-id-11 div.sk-toggleable__content pre {margin: 0.2em;color: black;border-radius: 0.25em;background-color: #f0f8ff;}#sk-container-id-11 input.sk-toggleable__control:checked~div.sk-toggleable__content {max-height: 200px;max-width: 100%;overflow: auto;}#sk-container-id-11 input.sk-toggleable__control:checked~label.sk-toggleable__label-arrow:before {content: \"▾\";}#sk-container-id-11 div.sk-estimator input.sk-toggleable__control:checked~label.sk-toggleable__label {background-color: #d4ebff;}#sk-container-id-11 div.sk-label input.sk-toggleable__control:checked~label.sk-toggleable__label {background-color: #d4ebff;}#sk-container-id-11 input.sk-hidden--visually {border: 0;clip: rect(1px 1px 1px 1px);clip: rect(1px, 1px, 1px, 1px);height: 1px;margin: -1px;overflow: hidden;padding: 0;position: absolute;width: 1px;}#sk-container-id-11 div.sk-estimator {font-family: monospace;background-color: #f0f8ff;border: 1px dotted black;border-radius: 0.25em;box-sizing: border-box;margin-bottom: 0.5em;}#sk-container-id-11 div.sk-estimator:hover {background-color: #d4ebff;}#sk-container-id-11 div.sk-parallel-item::after {content: \"\";width: 100%;border-bottom: 1px solid gray;flex-grow: 1;}#sk-container-id-11 div.sk-label:hover label.sk-toggleable__label {background-color: #d4ebff;}#sk-container-id-11 div.sk-serial::before {content: \"\";position: absolute;border-left: 1px solid gray;box-sizing: border-box;top: 0;bottom: 0;left: 50%;z-index: 0;}#sk-container-id-11 div.sk-serial {display: flex;flex-direction: column;align-items: center;background-color: white;padding-right: 0.2em;padding-left: 0.2em;position: relative;}#sk-container-id-11 div.sk-item {position: relative;z-index: 1;}#sk-container-id-11 div.sk-parallel {display: flex;align-items: stretch;justify-content: center;background-color: white;position: relative;}#sk-container-id-11 div.sk-item::before, #sk-container-id-11 div.sk-parallel-item::before {content: \"\";position: absolute;border-left: 1px solid gray;box-sizing: border-box;top: 0;bottom: 0;left: 50%;z-index: -1;}#sk-container-id-11 div.sk-parallel-item {display: flex;flex-direction: column;z-index: 1;position: relative;background-color: white;}#sk-container-id-11 div.sk-parallel-item:first-child::after {align-self: flex-end;width: 50%;}#sk-container-id-11 div.sk-parallel-item:last-child::after {align-self: flex-start;width: 50%;}#sk-container-id-11 div.sk-parallel-item:only-child::after {width: 0;}#sk-container-id-11 div.sk-dashed-wrapped {border: 1px dashed gray;margin: 0 0.4em 0.5em 0.4em;box-sizing: border-box;padding-bottom: 0.4em;background-color: white;}#sk-container-id-11 div.sk-label label {font-family: monospace;font-weight: bold;display: inline-block;line-height: 1.2em;}#sk-container-id-11 div.sk-label-container {text-align: center;}#sk-container-id-11 div.sk-container {/* jupyter's `normalize.less` sets `[hidden] { display: none; }` but bootstrap.min.css set `[hidden] { display: none !important; }` so we also need the `!important` here to be able to override the default hidden behavior on the sphinx rendered scikit-learn.org. See: https://github.com/scikit-learn/scikit-learn/issues/21755 */display: inline-block !important;position: relative;}#sk-container-id-11 div.sk-text-repr-fallback {display: none;}</style><div id=\"sk-container-id-11\" class=\"sk-top-container\"><div class=\"sk-text-repr-fallback\"><pre>Pipeline(steps=[(&#x27;preprocessing&#x27;,\n",
              "                 Pipeline(steps=[(&#x27;simple_imputer&#x27;,\n",
              "                                  ColumnTransformer(n_jobs=-1,\n",
              "                                                    remainder=&#x27;passthrough&#x27;,\n",
              "                                                    transformers=[(&#x27;mode_imputer&#x27;,\n",
              "                                                                   SimpleImputer(strategy=&#x27;most_frequent&#x27;),\n",
              "                                                                   [&#x27;multiple_deliveries&#x27;,\n",
              "                                                                    &#x27;festival&#x27;,\n",
              "                                                                    &#x27;city_type&#x27;]),\n",
              "                                                                  (&#x27;missing_imputer&#x27;,\n",
              "                                                                   SimpleImputer(fill_value=&#x27;missing&#x27;,\n",
              "                                                                                 strategy=&#x27;constant&#x27;),\n",
              "                                                                   [&#x27;weather&#x27;,\n",
              "                                                                    &#x27;type_of_order&#x27;,\n",
              "                                                                    &#x27;type_of_ve...\n",
              "                                                                    &#x27;is_weekend&#x27;,\n",
              "                                                                    &#x27;order_time_of_day&#x27;]),\n",
              "                                                                  (&#x27;ordinal_encode&#x27;,\n",
              "                                                                   OrdinalEncoder(categories=[[&#x27;low&#x27;,\n",
              "                                                                                               &#x27;medium&#x27;,\n",
              "                                                                                               &#x27;high&#x27;,\n",
              "                                                                                               &#x27;jam&#x27;],\n",
              "                                                                                              [&#x27;short&#x27;,\n",
              "                                                                                               &#x27;medium&#x27;,\n",
              "                                                                                               &#x27;long&#x27;,\n",
              "                                                                                               &#x27;very_long&#x27;]],\n",
              "                                                                                  encoded_missing_value=-999,\n",
              "                                                                                  handle_unknown=&#x27;use_encoded_value&#x27;,\n",
              "                                                                                  unknown_value=-1),\n",
              "                                                                   [&#x27;traffic&#x27;,\n",
              "                                                                    &#x27;distance_type&#x27;])],\n",
              "                                                    verbose_feature_names_out=False)),\n",
              "                                 (&#x27;knn_imputer&#x27;, KNNImputer())])),\n",
              "                (&#x27;model&#x27;, RandomForestRegressor())])</pre><b>In a Jupyter environment, please rerun this cell to show the HTML representation or trust the notebook. <br />On GitHub, the HTML representation is unable to render, please try loading this page with nbviewer.org.</b></div><div class=\"sk-container\" hidden><div class=\"sk-item sk-dashed-wrapped\"><div class=\"sk-label-container\"><div class=\"sk-label sk-toggleable\"><input class=\"sk-toggleable__control sk-hidden--visually\" id=\"sk-estimator-id-79\" type=\"checkbox\" ><label for=\"sk-estimator-id-79\" class=\"sk-toggleable__label sk-toggleable__label-arrow\">Pipeline</label><div class=\"sk-toggleable__content\"><pre>Pipeline(steps=[(&#x27;preprocessing&#x27;,\n",
              "                 Pipeline(steps=[(&#x27;simple_imputer&#x27;,\n",
              "                                  ColumnTransformer(n_jobs=-1,\n",
              "                                                    remainder=&#x27;passthrough&#x27;,\n",
              "                                                    transformers=[(&#x27;mode_imputer&#x27;,\n",
              "                                                                   SimpleImputer(strategy=&#x27;most_frequent&#x27;),\n",
              "                                                                   [&#x27;multiple_deliveries&#x27;,\n",
              "                                                                    &#x27;festival&#x27;,\n",
              "                                                                    &#x27;city_type&#x27;]),\n",
              "                                                                  (&#x27;missing_imputer&#x27;,\n",
              "                                                                   SimpleImputer(fill_value=&#x27;missing&#x27;,\n",
              "                                                                                 strategy=&#x27;constant&#x27;),\n",
              "                                                                   [&#x27;weather&#x27;,\n",
              "                                                                    &#x27;type_of_order&#x27;,\n",
              "                                                                    &#x27;type_of_ve...\n",
              "                                                                    &#x27;is_weekend&#x27;,\n",
              "                                                                    &#x27;order_time_of_day&#x27;]),\n",
              "                                                                  (&#x27;ordinal_encode&#x27;,\n",
              "                                                                   OrdinalEncoder(categories=[[&#x27;low&#x27;,\n",
              "                                                                                               &#x27;medium&#x27;,\n",
              "                                                                                               &#x27;high&#x27;,\n",
              "                                                                                               &#x27;jam&#x27;],\n",
              "                                                                                              [&#x27;short&#x27;,\n",
              "                                                                                               &#x27;medium&#x27;,\n",
              "                                                                                               &#x27;long&#x27;,\n",
              "                                                                                               &#x27;very_long&#x27;]],\n",
              "                                                                                  encoded_missing_value=-999,\n",
              "                                                                                  handle_unknown=&#x27;use_encoded_value&#x27;,\n",
              "                                                                                  unknown_value=-1),\n",
              "                                                                   [&#x27;traffic&#x27;,\n",
              "                                                                    &#x27;distance_type&#x27;])],\n",
              "                                                    verbose_feature_names_out=False)),\n",
              "                                 (&#x27;knn_imputer&#x27;, KNNImputer())])),\n",
              "                (&#x27;model&#x27;, RandomForestRegressor())])</pre></div></div></div><div class=\"sk-serial\"><div class=\"sk-item\"><div class=\"sk-label-container\"><div class=\"sk-label sk-toggleable\"><input class=\"sk-toggleable__control sk-hidden--visually\" id=\"sk-estimator-id-80\" type=\"checkbox\" ><label for=\"sk-estimator-id-80\" class=\"sk-toggleable__label sk-toggleable__label-arrow\">preprocessing: Pipeline</label><div class=\"sk-toggleable__content\"><pre>Pipeline(steps=[(&#x27;simple_imputer&#x27;,\n",
              "                 ColumnTransformer(n_jobs=-1, remainder=&#x27;passthrough&#x27;,\n",
              "                                   transformers=[(&#x27;mode_imputer&#x27;,\n",
              "                                                  SimpleImputer(strategy=&#x27;most_frequent&#x27;),\n",
              "                                                  [&#x27;multiple_deliveries&#x27;,\n",
              "                                                   &#x27;festival&#x27;, &#x27;city_type&#x27;]),\n",
              "                                                 (&#x27;missing_imputer&#x27;,\n",
              "                                                  SimpleImputer(fill_value=&#x27;missing&#x27;,\n",
              "                                                                strategy=&#x27;constant&#x27;),\n",
              "                                                  [&#x27;weather&#x27;, &#x27;type_of_order&#x27;,\n",
              "                                                   &#x27;type_of_vehicle&#x27;,\n",
              "                                                   &#x27;is_weekend&#x27;,\n",
              "                                                   &#x27;order_time_o...\n",
              "                                                   &#x27;type_of_vehicle&#x27;,\n",
              "                                                   &#x27;festival&#x27;, &#x27;city_type&#x27;,\n",
              "                                                   &#x27;is_weekend&#x27;,\n",
              "                                                   &#x27;order_time_of_day&#x27;]),\n",
              "                                                 (&#x27;ordinal_encode&#x27;,\n",
              "                                                  OrdinalEncoder(categories=[[&#x27;low&#x27;,\n",
              "                                                                              &#x27;medium&#x27;,\n",
              "                                                                              &#x27;high&#x27;,\n",
              "                                                                              &#x27;jam&#x27;],\n",
              "                                                                             [&#x27;short&#x27;,\n",
              "                                                                              &#x27;medium&#x27;,\n",
              "                                                                              &#x27;long&#x27;,\n",
              "                                                                              &#x27;very_long&#x27;]],\n",
              "                                                                 encoded_missing_value=-999,\n",
              "                                                                 handle_unknown=&#x27;use_encoded_value&#x27;,\n",
              "                                                                 unknown_value=-1),\n",
              "                                                  [&#x27;traffic&#x27;,\n",
              "                                                   &#x27;distance_type&#x27;])],\n",
              "                                   verbose_feature_names_out=False)),\n",
              "                (&#x27;knn_imputer&#x27;, KNNImputer())])</pre></div></div></div><div class=\"sk-serial\"><div class=\"sk-item sk-dashed-wrapped\"><div class=\"sk-label-container\"><div class=\"sk-label sk-toggleable\"><input class=\"sk-toggleable__control sk-hidden--visually\" id=\"sk-estimator-id-81\" type=\"checkbox\" ><label for=\"sk-estimator-id-81\" class=\"sk-toggleable__label sk-toggleable__label-arrow\">simple_imputer: ColumnTransformer</label><div class=\"sk-toggleable__content\"><pre>ColumnTransformer(n_jobs=-1, remainder=&#x27;passthrough&#x27;,\n",
              "                  transformers=[(&#x27;mode_imputer&#x27;,\n",
              "                                 SimpleImputer(strategy=&#x27;most_frequent&#x27;),\n",
              "                                 [&#x27;multiple_deliveries&#x27;, &#x27;festival&#x27;,\n",
              "                                  &#x27;city_type&#x27;]),\n",
              "                                (&#x27;missing_imputer&#x27;,\n",
              "                                 SimpleImputer(fill_value=&#x27;missing&#x27;,\n",
              "                                               strategy=&#x27;constant&#x27;),\n",
              "                                 [&#x27;weather&#x27;, &#x27;type_of_order&#x27;, &#x27;type_of_vehicle&#x27;,\n",
              "                                  &#x27;is_weekend&#x27;, &#x27;order_time_of_day&#x27;])],\n",
              "                  verbose_feature_names_out=False)</pre></div></div></div><div class=\"sk-parallel\"><div class=\"sk-parallel-item\"><div class=\"sk-item\"><div class=\"sk-label-container\"><div class=\"sk-label sk-toggleable\"><input class=\"sk-toggleable__control sk-hidden--visually\" id=\"sk-estimator-id-82\" type=\"checkbox\" ><label for=\"sk-estimator-id-82\" class=\"sk-toggleable__label sk-toggleable__label-arrow\">mode_imputer</label><div class=\"sk-toggleable__content\"><pre>[&#x27;multiple_deliveries&#x27;, &#x27;festival&#x27;, &#x27;city_type&#x27;]</pre></div></div></div><div class=\"sk-serial\"><div class=\"sk-item\"><div class=\"sk-estimator sk-toggleable\"><input class=\"sk-toggleable__control sk-hidden--visually\" id=\"sk-estimator-id-83\" type=\"checkbox\" ><label for=\"sk-estimator-id-83\" class=\"sk-toggleable__label sk-toggleable__label-arrow\">SimpleImputer</label><div class=\"sk-toggleable__content\"><pre>SimpleImputer(strategy=&#x27;most_frequent&#x27;)</pre></div></div></div></div></div></div><div class=\"sk-parallel-item\"><div class=\"sk-item\"><div class=\"sk-label-container\"><div class=\"sk-label sk-toggleable\"><input class=\"sk-toggleable__control sk-hidden--visually\" id=\"sk-estimator-id-84\" type=\"checkbox\" ><label for=\"sk-estimator-id-84\" class=\"sk-toggleable__label sk-toggleable__label-arrow\">missing_imputer</label><div class=\"sk-toggleable__content\"><pre>[&#x27;weather&#x27;, &#x27;type_of_order&#x27;, &#x27;type_of_vehicle&#x27;, &#x27;is_weekend&#x27;, &#x27;order_time_of_day&#x27;]</pre></div></div></div><div class=\"sk-serial\"><div class=\"sk-item\"><div class=\"sk-estimator sk-toggleable\"><input class=\"sk-toggleable__control sk-hidden--visually\" id=\"sk-estimator-id-85\" type=\"checkbox\" ><label for=\"sk-estimator-id-85\" class=\"sk-toggleable__label sk-toggleable__label-arrow\">SimpleImputer</label><div class=\"sk-toggleable__content\"><pre>SimpleImputer(fill_value=&#x27;missing&#x27;, strategy=&#x27;constant&#x27;)</pre></div></div></div></div></div></div><div class=\"sk-parallel-item\"><div class=\"sk-item\"><div class=\"sk-label-container\"><div class=\"sk-label sk-toggleable\"><input class=\"sk-toggleable__control sk-hidden--visually\" id=\"sk-estimator-id-86\" type=\"checkbox\" ><label for=\"sk-estimator-id-86\" class=\"sk-toggleable__label sk-toggleable__label-arrow\">remainder</label><div class=\"sk-toggleable__content\"><pre>[&#x27;age&#x27;, &#x27;ratings&#x27;, &#x27;traffic&#x27;, &#x27;vehicle_condition&#x27;, &#x27;pickup_time_minutes&#x27;, &#x27;distance&#x27;, &#x27;distance_type&#x27;]</pre></div></div></div><div class=\"sk-serial\"><div class=\"sk-item\"><div class=\"sk-estimator sk-toggleable\"><input class=\"sk-toggleable__control sk-hidden--visually\" id=\"sk-estimator-id-87\" type=\"checkbox\" ><label for=\"sk-estimator-id-87\" class=\"sk-toggleable__label sk-toggleable__label-arrow\">passthrough</label><div class=\"sk-toggleable__content\"><pre>passthrough</pre></div></div></div></div></div></div></div></div><div class=\"sk-item sk-dashed-wrapped\"><div class=\"sk-label-container\"><div class=\"sk-label sk-toggleable\"><input class=\"sk-toggleable__control sk-hidden--visually\" id=\"sk-estimator-id-88\" type=\"checkbox\" ><label for=\"sk-estimator-id-88\" class=\"sk-toggleable__label sk-toggleable__label-arrow\">preprocess: ColumnTransformer</label><div class=\"sk-toggleable__content\"><pre>ColumnTransformer(n_jobs=-1, remainder=&#x27;passthrough&#x27;,\n",
              "                  transformers=[(&#x27;scale&#x27;, MinMaxScaler(),\n",
              "                                 [&#x27;age&#x27;, &#x27;ratings&#x27;, &#x27;pickup_time_minutes&#x27;,\n",
              "                                  &#x27;distance&#x27;]),\n",
              "                                (&#x27;nominal_encode&#x27;,\n",
              "                                 OneHotEncoder(drop=&#x27;first&#x27;,\n",
              "                                               handle_unknown=&#x27;ignore&#x27;,\n",
              "                                               sparse_output=False),\n",
              "                                 [&#x27;weather&#x27;, &#x27;type_of_order&#x27;, &#x27;type_of_vehicle&#x27;,\n",
              "                                  &#x27;festival&#x27;, &#x27;city_type&#x27;, &#x27;is_weekend&#x27;,\n",
              "                                  &#x27;order_time_of_day&#x27;]),\n",
              "                                (&#x27;ordinal_encode&#x27;,\n",
              "                                 OrdinalEncoder(categories=[[&#x27;low&#x27;, &#x27;medium&#x27;,\n",
              "                                                             &#x27;high&#x27;, &#x27;jam&#x27;],\n",
              "                                                            [&#x27;short&#x27;, &#x27;medium&#x27;,\n",
              "                                                             &#x27;long&#x27;,\n",
              "                                                             &#x27;very_long&#x27;]],\n",
              "                                                encoded_missing_value=-999,\n",
              "                                                handle_unknown=&#x27;use_encoded_value&#x27;,\n",
              "                                                unknown_value=-1),\n",
              "                                 [&#x27;traffic&#x27;, &#x27;distance_type&#x27;])],\n",
              "                  verbose_feature_names_out=False)</pre></div></div></div><div class=\"sk-parallel\"><div class=\"sk-parallel-item\"><div class=\"sk-item\"><div class=\"sk-label-container\"><div class=\"sk-label sk-toggleable\"><input class=\"sk-toggleable__control sk-hidden--visually\" id=\"sk-estimator-id-89\" type=\"checkbox\" ><label for=\"sk-estimator-id-89\" class=\"sk-toggleable__label sk-toggleable__label-arrow\">scale</label><div class=\"sk-toggleable__content\"><pre>[&#x27;age&#x27;, &#x27;ratings&#x27;, &#x27;pickup_time_minutes&#x27;, &#x27;distance&#x27;]</pre></div></div></div><div class=\"sk-serial\"><div class=\"sk-item\"><div class=\"sk-estimator sk-toggleable\"><input class=\"sk-toggleable__control sk-hidden--visually\" id=\"sk-estimator-id-90\" type=\"checkbox\" ><label for=\"sk-estimator-id-90\" class=\"sk-toggleable__label sk-toggleable__label-arrow\">MinMaxScaler</label><div class=\"sk-toggleable__content\"><pre>MinMaxScaler()</pre></div></div></div></div></div></div><div class=\"sk-parallel-item\"><div class=\"sk-item\"><div class=\"sk-label-container\"><div class=\"sk-label sk-toggleable\"><input class=\"sk-toggleable__control sk-hidden--visually\" id=\"sk-estimator-id-91\" type=\"checkbox\" ><label for=\"sk-estimator-id-91\" class=\"sk-toggleable__label sk-toggleable__label-arrow\">nominal_encode</label><div class=\"sk-toggleable__content\"><pre>[&#x27;weather&#x27;, &#x27;type_of_order&#x27;, &#x27;type_of_vehicle&#x27;, &#x27;festival&#x27;, &#x27;city_type&#x27;, &#x27;is_weekend&#x27;, &#x27;order_time_of_day&#x27;]</pre></div></div></div><div class=\"sk-serial\"><div class=\"sk-item\"><div class=\"sk-estimator sk-toggleable\"><input class=\"sk-toggleable__control sk-hidden--visually\" id=\"sk-estimator-id-92\" type=\"checkbox\" ><label for=\"sk-estimator-id-92\" class=\"sk-toggleable__label sk-toggleable__label-arrow\">OneHotEncoder</label><div class=\"sk-toggleable__content\"><pre>OneHotEncoder(drop=&#x27;first&#x27;, handle_unknown=&#x27;ignore&#x27;, sparse_output=False)</pre></div></div></div></div></div></div><div class=\"sk-parallel-item\"><div class=\"sk-item\"><div class=\"sk-label-container\"><div class=\"sk-label sk-toggleable\"><input class=\"sk-toggleable__control sk-hidden--visually\" id=\"sk-estimator-id-93\" type=\"checkbox\" ><label for=\"sk-estimator-id-93\" class=\"sk-toggleable__label sk-toggleable__label-arrow\">ordinal_encode</label><div class=\"sk-toggleable__content\"><pre>[&#x27;traffic&#x27;, &#x27;distance_type&#x27;]</pre></div></div></div><div class=\"sk-serial\"><div class=\"sk-item\"><div class=\"sk-estimator sk-toggleable\"><input class=\"sk-toggleable__control sk-hidden--visually\" id=\"sk-estimator-id-94\" type=\"checkbox\" ><label for=\"sk-estimator-id-94\" class=\"sk-toggleable__label sk-toggleable__label-arrow\">OrdinalEncoder</label><div class=\"sk-toggleable__content\"><pre>OrdinalEncoder(categories=[[&#x27;low&#x27;, &#x27;medium&#x27;, &#x27;high&#x27;, &#x27;jam&#x27;],\n",
              "                           [&#x27;short&#x27;, &#x27;medium&#x27;, &#x27;long&#x27;, &#x27;very_long&#x27;]],\n",
              "               encoded_missing_value=-999, handle_unknown=&#x27;use_encoded_value&#x27;,\n",
              "               unknown_value=-1)</pre></div></div></div></div></div></div><div class=\"sk-parallel-item\"><div class=\"sk-item\"><div class=\"sk-label-container\"><div class=\"sk-label sk-toggleable\"><input class=\"sk-toggleable__control sk-hidden--visually\" id=\"sk-estimator-id-95\" type=\"checkbox\" ><label for=\"sk-estimator-id-95\" class=\"sk-toggleable__label sk-toggleable__label-arrow\">remainder</label><div class=\"sk-toggleable__content\"><pre>[&#x27;multiple_deliveries&#x27;, &#x27;vehicle_condition&#x27;]</pre></div></div></div><div class=\"sk-serial\"><div class=\"sk-item\"><div class=\"sk-estimator sk-toggleable\"><input class=\"sk-toggleable__control sk-hidden--visually\" id=\"sk-estimator-id-96\" type=\"checkbox\" ><label for=\"sk-estimator-id-96\" class=\"sk-toggleable__label sk-toggleable__label-arrow\">passthrough</label><div class=\"sk-toggleable__content\"><pre>passthrough</pre></div></div></div></div></div></div></div></div><div class=\"sk-item\"><div class=\"sk-estimator sk-toggleable\"><input class=\"sk-toggleable__control sk-hidden--visually\" id=\"sk-estimator-id-97\" type=\"checkbox\" ><label for=\"sk-estimator-id-97\" class=\"sk-toggleable__label sk-toggleable__label-arrow\">KNNImputer</label><div class=\"sk-toggleable__content\"><pre>KNNImputer()</pre></div></div></div></div></div><div class=\"sk-item\"><div class=\"sk-estimator sk-toggleable\"><input class=\"sk-toggleable__control sk-hidden--visually\" id=\"sk-estimator-id-98\" type=\"checkbox\" ><label for=\"sk-estimator-id-98\" class=\"sk-toggleable__label sk-toggleable__label-arrow\">RandomForestRegressor</label><div class=\"sk-toggleable__content\"><pre>RandomForestRegressor()</pre></div></div></div></div></div></div></div>"
            ],
            "text/plain": [
              "Pipeline(steps=[('preprocessing',\n",
              "                 Pipeline(steps=[('simple_imputer',\n",
              "                                  ColumnTransformer(n_jobs=-1,\n",
              "                                                    remainder='passthrough',\n",
              "                                                    transformers=[('mode_imputer',\n",
              "                                                                   SimpleImputer(strategy='most_frequent'),\n",
              "                                                                   ['multiple_deliveries',\n",
              "                                                                    'festival',\n",
              "                                                                    'city_type']),\n",
              "                                                                  ('missing_imputer',\n",
              "                                                                   SimpleImputer(fill_value='missing',\n",
              "                                                                                 strategy='constant'),\n",
              "                                                                   ['weather',\n",
              "                                                                    'type_of_order',\n",
              "                                                                    'type_of_ve...\n",
              "                                                                    'is_weekend',\n",
              "                                                                    'order_time_of_day']),\n",
              "                                                                  ('ordinal_encode',\n",
              "                                                                   OrdinalEncoder(categories=[['low',\n",
              "                                                                                               'medium',\n",
              "                                                                                               'high',\n",
              "                                                                                               'jam'],\n",
              "                                                                                              ['short',\n",
              "                                                                                               'medium',\n",
              "                                                                                               'long',\n",
              "                                                                                               'very_long']],\n",
              "                                                                                  encoded_missing_value=-999,\n",
              "                                                                                  handle_unknown='use_encoded_value',\n",
              "                                                                                  unknown_value=-1),\n",
              "                                                                   ['traffic',\n",
              "                                                                    'distance_type'])],\n",
              "                                                    verbose_feature_names_out=False)),\n",
              "                                 ('knn_imputer', KNNImputer())])),\n",
              "                ('model', RandomForestRegressor())])"
            ]
          },
          "execution_count": 122,
          "metadata": {},
          "output_type": "execute_result"
        }
      ],
      "source": [
        "# fit the pipeline on data\n",
        "\n",
        "model_pipe.fit(X_train,y_train_pt.values.ravel())"
      ]
    },
    {
      "cell_type": "code",
      "execution_count": 123,
      "metadata": {
        "id": "PgboKKdfrRJb"
      },
      "outputs": [],
      "source": [
        "# get the predictions\n",
        "y_pred_train = model_pipe.predict(X_train)\n",
        "y_pred_test = model_pipe.predict(X_test)"
      ]
    },
    {
      "cell_type": "code",
      "execution_count": 124,
      "metadata": {
        "id": "TbyRoXrMrRJb"
      },
      "outputs": [],
      "source": [
        "# get the actual predictions values\n",
        "\n",
        "y_pred_train_org = pt.inverse_transform(y_pred_train.reshape(-1,1))\n",
        "y_pred_test_org = pt.inverse_transform(y_pred_test.reshape(-1,1))"
      ]
    },
    {
      "cell_type": "code",
      "execution_count": 125,
      "metadata": {
        "colab": {
          "base_uri": "https://localhost:8080/"
        },
        "id": "WP7ynLUCrRJc",
        "outputId": "7e178234-b412-4dd3-985e-297fb78168e2"
      },
      "outputs": [
        {
          "name": "stdout",
          "output_type": "stream",
          "text": [
            "The train error is 1.22 minutes\n",
            "The test error is 3.31 minutes\n"
          ]
        }
      ],
      "source": [
        "from sklearn.metrics import mean_absolute_error, r2_score\n",
        "\n",
        "print(f\"The train error is {mean_absolute_error(y_train,y_pred_train_org):.2f} minutes\")\n",
        "print(f\"The test error is {mean_absolute_error(y_test,y_pred_test_org):.2f} minutes\")"
      ]
    },
    {
      "cell_type": "code",
      "execution_count": 126,
      "metadata": {
        "colab": {
          "base_uri": "https://localhost:8080/"
        },
        "id": "ISoCCVh5rRJc",
        "outputId": "61cd3ece-99a8-4db9-dbc6-6b0d9faaf938"
      },
      "outputs": [
        {
          "name": "stdout",
          "output_type": "stream",
          "text": [
            "The train r2 score is 0.97\n",
            "The test r2 score is 0.80\n"
          ]
        }
      ],
      "source": [
        "print(f\"The train r2 score is {r2_score(y_train,y_pred_train_org):.2f}\")\n",
        "print(f\"The test r2 score is {r2_score(y_test,y_pred_test_org):.2f}\")"
      ]
    },
    {
      "cell_type": "code",
      "execution_count": 127,
      "metadata": {
        "colab": {
          "base_uri": "https://localhost:8080/"
        },
        "id": "DjiDUSq0oeHm",
        "outputId": "092de02a-b1b8-4eb7-fc1d-66764b648cf5"
      },
      "outputs": [
        {
          "data": {
            "text/plain": [
              "array([0.77921266, 0.78419826, 0.78398513, 0.77800973, 0.78045892])"
            ]
          },
          "execution_count": 127,
          "metadata": {},
          "output_type": "execute_result"
        }
      ],
      "source": [
        "# calculate the cross val score\n",
        "\n",
        "from sklearn.model_selection import cross_val_score\n",
        "\n",
        "scores = cross_val_score(model_pipe,X_train,y_train_pt.values.ravel(),cv=5,scoring=\"r2\",n_jobs=-1)\n",
        "\n",
        "scores"
      ]
    },
    {
      "cell_type": "code",
      "execution_count": 128,
      "metadata": {
        "colab": {
          "base_uri": "https://localhost:8080/"
        },
        "id": "xACTzAxumyWA",
        "outputId": "dcf46067-6c38-4c2f-d156-d4923c9f0267"
      },
      "outputs": [
        {
          "data": {
            "text/plain": [
              "0.7811729417672569"
            ]
          },
          "execution_count": 128,
          "metadata": {},
          "output_type": "execute_result"
        }
      ],
      "source": [
        "# mean score\n",
        "\n",
        "scores.mean()"
      ]
    },
    {
      "cell_type": "code",
      "execution_count": 129,
      "metadata": {
        "colab": {
          "base_uri": "https://localhost:8080/"
        },
        "id": "XPhmev45VxcY",
        "outputId": "442489ca-b312-41a5-b43c-fb1909e50386"
      },
      "outputs": [
        {
          "name": "stdout",
          "output_type": "stream",
          "text": [
            "🏃 View run Impute Missing Values at: https://dagshub.com/ShobhanaVerma07/Food_Delivery_Time_Prediction.mlflow/#/experiments/0/runs/c69e1ad112c34d529197e711f955dbcc\n",
            "🧪 View experiment at: https://dagshub.com/ShobhanaVerma07/Food_Delivery_Time_Prediction.mlflow/#/experiments/0\n"
          ]
        }
      ],
      "source": [
        "# log experiment\n",
        "\n",
        "with mlflow.start_run(run_name=\"Impute Missing Values\"):\n",
        "    # mlflow log experiment type\n",
        "    mlflow.log_param(\"experiment_type\",\"Impute Missing Values\")\n",
        "    # log model params\n",
        "    mlflow.log_params(rf.get_params())\n",
        "\n",
        "    # log metrics\n",
        "    mlflow.log_metric(\"training_error\",mean_absolute_error(y_train,y_pred_train_org))\n",
        "    mlflow.log_metric(\"test_error\",mean_absolute_error(y_test,y_pred_test_org))\n",
        "    mlflow.log_metric(\"training_r2\",r2_score(y_train,y_pred_train_org))\n",
        "    mlflow.log_metric(\"test_r2\",r2_score(y_test,y_pred_test_org))\n",
        "    mlflow.log_metric(\"cross_val\",scores.mean())"
      ]
    }
  ],
  "metadata": {
    "colab": {
      "provenance": [],
      "toc_visible": true
    },
    "kernelspec": {
      "display_name": "base",
      "language": "python",
      "name": "python3"
    },
    "language_info": {
      "codemirror_mode": {
        "name": "ipython",
        "version": 3
      },
      "file_extension": ".py",
      "mimetype": "text/x-python",
      "name": "python",
      "nbconvert_exporter": "python",
      "pygments_lexer": "ipython3",
      "version": "3.11.5"
    }
  },
  "nbformat": 4,
  "nbformat_minor": 0
}
